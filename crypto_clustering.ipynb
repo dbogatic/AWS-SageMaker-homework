{
 "cells": [
  {
   "cell_type": "markdown",
   "metadata": {},
   "source": [
    "# Clustering Crypto"
   ]
  },
  {
   "cell_type": "code",
   "execution_count": 48,
   "metadata": {},
   "outputs": [],
   "source": [
    "# Initial imports\n",
    "import requests\n",
    "import pandas as pd\n",
    "import matplotlib.pyplot as plt\n",
    "import hvplot.pandas\n",
    "import plotly.express as px\n",
    "from sklearn.preprocessing import StandardScaler, MinMaxScaler\n",
    "from sklearn.decomposition import PCA\n",
    "from sklearn.cluster import KMeans"
   ]
  },
  {
   "cell_type": "markdown",
   "metadata": {},
   "source": [
    "### Fetching Cryptocurrency Data"
   ]
  },
  {
   "cell_type": "code",
   "execution_count": 49,
   "metadata": {
    "tags": []
   },
   "outputs": [],
   "source": [
    "# Use the following endpoint to fetch json data\n",
    "import json\n",
    "from pprint import pprint\n",
    "\n",
    "url = \"https://min-api.cryptocompare.com/data/all/coinlist\"\n",
    "res = requests.get(url)\n",
    "res\n",
    "data = res.json()\n",
    "json_data = json.dumps(data)"
   ]
  },
  {
   "cell_type": "code",
   "execution_count": 50,
   "metadata": {},
   "outputs": [
    {
     "output_type": "execute_result",
     "data": {
      "text/plain": [
       "      CoinName Algorithm IsTrading ProofType TotalCoinsMined MaxSupply\n",
       "42     42 Coin    Scrypt      True   PoW/PoS               0         0\n",
       "300  300 token       N/A      True       N/A             300       300\n",
       "365    365Coin       X11      True   PoW/PoS               0         0\n",
       "404    404Coin    Scrypt      True   PoW/PoS               0         0\n",
       "433  433 Token       N/A     False       N/A             NaN       NaN"
      ],
      "text/html": "<div>\n<style scoped>\n    .dataframe tbody tr th:only-of-type {\n        vertical-align: middle;\n    }\n\n    .dataframe tbody tr th {\n        vertical-align: top;\n    }\n\n    .dataframe thead th {\n        text-align: right;\n    }\n</style>\n<table border=\"1\" class=\"dataframe\">\n  <thead>\n    <tr style=\"text-align: right;\">\n      <th></th>\n      <th>CoinName</th>\n      <th>Algorithm</th>\n      <th>IsTrading</th>\n      <th>ProofType</th>\n      <th>TotalCoinsMined</th>\n      <th>MaxSupply</th>\n    </tr>\n  </thead>\n  <tbody>\n    <tr>\n      <th>42</th>\n      <td>42 Coin</td>\n      <td>Scrypt</td>\n      <td>True</td>\n      <td>PoW/PoS</td>\n      <td>0</td>\n      <td>0</td>\n    </tr>\n    <tr>\n      <th>300</th>\n      <td>300 token</td>\n      <td>N/A</td>\n      <td>True</td>\n      <td>N/A</td>\n      <td>300</td>\n      <td>300</td>\n    </tr>\n    <tr>\n      <th>365</th>\n      <td>365Coin</td>\n      <td>X11</td>\n      <td>True</td>\n      <td>PoW/PoS</td>\n      <td>0</td>\n      <td>0</td>\n    </tr>\n    <tr>\n      <th>404</th>\n      <td>404Coin</td>\n      <td>Scrypt</td>\n      <td>True</td>\n      <td>PoW/PoS</td>\n      <td>0</td>\n      <td>0</td>\n    </tr>\n    <tr>\n      <th>433</th>\n      <td>433 Token</td>\n      <td>N/A</td>\n      <td>False</td>\n      <td>N/A</td>\n      <td>NaN</td>\n      <td>NaN</td>\n    </tr>\n  </tbody>\n</table>\n</div>"
     },
     "metadata": {},
     "execution_count": 50
    }
   ],
   "source": [
    "# Create a DataFrame \n",
    "# HINT: You will need to use the 'Data' key from the json response, then transpose the DataFrame.\n",
    "df = pd.DataFrame(data[\"Data\"])\n",
    "df = df.T\n",
    "url_request_df = df[['CoinName','Algorithm','IsTrading','ProofType','TotalCoinsMined','MaxSupply']]\n",
    "url_request_df.head()"
   ]
  },
  {
   "cell_type": "code",
   "execution_count": 51,
   "metadata": {},
   "outputs": [
    {
     "output_type": "execute_result",
     "data": {
      "text/plain": [
       "Index(['Algorithm', 'AssetLaunchDate', 'AssetTokenStatus', 'BlockNumber',\n",
       "       'BlockReward', 'BlockTime', 'BuiltOn', 'CoinName', 'ContentCreatedOn',\n",
       "       'DecimalPoints', 'Description', 'Difficulty', 'FullName', 'Id',\n",
       "       'ImageUrl', 'IsTrading', 'IsUsedInDefi', 'MaxSupply', 'MktCapPenalty',\n",
       "       'Name', 'NetHashesPerSecond', 'PlatformType', 'ProofType', 'Rating',\n",
       "       'SmartContractAddress', 'SortOrder', 'Sponsored', 'Symbol', 'Taxonomy',\n",
       "       'TotalCoinsMined', 'Url'],\n",
       "      dtype='object')"
      ]
     },
     "metadata": {},
     "execution_count": 51
    }
   ],
   "source": [
    "df.keys()\n",
    "# json file keys do not contain \"TotalCoinSupply\" column as in .csv file below. Further analysis will be using data from .csv file."
   ]
  },
  {
   "cell_type": "code",
   "execution_count": 52,
   "metadata": {},
   "outputs": [
    {
     "output_type": "execute_result",
     "data": {
      "text/plain": [
       "  Unnamed: 0   CoinName Algorithm  IsTrading ProofType  TotalCoinsMined  \\\n",
       "0         42    42 Coin    Scrypt       True   PoW/PoS     4.199995e+01   \n",
       "1        365    365Coin       X11       True   PoW/PoS              NaN   \n",
       "2        404    404Coin    Scrypt       True   PoW/PoS     1.055185e+09   \n",
       "3        611  SixEleven   SHA-256       True       PoW              NaN   \n",
       "4        808        808   SHA-256       True   PoW/PoS     0.000000e+00   \n",
       "\n",
       "  TotalCoinSupply  \n",
       "0              42  \n",
       "1      2300000000  \n",
       "2       532000000  \n",
       "3          611000  \n",
       "4               0  "
      ],
      "text/html": "<div>\n<style scoped>\n    .dataframe tbody tr th:only-of-type {\n        vertical-align: middle;\n    }\n\n    .dataframe tbody tr th {\n        vertical-align: top;\n    }\n\n    .dataframe thead th {\n        text-align: right;\n    }\n</style>\n<table border=\"1\" class=\"dataframe\">\n  <thead>\n    <tr style=\"text-align: right;\">\n      <th></th>\n      <th>Unnamed: 0</th>\n      <th>CoinName</th>\n      <th>Algorithm</th>\n      <th>IsTrading</th>\n      <th>ProofType</th>\n      <th>TotalCoinsMined</th>\n      <th>TotalCoinSupply</th>\n    </tr>\n  </thead>\n  <tbody>\n    <tr>\n      <th>0</th>\n      <td>42</td>\n      <td>42 Coin</td>\n      <td>Scrypt</td>\n      <td>True</td>\n      <td>PoW/PoS</td>\n      <td>4.199995e+01</td>\n      <td>42</td>\n    </tr>\n    <tr>\n      <th>1</th>\n      <td>365</td>\n      <td>365Coin</td>\n      <td>X11</td>\n      <td>True</td>\n      <td>PoW/PoS</td>\n      <td>NaN</td>\n      <td>2300000000</td>\n    </tr>\n    <tr>\n      <th>2</th>\n      <td>404</td>\n      <td>404Coin</td>\n      <td>Scrypt</td>\n      <td>True</td>\n      <td>PoW/PoS</td>\n      <td>1.055185e+09</td>\n      <td>532000000</td>\n    </tr>\n    <tr>\n      <th>3</th>\n      <td>611</td>\n      <td>SixEleven</td>\n      <td>SHA-256</td>\n      <td>True</td>\n      <td>PoW</td>\n      <td>NaN</td>\n      <td>611000</td>\n    </tr>\n    <tr>\n      <th>4</th>\n      <td>808</td>\n      <td>808</td>\n      <td>SHA-256</td>\n      <td>True</td>\n      <td>PoW/PoS</td>\n      <td>0.000000e+00</td>\n      <td>0</td>\n    </tr>\n  </tbody>\n</table>\n</div>"
     },
     "metadata": {},
     "execution_count": 52
    }
   ],
   "source": [
    "# Alternatively, use the provided csv file:\n",
    "# file_path = Path(\"Resources/crypto_data.csv\")\n",
    "crypto_df = pd.read_csv(\"Resources/crypto_data.csv\")\n",
    "\n",
    "# Create a DataFrame\n",
    "crypto_df.head()"
   ]
  },
  {
   "cell_type": "markdown",
   "metadata": {},
   "source": [
    "### Data Preprocessing"
   ]
  },
  {
   "cell_type": "code",
   "execution_count": 53,
   "metadata": {},
   "outputs": [
    {
     "output_type": "execute_result",
     "data": {
      "text/plain": [
       "             CoinName Algorithm  IsTrading ProofType  TotalCoinsMined  \\\n",
       "Unnamed: 0                                                              \n",
       "42            42 Coin    Scrypt       True   PoW/PoS     4.199995e+01   \n",
       "365           365Coin       X11       True   PoW/PoS              NaN   \n",
       "404           404Coin    Scrypt       True   PoW/PoS     1.055185e+09   \n",
       "611         SixEleven   SHA-256       True       PoW              NaN   \n",
       "808               808   SHA-256       True   PoW/PoS     0.000000e+00   \n",
       "\n",
       "           TotalCoinSupply  \n",
       "Unnamed: 0                  \n",
       "42                      42  \n",
       "365             2300000000  \n",
       "404              532000000  \n",
       "611                 611000  \n",
       "808                      0  "
      ],
      "text/html": "<div>\n<style scoped>\n    .dataframe tbody tr th:only-of-type {\n        vertical-align: middle;\n    }\n\n    .dataframe tbody tr th {\n        vertical-align: top;\n    }\n\n    .dataframe thead th {\n        text-align: right;\n    }\n</style>\n<table border=\"1\" class=\"dataframe\">\n  <thead>\n    <tr style=\"text-align: right;\">\n      <th></th>\n      <th>CoinName</th>\n      <th>Algorithm</th>\n      <th>IsTrading</th>\n      <th>ProofType</th>\n      <th>TotalCoinsMined</th>\n      <th>TotalCoinSupply</th>\n    </tr>\n    <tr>\n      <th>Unnamed: 0</th>\n      <th></th>\n      <th></th>\n      <th></th>\n      <th></th>\n      <th></th>\n      <th></th>\n    </tr>\n  </thead>\n  <tbody>\n    <tr>\n      <th>42</th>\n      <td>42 Coin</td>\n      <td>Scrypt</td>\n      <td>True</td>\n      <td>PoW/PoS</td>\n      <td>4.199995e+01</td>\n      <td>42</td>\n    </tr>\n    <tr>\n      <th>365</th>\n      <td>365Coin</td>\n      <td>X11</td>\n      <td>True</td>\n      <td>PoW/PoS</td>\n      <td>NaN</td>\n      <td>2300000000</td>\n    </tr>\n    <tr>\n      <th>404</th>\n      <td>404Coin</td>\n      <td>Scrypt</td>\n      <td>True</td>\n      <td>PoW/PoS</td>\n      <td>1.055185e+09</td>\n      <td>532000000</td>\n    </tr>\n    <tr>\n      <th>611</th>\n      <td>SixEleven</td>\n      <td>SHA-256</td>\n      <td>True</td>\n      <td>PoW</td>\n      <td>NaN</td>\n      <td>611000</td>\n    </tr>\n    <tr>\n      <th>808</th>\n      <td>808</td>\n      <td>SHA-256</td>\n      <td>True</td>\n      <td>PoW/PoS</td>\n      <td>0.000000e+00</td>\n      <td>0</td>\n    </tr>\n  </tbody>\n</table>\n</div>"
     },
     "metadata": {},
     "execution_count": 53
    }
   ],
   "source": [
    "# Keep only necessary columns:\n",
    "# 'CoinName','Algorithm','IsTrading','ProofType','TotalCoinsMined','TotalCoinSupply'\n",
    "crypto_df = crypto_df.set_index(crypto_df.columns[0])\n",
    "crypto_df.head()"
   ]
  },
  {
   "cell_type": "code",
   "execution_count": 54,
   "metadata": {},
   "outputs": [
    {
     "output_type": "stream",
     "name": "stdout",
     "text": [
      "(1144, 6)\n"
     ]
    },
    {
     "output_type": "execute_result",
     "data": {
      "text/plain": [
       "             CoinName Algorithm  IsTrading ProofType  TotalCoinsMined  \\\n",
       "Unnamed: 0                                                              \n",
       "42            42 Coin    Scrypt       True   PoW/PoS     4.199995e+01   \n",
       "365           365Coin       X11       True   PoW/PoS              NaN   \n",
       "404           404Coin    Scrypt       True   PoW/PoS     1.055185e+09   \n",
       "611         SixEleven   SHA-256       True       PoW              NaN   \n",
       "808               808   SHA-256       True   PoW/PoS     0.000000e+00   \n",
       "\n",
       "           TotalCoinSupply  \n",
       "Unnamed: 0                  \n",
       "42                      42  \n",
       "365             2300000000  \n",
       "404              532000000  \n",
       "611                 611000  \n",
       "808                      0  "
      ],
      "text/html": "<div>\n<style scoped>\n    .dataframe tbody tr th:only-of-type {\n        vertical-align: middle;\n    }\n\n    .dataframe tbody tr th {\n        vertical-align: top;\n    }\n\n    .dataframe thead th {\n        text-align: right;\n    }\n</style>\n<table border=\"1\" class=\"dataframe\">\n  <thead>\n    <tr style=\"text-align: right;\">\n      <th></th>\n      <th>CoinName</th>\n      <th>Algorithm</th>\n      <th>IsTrading</th>\n      <th>ProofType</th>\n      <th>TotalCoinsMined</th>\n      <th>TotalCoinSupply</th>\n    </tr>\n    <tr>\n      <th>Unnamed: 0</th>\n      <th></th>\n      <th></th>\n      <th></th>\n      <th></th>\n      <th></th>\n      <th></th>\n    </tr>\n  </thead>\n  <tbody>\n    <tr>\n      <th>42</th>\n      <td>42 Coin</td>\n      <td>Scrypt</td>\n      <td>True</td>\n      <td>PoW/PoS</td>\n      <td>4.199995e+01</td>\n      <td>42</td>\n    </tr>\n    <tr>\n      <th>365</th>\n      <td>365Coin</td>\n      <td>X11</td>\n      <td>True</td>\n      <td>PoW/PoS</td>\n      <td>NaN</td>\n      <td>2300000000</td>\n    </tr>\n    <tr>\n      <th>404</th>\n      <td>404Coin</td>\n      <td>Scrypt</td>\n      <td>True</td>\n      <td>PoW/PoS</td>\n      <td>1.055185e+09</td>\n      <td>532000000</td>\n    </tr>\n    <tr>\n      <th>611</th>\n      <td>SixEleven</td>\n      <td>SHA-256</td>\n      <td>True</td>\n      <td>PoW</td>\n      <td>NaN</td>\n      <td>611000</td>\n    </tr>\n    <tr>\n      <th>808</th>\n      <td>808</td>\n      <td>SHA-256</td>\n      <td>True</td>\n      <td>PoW/PoS</td>\n      <td>0.000000e+00</td>\n      <td>0</td>\n    </tr>\n  </tbody>\n</table>\n</div>"
     },
     "metadata": {},
     "execution_count": 54
    }
   ],
   "source": [
    "# Keep only cryptocurrencies that are trading\n",
    "crypto_df = crypto_df[crypto_df['IsTrading']==True]\n",
    "print(crypto_df.shape)\n",
    "crypto_df.head()"
   ]
  },
  {
   "cell_type": "code",
   "execution_count": 55,
   "metadata": {},
   "outputs": [
    {
     "output_type": "stream",
     "name": "stdout",
     "text": [
      "Unnamed: 0\n42       False\n365      False\n404      False\n611      False\n808      False\n1337     False\n2015     False\nBTC      False\nETH      False\nLTC      False\nDASH     False\nXMR      False\nETC      False\nZEC      False\nBTS      False\nDGB      False\nBTCD     False\nCRAIG    False\nXBS      False\nXPY      False\nPRC      False\nYBC      False\nDANK     False\nGIVE     False\nKOBO     False\nDT       False\nCETI     False\nSPR      False\nWOLF     False\nACOIN    False\n         ...  \nAHT      False\nRCC      False\nOXY      False\nKAPU     False\nGRFT     False\nMNZ      False\nSCRM     False\nLWF      False\nILT      False\nADM      False\nUPX      False\nTCH      False\nTIP      False\nDTEP     False\nWAVES    False\nPART     False\nSLX      False\nBTT      False\nCHI      False\nNXT      False\nZEPH     False\nXQN      False\nNETC     False\nVPRC     False\nGAP      False\nSERO     False\nUOS      False\nBDX      False\nZEN      False\nXBC      False\nName: Algorithm, Length: 1144, dtype: bool\n"
     ]
    }
   ],
   "source": [
    "# Keep only cryptocurrencies with a working algorithm\n",
    "print(crypto_df['Algorithm'].isna())"
   ]
  },
  {
   "cell_type": "code",
   "execution_count": 56,
   "metadata": {},
   "outputs": [
    {
     "output_type": "execute_result",
     "data": {
      "text/plain": [
       "             CoinName Algorithm ProofType  TotalCoinsMined TotalCoinSupply\n",
       "Unnamed: 0                                                                \n",
       "42            42 Coin    Scrypt   PoW/PoS     4.199995e+01              42\n",
       "365           365Coin       X11   PoW/PoS              NaN      2300000000\n",
       "404           404Coin    Scrypt   PoW/PoS     1.055185e+09       532000000\n",
       "611         SixEleven   SHA-256       PoW              NaN          611000\n",
       "808               808   SHA-256   PoW/PoS     0.000000e+00               0"
      ],
      "text/html": "<div>\n<style scoped>\n    .dataframe tbody tr th:only-of-type {\n        vertical-align: middle;\n    }\n\n    .dataframe tbody tr th {\n        vertical-align: top;\n    }\n\n    .dataframe thead th {\n        text-align: right;\n    }\n</style>\n<table border=\"1\" class=\"dataframe\">\n  <thead>\n    <tr style=\"text-align: right;\">\n      <th></th>\n      <th>CoinName</th>\n      <th>Algorithm</th>\n      <th>ProofType</th>\n      <th>TotalCoinsMined</th>\n      <th>TotalCoinSupply</th>\n    </tr>\n    <tr>\n      <th>Unnamed: 0</th>\n      <th></th>\n      <th></th>\n      <th></th>\n      <th></th>\n      <th></th>\n    </tr>\n  </thead>\n  <tbody>\n    <tr>\n      <th>42</th>\n      <td>42 Coin</td>\n      <td>Scrypt</td>\n      <td>PoW/PoS</td>\n      <td>4.199995e+01</td>\n      <td>42</td>\n    </tr>\n    <tr>\n      <th>365</th>\n      <td>365Coin</td>\n      <td>X11</td>\n      <td>PoW/PoS</td>\n      <td>NaN</td>\n      <td>2300000000</td>\n    </tr>\n    <tr>\n      <th>404</th>\n      <td>404Coin</td>\n      <td>Scrypt</td>\n      <td>PoW/PoS</td>\n      <td>1.055185e+09</td>\n      <td>532000000</td>\n    </tr>\n    <tr>\n      <th>611</th>\n      <td>SixEleven</td>\n      <td>SHA-256</td>\n      <td>PoW</td>\n      <td>NaN</td>\n      <td>611000</td>\n    </tr>\n    <tr>\n      <th>808</th>\n      <td>808</td>\n      <td>SHA-256</td>\n      <td>PoW/PoS</td>\n      <td>0.000000e+00</td>\n      <td>0</td>\n    </tr>\n  </tbody>\n</table>\n</div>"
     },
     "metadata": {},
     "execution_count": 56
    }
   ],
   "source": [
    "# Remove the \"IsTrading\" column\n",
    "crypto_df = crypto_df.drop(columns=\"IsTrading\")\n",
    "crypto_df.head()"
   ]
  },
  {
   "cell_type": "code",
   "execution_count": 57,
   "metadata": {},
   "outputs": [
    {
     "output_type": "execute_result",
     "data": {
      "text/plain": [
       "CoinName             0\n",
       "Algorithm            0\n",
       "ProofType            0\n",
       "TotalCoinsMined    459\n",
       "TotalCoinSupply      0\n",
       "dtype: int64"
      ]
     },
     "metadata": {},
     "execution_count": 57
    }
   ],
   "source": [
    "# Remove rows with at least 1 null value\n",
    "crypto_df.isnull().sum()"
   ]
  },
  {
   "cell_type": "code",
   "execution_count": 58,
   "metadata": {},
   "outputs": [
    {
     "output_type": "execute_result",
     "data": {
      "text/plain": [
       "(532, 5)"
      ]
     },
     "metadata": {},
     "execution_count": 58
    }
   ],
   "source": [
    "# Remove rows with cryptocurrencies having no coins mined\n",
    "crypto_df = crypto_df[crypto_df['TotalCoinsMined'] > 0]\n",
    "crypto_df.shape"
   ]
  },
  {
   "cell_type": "code",
   "execution_count": 59,
   "metadata": {},
   "outputs": [
    {
     "output_type": "execute_result",
     "data": {
      "text/plain": [
       "CoinName           0\n",
       "Algorithm          0\n",
       "ProofType          0\n",
       "TotalCoinsMined    0\n",
       "TotalCoinSupply    0\n",
       "dtype: int64"
      ]
     },
     "metadata": {},
     "execution_count": 59
    }
   ],
   "source": [
    "# Drop rows where there are 'N/A' text values\n",
    "crypto_df.dropna()\n",
    "crypto_df.isna().sum()"
   ]
  },
  {
   "cell_type": "code",
   "execution_count": 60,
   "metadata": {},
   "outputs": [
    {
     "output_type": "execute_result",
     "data": {
      "text/plain": [
       "Unnamed: 0\n",
       "42        42 Coin\n",
       "404       404Coin\n",
       "1337    EliteCoin\n",
       "BTC       Bitcoin\n",
       "ETH      Ethereum\n",
       "Name: CoinName, dtype: object"
      ]
     },
     "metadata": {},
     "execution_count": 60
    }
   ],
   "source": [
    "# Store the 'CoinName'column in its own DataFrame prior to dropping it from crypto_df\n",
    "coin_name_df = crypto_df[\"CoinName\"]\n",
    "coin_name_df.head()"
   ]
  },
  {
   "cell_type": "code",
   "execution_count": 61,
   "metadata": {},
   "outputs": [
    {
     "output_type": "execute_result",
     "data": {
      "text/plain": [
       "           Algorithm ProofType  TotalCoinsMined TotalCoinSupply\n",
       "Unnamed: 0                                                     \n",
       "42            Scrypt   PoW/PoS     4.199995e+01              42\n",
       "404           Scrypt   PoW/PoS     1.055185e+09       532000000\n",
       "1337             X13   PoW/PoS     2.927942e+10    314159265359\n",
       "BTC          SHA-256       PoW     1.792718e+07        21000000\n",
       "ETH           Ethash       PoW     1.076842e+08               0"
      ],
      "text/html": "<div>\n<style scoped>\n    .dataframe tbody tr th:only-of-type {\n        vertical-align: middle;\n    }\n\n    .dataframe tbody tr th {\n        vertical-align: top;\n    }\n\n    .dataframe thead th {\n        text-align: right;\n    }\n</style>\n<table border=\"1\" class=\"dataframe\">\n  <thead>\n    <tr style=\"text-align: right;\">\n      <th></th>\n      <th>Algorithm</th>\n      <th>ProofType</th>\n      <th>TotalCoinsMined</th>\n      <th>TotalCoinSupply</th>\n    </tr>\n    <tr>\n      <th>Unnamed: 0</th>\n      <th></th>\n      <th></th>\n      <th></th>\n      <th></th>\n    </tr>\n  </thead>\n  <tbody>\n    <tr>\n      <th>42</th>\n      <td>Scrypt</td>\n      <td>PoW/PoS</td>\n      <td>4.199995e+01</td>\n      <td>42</td>\n    </tr>\n    <tr>\n      <th>404</th>\n      <td>Scrypt</td>\n      <td>PoW/PoS</td>\n      <td>1.055185e+09</td>\n      <td>532000000</td>\n    </tr>\n    <tr>\n      <th>1337</th>\n      <td>X13</td>\n      <td>PoW/PoS</td>\n      <td>2.927942e+10</td>\n      <td>314159265359</td>\n    </tr>\n    <tr>\n      <th>BTC</th>\n      <td>SHA-256</td>\n      <td>PoW</td>\n      <td>1.792718e+07</td>\n      <td>21000000</td>\n    </tr>\n    <tr>\n      <th>ETH</th>\n      <td>Ethash</td>\n      <td>PoW</td>\n      <td>1.076842e+08</td>\n      <td>0</td>\n    </tr>\n  </tbody>\n</table>\n</div>"
     },
     "metadata": {},
     "execution_count": 61
    }
   ],
   "source": [
    "# Drop the 'CoinName' column since it's not going to be used on the clustering algorithm\n",
    "crypto_df = crypto_df.drop(columns='CoinName')\n",
    "crypto_df.head()"
   ]
  },
  {
   "cell_type": "code",
   "execution_count": 62,
   "metadata": {},
   "outputs": [
    {
     "output_type": "execute_result",
     "data": {
      "text/plain": [
       "            TotalCoinsMined TotalCoinSupply  Algorithm_1GB AES Pattern Search  \\\n",
       "Unnamed: 0                                                                      \n",
       "42             4.199995e+01              42                                 0   \n",
       "404            1.055185e+09       532000000                                 0   \n",
       "1337           2.927942e+10    314159265359                                 0   \n",
       "BTC            1.792718e+07        21000000                                 0   \n",
       "ETH            1.076842e+08               0                                 0   \n",
       "\n",
       "            Algorithm_536  Algorithm_Argon2d  Algorithm_BLAKE256  \\\n",
       "Unnamed: 0                                                         \n",
       "42                      0                  0                   0   \n",
       "404                     0                  0                   0   \n",
       "1337                    0                  0                   0   \n",
       "BTC                     0                  0                   0   \n",
       "ETH                     0                  0                   0   \n",
       "\n",
       "            Algorithm_Blake  Algorithm_Blake2S  Algorithm_Blake2b  \\\n",
       "Unnamed: 0                                                          \n",
       "42                        0                  0                  0   \n",
       "404                       0                  0                  0   \n",
       "1337                      0                  0                  0   \n",
       "BTC                       0                  0                  0   \n",
       "ETH                       0                  0                  0   \n",
       "\n",
       "            Algorithm_C11  ...  ProofType_PoW/PoS  ProofType_PoW/PoS   \\\n",
       "Unnamed: 0                 ...                                          \n",
       "42                      0  ...                  1                   0   \n",
       "404                     0  ...                  1                   0   \n",
       "1337                    0  ...                  1                   0   \n",
       "BTC                     0  ...                  0                   0   \n",
       "ETH                     0  ...                  0                   0   \n",
       "\n",
       "            ProofType_PoW/PoW  ProofType_PoW/nPoS  ProofType_Pos  \\\n",
       "Unnamed: 0                                                         \n",
       "42                          0                   0              0   \n",
       "404                         0                   0              0   \n",
       "1337                        0                   0              0   \n",
       "BTC                         0                   0              0   \n",
       "ETH                         0                   0              0   \n",
       "\n",
       "            ProofType_Proof of Authority  ProofType_Proof of Trust  \\\n",
       "Unnamed: 0                                                           \n",
       "42                                     0                         0   \n",
       "404                                    0                         0   \n",
       "1337                                   0                         0   \n",
       "BTC                                    0                         0   \n",
       "ETH                                    0                         0   \n",
       "\n",
       "            ProofType_TPoS  ProofType_Zero-Knowledge Proof  ProofType_dPoW/PoW  \n",
       "Unnamed: 0                                                                      \n",
       "42                       0                               0                   0  \n",
       "404                      0                               0                   0  \n",
       "1337                     0                               0                   0  \n",
       "BTC                      0                               0                   0  \n",
       "ETH                      0                               0                   0  \n",
       "\n",
       "[5 rows x 98 columns]"
      ],
      "text/html": "<div>\n<style scoped>\n    .dataframe tbody tr th:only-of-type {\n        vertical-align: middle;\n    }\n\n    .dataframe tbody tr th {\n        vertical-align: top;\n    }\n\n    .dataframe thead th {\n        text-align: right;\n    }\n</style>\n<table border=\"1\" class=\"dataframe\">\n  <thead>\n    <tr style=\"text-align: right;\">\n      <th></th>\n      <th>TotalCoinsMined</th>\n      <th>TotalCoinSupply</th>\n      <th>Algorithm_1GB AES Pattern Search</th>\n      <th>Algorithm_536</th>\n      <th>Algorithm_Argon2d</th>\n      <th>Algorithm_BLAKE256</th>\n      <th>Algorithm_Blake</th>\n      <th>Algorithm_Blake2S</th>\n      <th>Algorithm_Blake2b</th>\n      <th>Algorithm_C11</th>\n      <th>...</th>\n      <th>ProofType_PoW/PoS</th>\n      <th>ProofType_PoW/PoS</th>\n      <th>ProofType_PoW/PoW</th>\n      <th>ProofType_PoW/nPoS</th>\n      <th>ProofType_Pos</th>\n      <th>ProofType_Proof of Authority</th>\n      <th>ProofType_Proof of Trust</th>\n      <th>ProofType_TPoS</th>\n      <th>ProofType_Zero-Knowledge Proof</th>\n      <th>ProofType_dPoW/PoW</th>\n    </tr>\n    <tr>\n      <th>Unnamed: 0</th>\n      <th></th>\n      <th></th>\n      <th></th>\n      <th></th>\n      <th></th>\n      <th></th>\n      <th></th>\n      <th></th>\n      <th></th>\n      <th></th>\n      <th></th>\n      <th></th>\n      <th></th>\n      <th></th>\n      <th></th>\n      <th></th>\n      <th></th>\n      <th></th>\n      <th></th>\n      <th></th>\n      <th></th>\n    </tr>\n  </thead>\n  <tbody>\n    <tr>\n      <th>42</th>\n      <td>4.199995e+01</td>\n      <td>42</td>\n      <td>0</td>\n      <td>0</td>\n      <td>0</td>\n      <td>0</td>\n      <td>0</td>\n      <td>0</td>\n      <td>0</td>\n      <td>0</td>\n      <td>...</td>\n      <td>1</td>\n      <td>0</td>\n      <td>0</td>\n      <td>0</td>\n      <td>0</td>\n      <td>0</td>\n      <td>0</td>\n      <td>0</td>\n      <td>0</td>\n      <td>0</td>\n    </tr>\n    <tr>\n      <th>404</th>\n      <td>1.055185e+09</td>\n      <td>532000000</td>\n      <td>0</td>\n      <td>0</td>\n      <td>0</td>\n      <td>0</td>\n      <td>0</td>\n      <td>0</td>\n      <td>0</td>\n      <td>0</td>\n      <td>...</td>\n      <td>1</td>\n      <td>0</td>\n      <td>0</td>\n      <td>0</td>\n      <td>0</td>\n      <td>0</td>\n      <td>0</td>\n      <td>0</td>\n      <td>0</td>\n      <td>0</td>\n    </tr>\n    <tr>\n      <th>1337</th>\n      <td>2.927942e+10</td>\n      <td>314159265359</td>\n      <td>0</td>\n      <td>0</td>\n      <td>0</td>\n      <td>0</td>\n      <td>0</td>\n      <td>0</td>\n      <td>0</td>\n      <td>0</td>\n      <td>...</td>\n      <td>1</td>\n      <td>0</td>\n      <td>0</td>\n      <td>0</td>\n      <td>0</td>\n      <td>0</td>\n      <td>0</td>\n      <td>0</td>\n      <td>0</td>\n      <td>0</td>\n    </tr>\n    <tr>\n      <th>BTC</th>\n      <td>1.792718e+07</td>\n      <td>21000000</td>\n      <td>0</td>\n      <td>0</td>\n      <td>0</td>\n      <td>0</td>\n      <td>0</td>\n      <td>0</td>\n      <td>0</td>\n      <td>0</td>\n      <td>...</td>\n      <td>0</td>\n      <td>0</td>\n      <td>0</td>\n      <td>0</td>\n      <td>0</td>\n      <td>0</td>\n      <td>0</td>\n      <td>0</td>\n      <td>0</td>\n      <td>0</td>\n    </tr>\n    <tr>\n      <th>ETH</th>\n      <td>1.076842e+08</td>\n      <td>0</td>\n      <td>0</td>\n      <td>0</td>\n      <td>0</td>\n      <td>0</td>\n      <td>0</td>\n      <td>0</td>\n      <td>0</td>\n      <td>0</td>\n      <td>...</td>\n      <td>0</td>\n      <td>0</td>\n      <td>0</td>\n      <td>0</td>\n      <td>0</td>\n      <td>0</td>\n      <td>0</td>\n      <td>0</td>\n      <td>0</td>\n      <td>0</td>\n    </tr>\n  </tbody>\n</table>\n<p>5 rows × 98 columns</p>\n</div>"
     },
     "metadata": {},
     "execution_count": 62
    }
   ],
   "source": [
    "# Create dummy variables for text features\n",
    "crypto_df = pd.get_dummies(crypto_df, columns=['Algorithm', 'ProofType'])\n",
    "crypto_df.head()"
   ]
  },
  {
   "cell_type": "code",
   "execution_count": 68,
   "metadata": {},
   "outputs": [
    {
     "output_type": "stream",
     "name": "stdout",
     "text": [
      "[[-0.11710817 -0.1528703  -0.0433963  -0.0433963  -0.0433963  -0.06142951\n  -0.07530656 -0.0433963  -0.06142951 -0.06142951 -0.0433963  -0.0433963\n  -0.19245009 -0.06142951 -0.09740465 -0.0433963  -0.11547005 -0.07530656\n  -0.0433963  -0.0433963  -0.15191091 -0.0433963  -0.13118084 -0.0433963\n  -0.0433963  -0.08703883 -0.0433963  -0.0433963  -0.0433963  -0.0433963\n  -0.06142951 -0.0433963  -0.08703883 -0.08703883 -0.08703883 -0.0433963\n  -0.13118084 -0.13840913 -0.13840913 -0.0433963  -0.06142951 -0.0433963\n  -0.07530656 -0.18168574 -0.0433963  -0.0433963  -0.0433963  -0.07530656\n  -0.15826614 -0.31491833 -0.0433963  -0.08703883 -0.07530656 -0.06142951\n   1.38675049 -0.0433963  -0.0433963  -0.06142951 -0.0433963  -0.0433963\n  -0.0433963  -0.0433963  -0.0433963  -0.0433963  -0.0433963  -0.0433963\n  -0.39879994 -0.0433963  -0.18168574 -0.0433963  -0.08703883 -0.08703883\n  -0.10680283 -0.0433963  -0.13118084 -0.0433963  -0.0433963  -0.0433963\n  -0.0433963  -0.07530656 -0.43911856 -0.0433963  -0.06142951 -0.0433963\n  -0.0433963  -0.89632016 -0.0433963  -0.0433963   1.42222617 -0.0433963\n  -0.0433963  -0.0433963  -0.0433963  -0.0433963  -0.0433963  -0.0433963\n  -0.0433963  -0.0433963 ]\n [-0.09396955 -0.145009   -0.0433963  -0.0433963  -0.0433963  -0.06142951\n  -0.07530656 -0.0433963  -0.06142951 -0.06142951 -0.0433963  -0.0433963\n  -0.19245009 -0.06142951 -0.09740465 -0.0433963  -0.11547005 -0.07530656\n  -0.0433963  -0.0433963  -0.15191091 -0.0433963  -0.13118084 -0.0433963\n  -0.0433963  -0.08703883 -0.0433963  -0.0433963  -0.0433963  -0.0433963\n  -0.06142951 -0.0433963  -0.08703883 -0.08703883 -0.08703883 -0.0433963\n  -0.13118084 -0.13840913 -0.13840913 -0.0433963  -0.06142951 -0.0433963\n  -0.07530656 -0.18168574 -0.0433963  -0.0433963  -0.0433963  -0.07530656\n  -0.15826614 -0.31491833 -0.0433963  -0.08703883 -0.07530656 -0.06142951\n   1.38675049 -0.0433963  -0.0433963  -0.06142951 -0.0433963  -0.0433963\n  -0.0433963  -0.0433963  -0.0433963  -0.0433963  -0.0433963  -0.0433963\n  -0.39879994 -0.0433963  -0.18168574 -0.0433963  -0.08703883 -0.08703883\n  -0.10680283 -0.0433963  -0.13118084 -0.0433963  -0.0433963  -0.0433963\n  -0.0433963  -0.07530656 -0.43911856 -0.0433963  -0.06142951 -0.0433963\n  -0.0433963  -0.89632016 -0.0433963  -0.0433963   1.42222617 -0.0433963\n  -0.0433963  -0.0433963  -0.0433963  -0.0433963  -0.0433963  -0.0433963\n  -0.0433963  -0.0433963 ]\n [ 0.52494561  4.48942416 -0.0433963  -0.0433963  -0.0433963  -0.06142951\n  -0.07530656 -0.0433963  -0.06142951 -0.06142951 -0.0433963  -0.0433963\n  -0.19245009 -0.06142951 -0.09740465 -0.0433963  -0.11547005 -0.07530656\n  -0.0433963  -0.0433963  -0.15191091 -0.0433963  -0.13118084 -0.0433963\n  -0.0433963  -0.08703883 -0.0433963  -0.0433963  -0.0433963  -0.0433963\n  -0.06142951 -0.0433963  -0.08703883 -0.08703883 -0.08703883 -0.0433963\n  -0.13118084 -0.13840913 -0.13840913 -0.0433963  -0.06142951 -0.0433963\n  -0.07530656 -0.18168574 -0.0433963  -0.0433963  -0.0433963  -0.07530656\n  -0.15826614 -0.31491833 -0.0433963  -0.08703883 -0.07530656 -0.06142951\n  -0.72111026 -0.0433963  -0.0433963  -0.06142951 -0.0433963  -0.0433963\n  -0.0433963  -0.0433963  -0.0433963  -0.0433963  -0.0433963  -0.0433963\n  -0.39879994 -0.0433963   5.50400923 -0.0433963  -0.08703883 -0.08703883\n  -0.10680283 -0.0433963  -0.13118084 -0.0433963  -0.0433963  -0.0433963\n  -0.0433963  -0.07530656 -0.43911856 -0.0433963  -0.06142951 -0.0433963\n  -0.0433963  -0.89632016 -0.0433963  -0.0433963   1.42222617 -0.0433963\n  -0.0433963  -0.0433963  -0.0433963  -0.0433963  -0.0433963  -0.0433963\n  -0.0433963  -0.0433963 ]\n [-0.11671506 -0.15255998 -0.0433963  -0.0433963  -0.0433963  -0.06142951\n  -0.07530656 -0.0433963  -0.06142951 -0.06142951 -0.0433963  -0.0433963\n  -0.19245009 -0.06142951 -0.09740465 -0.0433963  -0.11547005 -0.07530656\n  -0.0433963  -0.0433963  -0.15191091 -0.0433963  -0.13118084 -0.0433963\n  -0.0433963  -0.08703883 -0.0433963  -0.0433963  -0.0433963  -0.0433963\n  -0.06142951 -0.0433963  -0.08703883 -0.08703883 -0.08703883 -0.0433963\n  -0.13118084 -0.13840913 -0.13840913 -0.0433963  -0.06142951 -0.0433963\n  -0.07530656 -0.18168574 -0.0433963  -0.0433963  -0.0433963  -0.07530656\n  -0.15826614  3.17542648 -0.0433963  -0.08703883 -0.07530656 -0.06142951\n  -0.72111026 -0.0433963  -0.0433963  -0.06142951 -0.0433963  -0.0433963\n  -0.0433963  -0.0433963  -0.0433963  -0.0433963  -0.0433963  -0.0433963\n  -0.39879994 -0.0433963  -0.18168574 -0.0433963  -0.08703883 -0.08703883\n  -0.10680283 -0.0433963  -0.13118084 -0.0433963  -0.0433963  -0.0433963\n  -0.0433963  -0.07530656 -0.43911856 -0.0433963  -0.06142951 -0.0433963\n  -0.0433963   1.11567277 -0.0433963  -0.0433963  -0.70312305 -0.0433963\n  -0.0433963  -0.0433963  -0.0433963  -0.0433963  -0.0433963  -0.0433963\n  -0.0433963  -0.0433963 ]\n [-0.11474682 -0.1528703  -0.0433963  -0.0433963  -0.0433963  -0.06142951\n  -0.07530656 -0.0433963  -0.06142951 -0.06142951 -0.0433963  -0.0433963\n  -0.19245009 -0.06142951 -0.09740465 -0.0433963  -0.11547005 -0.07530656\n  -0.0433963  -0.0433963  -0.15191091 -0.0433963   7.62306442 -0.0433963\n  -0.0433963  -0.08703883 -0.0433963  -0.0433963  -0.0433963  -0.0433963\n  -0.06142951 -0.0433963  -0.08703883 -0.08703883 -0.08703883 -0.0433963\n  -0.13118084 -0.13840913 -0.13840913 -0.0433963  -0.06142951 -0.0433963\n  -0.07530656 -0.18168574 -0.0433963  -0.0433963  -0.0433963  -0.07530656\n  -0.15826614 -0.31491833 -0.0433963  -0.08703883 -0.07530656 -0.06142951\n  -0.72111026 -0.0433963  -0.0433963  -0.06142951 -0.0433963  -0.0433963\n  -0.0433963  -0.0433963  -0.0433963  -0.0433963  -0.0433963  -0.0433963\n  -0.39879994 -0.0433963  -0.18168574 -0.0433963  -0.08703883 -0.08703883\n  -0.10680283 -0.0433963  -0.13118084 -0.0433963  -0.0433963  -0.0433963\n  -0.0433963  -0.07530656 -0.43911856 -0.0433963  -0.06142951 -0.0433963\n  -0.0433963   1.11567277 -0.0433963  -0.0433963  -0.70312305 -0.0433963\n  -0.0433963  -0.0433963  -0.0433963  -0.0433963  -0.0433963  -0.0433963\n  -0.0433963  -0.0433963 ]]\n"
     ]
    }
   ],
   "source": [
    "# Standardize data\n",
    "scaler = StandardScaler()\n",
    "crypto_data_scaled = scaler.fit_transform(crypto_df)\n",
    "print(crypto_data_scaled[0:5])"
   ]
  },
  {
   "cell_type": "markdown",
   "metadata": {},
   "source": [
    "### Reducing Dimensions Using PCA"
   ]
  },
  {
   "cell_type": "code",
   "execution_count": 77,
   "metadata": {},
   "outputs": [],
   "source": [
    "# Use PCA to reduce dimensions to 3 principal components\n",
    "pca = PCA(n_components=3)"
   ]
  },
  {
   "cell_type": "code",
   "execution_count": 78,
   "metadata": {},
   "outputs": [
    {
     "output_type": "execute_result",
     "data": {
      "text/plain": [
       "   principal component 1  principal component 2  principal component 3\n",
       "0              -0.327401               1.000168              -0.576652\n",
       "1              -0.310781               1.000350              -0.577084\n",
       "2               2.306229               1.687060              -0.736342\n",
       "3              -0.148141              -1.298149               0.185610\n",
       "4              -0.150814              -2.033395               0.352626"
      ],
      "text/html": "<div>\n<style scoped>\n    .dataframe tbody tr th:only-of-type {\n        vertical-align: middle;\n    }\n\n    .dataframe tbody tr th {\n        vertical-align: top;\n    }\n\n    .dataframe thead th {\n        text-align: right;\n    }\n</style>\n<table border=\"1\" class=\"dataframe\">\n  <thead>\n    <tr style=\"text-align: right;\">\n      <th></th>\n      <th>principal component 1</th>\n      <th>principal component 2</th>\n      <th>principal component 3</th>\n    </tr>\n  </thead>\n  <tbody>\n    <tr>\n      <th>0</th>\n      <td>-0.327401</td>\n      <td>1.000168</td>\n      <td>-0.576652</td>\n    </tr>\n    <tr>\n      <th>1</th>\n      <td>-0.310781</td>\n      <td>1.000350</td>\n      <td>-0.577084</td>\n    </tr>\n    <tr>\n      <th>2</th>\n      <td>2.306229</td>\n      <td>1.687060</td>\n      <td>-0.736342</td>\n    </tr>\n    <tr>\n      <th>3</th>\n      <td>-0.148141</td>\n      <td>-1.298149</td>\n      <td>0.185610</td>\n    </tr>\n    <tr>\n      <th>4</th>\n      <td>-0.150814</td>\n      <td>-2.033395</td>\n      <td>0.352626</td>\n    </tr>\n  </tbody>\n</table>\n</div>"
     },
     "metadata": {},
     "execution_count": 78
    }
   ],
   "source": [
    "# Create a DataFrame with the principal components data\n",
    "crypto_pca = pd.DataFrame(crypto_pca, columns=[\"principal component 1\", \"principal component 2\", \"principal component 3\"])\n",
    "crypto_pca.head()"
   ]
  },
  {
   "cell_type": "markdown",
   "metadata": {},
   "source": [
    "### Clustering Crytocurrencies Using K-Means\n",
    "\n",
    "#### Find the Best Value for `k` Using the Elbow Curve"
   ]
  },
  {
   "cell_type": "code",
   "execution_count": 38,
   "metadata": {},
   "outputs": [],
   "source": [
    "inertia = []\n",
    "k = list(range(1, 11))\n",
    "\n",
    "# Calculate the inertia for the range of k values\n",
    "\n",
    "\n",
    "# Create the Elbow Curve using hvPlot\n"
   ]
  },
  {
   "cell_type": "markdown",
   "metadata": {},
   "source": [
    "Running K-Means with `k=<your best value for k here>`"
   ]
  },
  {
   "cell_type": "code",
   "execution_count": 39,
   "metadata": {},
   "outputs": [],
   "source": [
    "# Initialize the K-Means model\n",
    "\n",
    "# Fit the model\n",
    "\n",
    "# Predict clusters\n",
    "\n",
    "# Create a new DataFrame including predicted clusters and cryptocurrencies features\n"
   ]
  },
  {
   "cell_type": "markdown",
   "metadata": {},
   "source": [
    "### Visualizing Results\n",
    "\n",
    "#### 3D-Scatter with Clusters"
   ]
  },
  {
   "cell_type": "code",
   "execution_count": 40,
   "metadata": {},
   "outputs": [],
   "source": [
    "# Create a 3D-Scatter with the PCA data and the clusters\n"
   ]
  },
  {
   "cell_type": "markdown",
   "metadata": {},
   "source": [
    "#### Table of Tradable Cryptocurrencies"
   ]
  },
  {
   "cell_type": "code",
   "execution_count": 41,
   "metadata": {},
   "outputs": [],
   "source": [
    "# Table with tradable cryptos\n"
   ]
  },
  {
   "cell_type": "code",
   "execution_count": 42,
   "metadata": {},
   "outputs": [],
   "source": [
    "# Print the total number of tradable cryptocurrencies\n"
   ]
  },
  {
   "cell_type": "markdown",
   "metadata": {},
   "source": [
    "#### Scatter Plot with Tradable Cryptocurrencies"
   ]
  },
  {
   "cell_type": "code",
   "execution_count": 43,
   "metadata": {},
   "outputs": [],
   "source": [
    "# Scale data to create the scatter plot\n"
   ]
  },
  {
   "cell_type": "code",
   "execution_count": 44,
   "metadata": {},
   "outputs": [],
   "source": [
    "# Plot the scatter with x=\"TotalCoinsMined\" and y=\"TotalCoinSupply\"\n"
   ]
  }
 ],
 "metadata": {
  "file_extension": ".py",
  "kernelspec": {
   "name": "python3",
   "display_name": "Python 3.7.7 64-bit ('pyvizenv': conda)",
   "metadata": {
    "interpreter": {
     "hash": "6d180c226e1fb546a2a1623a132f2a8812479d52f4604fddc733d95b32da65e3"
    }
   }
  },
  "language_info": {
   "codemirror_mode": {
    "name": "ipython",
    "version": 3
   },
   "file_extension": ".py",
   "mimetype": "text/x-python",
   "name": "python",
   "nbconvert_exporter": "python",
   "pygments_lexer": "ipython3",
   "version": "3.7.7-final"
  },
  "mimetype": "text/x-python",
  "name": "python",
  "npconvert_exporter": "python",
  "pygments_lexer": "ipython3",
  "version": 3
 },
 "nbformat": 4,
 "nbformat_minor": 4
}