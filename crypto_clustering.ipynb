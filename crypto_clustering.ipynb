{
 "cells": [
  {
   "cell_type": "markdown",
   "metadata": {},
   "source": [
    "# Clustering Crypto"
   ]
  },
  {
   "cell_type": "code",
   "execution_count": 2,
   "metadata": {},
   "outputs": [],
   "source": [
    "# Initial imports\n",
    "import requests\n",
    "import pandas as pd\n",
    "import matplotlib.pyplot as plt\n",
    "import hvplot.pandas\n",
    "import plotly.express as px\n",
    "from sklearn.preprocessing import StandardScaler, MinMaxScaler\n",
    "from sklearn.decomposition import PCA\n",
    "from sklearn.cluster import KMeans"
   ]
  },
  {
   "cell_type": "markdown",
   "metadata": {},
   "source": [
    "### Fetching Cryptocurrency Data"
   ]
  },
  {
   "cell_type": "code",
   "execution_count": 3,
   "metadata": {
    "tags": []
   },
   "outputs": [],
   "source": [
    "# Use the following endpoint to fetch json data\n",
    "import json\n",
    "from pprint import pprint\n",
    "\n",
    "url = \"https://min-api.cryptocompare.com/data/all/coinlist\"\n",
    "res = requests.get(url)\n",
    "res\n",
    "data = res.json()\n",
    "json_data = json.dumps(data)"
   ]
  },
  {
   "cell_type": "code",
   "execution_count": 4,
   "metadata": {},
   "outputs": [
    {
     "output_type": "execute_result",
     "data": {
      "text/plain": [
       "      CoinName Algorithm IsTrading ProofType TotalCoinsMined MaxSupply\n",
       "42     42 Coin    Scrypt      True   PoW/PoS               0         0\n",
       "300  300 token       N/A      True       N/A             300       300\n",
       "365    365Coin       X11      True   PoW/PoS               0         0\n",
       "404    404Coin    Scrypt      True   PoW/PoS               0         0\n",
       "433  433 Token       N/A     False       N/A             NaN       NaN"
      ],
      "text/html": "<div>\n<style scoped>\n    .dataframe tbody tr th:only-of-type {\n        vertical-align: middle;\n    }\n\n    .dataframe tbody tr th {\n        vertical-align: top;\n    }\n\n    .dataframe thead th {\n        text-align: right;\n    }\n</style>\n<table border=\"1\" class=\"dataframe\">\n  <thead>\n    <tr style=\"text-align: right;\">\n      <th></th>\n      <th>CoinName</th>\n      <th>Algorithm</th>\n      <th>IsTrading</th>\n      <th>ProofType</th>\n      <th>TotalCoinsMined</th>\n      <th>MaxSupply</th>\n    </tr>\n  </thead>\n  <tbody>\n    <tr>\n      <th>42</th>\n      <td>42 Coin</td>\n      <td>Scrypt</td>\n      <td>True</td>\n      <td>PoW/PoS</td>\n      <td>0</td>\n      <td>0</td>\n    </tr>\n    <tr>\n      <th>300</th>\n      <td>300 token</td>\n      <td>N/A</td>\n      <td>True</td>\n      <td>N/A</td>\n      <td>300</td>\n      <td>300</td>\n    </tr>\n    <tr>\n      <th>365</th>\n      <td>365Coin</td>\n      <td>X11</td>\n      <td>True</td>\n      <td>PoW/PoS</td>\n      <td>0</td>\n      <td>0</td>\n    </tr>\n    <tr>\n      <th>404</th>\n      <td>404Coin</td>\n      <td>Scrypt</td>\n      <td>True</td>\n      <td>PoW/PoS</td>\n      <td>0</td>\n      <td>0</td>\n    </tr>\n    <tr>\n      <th>433</th>\n      <td>433 Token</td>\n      <td>N/A</td>\n      <td>False</td>\n      <td>N/A</td>\n      <td>NaN</td>\n      <td>NaN</td>\n    </tr>\n  </tbody>\n</table>\n</div>"
     },
     "metadata": {},
     "execution_count": 4
    }
   ],
   "source": [
    "# Create a DataFrame \n",
    "# HINT: You will need to use the 'Data' key from the json response, then transpose the DataFrame.\n",
    "df = pd.DataFrame(data[\"Data\"])\n",
    "df = df.T\n",
    "url_request_df = df[['CoinName','Algorithm','IsTrading','ProofType','TotalCoinsMined','MaxSupply']]\n",
    "url_request_df.head()"
   ]
  },
  {
   "cell_type": "code",
   "execution_count": 5,
   "metadata": {},
   "outputs": [
    {
     "output_type": "execute_result",
     "data": {
      "text/plain": [
       "Index(['Algorithm', 'AssetLaunchDate', 'AssetTokenStatus', 'BlockNumber',\n",
       "       'BlockReward', 'BlockTime', 'BuiltOn', 'CoinName', 'ContentCreatedOn',\n",
       "       'DecimalPoints', 'Description', 'Difficulty', 'FullName', 'Id',\n",
       "       'ImageUrl', 'IsTrading', 'IsUsedInDefi', 'MaxSupply', 'MktCapPenalty',\n",
       "       'Name', 'NetHashesPerSecond', 'PlatformType', 'ProofType', 'Rating',\n",
       "       'SmartContractAddress', 'SortOrder', 'Sponsored', 'Symbol', 'Taxonomy',\n",
       "       'TotalCoinsMined', 'Url'],\n",
       "      dtype='object')"
      ]
     },
     "metadata": {},
     "execution_count": 5
    }
   ],
   "source": [
    "df.keys()\n",
    "# json file keys do not contain \"TotalCoinSupply\" column as in .csv file below. Further analysis will be using data from .csv file."
   ]
  },
  {
   "cell_type": "code",
   "execution_count": 6,
   "metadata": {},
   "outputs": [
    {
     "output_type": "execute_result",
     "data": {
      "text/plain": [
       "  Unnamed: 0   CoinName Algorithm  IsTrading ProofType  TotalCoinsMined  \\\n",
       "0         42    42 Coin    Scrypt       True   PoW/PoS     4.199995e+01   \n",
       "1        365    365Coin       X11       True   PoW/PoS              NaN   \n",
       "2        404    404Coin    Scrypt       True   PoW/PoS     1.055185e+09   \n",
       "3        611  SixEleven   SHA-256       True       PoW              NaN   \n",
       "4        808        808   SHA-256       True   PoW/PoS     0.000000e+00   \n",
       "\n",
       "  TotalCoinSupply  \n",
       "0              42  \n",
       "1      2300000000  \n",
       "2       532000000  \n",
       "3          611000  \n",
       "4               0  "
      ],
      "text/html": "<div>\n<style scoped>\n    .dataframe tbody tr th:only-of-type {\n        vertical-align: middle;\n    }\n\n    .dataframe tbody tr th {\n        vertical-align: top;\n    }\n\n    .dataframe thead th {\n        text-align: right;\n    }\n</style>\n<table border=\"1\" class=\"dataframe\">\n  <thead>\n    <tr style=\"text-align: right;\">\n      <th></th>\n      <th>Unnamed: 0</th>\n      <th>CoinName</th>\n      <th>Algorithm</th>\n      <th>IsTrading</th>\n      <th>ProofType</th>\n      <th>TotalCoinsMined</th>\n      <th>TotalCoinSupply</th>\n    </tr>\n  </thead>\n  <tbody>\n    <tr>\n      <th>0</th>\n      <td>42</td>\n      <td>42 Coin</td>\n      <td>Scrypt</td>\n      <td>True</td>\n      <td>PoW/PoS</td>\n      <td>4.199995e+01</td>\n      <td>42</td>\n    </tr>\n    <tr>\n      <th>1</th>\n      <td>365</td>\n      <td>365Coin</td>\n      <td>X11</td>\n      <td>True</td>\n      <td>PoW/PoS</td>\n      <td>NaN</td>\n      <td>2300000000</td>\n    </tr>\n    <tr>\n      <th>2</th>\n      <td>404</td>\n      <td>404Coin</td>\n      <td>Scrypt</td>\n      <td>True</td>\n      <td>PoW/PoS</td>\n      <td>1.055185e+09</td>\n      <td>532000000</td>\n    </tr>\n    <tr>\n      <th>3</th>\n      <td>611</td>\n      <td>SixEleven</td>\n      <td>SHA-256</td>\n      <td>True</td>\n      <td>PoW</td>\n      <td>NaN</td>\n      <td>611000</td>\n    </tr>\n    <tr>\n      <th>4</th>\n      <td>808</td>\n      <td>808</td>\n      <td>SHA-256</td>\n      <td>True</td>\n      <td>PoW/PoS</td>\n      <td>0.000000e+00</td>\n      <td>0</td>\n    </tr>\n  </tbody>\n</table>\n</div>"
     },
     "metadata": {},
     "execution_count": 6
    }
   ],
   "source": [
    "# Alternatively, use the provided csv file:\n",
    "# file_path = Path(\"Resources/crypto_data.csv\")\n",
    "crypto_df = pd.read_csv(\"Resources/crypto_data.csv\")\n",
    "\n",
    "# Create a DataFrame\n",
    "crypto_df.head()"
   ]
  },
  {
   "cell_type": "markdown",
   "metadata": {},
   "source": [
    "### Data Preprocessing"
   ]
  },
  {
   "cell_type": "code",
   "execution_count": 7,
   "metadata": {},
   "outputs": [
    {
     "output_type": "execute_result",
     "data": {
      "text/plain": [
       "             CoinName Algorithm  IsTrading ProofType  TotalCoinsMined  \\\n",
       "Unnamed: 0                                                              \n",
       "42            42 Coin    Scrypt       True   PoW/PoS     4.199995e+01   \n",
       "365           365Coin       X11       True   PoW/PoS              NaN   \n",
       "404           404Coin    Scrypt       True   PoW/PoS     1.055185e+09   \n",
       "611         SixEleven   SHA-256       True       PoW              NaN   \n",
       "808               808   SHA-256       True   PoW/PoS     0.000000e+00   \n",
       "\n",
       "           TotalCoinSupply  \n",
       "Unnamed: 0                  \n",
       "42                      42  \n",
       "365             2300000000  \n",
       "404              532000000  \n",
       "611                 611000  \n",
       "808                      0  "
      ],
      "text/html": "<div>\n<style scoped>\n    .dataframe tbody tr th:only-of-type {\n        vertical-align: middle;\n    }\n\n    .dataframe tbody tr th {\n        vertical-align: top;\n    }\n\n    .dataframe thead th {\n        text-align: right;\n    }\n</style>\n<table border=\"1\" class=\"dataframe\">\n  <thead>\n    <tr style=\"text-align: right;\">\n      <th></th>\n      <th>CoinName</th>\n      <th>Algorithm</th>\n      <th>IsTrading</th>\n      <th>ProofType</th>\n      <th>TotalCoinsMined</th>\n      <th>TotalCoinSupply</th>\n    </tr>\n    <tr>\n      <th>Unnamed: 0</th>\n      <th></th>\n      <th></th>\n      <th></th>\n      <th></th>\n      <th></th>\n      <th></th>\n    </tr>\n  </thead>\n  <tbody>\n    <tr>\n      <th>42</th>\n      <td>42 Coin</td>\n      <td>Scrypt</td>\n      <td>True</td>\n      <td>PoW/PoS</td>\n      <td>4.199995e+01</td>\n      <td>42</td>\n    </tr>\n    <tr>\n      <th>365</th>\n      <td>365Coin</td>\n      <td>X11</td>\n      <td>True</td>\n      <td>PoW/PoS</td>\n      <td>NaN</td>\n      <td>2300000000</td>\n    </tr>\n    <tr>\n      <th>404</th>\n      <td>404Coin</td>\n      <td>Scrypt</td>\n      <td>True</td>\n      <td>PoW/PoS</td>\n      <td>1.055185e+09</td>\n      <td>532000000</td>\n    </tr>\n    <tr>\n      <th>611</th>\n      <td>SixEleven</td>\n      <td>SHA-256</td>\n      <td>True</td>\n      <td>PoW</td>\n      <td>NaN</td>\n      <td>611000</td>\n    </tr>\n    <tr>\n      <th>808</th>\n      <td>808</td>\n      <td>SHA-256</td>\n      <td>True</td>\n      <td>PoW/PoS</td>\n      <td>0.000000e+00</td>\n      <td>0</td>\n    </tr>\n  </tbody>\n</table>\n</div>"
     },
     "metadata": {},
     "execution_count": 7
    }
   ],
   "source": [
    "# Keep only necessary columns:\n",
    "# 'CoinName','Algorithm','IsTrading','ProofType','TotalCoinsMined','TotalCoinSupply'\n",
    "crypto_df = crypto_df.set_index(crypto_df.columns[0])\n",
    "crypto_df.head()"
   ]
  },
  {
   "cell_type": "code",
   "execution_count": 8,
   "metadata": {},
   "outputs": [
    {
     "output_type": "stream",
     "name": "stdout",
     "text": [
      "(1144, 6)\n"
     ]
    },
    {
     "output_type": "execute_result",
     "data": {
      "text/plain": [
       "             CoinName Algorithm  IsTrading ProofType  TotalCoinsMined  \\\n",
       "Unnamed: 0                                                              \n",
       "42            42 Coin    Scrypt       True   PoW/PoS     4.199995e+01   \n",
       "365           365Coin       X11       True   PoW/PoS              NaN   \n",
       "404           404Coin    Scrypt       True   PoW/PoS     1.055185e+09   \n",
       "611         SixEleven   SHA-256       True       PoW              NaN   \n",
       "808               808   SHA-256       True   PoW/PoS     0.000000e+00   \n",
       "\n",
       "           TotalCoinSupply  \n",
       "Unnamed: 0                  \n",
       "42                      42  \n",
       "365             2300000000  \n",
       "404              532000000  \n",
       "611                 611000  \n",
       "808                      0  "
      ],
      "text/html": "<div>\n<style scoped>\n    .dataframe tbody tr th:only-of-type {\n        vertical-align: middle;\n    }\n\n    .dataframe tbody tr th {\n        vertical-align: top;\n    }\n\n    .dataframe thead th {\n        text-align: right;\n    }\n</style>\n<table border=\"1\" class=\"dataframe\">\n  <thead>\n    <tr style=\"text-align: right;\">\n      <th></th>\n      <th>CoinName</th>\n      <th>Algorithm</th>\n      <th>IsTrading</th>\n      <th>ProofType</th>\n      <th>TotalCoinsMined</th>\n      <th>TotalCoinSupply</th>\n    </tr>\n    <tr>\n      <th>Unnamed: 0</th>\n      <th></th>\n      <th></th>\n      <th></th>\n      <th></th>\n      <th></th>\n      <th></th>\n    </tr>\n  </thead>\n  <tbody>\n    <tr>\n      <th>42</th>\n      <td>42 Coin</td>\n      <td>Scrypt</td>\n      <td>True</td>\n      <td>PoW/PoS</td>\n      <td>4.199995e+01</td>\n      <td>42</td>\n    </tr>\n    <tr>\n      <th>365</th>\n      <td>365Coin</td>\n      <td>X11</td>\n      <td>True</td>\n      <td>PoW/PoS</td>\n      <td>NaN</td>\n      <td>2300000000</td>\n    </tr>\n    <tr>\n      <th>404</th>\n      <td>404Coin</td>\n      <td>Scrypt</td>\n      <td>True</td>\n      <td>PoW/PoS</td>\n      <td>1.055185e+09</td>\n      <td>532000000</td>\n    </tr>\n    <tr>\n      <th>611</th>\n      <td>SixEleven</td>\n      <td>SHA-256</td>\n      <td>True</td>\n      <td>PoW</td>\n      <td>NaN</td>\n      <td>611000</td>\n    </tr>\n    <tr>\n      <th>808</th>\n      <td>808</td>\n      <td>SHA-256</td>\n      <td>True</td>\n      <td>PoW/PoS</td>\n      <td>0.000000e+00</td>\n      <td>0</td>\n    </tr>\n  </tbody>\n</table>\n</div>"
     },
     "metadata": {},
     "execution_count": 8
    }
   ],
   "source": [
    "# Keep only cryptocurrencies that are trading\n",
    "crypto_df = crypto_df[crypto_df['IsTrading']==True]\n",
    "print(crypto_df.shape)\n",
    "crypto_df.head()"
   ]
  },
  {
   "cell_type": "code",
   "execution_count": 9,
   "metadata": {},
   "outputs": [
    {
     "output_type": "stream",
     "name": "stdout",
     "text": [
      "Unnamed: 0\n42       False\n365      False\n404      False\n611      False\n808      False\n1337     False\n2015     False\nBTC      False\nETH      False\nLTC      False\nDASH     False\nXMR      False\nETC      False\nZEC      False\nBTS      False\nDGB      False\nBTCD     False\nCRAIG    False\nXBS      False\nXPY      False\nPRC      False\nYBC      False\nDANK     False\nGIVE     False\nKOBO     False\nDT       False\nCETI     False\nSPR      False\nWOLF     False\nACOIN    False\n         ...  \nAHT      False\nRCC      False\nOXY      False\nKAPU     False\nGRFT     False\nMNZ      False\nSCRM     False\nLWF      False\nILT      False\nADM      False\nUPX      False\nTCH      False\nTIP      False\nDTEP     False\nWAVES    False\nPART     False\nSLX      False\nBTT      False\nCHI      False\nNXT      False\nZEPH     False\nXQN      False\nNETC     False\nVPRC     False\nGAP      False\nSERO     False\nUOS      False\nBDX      False\nZEN      False\nXBC      False\nName: Algorithm, Length: 1144, dtype: bool\n"
     ]
    }
   ],
   "source": [
    "# Keep only cryptocurrencies with a working algorithm\n",
    "print(crypto_df['Algorithm'].isna())"
   ]
  },
  {
   "cell_type": "code",
   "execution_count": 10,
   "metadata": {},
   "outputs": [
    {
     "output_type": "execute_result",
     "data": {
      "text/plain": [
       "             CoinName Algorithm ProofType  TotalCoinsMined TotalCoinSupply\n",
       "Unnamed: 0                                                                \n",
       "42            42 Coin    Scrypt   PoW/PoS     4.199995e+01              42\n",
       "365           365Coin       X11   PoW/PoS              NaN      2300000000\n",
       "404           404Coin    Scrypt   PoW/PoS     1.055185e+09       532000000\n",
       "611         SixEleven   SHA-256       PoW              NaN          611000\n",
       "808               808   SHA-256   PoW/PoS     0.000000e+00               0"
      ],
      "text/html": "<div>\n<style scoped>\n    .dataframe tbody tr th:only-of-type {\n        vertical-align: middle;\n    }\n\n    .dataframe tbody tr th {\n        vertical-align: top;\n    }\n\n    .dataframe thead th {\n        text-align: right;\n    }\n</style>\n<table border=\"1\" class=\"dataframe\">\n  <thead>\n    <tr style=\"text-align: right;\">\n      <th></th>\n      <th>CoinName</th>\n      <th>Algorithm</th>\n      <th>ProofType</th>\n      <th>TotalCoinsMined</th>\n      <th>TotalCoinSupply</th>\n    </tr>\n    <tr>\n      <th>Unnamed: 0</th>\n      <th></th>\n      <th></th>\n      <th></th>\n      <th></th>\n      <th></th>\n    </tr>\n  </thead>\n  <tbody>\n    <tr>\n      <th>42</th>\n      <td>42 Coin</td>\n      <td>Scrypt</td>\n      <td>PoW/PoS</td>\n      <td>4.199995e+01</td>\n      <td>42</td>\n    </tr>\n    <tr>\n      <th>365</th>\n      <td>365Coin</td>\n      <td>X11</td>\n      <td>PoW/PoS</td>\n      <td>NaN</td>\n      <td>2300000000</td>\n    </tr>\n    <tr>\n      <th>404</th>\n      <td>404Coin</td>\n      <td>Scrypt</td>\n      <td>PoW/PoS</td>\n      <td>1.055185e+09</td>\n      <td>532000000</td>\n    </tr>\n    <tr>\n      <th>611</th>\n      <td>SixEleven</td>\n      <td>SHA-256</td>\n      <td>PoW</td>\n      <td>NaN</td>\n      <td>611000</td>\n    </tr>\n    <tr>\n      <th>808</th>\n      <td>808</td>\n      <td>SHA-256</td>\n      <td>PoW/PoS</td>\n      <td>0.000000e+00</td>\n      <td>0</td>\n    </tr>\n  </tbody>\n</table>\n</div>"
     },
     "metadata": {},
     "execution_count": 10
    }
   ],
   "source": [
    "# Remove the \"IsTrading\" column\n",
    "crypto_df = crypto_df.drop(columns=\"IsTrading\")\n",
    "crypto_df.head()"
   ]
  },
  {
   "cell_type": "code",
   "execution_count": 11,
   "metadata": {},
   "outputs": [
    {
     "output_type": "execute_result",
     "data": {
      "text/plain": [
       "CoinName             0\n",
       "Algorithm            0\n",
       "ProofType            0\n",
       "TotalCoinsMined    459\n",
       "TotalCoinSupply      0\n",
       "dtype: int64"
      ]
     },
     "metadata": {},
     "execution_count": 11
    }
   ],
   "source": [
    "# Remove rows with at least 1 null value\n",
    "crypto_df.isnull().sum()"
   ]
  },
  {
   "cell_type": "code",
   "execution_count": 12,
   "metadata": {},
   "outputs": [
    {
     "output_type": "execute_result",
     "data": {
      "text/plain": [
       "(532, 5)"
      ]
     },
     "metadata": {},
     "execution_count": 12
    }
   ],
   "source": [
    "# Remove rows with cryptocurrencies having no coins mined\n",
    "crypto_df = crypto_df[crypto_df['TotalCoinsMined'] > 0]\n",
    "crypto_df.shape"
   ]
  },
  {
   "cell_type": "code",
   "execution_count": 13,
   "metadata": {},
   "outputs": [
    {
     "output_type": "execute_result",
     "data": {
      "text/plain": [
       "CoinName           0\n",
       "Algorithm          0\n",
       "ProofType          0\n",
       "TotalCoinsMined    0\n",
       "TotalCoinSupply    0\n",
       "dtype: int64"
      ]
     },
     "metadata": {},
     "execution_count": 13
    }
   ],
   "source": [
    "# Drop rows where there are 'N/A' text values\n",
    "crypto_df.dropna()\n",
    "crypto_df.isna().sum()"
   ]
  },
  {
   "cell_type": "code",
   "execution_count": 14,
   "metadata": {},
   "outputs": [
    {
     "output_type": "execute_result",
     "data": {
      "text/plain": [
       "Unnamed: 0\n",
       "42        42 Coin\n",
       "404       404Coin\n",
       "1337    EliteCoin\n",
       "BTC       Bitcoin\n",
       "ETH      Ethereum\n",
       "Name: CoinName, dtype: object"
      ]
     },
     "metadata": {},
     "execution_count": 14
    }
   ],
   "source": [
    "# Store the 'CoinName'column in its own DataFrame prior to dropping it from crypto_df\n",
    "coin_name_df = crypto_df[\"CoinName\"]\n",
    "coin_name_df.head()"
   ]
  },
  {
   "cell_type": "code",
   "execution_count": 15,
   "metadata": {},
   "outputs": [
    {
     "output_type": "execute_result",
     "data": {
      "text/plain": [
       "           Algorithm ProofType  TotalCoinsMined TotalCoinSupply\n",
       "Unnamed: 0                                                     \n",
       "42            Scrypt   PoW/PoS     4.199995e+01              42\n",
       "404           Scrypt   PoW/PoS     1.055185e+09       532000000\n",
       "1337             X13   PoW/PoS     2.927942e+10    314159265359\n",
       "BTC          SHA-256       PoW     1.792718e+07        21000000\n",
       "ETH           Ethash       PoW     1.076842e+08               0"
      ],
      "text/html": "<div>\n<style scoped>\n    .dataframe tbody tr th:only-of-type {\n        vertical-align: middle;\n    }\n\n    .dataframe tbody tr th {\n        vertical-align: top;\n    }\n\n    .dataframe thead th {\n        text-align: right;\n    }\n</style>\n<table border=\"1\" class=\"dataframe\">\n  <thead>\n    <tr style=\"text-align: right;\">\n      <th></th>\n      <th>Algorithm</th>\n      <th>ProofType</th>\n      <th>TotalCoinsMined</th>\n      <th>TotalCoinSupply</th>\n    </tr>\n    <tr>\n      <th>Unnamed: 0</th>\n      <th></th>\n      <th></th>\n      <th></th>\n      <th></th>\n    </tr>\n  </thead>\n  <tbody>\n    <tr>\n      <th>42</th>\n      <td>Scrypt</td>\n      <td>PoW/PoS</td>\n      <td>4.199995e+01</td>\n      <td>42</td>\n    </tr>\n    <tr>\n      <th>404</th>\n      <td>Scrypt</td>\n      <td>PoW/PoS</td>\n      <td>1.055185e+09</td>\n      <td>532000000</td>\n    </tr>\n    <tr>\n      <th>1337</th>\n      <td>X13</td>\n      <td>PoW/PoS</td>\n      <td>2.927942e+10</td>\n      <td>314159265359</td>\n    </tr>\n    <tr>\n      <th>BTC</th>\n      <td>SHA-256</td>\n      <td>PoW</td>\n      <td>1.792718e+07</td>\n      <td>21000000</td>\n    </tr>\n    <tr>\n      <th>ETH</th>\n      <td>Ethash</td>\n      <td>PoW</td>\n      <td>1.076842e+08</td>\n      <td>0</td>\n    </tr>\n  </tbody>\n</table>\n</div>"
     },
     "metadata": {},
     "execution_count": 15
    }
   ],
   "source": [
    "# Drop the 'CoinName' column since it's not going to be used on the clustering algorithm\n",
    "crypto_df = crypto_df.drop(columns='CoinName')\n",
    "crypto_df.head()"
   ]
  },
  {
   "cell_type": "code",
   "execution_count": 16,
   "metadata": {},
   "outputs": [
    {
     "output_type": "execute_result",
     "data": {
      "text/plain": [
       "            TotalCoinsMined TotalCoinSupply  Algorithm_1GB AES Pattern Search  \\\n",
       "Unnamed: 0                                                                      \n",
       "42             4.199995e+01              42                                 0   \n",
       "404            1.055185e+09       532000000                                 0   \n",
       "1337           2.927942e+10    314159265359                                 0   \n",
       "BTC            1.792718e+07        21000000                                 0   \n",
       "ETH            1.076842e+08               0                                 0   \n",
       "\n",
       "            Algorithm_536  Algorithm_Argon2d  Algorithm_BLAKE256  \\\n",
       "Unnamed: 0                                                         \n",
       "42                      0                  0                   0   \n",
       "404                     0                  0                   0   \n",
       "1337                    0                  0                   0   \n",
       "BTC                     0                  0                   0   \n",
       "ETH                     0                  0                   0   \n",
       "\n",
       "            Algorithm_Blake  Algorithm_Blake2S  Algorithm_Blake2b  \\\n",
       "Unnamed: 0                                                          \n",
       "42                        0                  0                  0   \n",
       "404                       0                  0                  0   \n",
       "1337                      0                  0                  0   \n",
       "BTC                       0                  0                  0   \n",
       "ETH                       0                  0                  0   \n",
       "\n",
       "            Algorithm_C11  ...  ProofType_PoW/PoS  ProofType_PoW/PoS   \\\n",
       "Unnamed: 0                 ...                                          \n",
       "42                      0  ...                  1                   0   \n",
       "404                     0  ...                  1                   0   \n",
       "1337                    0  ...                  1                   0   \n",
       "BTC                     0  ...                  0                   0   \n",
       "ETH                     0  ...                  0                   0   \n",
       "\n",
       "            ProofType_PoW/PoW  ProofType_PoW/nPoS  ProofType_Pos  \\\n",
       "Unnamed: 0                                                         \n",
       "42                          0                   0              0   \n",
       "404                         0                   0              0   \n",
       "1337                        0                   0              0   \n",
       "BTC                         0                   0              0   \n",
       "ETH                         0                   0              0   \n",
       "\n",
       "            ProofType_Proof of Authority  ProofType_Proof of Trust  \\\n",
       "Unnamed: 0                                                           \n",
       "42                                     0                         0   \n",
       "404                                    0                         0   \n",
       "1337                                   0                         0   \n",
       "BTC                                    0                         0   \n",
       "ETH                                    0                         0   \n",
       "\n",
       "            ProofType_TPoS  ProofType_Zero-Knowledge Proof  ProofType_dPoW/PoW  \n",
       "Unnamed: 0                                                                      \n",
       "42                       0                               0                   0  \n",
       "404                      0                               0                   0  \n",
       "1337                     0                               0                   0  \n",
       "BTC                      0                               0                   0  \n",
       "ETH                      0                               0                   0  \n",
       "\n",
       "[5 rows x 98 columns]"
      ],
      "text/html": "<div>\n<style scoped>\n    .dataframe tbody tr th:only-of-type {\n        vertical-align: middle;\n    }\n\n    .dataframe tbody tr th {\n        vertical-align: top;\n    }\n\n    .dataframe thead th {\n        text-align: right;\n    }\n</style>\n<table border=\"1\" class=\"dataframe\">\n  <thead>\n    <tr style=\"text-align: right;\">\n      <th></th>\n      <th>TotalCoinsMined</th>\n      <th>TotalCoinSupply</th>\n      <th>Algorithm_1GB AES Pattern Search</th>\n      <th>Algorithm_536</th>\n      <th>Algorithm_Argon2d</th>\n      <th>Algorithm_BLAKE256</th>\n      <th>Algorithm_Blake</th>\n      <th>Algorithm_Blake2S</th>\n      <th>Algorithm_Blake2b</th>\n      <th>Algorithm_C11</th>\n      <th>...</th>\n      <th>ProofType_PoW/PoS</th>\n      <th>ProofType_PoW/PoS</th>\n      <th>ProofType_PoW/PoW</th>\n      <th>ProofType_PoW/nPoS</th>\n      <th>ProofType_Pos</th>\n      <th>ProofType_Proof of Authority</th>\n      <th>ProofType_Proof of Trust</th>\n      <th>ProofType_TPoS</th>\n      <th>ProofType_Zero-Knowledge Proof</th>\n      <th>ProofType_dPoW/PoW</th>\n    </tr>\n    <tr>\n      <th>Unnamed: 0</th>\n      <th></th>\n      <th></th>\n      <th></th>\n      <th></th>\n      <th></th>\n      <th></th>\n      <th></th>\n      <th></th>\n      <th></th>\n      <th></th>\n      <th></th>\n      <th></th>\n      <th></th>\n      <th></th>\n      <th></th>\n      <th></th>\n      <th></th>\n      <th></th>\n      <th></th>\n      <th></th>\n      <th></th>\n    </tr>\n  </thead>\n  <tbody>\n    <tr>\n      <th>42</th>\n      <td>4.199995e+01</td>\n      <td>42</td>\n      <td>0</td>\n      <td>0</td>\n      <td>0</td>\n      <td>0</td>\n      <td>0</td>\n      <td>0</td>\n      <td>0</td>\n      <td>0</td>\n      <td>...</td>\n      <td>1</td>\n      <td>0</td>\n      <td>0</td>\n      <td>0</td>\n      <td>0</td>\n      <td>0</td>\n      <td>0</td>\n      <td>0</td>\n      <td>0</td>\n      <td>0</td>\n    </tr>\n    <tr>\n      <th>404</th>\n      <td>1.055185e+09</td>\n      <td>532000000</td>\n      <td>0</td>\n      <td>0</td>\n      <td>0</td>\n      <td>0</td>\n      <td>0</td>\n      <td>0</td>\n      <td>0</td>\n      <td>0</td>\n      <td>...</td>\n      <td>1</td>\n      <td>0</td>\n      <td>0</td>\n      <td>0</td>\n      <td>0</td>\n      <td>0</td>\n      <td>0</td>\n      <td>0</td>\n      <td>0</td>\n      <td>0</td>\n    </tr>\n    <tr>\n      <th>1337</th>\n      <td>2.927942e+10</td>\n      <td>314159265359</td>\n      <td>0</td>\n      <td>0</td>\n      <td>0</td>\n      <td>0</td>\n      <td>0</td>\n      <td>0</td>\n      <td>0</td>\n      <td>0</td>\n      <td>...</td>\n      <td>1</td>\n      <td>0</td>\n      <td>0</td>\n      <td>0</td>\n      <td>0</td>\n      <td>0</td>\n      <td>0</td>\n      <td>0</td>\n      <td>0</td>\n      <td>0</td>\n    </tr>\n    <tr>\n      <th>BTC</th>\n      <td>1.792718e+07</td>\n      <td>21000000</td>\n      <td>0</td>\n      <td>0</td>\n      <td>0</td>\n      <td>0</td>\n      <td>0</td>\n      <td>0</td>\n      <td>0</td>\n      <td>0</td>\n      <td>...</td>\n      <td>0</td>\n      <td>0</td>\n      <td>0</td>\n      <td>0</td>\n      <td>0</td>\n      <td>0</td>\n      <td>0</td>\n      <td>0</td>\n      <td>0</td>\n      <td>0</td>\n    </tr>\n    <tr>\n      <th>ETH</th>\n      <td>1.076842e+08</td>\n      <td>0</td>\n      <td>0</td>\n      <td>0</td>\n      <td>0</td>\n      <td>0</td>\n      <td>0</td>\n      <td>0</td>\n      <td>0</td>\n      <td>0</td>\n      <td>...</td>\n      <td>0</td>\n      <td>0</td>\n      <td>0</td>\n      <td>0</td>\n      <td>0</td>\n      <td>0</td>\n      <td>0</td>\n      <td>0</td>\n      <td>0</td>\n      <td>0</td>\n    </tr>\n  </tbody>\n</table>\n<p>5 rows × 98 columns</p>\n</div>"
     },
     "metadata": {},
     "execution_count": 16
    }
   ],
   "source": [
    "# Create dummy variables for text features\n",
    "crypto_df_dummies = pd.get_dummies(crypto_df, columns=['Algorithm', 'ProofType'])\n",
    "crypto_df_dummies.head()"
   ]
  },
  {
   "cell_type": "code",
   "execution_count": 17,
   "metadata": {},
   "outputs": [
    {
     "output_type": "stream",
     "name": "stdout",
     "text": [
      "[[-0.11710817 -0.1528703  -0.0433963  -0.0433963  -0.0433963  -0.06142951\n  -0.07530656 -0.0433963  -0.06142951 -0.06142951 -0.0433963  -0.0433963\n  -0.19245009 -0.06142951 -0.09740465 -0.0433963  -0.11547005 -0.07530656\n  -0.0433963  -0.0433963  -0.15191091 -0.0433963  -0.13118084 -0.0433963\n  -0.0433963  -0.08703883 -0.0433963  -0.0433963  -0.0433963  -0.0433963\n  -0.06142951 -0.0433963  -0.08703883 -0.08703883 -0.08703883 -0.0433963\n  -0.13118084 -0.13840913 -0.13840913 -0.0433963  -0.06142951 -0.0433963\n  -0.07530656 -0.18168574 -0.0433963  -0.0433963  -0.0433963  -0.07530656\n  -0.15826614 -0.31491833 -0.0433963  -0.08703883 -0.07530656 -0.06142951\n   1.38675049 -0.0433963  -0.0433963  -0.06142951 -0.0433963  -0.0433963\n  -0.0433963  -0.0433963  -0.0433963  -0.0433963  -0.0433963  -0.0433963\n  -0.39879994 -0.0433963  -0.18168574 -0.0433963  -0.08703883 -0.08703883\n  -0.10680283 -0.0433963  -0.13118084 -0.0433963  -0.0433963  -0.0433963\n  -0.0433963  -0.07530656 -0.43911856 -0.0433963  -0.06142951 -0.0433963\n  -0.0433963  -0.89632016 -0.0433963  -0.0433963   1.42222617 -0.0433963\n  -0.0433963  -0.0433963  -0.0433963  -0.0433963  -0.0433963  -0.0433963\n  -0.0433963  -0.0433963 ]\n [-0.09396955 -0.145009   -0.0433963  -0.0433963  -0.0433963  -0.06142951\n  -0.07530656 -0.0433963  -0.06142951 -0.06142951 -0.0433963  -0.0433963\n  -0.19245009 -0.06142951 -0.09740465 -0.0433963  -0.11547005 -0.07530656\n  -0.0433963  -0.0433963  -0.15191091 -0.0433963  -0.13118084 -0.0433963\n  -0.0433963  -0.08703883 -0.0433963  -0.0433963  -0.0433963  -0.0433963\n  -0.06142951 -0.0433963  -0.08703883 -0.08703883 -0.08703883 -0.0433963\n  -0.13118084 -0.13840913 -0.13840913 -0.0433963  -0.06142951 -0.0433963\n  -0.07530656 -0.18168574 -0.0433963  -0.0433963  -0.0433963  -0.07530656\n  -0.15826614 -0.31491833 -0.0433963  -0.08703883 -0.07530656 -0.06142951\n   1.38675049 -0.0433963  -0.0433963  -0.06142951 -0.0433963  -0.0433963\n  -0.0433963  -0.0433963  -0.0433963  -0.0433963  -0.0433963  -0.0433963\n  -0.39879994 -0.0433963  -0.18168574 -0.0433963  -0.08703883 -0.08703883\n  -0.10680283 -0.0433963  -0.13118084 -0.0433963  -0.0433963  -0.0433963\n  -0.0433963  -0.07530656 -0.43911856 -0.0433963  -0.06142951 -0.0433963\n  -0.0433963  -0.89632016 -0.0433963  -0.0433963   1.42222617 -0.0433963\n  -0.0433963  -0.0433963  -0.0433963  -0.0433963  -0.0433963  -0.0433963\n  -0.0433963  -0.0433963 ]\n [ 0.52494561  4.48942416 -0.0433963  -0.0433963  -0.0433963  -0.06142951\n  -0.07530656 -0.0433963  -0.06142951 -0.06142951 -0.0433963  -0.0433963\n  -0.19245009 -0.06142951 -0.09740465 -0.0433963  -0.11547005 -0.07530656\n  -0.0433963  -0.0433963  -0.15191091 -0.0433963  -0.13118084 -0.0433963\n  -0.0433963  -0.08703883 -0.0433963  -0.0433963  -0.0433963  -0.0433963\n  -0.06142951 -0.0433963  -0.08703883 -0.08703883 -0.08703883 -0.0433963\n  -0.13118084 -0.13840913 -0.13840913 -0.0433963  -0.06142951 -0.0433963\n  -0.07530656 -0.18168574 -0.0433963  -0.0433963  -0.0433963  -0.07530656\n  -0.15826614 -0.31491833 -0.0433963  -0.08703883 -0.07530656 -0.06142951\n  -0.72111026 -0.0433963  -0.0433963  -0.06142951 -0.0433963  -0.0433963\n  -0.0433963  -0.0433963  -0.0433963  -0.0433963  -0.0433963  -0.0433963\n  -0.39879994 -0.0433963   5.50400923 -0.0433963  -0.08703883 -0.08703883\n  -0.10680283 -0.0433963  -0.13118084 -0.0433963  -0.0433963  -0.0433963\n  -0.0433963  -0.07530656 -0.43911856 -0.0433963  -0.06142951 -0.0433963\n  -0.0433963  -0.89632016 -0.0433963  -0.0433963   1.42222617 -0.0433963\n  -0.0433963  -0.0433963  -0.0433963  -0.0433963  -0.0433963  -0.0433963\n  -0.0433963  -0.0433963 ]\n [-0.11671506 -0.15255998 -0.0433963  -0.0433963  -0.0433963  -0.06142951\n  -0.07530656 -0.0433963  -0.06142951 -0.06142951 -0.0433963  -0.0433963\n  -0.19245009 -0.06142951 -0.09740465 -0.0433963  -0.11547005 -0.07530656\n  -0.0433963  -0.0433963  -0.15191091 -0.0433963  -0.13118084 -0.0433963\n  -0.0433963  -0.08703883 -0.0433963  -0.0433963  -0.0433963  -0.0433963\n  -0.06142951 -0.0433963  -0.08703883 -0.08703883 -0.08703883 -0.0433963\n  -0.13118084 -0.13840913 -0.13840913 -0.0433963  -0.06142951 -0.0433963\n  -0.07530656 -0.18168574 -0.0433963  -0.0433963  -0.0433963  -0.07530656\n  -0.15826614  3.17542648 -0.0433963  -0.08703883 -0.07530656 -0.06142951\n  -0.72111026 -0.0433963  -0.0433963  -0.06142951 -0.0433963  -0.0433963\n  -0.0433963  -0.0433963  -0.0433963  -0.0433963  -0.0433963  -0.0433963\n  -0.39879994 -0.0433963  -0.18168574 -0.0433963  -0.08703883 -0.08703883\n  -0.10680283 -0.0433963  -0.13118084 -0.0433963  -0.0433963  -0.0433963\n  -0.0433963  -0.07530656 -0.43911856 -0.0433963  -0.06142951 -0.0433963\n  -0.0433963   1.11567277 -0.0433963  -0.0433963  -0.70312305 -0.0433963\n  -0.0433963  -0.0433963  -0.0433963  -0.0433963  -0.0433963  -0.0433963\n  -0.0433963  -0.0433963 ]\n [-0.11474682 -0.1528703  -0.0433963  -0.0433963  -0.0433963  -0.06142951\n  -0.07530656 -0.0433963  -0.06142951 -0.06142951 -0.0433963  -0.0433963\n  -0.19245009 -0.06142951 -0.09740465 -0.0433963  -0.11547005 -0.07530656\n  -0.0433963  -0.0433963  -0.15191091 -0.0433963   7.62306442 -0.0433963\n  -0.0433963  -0.08703883 -0.0433963  -0.0433963  -0.0433963  -0.0433963\n  -0.06142951 -0.0433963  -0.08703883 -0.08703883 -0.08703883 -0.0433963\n  -0.13118084 -0.13840913 -0.13840913 -0.0433963  -0.06142951 -0.0433963\n  -0.07530656 -0.18168574 -0.0433963  -0.0433963  -0.0433963  -0.07530656\n  -0.15826614 -0.31491833 -0.0433963  -0.08703883 -0.07530656 -0.06142951\n  -0.72111026 -0.0433963  -0.0433963  -0.06142951 -0.0433963  -0.0433963\n  -0.0433963  -0.0433963  -0.0433963  -0.0433963  -0.0433963  -0.0433963\n  -0.39879994 -0.0433963  -0.18168574 -0.0433963  -0.08703883 -0.08703883\n  -0.10680283 -0.0433963  -0.13118084 -0.0433963  -0.0433963  -0.0433963\n  -0.0433963  -0.07530656 -0.43911856 -0.0433963  -0.06142951 -0.0433963\n  -0.0433963   1.11567277 -0.0433963  -0.0433963  -0.70312305 -0.0433963\n  -0.0433963  -0.0433963  -0.0433963  -0.0433963  -0.0433963  -0.0433963\n  -0.0433963  -0.0433963 ]]\n"
     ]
    }
   ],
   "source": [
    "# Standardize data\n",
    "scaler = StandardScaler()\n",
    "crypto_data_scaled = scaler.fit_transform(crypto_df_dummies)\n",
    "print(crypto_data_scaled[0:5])"
   ]
  },
  {
   "cell_type": "markdown",
   "metadata": {},
   "source": [
    "### Reducing Dimensions Using PCA"
   ]
  },
  {
   "cell_type": "code",
   "execution_count": 18,
   "metadata": {},
   "outputs": [],
   "source": [
    "# Use PCA to reduce dimensions to 3 principal components\n",
    "pca = PCA(n_components=3)\n",
    "crypto_pca = pca.fit_transform(crypto_data_scaled)"
   ]
  },
  {
   "cell_type": "code",
   "execution_count": 19,
   "metadata": {},
   "outputs": [
    {
     "output_type": "execute_result",
     "data": {
      "text/plain": [
       "               PCA 1     PCA 2     PCA 3\n",
       "Unnamed: 0                              \n",
       "42         -0.326692  0.985948 -0.557201\n",
       "404        -0.310054  0.986169 -0.557675\n",
       "1337        2.285855  1.762240 -0.707646\n",
       "BTC        -0.154812 -1.269240  0.197157\n",
       "ETH        -0.147787 -2.041144  0.333499"
      ],
      "text/html": "<div>\n<style scoped>\n    .dataframe tbody tr th:only-of-type {\n        vertical-align: middle;\n    }\n\n    .dataframe tbody tr th {\n        vertical-align: top;\n    }\n\n    .dataframe thead th {\n        text-align: right;\n    }\n</style>\n<table border=\"1\" class=\"dataframe\">\n  <thead>\n    <tr style=\"text-align: right;\">\n      <th></th>\n      <th>PCA 1</th>\n      <th>PCA 2</th>\n      <th>PCA 3</th>\n    </tr>\n    <tr>\n      <th>Unnamed: 0</th>\n      <th></th>\n      <th></th>\n      <th></th>\n    </tr>\n  </thead>\n  <tbody>\n    <tr>\n      <th>42</th>\n      <td>-0.326692</td>\n      <td>0.985948</td>\n      <td>-0.557201</td>\n    </tr>\n    <tr>\n      <th>404</th>\n      <td>-0.310054</td>\n      <td>0.986169</td>\n      <td>-0.557675</td>\n    </tr>\n    <tr>\n      <th>1337</th>\n      <td>2.285855</td>\n      <td>1.762240</td>\n      <td>-0.707646</td>\n    </tr>\n    <tr>\n      <th>BTC</th>\n      <td>-0.154812</td>\n      <td>-1.269240</td>\n      <td>0.197157</td>\n    </tr>\n    <tr>\n      <th>ETH</th>\n      <td>-0.147787</td>\n      <td>-2.041144</td>\n      <td>0.333499</td>\n    </tr>\n  </tbody>\n</table>\n</div>"
     },
     "metadata": {},
     "execution_count": 19
    }
   ],
   "source": [
    "# Create a DataFrame with the principal components data\n",
    "pca_df = pd.DataFrame(crypto_pca, columns=[\"PCA 1\", \"PCA 2\", \"PCA 3\"], index=crypto_df.index)\n",
    "pca_df.head()"
   ]
  },
  {
   "cell_type": "markdown",
   "metadata": {},
   "source": [
    "### Clustering Crytocurrencies Using K-Means\n",
    "\n",
    "#### Find the Best Value for `k` Using the Elbow Curve"
   ]
  },
  {
   "cell_type": "code",
   "execution_count": 20,
   "metadata": {},
   "outputs": [
    {
     "output_type": "execute_result",
     "data": {
      "text/html": "<div id='1001'>\n\n\n\n\n\n  <div class=\"bk-root\" id=\"6fada341-e21f-432c-9a28-c6230901fb22\" data-root-id=\"1001\"></div>\n</div>\n<script type=\"application/javascript\">(function(root) {\n  function embed_document(root) {\n  var docs_json = {\"4c5345fd-3ac7-463c-a821-f9df9c87edba\":{\"roots\":{\"references\":[{\"attributes\":{\"axis_label\":\"k\",\"bounds\":\"auto\",\"formatter\":{\"id\":\"1045\"},\"major_label_orientation\":\"horizontal\",\"ticker\":{\"id\":\"1044\"}},\"id\":\"1015\",\"type\":\"LinearAxis\"},{\"attributes\":{\"axis_label\":\"inertia\",\"bounds\":\"auto\",\"formatter\":{\"id\":\"1049\"},\"major_label_orientation\":\"horizontal\",\"ticker\":{\"id\":\"1020\"}},\"id\":\"1019\",\"type\":\"LinearAxis\"},{\"attributes\":{\"source\":{\"id\":\"1036\"}},\"id\":\"1043\",\"type\":\"CDSView\"},{\"attributes\":{},\"id\":\"1037\",\"type\":\"Selection\"},{\"attributes\":{\"end\":10.0,\"reset_end\":10.0,\"reset_start\":1.0,\"start\":1.0,\"tags\":[[[\"k\",\"k\",null]]]},\"id\":\"1003\",\"type\":\"Range1d\"},{\"attributes\":{},\"id\":\"1011\",\"type\":\"LinearScale\"},{\"attributes\":{\"callback\":null,\"renderers\":[{\"id\":\"1042\"}],\"tags\":[\"hv_created\"],\"tooltips\":[[\"k\",\"@{k}\"],[\"inertia\",\"@{inertia}\"]]},\"id\":\"1005\",\"type\":\"HoverTool\"},{\"attributes\":{\"bottom_units\":\"screen\",\"fill_alpha\":0.5,\"fill_color\":\"lightgrey\",\"left_units\":\"screen\",\"level\":\"overlay\",\"line_alpha\":1.0,\"line_color\":\"black\",\"line_dash\":[4,4],\"line_width\":2,\"right_units\":\"screen\",\"top_units\":\"screen\"},\"id\":\"1028\",\"type\":\"BoxAnnotation\"},{\"attributes\":{\"line_alpha\":0.2,\"line_color\":\"#1f77b3\",\"line_width\":2,\"x\":{\"field\":\"k\"},\"y\":{\"field\":\"inertia\"}},\"id\":\"1041\",\"type\":\"Line\"},{\"attributes\":{},\"id\":\"1020\",\"type\":\"BasicTicker\"},{\"attributes\":{\"end\":3995.1411298593175,\"reset_end\":3995.1411298593175,\"reset_start\":-258.5111474594191,\"start\":-258.5111474594191,\"tags\":[[[\"inertia\",\"inertia\",null]]]},\"id\":\"1004\",\"type\":\"Range1d\"},{\"attributes\":{\"line_color\":\"#1f77b3\",\"line_width\":2,\"x\":{\"field\":\"k\"},\"y\":{\"field\":\"inertia\"}},\"id\":\"1039\",\"type\":\"Line\"},{\"attributes\":{},\"id\":\"1013\",\"type\":\"LinearScale\"},{\"attributes\":{},\"id\":\"1049\",\"type\":\"BasicTickFormatter\"},{\"attributes\":{\"overlay\":{\"id\":\"1028\"}},\"id\":\"1026\",\"type\":\"BoxZoomTool\"},{\"attributes\":{\"axis\":{\"id\":\"1019\"},\"dimension\":1,\"grid_line_color\":null,\"ticker\":null},\"id\":\"1022\",\"type\":\"Grid\"},{\"attributes\":{\"margin\":[5,5,5,5],\"name\":\"HSpacer01525\",\"sizing_mode\":\"stretch_width\"},\"id\":\"1002\",\"type\":\"Spacer\"},{\"attributes\":{},\"id\":\"1023\",\"type\":\"SaveTool\"},{\"attributes\":{\"data_source\":{\"id\":\"1036\"},\"glyph\":{\"id\":\"1039\"},\"hover_glyph\":null,\"muted_glyph\":{\"id\":\"1041\"},\"nonselection_glyph\":{\"id\":\"1040\"},\"selection_glyph\":null,\"view\":{\"id\":\"1043\"}},\"id\":\"1042\",\"type\":\"GlyphRenderer\"},{\"attributes\":{},\"id\":\"1045\",\"type\":\"BasicTickFormatter\"},{\"attributes\":{\"align\":null,\"below\":[{\"id\":\"1015\"}],\"center\":[{\"id\":\"1018\"},{\"id\":\"1022\"}],\"left\":[{\"id\":\"1019\"}],\"margin\":null,\"min_border_bottom\":10,\"min_border_left\":10,\"min_border_right\":10,\"min_border_top\":10,\"plot_height\":300,\"plot_width\":700,\"renderers\":[{\"id\":\"1042\"}],\"sizing_mode\":\"fixed\",\"title\":{\"id\":\"1007\"},\"toolbar\":{\"id\":\"1029\"},\"x_range\":{\"id\":\"1003\"},\"x_scale\":{\"id\":\"1011\"},\"y_range\":{\"id\":\"1004\"},\"y_scale\":{\"id\":\"1013\"}},\"id\":\"1006\",\"subtype\":\"Figure\",\"type\":\"Plot\"},{\"attributes\":{\"data\":{\"inertia\":{\"__ndarray__\":\"M1s7GFdxrEAJyr5AXVejQD+8CCcFM5dA9BU37LIlgEA5gs53K1l1QJiaQVGO829Au2wNobR6aEC+gyrrByxjQKHmW2Lh8F1ARcFHmm79V0A=\",\"dtype\":\"float64\",\"order\":\"little\",\"shape\":[10]},\"k\":[1,2,3,4,5,6,7,8,9,10]},\"selected\":{\"id\":\"1037\"},\"selection_policy\":{\"id\":\"1055\"}},\"id\":\"1036\",\"type\":\"ColumnDataSource\"},{\"attributes\":{\"text\":\"Elbow Curve\",\"text_color\":{\"value\":\"black\"},\"text_font_size\":{\"value\":\"12pt\"}},\"id\":\"1007\",\"type\":\"Title\"},{\"attributes\":{},\"id\":\"1024\",\"type\":\"PanTool\"},{\"attributes\":{\"active_drag\":\"auto\",\"active_inspect\":\"auto\",\"active_multi\":null,\"active_scroll\":\"auto\",\"active_tap\":\"auto\",\"tools\":[{\"id\":\"1005\"},{\"id\":\"1023\"},{\"id\":\"1024\"},{\"id\":\"1025\"},{\"id\":\"1026\"},{\"id\":\"1027\"}]},\"id\":\"1029\",\"type\":\"Toolbar\"},{\"attributes\":{},\"id\":\"1055\",\"type\":\"UnionRenderers\"},{\"attributes\":{\"children\":[{\"id\":\"1002\"},{\"id\":\"1006\"},{\"id\":\"1065\"}],\"margin\":[0,0,0,0],\"name\":\"Row01521\",\"tags\":[\"embedded\"]},\"id\":\"1001\",\"type\":\"Row\"},{\"attributes\":{},\"id\":\"1027\",\"type\":\"ResetTool\"},{\"attributes\":{\"ticks\":[1,2,3,4,5,6,7,8,9,10]},\"id\":\"1044\",\"type\":\"FixedTicker\"},{\"attributes\":{\"line_alpha\":0.1,\"line_color\":\"#1f77b3\",\"line_width\":2,\"x\":{\"field\":\"k\"},\"y\":{\"field\":\"inertia\"}},\"id\":\"1040\",\"type\":\"Line\"},{\"attributes\":{},\"id\":\"1025\",\"type\":\"WheelZoomTool\"},{\"attributes\":{\"axis\":{\"id\":\"1015\"},\"grid_line_color\":null,\"ticker\":null},\"id\":\"1018\",\"type\":\"Grid\"},{\"attributes\":{\"margin\":[5,5,5,5],\"name\":\"HSpacer01526\",\"sizing_mode\":\"stretch_width\"},\"id\":\"1065\",\"type\":\"Spacer\"}],\"root_ids\":[\"1001\"]},\"title\":\"Bokeh Application\",\"version\":\"2.1.1\"}};\n  var render_items = [{\"docid\":\"4c5345fd-3ac7-463c-a821-f9df9c87edba\",\"root_ids\":[\"1001\"],\"roots\":{\"1001\":\"6fada341-e21f-432c-9a28-c6230901fb22\"}}];\n  root.Bokeh.embed.embed_items_notebook(docs_json, render_items);\n  }\nif (root.Bokeh !== undefined) {\n    embed_document(root);\n  } else {\n    var attempts = 0;\n    var timer = setInterval(function(root) {\n      if (root.Bokeh !== undefined) {\n        clearInterval(timer);\n        embed_document(root);\n      } else if (document.readyState == \"complete\") {\n        attempts++;\n        if (attempts > 100) {\n          clearInterval(timer);\n          console.log(\"Bokeh: ERROR: Unable to run BokehJS code because BokehJS library is missing\");\n        }\n      }\n    }, 10, root)\n  }\n})(window);</script>",
      "application/vnd.holoviews_exec.v0+json": "",
      "text/plain": [
       ":Curve   [k]   (inertia)"
      ]
     },
     "metadata": {
      "application/vnd.holoviews_exec.v0+json": {
       "id": "1001"
      }
     },
     "execution_count": 20
    }
   ],
   "source": [
    "inertia = []\n",
    "k = list(range(1, 11))\n",
    "\n",
    "# Calculate the inertia for the range of k values\n",
    "for i in k:\n",
    "    km = KMeans(n_clusters=i, random_state=0)\n",
    "    km.fit(crypto_pca)\n",
    "    inertia.append(km.inertia_)\n",
    "\n",
    "# Create the Elbow Curve using hvPlot\n",
    "elbow_data = {\"k\": k, \"inertia\": inertia}\n",
    "df_elbow = pd.DataFrame(elbow_data)\n",
    "df_elbow.hvplot.line(x=\"k\", y=\"inertia\", xticks=k, title=\"Elbow Curve\")"
   ]
  },
  {
   "cell_type": "markdown",
   "metadata": {},
   "source": [
    "Running K-Means with `k=<your best value for k here>`"
   ]
  },
  {
   "cell_type": "code",
   "execution_count": 21,
   "metadata": {},
   "outputs": [
    {
     "output_type": "execute_result",
     "data": {
      "text/plain": [
       "           Algorithm ProofType  TotalCoinsMined TotalCoinSupply  Class\n",
       "Unnamed: 0                                                            \n",
       "42            Scrypt   PoW/PoS     4.199995e+01              42      1\n",
       "404           Scrypt   PoW/PoS     1.055185e+09       532000000      1\n",
       "1337             X13   PoW/PoS     2.927942e+10    314159265359      4\n",
       "BTC          SHA-256       PoW     1.792718e+07        21000000      0\n",
       "ETH           Ethash       PoW     1.076842e+08               0      0"
      ],
      "text/html": "<div>\n<style scoped>\n    .dataframe tbody tr th:only-of-type {\n        vertical-align: middle;\n    }\n\n    .dataframe tbody tr th {\n        vertical-align: top;\n    }\n\n    .dataframe thead th {\n        text-align: right;\n    }\n</style>\n<table border=\"1\" class=\"dataframe\">\n  <thead>\n    <tr style=\"text-align: right;\">\n      <th></th>\n      <th>Algorithm</th>\n      <th>ProofType</th>\n      <th>TotalCoinsMined</th>\n      <th>TotalCoinSupply</th>\n      <th>Class</th>\n    </tr>\n    <tr>\n      <th>Unnamed: 0</th>\n      <th></th>\n      <th></th>\n      <th></th>\n      <th></th>\n      <th></th>\n    </tr>\n  </thead>\n  <tbody>\n    <tr>\n      <th>42</th>\n      <td>Scrypt</td>\n      <td>PoW/PoS</td>\n      <td>4.199995e+01</td>\n      <td>42</td>\n      <td>1</td>\n    </tr>\n    <tr>\n      <th>404</th>\n      <td>Scrypt</td>\n      <td>PoW/PoS</td>\n      <td>1.055185e+09</td>\n      <td>532000000</td>\n      <td>1</td>\n    </tr>\n    <tr>\n      <th>1337</th>\n      <td>X13</td>\n      <td>PoW/PoS</td>\n      <td>2.927942e+10</td>\n      <td>314159265359</td>\n      <td>4</td>\n    </tr>\n    <tr>\n      <th>BTC</th>\n      <td>SHA-256</td>\n      <td>PoW</td>\n      <td>1.792718e+07</td>\n      <td>21000000</td>\n      <td>0</td>\n    </tr>\n    <tr>\n      <th>ETH</th>\n      <td>Ethash</td>\n      <td>PoW</td>\n      <td>1.076842e+08</td>\n      <td>0</td>\n      <td>0</td>\n    </tr>\n  </tbody>\n</table>\n</div>"
     },
     "metadata": {},
     "execution_count": 21
    }
   ],
   "source": [
    "# Initialize the K-Means model\n",
    "model = KMeans(n_clusters=5, random_state=0)\n",
    "# Fit the model\n",
    "model.fit(pca_df)\n",
    "# Predict clusters\n",
    "predictions = model.predict(pca_df)\n",
    "# Create a new DataFrame including predicted clusters and cryptocurrencies features\n",
    "crypto_df['Class'] = model.labels_\n",
    "crypto_df.head()"
   ]
  },
  {
   "cell_type": "code",
   "execution_count": 22,
   "metadata": {},
   "outputs": [
    {
     "output_type": "execute_result",
     "data": {
      "text/plain": [
       "             CoinName Algorithm ProofType  TotalCoinsMined TotalCoinSupply  \\\n",
       "Unnamed: 0                                                                   \n",
       "42            42 Coin    Scrypt   PoW/PoS     4.199995e+01              42   \n",
       "404           404Coin    Scrypt   PoW/PoS     1.055185e+09       532000000   \n",
       "1337        EliteCoin       X13   PoW/PoS     2.927942e+10    314159265359   \n",
       "BTC           Bitcoin   SHA-256       PoW     1.792718e+07        21000000   \n",
       "ETH          Ethereum    Ethash       PoW     1.076842e+08               0   \n",
       "\n",
       "               PCA 1     PCA 2     PCA 3  Class  \n",
       "Unnamed: 0                                       \n",
       "42         -0.326692  0.985948 -0.557201      1  \n",
       "404        -0.310054  0.986169 -0.557675      1  \n",
       "1337        2.285855  1.762240 -0.707646      4  \n",
       "BTC        -0.154812 -1.269240  0.197157      0  \n",
       "ETH        -0.147787 -2.041144  0.333499      0  "
      ],
      "text/html": "<div>\n<style scoped>\n    .dataframe tbody tr th:only-of-type {\n        vertical-align: middle;\n    }\n\n    .dataframe tbody tr th {\n        vertical-align: top;\n    }\n\n    .dataframe thead th {\n        text-align: right;\n    }\n</style>\n<table border=\"1\" class=\"dataframe\">\n  <thead>\n    <tr style=\"text-align: right;\">\n      <th></th>\n      <th>CoinName</th>\n      <th>Algorithm</th>\n      <th>ProofType</th>\n      <th>TotalCoinsMined</th>\n      <th>TotalCoinSupply</th>\n      <th>PCA 1</th>\n      <th>PCA 2</th>\n      <th>PCA 3</th>\n      <th>Class</th>\n    </tr>\n    <tr>\n      <th>Unnamed: 0</th>\n      <th></th>\n      <th></th>\n      <th></th>\n      <th></th>\n      <th></th>\n      <th></th>\n      <th></th>\n      <th></th>\n      <th></th>\n    </tr>\n  </thead>\n  <tbody>\n    <tr>\n      <th>42</th>\n      <td>42 Coin</td>\n      <td>Scrypt</td>\n      <td>PoW/PoS</td>\n      <td>4.199995e+01</td>\n      <td>42</td>\n      <td>-0.326692</td>\n      <td>0.985948</td>\n      <td>-0.557201</td>\n      <td>1</td>\n    </tr>\n    <tr>\n      <th>404</th>\n      <td>404Coin</td>\n      <td>Scrypt</td>\n      <td>PoW/PoS</td>\n      <td>1.055185e+09</td>\n      <td>532000000</td>\n      <td>-0.310054</td>\n      <td>0.986169</td>\n      <td>-0.557675</td>\n      <td>1</td>\n    </tr>\n    <tr>\n      <th>1337</th>\n      <td>EliteCoin</td>\n      <td>X13</td>\n      <td>PoW/PoS</td>\n      <td>2.927942e+10</td>\n      <td>314159265359</td>\n      <td>2.285855</td>\n      <td>1.762240</td>\n      <td>-0.707646</td>\n      <td>4</td>\n    </tr>\n    <tr>\n      <th>BTC</th>\n      <td>Bitcoin</td>\n      <td>SHA-256</td>\n      <td>PoW</td>\n      <td>1.792718e+07</td>\n      <td>21000000</td>\n      <td>-0.154812</td>\n      <td>-1.269240</td>\n      <td>0.197157</td>\n      <td>0</td>\n    </tr>\n    <tr>\n      <th>ETH</th>\n      <td>Ethereum</td>\n      <td>Ethash</td>\n      <td>PoW</td>\n      <td>1.076842e+08</td>\n      <td>0</td>\n      <td>-0.147787</td>\n      <td>-2.041144</td>\n      <td>0.333499</td>\n      <td>0</td>\n    </tr>\n  </tbody>\n</table>\n</div>"
     },
     "metadata": {},
     "execution_count": 22
    }
   ],
   "source": [
    "crypto_df.head()\n",
    "clustered_df = pd.concat([crypto_df, pca_df, coin_name_df], axis=1, join=\"inner\")\n",
    "clustered_df = clustered_df[['CoinName','Algorithm','ProofType','TotalCoinsMined','TotalCoinSupply','PCA 1', 'PCA 2', 'PCA 3', 'Class']]\n",
    "clustered_df.head()"
   ]
  },
  {
   "cell_type": "markdown",
   "metadata": {},
   "source": [
    "### Visualizing Results\n",
    "\n",
    "#### 3D-Scatter with Clusters"
   ]
  },
  {
   "cell_type": "code",
   "execution_count": 23,
   "metadata": {},
   "outputs": [
    {
     "output_type": "display_data",
     "data": {
      "application/vnd.plotly.v1+json": {
       "config": {
        "plotlyServerURL": "https://plot.ly"
       },
       "data": [
        {
         "customdata": [
          [
           "Scrypt"
          ],
          [
           "Scrypt"
          ],
          [
           "X11"
          ],
          [
           "SHA-512"
          ],
          [
           "SHA-256"
          ],
          [
           "SHA-256"
          ],
          [
           "X15"
          ],
          [
           "Scrypt"
          ],
          [
           "Scrypt"
          ],
          [
           "Scrypt"
          ],
          [
           "Scrypt"
          ],
          [
           "Scrypt"
          ],
          [
           "Scrypt"
          ],
          [
           "Groestl"
          ],
          [
           "PoS"
          ],
          [
           "Scrypt"
          ],
          [
           "Scrypt"
          ],
          [
           "X11"
          ],
          [
           "X11"
          ],
          [
           "SHA3"
          ],
          [
           "Scrypt"
          ],
          [
           "SHA-256"
          ],
          [
           "Scrypt"
          ],
          [
           "X13"
          ],
          [
           "X13"
          ],
          [
           "NeoScrypt"
          ],
          [
           "Scrypt"
          ],
          [
           "Scrypt"
          ],
          [
           "Scrypt"
          ],
          [
           "X11"
          ],
          [
           "X11"
          ],
          [
           "Multiple"
          ],
          [
           "PHI1612"
          ],
          [
           "X11"
          ],
          [
           "Scrypt"
          ],
          [
           "Scrypt"
          ],
          [
           "Scrypt"
          ],
          [
           "X11"
          ],
          [
           "Multiple"
          ],
          [
           "X13"
          ],
          [
           "Scrypt"
          ],
          [
           "Shabal256"
          ],
          [
           "Counterparty"
          ],
          [
           "SHA-256"
          ],
          [
           "Groestl"
          ],
          [
           "Scrypt"
          ],
          [
           "X13"
          ],
          [
           "Scrypt"
          ],
          [
           "Scrypt"
          ],
          [
           "X13"
          ],
          [
           "X11"
          ],
          [
           "Scrypt"
          ],
          [
           "X11"
          ],
          [
           "SHA3"
          ],
          [
           "QUAIT"
          ],
          [
           "X11"
          ],
          [
           "Scrypt"
          ],
          [
           "X13"
          ],
          [
           "SHA-256"
          ],
          [
           "X15"
          ],
          [
           "BLAKE256"
          ],
          [
           "SHA-256"
          ],
          [
           "X11"
          ],
          [
           "SHA-256"
          ],
          [
           "NIST5"
          ],
          [
           "Scrypt"
          ],
          [
           "Scrypt"
          ],
          [
           "X11"
          ],
          [
           "Scrypt"
          ],
          [
           "SHA-256"
          ],
          [
           "Scrypt"
          ],
          [
           "PoS"
          ],
          [
           "X11"
          ],
          [
           "SHA-256"
          ],
          [
           "SHA-256"
          ],
          [
           "NIST5"
          ],
          [
           "X11"
          ],
          [
           "POS 3.0"
          ],
          [
           "Scrypt"
          ],
          [
           "Scrypt"
          ],
          [
           "Scrypt"
          ],
          [
           "X13"
          ],
          [
           "X11"
          ],
          [
           "X11"
          ],
          [
           "Scrypt"
          ],
          [
           "SHA-256"
          ],
          [
           "X11"
          ],
          [
           "Scrypt"
          ],
          [
           "Scrypt"
          ],
          [
           "Scrypt"
          ],
          [
           "Scrypt"
          ],
          [
           "SHA-256D"
          ],
          [
           "PoS"
          ],
          [
           "Scrypt"
          ],
          [
           "X11"
          ],
          [
           "PoS"
          ],
          [
           "X13"
          ],
          [
           "X14"
          ],
          [
           "PoS"
          ],
          [
           "SHA-256D"
          ],
          [
           "X11"
          ],
          [
           "X13"
          ],
          [
           "X11"
          ],
          [
           "PoS"
          ],
          [
           "Scrypt"
          ],
          [
           "Scrypt"
          ],
          [
           "PoS"
          ],
          [
           "X11"
          ],
          [
           "SHA-256"
          ],
          [
           "Scrypt"
          ],
          [
           "X11"
          ],
          [
           "Scrypt"
          ],
          [
           "Scrypt"
          ],
          [
           "X11"
          ],
          [
           "Scrypt"
          ],
          [
           "Scrypt"
          ],
          [
           "Scrypt"
          ],
          [
           "Scrypt"
          ],
          [
           "Quark"
          ],
          [
           "QuBit"
          ],
          [
           "Scrypt"
          ],
          [
           "SHA-256"
          ],
          [
           "X11"
          ],
          [
           "Scrypt"
          ],
          [
           "Scrypt"
          ],
          [
           "Scrypt"
          ],
          [
           "Scrypt"
          ],
          [
           "X13"
          ],
          [
           "Scrypt"
          ],
          [
           "Scrypt"
          ],
          [
           "X11"
          ],
          [
           "Blake2S"
          ],
          [
           "X11"
          ],
          [
           "PoS"
          ],
          [
           "X11"
          ],
          [
           "PoS"
          ],
          [
           "X11"
          ],
          [
           "Scrypt"
          ],
          [
           "Scrypt"
          ],
          [
           "Scrypt"
          ],
          [
           "SHA-256"
          ],
          [
           "X11"
          ],
          [
           "Scrypt"
          ],
          [
           "PoS"
          ],
          [
           "Scrypt"
          ],
          [
           "X15"
          ],
          [
           "SHA-256"
          ],
          [
           "POS 3.0"
          ],
          [
           "536"
          ],
          [
           "NIST5"
          ],
          [
           "NIST5"
          ],
          [
           "Skein"
          ],
          [
           "X13"
          ],
          [
           "Scrypt"
          ],
          [
           "X13"
          ],
          [
           "SkunkHash v2 Raptor"
          ],
          [
           "Skein"
          ],
          [
           "X11"
          ],
          [
           "Scrypt"
          ],
          [
           "PoS"
          ],
          [
           "Scrypt"
          ],
          [
           "Scrypt"
          ],
          [
           "SHA-512"
          ],
          [
           "Ouroboros"
          ],
          [
           "X11"
          ],
          [
           "NeoScrypt"
          ],
          [
           "Scrypt"
          ],
          [
           "Lyra2REv2"
          ],
          [
           "Scrypt"
          ],
          [
           "SHA-256"
          ],
          [
           "NIST5"
          ],
          [
           "PHI1612"
          ],
          [
           "Scrypt"
          ],
          [
           "Quark"
          ],
          [
           "POS 2.0"
          ],
          [
           "Scrypt"
          ],
          [
           "SHA-256"
          ],
          [
           "X11"
          ],
          [
           "NIST5"
          ],
          [
           "X13"
          ],
          [
           "Scrypt"
          ],
          [
           "NIST5"
          ],
          [
           "Quark"
          ],
          [
           "Scrypt"
          ],
          [
           "Scrypt"
          ],
          [
           "X11"
          ],
          [
           "Quark"
          ],
          [
           "Scrypt"
          ],
          [
           "Scrypt"
          ],
          [
           "X11"
          ],
          [
           "POS 3.0"
          ],
          [
           "Ethash"
          ],
          [
           "Scrypt"
          ],
          [
           "Scrypt"
          ],
          [
           "X13"
          ],
          [
           "C11"
          ],
          [
           "X11"
          ],
          [
           "XEVAN"
          ],
          [
           "Scrypt"
          ],
          [
           "VBFT"
          ],
          [
           "NIST5"
          ],
          [
           "Scrypt"
          ],
          [
           "Scrypt"
          ],
          [
           "Scrypt"
          ],
          [
           "Green Protocol"
          ],
          [
           "PoS"
          ],
          [
           "Scrypt"
          ],
          [
           "Quark"
          ],
          [
           "PoS"
          ],
          [
           "X16R"
          ],
          [
           "Scrypt"
          ],
          [
           "XEVAN"
          ],
          [
           "Scrypt"
          ],
          [
           "Scrypt"
          ],
          [
           "Scrypt"
          ],
          [
           "SHA-256D"
          ],
          [
           "Scrypt"
          ],
          [
           "X15"
          ],
          [
           "Quark"
          ],
          [
           "SHA-256"
          ],
          [
           "DPoS"
          ],
          [
           "X16R"
          ],
          [
           "Quark"
          ],
          [
           "Quark"
          ],
          [
           "Scrypt"
          ],
          [
           "Lyra2REv2"
          ],
          [
           "Quark"
          ],
          [
           "Scrypt"
          ],
          [
           "X11"
          ],
          [
           "X11"
          ],
          [
           "Scrypt"
          ],
          [
           "PoS"
          ],
          [
           "Keccak"
          ],
          [
           "X11"
          ],
          [
           "Scrypt"
          ],
          [
           "SHA-512"
          ],
          [
           "XEVAN"
          ],
          [
           "XEVAN"
          ],
          [
           "X11"
          ],
          [
           "Quark"
          ],
          [
           "Equihash"
          ],
          [
           "Scrypt"
          ],
          [
           "Quark"
          ],
          [
           "Quark"
          ],
          [
           "Scrypt"
          ],
          [
           "X11"
          ],
          [
           "Scrypt"
          ],
          [
           "XEVAN"
          ],
          [
           "SHA-256D"
          ],
          [
           "X11"
          ],
          [
           "X11"
          ],
          [
           "Scrypt"
          ],
          [
           "X11"
          ],
          [
           "Scrypt"
          ],
          [
           "Scrypt"
          ],
          [
           "SHA-256"
          ],
          [
           "Scrypt"
          ],
          [
           "X11"
          ],
          [
           "Scrypt"
          ],
          [
           "SHA-256"
          ],
          [
           "X11"
          ],
          [
           "Scrypt"
          ],
          [
           "Scrypt"
          ],
          [
           "X11"
          ],
          [
           "Scrypt"
          ],
          [
           "PoS"
          ],
          [
           "X11"
          ],
          [
           "SHA-256"
          ],
          [
           "Scrypt"
          ],
          [
           "Scrypt"
          ],
          [
           "NeoScrypt"
          ],
          [
           "X13"
          ],
          [
           "SHA-256"
          ],
          [
           "PoS"
          ],
          [
           "PoS"
          ],
          [
           "Scrypt"
          ],
          [
           "Scrypt"
          ]
         ],
         "hovertemplate": "<b>%{hovertext}</b><br><br>Class=%{marker.color}<br>PCA 3=%{x}<br>PCA 2=%{y}<br>PCA 1=%{z}<br>Algorithm=%{customdata[0]}<extra></extra>",
         "hovertext": [
          "42 Coin",
          "404Coin",
          "Dash",
          "Bitshares",
          "BitcoinDark",
          "PayCoin",
          "KoboCoin",
          "Aurora Coin",
          "BlueCoin",
          "EnergyCoin",
          "BitBar",
          "CryptoBullion",
          "CasinoCoin",
          "Diamond",
          "Exclusive Coin",
          "FlutterCoin",
          "HoboNickels",
          "HyperStake",
          "IOCoin",
          "MaxCoin",
          "MintCoin",
          "MazaCoin",
          "Nautilus Coin",
          "NavCoin",
          "OpalCoin",
          "Orbitcoin",
          "PotCoin",
          "PhoenixCoin",
          "Reddcoin",
          "SuperCoin",
          "SyncCoin",
          "TeslaCoin",
          "TittieCoin",
          "TorCoin",
          "UnitaryStatus Dollar",
          "UltraCoin",
          "VeriCoin",
          "X11 Coin",
          "Crypti",
          "StealthCoin",
          "ZCC Coin",
          "BurstCoin",
          "StorjCoin",
          "Neutron",
          "FairCoin",
          "RubyCoin",
          "Kore",
          "Dnotes",
          "8BIT Coin",
          "Sativa Coin",
          "Ucoin",
          "Vtorrent",
          "IslaCoin",
          "Nexus",
          "Droidz",
          "Squall Coin",
          "Diggits",
          "Paycon",
          "Emercoin",
          "EverGreenCoin",
          "Decred",
          "EDRCoin",
          "Hitcoin",
          "DubaiCoin",
          "PWR Coin",
          "BillaryCoin",
          "GPU Coin",
          "EuropeCoin",
          "ZeitCoin",
          "SwingCoin",
          "SafeExchangeCoin",
          "Nebuchadnezzar",
          "Ratecoin",
          "Revenu",
          "Clockcoin",
          "VIP Tokens",
          "BitSend",
          "Let it Ride",
          "PutinCoin",
          "iBankCoin",
          "Frankywillcoin",
          "MudraCoin",
          "Lutetium Coin",
          "GoldBlocks",
          "CarterCoin",
          "BitTokens",
          "MustangCoin",
          "ZoneCoin",
          "RootCoin",
          "BitCurrency",
          "Swiscoin",
          "BuzzCoin",
          "Opair",
          "PesoBit",
          "Halloween Coin",
          "CoffeeCoin",
          "RoyalCoin",
          "GanjaCoin V2",
          "TeamUP",
          "LanaCoin",
          "InsaneCoin",
          "EmberCoin",
          "XenixCoin",
          "FreeCoin",
          "PLNCoin",
          "AquariusCoin",
          "Creatio",
          "Eternity",
          "Eurocoin",
          "BitcoinFast",
          "Stakenet",
          "BitConnect Coin",
          "MoneyCoin",
          "Enigma",
          "Russiacoin",
          "PandaCoin",
          "GameUnits",
          "GAKHcoin",
          "Allsafe",
          "LiteCreed",
          "Klingon Empire Darsek",
          "Internet of People",
          "KushCoin",
          "Printerium",
          "Impeach",
          "Zilbercoin",
          "FirstCoin",
          "FindCoin",
          "OpenChat",
          "RenosCoin",
          "VirtacoinPlus",
          "TajCoin",
          "Impact",
          "Atmos",
          "HappyCoin",
          "MacronCoin",
          "Condensate",
          "Independent Money System",
          "ArgusCoin",
          "LomoCoin",
          "ProCurrency",
          "GoldReserve",
          "GrowthCoin",
          "Phreak",
          "Degas Coin",
          "HTML5 Coin",
          "Ultimate Secure Cash",
          "QTUM",
          "Espers",
          "Denarius",
          "Virta Unique Coin",
          "Bitcoin Planet",
          "BritCoin",
          "Linda",
          "DeepOnion",
          "Signatum",
          "Cream",
          "Monoeci",
          "Draftcoin",
          "Stakecoin",
          "CoinonatX",
          "Ethereum Dark",
          "Obsidian",
          "Cardano",
          "Regalcoin",
          "TrezarCoin",
          "TerraNovaCoin",
          "Rupee",
          "WomenCoin",
          "Theresa May Coin",
          "NamoCoin",
          "LUXCoin",
          "Xios",
          "Bitcloud 2.0",
          "KekCoin",
          "BlackholeCoin",
          "Infinity Economics",
          "Magnet",
          "Electra",
          "Bitcoin Diamond",
          "Cash & Back Coin",
          "Bulwark",
          "Kalkulus",
          "GermanCoin",
          "LiteCoin Ultra",
          "PhantomX",
          "Digiwage",
          "Trollcoin",
          "Litecoin Plus",
          "Monkey Project",
          "TokenPay",
          "1717 Masonic Commemorative Token",
          "My Big Coin",
          "Unified Society USDEX",
          "Tokyo Coin",
          "Stipend",
          "Pushi",
          "Ellerium",
          "Velox",
          "Ontology",
          "Bitspace",
          "Briacoin",
          "Ignition",
          "MedicCoin",
          "Bitcoin Green",
          "Deviant Coin",
          "Abjcoin",
          "Carebit",
          "Zealium",
          "Proton",
          "iDealCash",
          "Bitcoin Incognito",
          "HollyWoodCoin",
          "Swisscoin",
          "Xt3ch",
          "TheVig",
          "EmaratCoin",
          "Dekado",
          "Poseidon Quark",
          "BitcoinWSpectrum",
          "Muse",
          "Trivechain",
          "Dystem",
          "Giant",
          "Peony Coin",
          "Absolute Coin",
          "Vitae",
          "TPCash",
          "ARENON",
          "EUNO",
          "MMOCoin",
          "Ketan",
          "XDNA",
          "PAXEX",
          "ThunderStake",
          "Kcash",
          "Bettex coin",
          "BitMoney",
          "Junson Ming Chan Coin",
          "HerbCoin",
          "PirateCash",
          "Oduwa",
          "Galilel",
          "Crypto Sports",
          "Credit",
          "Dash Platinum",
          "Nasdacoin",
          "Beetle Coin",
          "Titan Coin",
          "Award",
          "Insane Coin",
          "LiteDoge",
          "TruckCoin",
          "OrangeCoin",
          "BitstarCoin",
          "NeosCoin",
          "HyperCoin",
          "PinkCoin",
          "AudioCoin",
          "IncaKoin",
          "Piggy Coin",
          "Genstake",
          "XiaoMiCoin",
          "CapriCoin",
          " ClubCoin",
          "Radium",
          "Creditbit ",
          "OKCash",
          "HiCoin",
          "WhiteCoin",
          "FriendshipCoin",
          "Triangles Coin",
          "TigerCash",
          "Particl",
          "Nxt",
          "Gapcoin",
          "BitcoinPlus"
         ],
         "legendgroup": "1",
         "marker": {
          "color": [
           1,
           1,
           1,
           1,
           1,
           1,
           1,
           1,
           1,
           1,
           1,
           1,
           1,
           1,
           1,
           1,
           1,
           1,
           1,
           1,
           1,
           1,
           1,
           1,
           1,
           1,
           1,
           1,
           1,
           1,
           1,
           1,
           1,
           1,
           1,
           1,
           1,
           1,
           1,
           1,
           1,
           1,
           1,
           1,
           1,
           1,
           1,
           1,
           1,
           1,
           1,
           1,
           1,
           1,
           1,
           1,
           1,
           1,
           1,
           1,
           1,
           1,
           1,
           1,
           1,
           1,
           1,
           1,
           1,
           1,
           1,
           1,
           1,
           1,
           1,
           1,
           1,
           1,
           1,
           1,
           1,
           1,
           1,
           1,
           1,
           1,
           1,
           1,
           1,
           1,
           1,
           1,
           1,
           1,
           1,
           1,
           1,
           1,
           1,
           1,
           1,
           1,
           1,
           1,
           1,
           1,
           1,
           1,
           1,
           1,
           1,
           1,
           1,
           1,
           1,
           1,
           1,
           1,
           1,
           1,
           1,
           1,
           1,
           1,
           1,
           1,
           1,
           1,
           1,
           1,
           1,
           1,
           1,
           1,
           1,
           1,
           1,
           1,
           1,
           1,
           1,
           1,
           1,
           1,
           1,
           1,
           1,
           1,
           1,
           1,
           1,
           1,
           1,
           1,
           1,
           1,
           1,
           1,
           1,
           1,
           1,
           1,
           1,
           1,
           1,
           1,
           1,
           1,
           1,
           1,
           1,
           1,
           1,
           1,
           1,
           1,
           1,
           1,
           1,
           1,
           1,
           1,
           1,
           1,
           1,
           1,
           1,
           1,
           1,
           1,
           1,
           1,
           1,
           1,
           1,
           1,
           1,
           1,
           1,
           1,
           1,
           1,
           1,
           1,
           1,
           1,
           1,
           1,
           1,
           1,
           1,
           1,
           1,
           1,
           1,
           1,
           1,
           1,
           1,
           1,
           1,
           1,
           1,
           1,
           1,
           1,
           1,
           1,
           1,
           1,
           1,
           1,
           1,
           1,
           1,
           1,
           1,
           1,
           1,
           1,
           1,
           1,
           1,
           1,
           1,
           1,
           1,
           1,
           1,
           1,
           1,
           1,
           1,
           1,
           1,
           1,
           1,
           1,
           1,
           1,
           1,
           1,
           1,
           1,
           1,
           1,
           1,
           1,
           1,
           1,
           1,
           1,
           1,
           1,
           1,
           1,
           1
          ],
          "coloraxis": "coloraxis",
          "symbol": "circle"
         },
         "mode": "markers",
         "name": "1",
         "scene": "scene",
         "showlegend": true,
         "type": "scatter3d",
         "x": [
          -0.5572013222939073,
          -0.5576745205739378,
          -0.4745057690086094,
          -0.14250618205066695,
          -0.36341352316626857,
          -0.07041835012345182,
          -0.6416754978228151,
          -0.5572102314249923,
          -0.5574536567508397,
          -0.5572501919923242,
          -0.5572013900950157,
          -0.5572018367451514,
          -0.38528790038602984,
          -0.3273512481416451,
          -0.18446707303261992,
          -0.2400852492454353,
          -0.5572489904220012,
          -0.18216804555877555,
          -0.4745091919632887,
          -0.6832085281367427,
          -0.27265893897443455,
          -0.3642979834743393,
          -0.264210937737164,
          -0.6640552862029612,
          -0.6640350609963924,
          -0.31066723117960887,
          -0.5573325171930614,
          -0.557240671384214,
          -0.5688428868022413,
          -0.18152162165284483,
          -0.47449994296000186,
          0.1505750372200766,
          -0.3307319285589443,
          -0.47450152926065237,
          -0.5578006519113373,
          -0.557231453926014,
          -0.13654990007851936,
          -0.4745032626949922,
          0.15057738105880147,
          -0.6640421841383501,
          -0.5573619174388682,
          -0.38651029665222475,
          -0.26813665172970724,
          -0.36343323105638886,
          -0.3273706138003572,
          -0.2642136602005901,
          -0.6640310672843963,
          -0.26432313221665504,
          -0.5572019051702884,
          -0.6640328787245174,
          -0.18150458971605252,
          -0.5572079671769561,
          -0.4745005435008501,
          -0.5937539448951273,
          -0.8512169615714299,
          -0.008004960640936015,
          -0.26425275876191184,
          -0.6640432840401429,
          -0.36352969718561406,
          -0.6416377662921252,
          -0.47002614642937074,
          -0.36341446862245297,
          -0.48157020519567056,
          -0.3634138771325375,
          -0.5962728196941918,
          -0.5572091724935789,
          -0.26424144784010084,
          -0.4745431766040247,
          -0.2889654073633247,
          -0.3634165824117465,
          -0.36640182387340564,
          -0.18447479632333347,
          -0.4745610127618481,
          -0.3634339252174822,
          -0.3634708470600843,
          -0.5923164238408615,
          -0.47452378092780567,
          -0.09595148276357714,
          -0.5577278639487486,
          -0.557207634037116,
          -0.5572512161225778,
          -0.3710529357134959,
          -0.18182928762208303,
          -0.4745112143151195,
          -0.557227628194023,
          -0.36341314596921775,
          -0.47450050902546614,
          -0.5572044859600113,
          -0.5572020926262303,
          -0.2642702145637921,
          -0.440594691239065,
          -0.6862249155885758,
          -0.18450175242721065,
          -0.5572146346426281,
          -0.4747577890839706,
          -0.18452794783888687,
          -0.37103183226915626,
          -0.7250862275488636,
          -0.1845025433314159,
          -0.677607860651388,
          -0.47451028133640993,
          -0.7007264741376259,
          -0.4745018649638417,
          -0.18448976447821833,
          -0.5572120331506133,
          -0.5572065717410116,
          -0.18447479632333347,
          -0.47450846224283466,
          -0.3634177384537585,
          -0.5572127216916074,
          -0.10583567693835796,
          -0.5572085737020904,
          -0.5572719109080558,
          -0.4745007750387399,
          -0.5572193122375944,
          -0.28094135018735045,
          -0.5572040251803059,
          -0.5572029766477392,
          -0.26896716085733147,
          -0.34578765429913194,
          -0.5572617524412888,
          -0.3634139126533594,
          -0.4745031421710019,
          -0.5572080533526502,
          -0.5572036780482372,
          -0.26420962597284986,
          -0.3136821310790895,
          -0.37103783186860284,
          -0.557700260769118,
          -0.2642206864669278,
          -0.47451535212298473,
          -0.7739673640361622,
          -0.47455507595995344,
          -0.1845201813752141,
          -0.47451867141288645,
          -0.18466495740731595,
          -0.47459917043652683,
          -0.5572056142964871,
          -0.5572046905230374,
          -0.5573033472903545,
          -0.07808922632933923,
          -0.47451083441167535,
          -0.2645237196806288,
          -0.1844723955430645,
          -0.5572204958736388,
          -0.6669402830011933,
          -0.07043679504155329,
          -0.09598264094929546,
          -0.5726745979601421,
          -0.5922767950706068,
          -0.5923113345308406,
          -0.7634844284916351,
          -0.6640405428308446,
          -0.5658844962730294,
          -0.6640396700689193,
          0.05144353109707794,
          -0.7635005224259874,
          -0.4745059018879589,
          -0.2642120487125897,
          -0.1844726785080066,
          -0.557213995008926,
          -0.5572034178146461,
          -0.14107007187017231,
          -0.3394908576830292,
          -0.4745055756924841,
          -0.31077882683956837,
          -0.5572033773421511,
          -0.05073924566787556,
          -0.5789908235179593,
          -0.3634575082881358,
          -0.5926189184545665,
          -0.6228613475957601,
          -0.5572043142956268,
          -0.5619924753055396,
          0.06396272243997189,
          -0.5572093258743124,
          -0.07490276026227313,
          -0.4745297745229326,
          -0.6066065584663971,
          -0.6641233093486776,
          -0.5572667761231177,
          -0.2992837457880179,
          -0.26897022659380604,
          -0.5642430612075174,
          -0.5572199396881558,
          -0.47452297293792745,
          -0.2689845169331155,
          -0.5575276683342595,
          -0.5572027241404293,
          -0.18150537355860683,
          -0.09594341205889116,
          0.06596306933450878,
          -0.22041626869947342,
          -0.5573182062904665,
          -0.37120350050486167,
          -0.4093655819958925,
          -0.47450334892253965,
          -0.44183170871233246,
          -0.2642256455534517,
          0.1513801453383605,
          -0.5922846869460743,
          -0.557201963565299,
          -0.5572023008526508,
          -0.2643599252671163,
          0.249903831042002,
          -0.18448246573793042,
          -0.5572083007332049,
          -0.5620357716547258,
          -0.18447736178700838,
          -0.05256141872562184,
          -0.5582804802947064,
          0.024663211006004222,
          -0.26422088334015914,
          -0.5622904949337528,
          -0.2642103752414282,
          -0.6764371933550544,
          -0.557218453053445,
          -0.3486524485527521,
          -0.2690287225876735,
          -0.07044548059062579,
          -0.20422900835173044,
          -0.3455766131336183,
          -0.26896640758516255,
          -0.5619627892956719,
          -0.26592210937598854,
          -0.34373636893689624,
          -0.26899787016216337,
          -0.5573052946493416,
          -0.18151473763978557,
          -0.47451725329829214,
          -0.2642721341211183,
          -0.18448990502650595,
          -0.4109181366593742,
          -0.18151345652260528,
          -0.5594551190993651,
          -0.12734881131263417,
          -0.1488347619480353,
          -0.19678004041447003,
          -0.18833575286029192,
          -0.5619794356097899,
          0.1511759850834229,
          -0.5572093289713598,
          -0.5619691057111417,
          -0.26896358643938456,
          -0.5770592020054837,
          -0.18150377520837488,
          -0.5572180349693412,
          -0.44195534658734176,
          -0.6772788995403434,
          -0.4745488330652664,
          -0.47451243890459754,
          -0.5668485628404051,
          -0.4745962714872853,
          -0.5572230922100709,
          -0.5572150181700591,
          -0.07041619637513934,
          -0.5572051469383886,
          -0.4747241368971674,
          -0.558659960807557,
          -0.3705541989053342,
          -0.47479803776870766,
          -0.5572266763919697,
          -0.5574026117958113,
          -0.4746010864925375,
          -0.5572587640008747,
          -0.18446725145423482,
          -0.10847291449478799,
          -0.36345111770405275,
          -0.26919324673976086,
          -0.5573319446537469,
          -0.3106721399760273,
          -0.6640291103454289,
          -0.07091125229699671,
          -0.18446938318297706,
          -0.40963571221917006,
          -0.5572327081864257,
          -0.2642030176989521
         ],
         "y": [
          0.9859483432205601,
          0.9861693896996926,
          1.2550891703323082,
          1.7093604749273053,
          0.8883300939552579,
          0.6774873206689221,
          1.833621931039125,
          0.9859488769662619,
          0.9862186430623507,
          0.986000692299236,
          0.9859481472229841,
          0.9859483570246587,
          0.45491017604052747,
          0.9830620133847369,
          1.5828727633835074,
          0.0856462869306241,
          0.9859349295544515,
          1.0449573710437716,
          1.255092836989816,
          2.1281264351095204,
          0.7841550654800299,
          0.8879895167514673,
          0.7750969015827912,
          1.884342422526318,
          1.8843207573532534,
          0.5664752901815394,
          0.985863214083139,
          0.9859378387607936,
          0.9984187478820085,
          1.0442649239358726,
          1.2550947494829543,
          0.09224662449394201,
          1.654737798883661,
          1.2550910762912657,
          0.9857306680852321,
          0.9859268904568781,
          0.1059868729743126,
          1.255095350976286,
          0.0922978434707274,
          1.8843283876388943,
          0.9855830753315398,
          1.0309638522013682,
          1.5138921902359925,
          0.8883264893237834,
          0.9830851111734116,
          0.7751085113400994,
          1.884310031739761,
          0.7749571289498872,
          0.9859489676183236,
          1.8843130467420877,
          1.0442359334448383,
          0.9859447152816365,
          1.2550953933175826,
          2.4640631498838084,
          1.930899170375845,
          0.7603242776864593,
          0.7750966638982002,
          1.8843027010055242,
          0.8879290628153058,
          1.8337554372283407,
          0.9273015520847792,
          0.888331106724734,
          1.2484031586728626,
          0.8883366520369578,
          1.5610225065122505,
          0.9859341858811754,
          0.775019506474297,
          1.2549347397484543,
          0.7484301073892683,
          0.8883236996646904,
          0.45501751386146716,
          1.582870290608688,
          1.2551198705193323,
          0.8882440996456195,
          0.8881212387817004,
          1.5567360718975038,
          1.2550456009033633,
          1.5647827581669354,
          0.9854377791095014,
          0.9859312841992386,
          0.9859480596551868,
          1.673379397085046,
          1.0442414906282607,
          1.255079959013378,
          0.9859281653145643,
          0.8883302271999385,
          1.2550937444969998,
          0.9859404489168977,
          0.9859491684204965,
          0.7751690921832253,
          0.20264702980160726,
          1.9617220015862944,
          1.582870151864231,
          0.9859626033861624,
          1.25456500858479,
          1.5829164804499096,
          1.6734629072156397,
          1.9349110017598188,
          1.582749032684293,
          1.959204428733545,
          1.2550897055475154,
          1.9231677730085583,
          1.2550947384837918,
          1.5828702055390418,
          0.9859391092545791,
          0.9859313999637965,
          1.582870290608688,
          1.2550716380339362,
          0.8883356839507789,
          0.9859428234421365,
          0.8170361094616488,
          0.9859410666142014,
          0.9856743600243018,
          1.2550929548557432,
          0.9858902432580656,
          0.7755569927351639,
          0.9859442537063448,
          0.9859483338182408,
          1.5231423393638932,
          0.6161553183106109,
          0.985744427368564,
          0.8883310484694052,
          1.255093151129182,
          0.9859448075927495,
          0.9859390820076124,
          0.7750746385600423,
          0.11073780642747269,
          1.6734628731176626,
          0.985945507565804,
          0.775097540642918,
          1.2550575265747461,
          1.953549862252237,
          1.2550947056460418,
          1.5828703943709495,
          1.2550610821868944,
          1.5828698177026048,
          1.2549323937138348,
          0.9859415436151715,
          0.985936584587763,
          0.9855203351859856,
          0.6454137869087908,
          1.2550849250309823,
          0.7743660522309509,
          1.5828623459320688,
          0.9859124657436846,
          1.8125168175946624,
          0.6774062903958564,
          1.5647804044672595,
          2.0302032145164373,
          1.5567366054435974,
          1.5567145013390966,
          1.8509285572521552,
          1.8843105105691529,
          0.968384885463182,
          1.8843155406387777,
          1.4748579500160581,
          1.8509457970203556,
          1.2550960249766485,
          0.7750974329883938,
          1.5828456704802654,
          0.9859359925631992,
          0.9859483313109235,
          1.7097075908791728,
          1.6543075074660276,
          1.2550862767682798,
          0.5663819379297012,
          0.9859420911329803,
          0.7692242251618088,
          0.9958567612361645,
          0.8883353015120978,
          1.5564637035604658,
          1.8658618287509374,
          0.9859402650305876,
          1.7339231044179704,
          1.4381992715979122,
          0.9859489709567597,
          0.6774620498935308,
          1.2550493347378036,
          1.555973065956536,
          1.8843024563438557,
          0.9859056248174723,
          1.3458814839849047,
          1.52314293688602,
          0.9666265857569218,
          0.9858876915996557,
          1.2550925548104725,
          1.5231045149603695,
          0.9858143568205926,
          0.9859476957088201,
          1.0442362357974493,
          1.5647786798788534,
          -0.09446386520715096,
          0.08214004775312643,
          0.9859488961077192,
          1.6732183034482233,
          0.8427745677238135,
          1.2550849660536043,
          1.4342128177120168,
          0.7750547251953985,
          1.4233412435591237,
          1.5567235673184128,
          0.9859474182801946,
          0.9859467049874897,
          0.7749965415414531,
          1.4330856614400198,
          1.582841969871271,
          0.9859396996170735,
          1.7339694833211976,
          1.5828408009113712,
          0.7218980680324102,
          0.9843523251967038,
          0.9394633670145939,
          0.775102279023725,
          0.9859194195409997,
          0.7750813514397977,
          1.9619296346355406,
          0.9859215607162561,
          1.6228838897029314,
          1.5228671005571524,
          0.6774692283741204,
          1.5868693414828041,
          0.9327472188060119,
          1.5231383086799517,
          1.7339959966258889,
          0.7678690248446804,
          0.9800588788829812,
          1.523129564832075,
          0.9855224211903649,
          1.044227998475393,
          1.2550864279517853,
          0.77503145121536,
          1.582784388591617,
          0.8900120935915397,
          1.044202447786975,
          0.9786912587738313,
          2.1113280252298128,
          1.2233684130696578,
          1.0522006106621438,
          1.0515641983038988,
          1.7339875816856885,
          -0.10950022592085117,
          0.9859456367343208,
          1.7339953023820673,
          1.5231393862533733,
          0.9670302297030229,
          1.0442352221360276,
          0.9859211128659748,
          1.4341088475554848,
          1.9601985127052572,
          1.2549214562426474,
          1.2550920167272817,
          0.977477043657164,
          1.2551979368137993,
          0.9858642037260373,
          0.9859338625754925,
          0.677480446557435,
          0.9859524401893797,
          1.2550662573650104,
          0.9818692145626169,
          0.8958888958468575,
          1.2548767712847515,
          0.9859674430141067,
          0.985949045122988,
          1.2550913368782262,
          0.9859239071036086,
          1.5828681188361367,
          0.6481385143794997,
          0.8883257694555345,
          0.7750649113951826,
          0.9859270764076641,
          0.5664502459198407,
          1.884314318560383,
          0.6774847351367447,
          1.5828705989122165,
          1.7801093682547837,
          0.9858476394830169,
          0.7750965738313486
         ],
         "z": [
          -0.32669215276810687,
          -0.3100538202827126,
          -0.41134806105040345,
          -0.30123440415153957,
          -0.3250359477543333,
          -0.27584268958167973,
          -0.24820422422431213,
          -0.3263522270434947,
          -0.31894012770882,
          -0.3251908156239057,
          -0.3266880952838257,
          -0.3266723989247383,
          0.6880033314929793,
          -0.4070429610716907,
          -0.3403379088565911,
          -0.24201345726703855,
          -0.3247537972784031,
          -0.34200650976346003,
          -0.4112429036678909,
          -0.44564617461069944,
          -0.017781266613993263,
          -0.2883966551302082,
          -0.27725036511125367,
          -0.2940561860358038,
          -0.294677529285617,
          -0.35642467888224577,
          -0.3210029218585115,
          -0.3250962559080724,
          0.03095104343974917,
          -0.3618654481187141,
          -0.41161392803338154,
          -0.26237494837191855,
          -0.30831880569012726,
          -0.41152570453478177,
          -0.30196091490588883,
          -0.32537152870601765,
          -0.2959242370226794,
          -0.41149022374986566,
          -0.2628418973714009,
          -0.2944586975936933,
          -0.317809038456505,
          0.02670811350377924,
          -0.3171348115318078,
          -0.32424882314441456,
          -0.40646532271080626,
          -0.27723062952268,
          -0.2947528278292056,
          -0.2718927974533359,
          -0.32667424625415215,
          -0.2947050770259542,
          -0.36230970151145075,
          -0.3264090252673919,
          -0.4115954826284921,
          -0.4787126274792141,
          -0.39031722595030677,
          -0.36188532007721314,
          -0.2756345301876124,
          -0.29422743556236813,
          -0.3176043924981028,
          -0.2506418229524769,
          -0.09092958275220142,
          -0.32500690217618056,
          -0.08954930077346791,
          -0.32507049196430204,
          -0.2422654006274174,
          -0.3262851089112755,
          -0.27550392626734754,
          -0.408769158594142,
          0.874167474956863,
          -0.32487087415649385,
          -0.0416962045336683,
          -0.34002165117834277,
          -0.4094415849318021,
          -0.3236164215041132,
          -0.32128832191070944,
          -0.36345530384553015,
          -0.4103326289502833,
          -0.3572187286884856,
          -0.302617277191857,
          -0.3263231568437665,
          -0.3247644096936704,
          -0.24425602146460018,
          -0.34981879264567406,
          -0.4110701903808792,
          -0.32552855424231175,
          -0.32505148514607396,
          -0.41158469345310744,
          -0.326512023104602,
          -0.32666848737679877,
          -0.27549320984769354,
          -0.21208104844086095,
          0.012981026939636578,
          -0.3389802570457899,
          -0.326283181189612,
          -0.39776843074227425,
          -0.33830978289844404,
          -0.24568435796133475,
          -0.4268958129676736,
          -0.33805943800443866,
          -0.30108973809285877,
          -0.4111778413132075,
          0.8358848806690148,
          -0.41153966719890106,
          -0.3394433280131167,
          -0.3262108910459708,
          -0.3263650072325409,
          -0.34002165117834277,
          -0.41111524309140823,
          -0.32491434779996753,
          -0.3262116180824784,
          -0.42167590716983216,
          -0.32635879659740075,
          -0.3219538458018487,
          -0.41156862233002456,
          -0.32557076123413364,
          0.36508011861553424,
          -0.3265577742955554,
          -0.3266282336580999,
          -0.34589745589096765,
          -0.36240794602721177,
          -0.32286094745791927,
          -0.32502793166519933,
          -0.4114787052770936,
          -0.32640637784395415,
          -0.3265331570121405,
          -0.2771373471030575,
          -0.24083405159419347,
          -0.24545255201270905,
          -0.30741471473689247,
          -0.2768788090877979,
          -0.41074560013432204,
          -0.39870536269547724,
          -0.40948574061046533,
          -0.33827077199698663,
          -0.41064362746137867,
          -0.3326788836525602,
          -0.40659082478260117,
          -0.3264765214608429,
          -0.3264757229790775,
          -0.319608385538388,
          0.2559742458159361,
          -0.4111213558212427,
          -0.2598063527524799,
          -0.340055911765582,
          -0.3256884263986297,
          0.8820278330587307,
          -0.27453518759125883,
          -0.3559988735041309,
          0.549698405528721,
          -0.3649887031743292,
          -0.36349317069967996,
          -0.4072199727676249,
          -0.29439063756492984,
          0.13753733750936697,
          -0.294461295759858,
          -0.32248744752765873,
          -0.4067255472872756,
          -0.41139331804035045,
          -0.2772113930019631,
          -0.3399224167618431,
          -0.32611226344107336,
          -0.3266111883346252,
          -0.3592127577518803,
          0.6604505466820058,
          -0.41133425279046526,
          -0.35143143861104215,
          -0.32656688156342645,
          -0.32422833147756536,
          0.44144400181686544,
          -0.3233766148076263,
          -0.3497784252354101,
          -0.39299334446978584,
          -0.32651729684587394,
          -0.3934716073301888,
          -0.35314573593137166,
          -0.3263878677709669,
          -0.10258055132272946,
          -0.41012875115846337,
          0.19368279509973976,
          -0.2911370501256635,
          -0.3238519495909137,
          -0.3156227122021118,
          -0.3457835255221265,
          0.08711043113866541,
          -0.3255277885770164,
          -0.4107089510094043,
          -0.3449495653145251,
          -0.31311191024282864,
          -0.3266332887474742,
          -0.3622816714691283,
          -0.3575002408621518,
          -0.26996781430744854,
          -0.23035127753108095,
          -0.32218506397682006,
          -0.23726082535119347,
          -0.36255304249621173,
          -0.41141056077282045,
          -0.2820679694229115,
          -0.2763726949238957,
          -0.3620572475265303,
          -0.36458827768729307,
          -0.32666060398588614,
          -0.32664234323537,
          -0.2707624696385489,
          -0.38494516474937585,
          -0.339517475814588,
          -0.3263592836699293,
          -0.39214149017083166,
          -0.33970587094260507,
          -0.3155300087094674,
          -0.2733102826738776,
          -0.23249146226707718,
          -0.2769060405001833,
          -0.13006227740094056,
          -0.27715777242239326,
          -0.36630358622152304,
          -0.32583412246182347,
          -0.2008566912640987,
          -0.34149831321916385,
          -0.27466259719774216,
          1.0380358661647395,
          -0.3639974178407464,
          -0.34589690073626445,
          -0.39515314134847423,
          -0.15807852331877828,
          -0.3732866370561775,
          -0.3446183263534205,
          -0.31954856027244427,
          -0.36185971461313465,
          -0.4108846653817945,
          -0.27440738587472985,
          -0.33880710077616405,
          -0.348117748086521,
          -0.36172134758589236,
          -0.18636293008542004,
          -0.4007690273691233,
          -0.23293117687512813,
          0.647495759085563,
          -0.15252694694054975,
          -0.3944488201860482,
          -0.2745757641209065,
          -0.3263632398326012,
          -0.3949042554021621,
          -0.34601370398882736,
          0.5787840176027054,
          -0.3623359090204007,
          -0.32584696652029493,
          -0.276531910756532,
          -0.3210931097840741,
          -0.408453205520177,
          -0.4111115581617865,
          0.10791314137909101,
          -0.40865460101188383,
          -0.32523346752806653,
          -0.3260571178002191,
          -0.2758752851938716,
          -0.3265746551464018,
          -0.40275170123601406,
          -0.24041192600181308,
          -0.10500209158728882,
          -0.3985066585264952,
          -0.32585400231423634,
          -0.31892851802958117,
          -0.4076851958750174,
          -0.3242955635457348,
          -0.3402968826199894,
          -0.4418249845730106,
          -0.32355319425022466,
          -0.08472236495876084,
          -0.32149444303659247,
          -0.35605113386736786,
          -0.29485986667840963,
          -0.25680006192764665,
          -0.3402328382280087,
          -0.2974375924625461,
          -0.324740581200049,
          -0.2775536308436165
         ]
        },
        {
         "customdata": [
          [
           "X13"
          ],
          [
           "Scrypt"
          ],
          [
           "CryptoNight"
          ],
          [
           "DPoS"
          ],
          [
           "Scrypt"
          ],
          [
           "DPoS"
          ],
          [
           "CryptoNight"
          ],
          [
           "Semux BFT consensus"
          ],
          [
           "Scrypt"
          ],
          [
           "CryptoNight Heavy"
          ],
          [
           "DPoS"
          ],
          [
           "DPoS"
          ],
          [
           "DPoS"
          ],
          [
           "DPoS"
          ],
          [
           "SHA-256"
          ]
         ],
         "hovertemplate": "<b>%{hovertext}</b><br><br>Class=%{marker.color}<br>PCA 3=%{x}<br>PCA 2=%{y}<br>PCA 1=%{z}<br>Algorithm=%{customdata[0]}<extra></extra>",
         "hovertext": [
          "EliteCoin",
          "MoonCoin",
          "ByteCoin",
          "ARK",
          "gCn Coin",
          "Lamden Tau",
          "TurtleCoin",
          "Semux",
          "Lynx",
          "Qwertycoin",
          "ALAX",
          "Lisk",
          "EOS",
          "Oxycoin",
          "ZEPHYR"
         ],
         "legendgroup": "4",
         "marker": {
          "color": [
           4,
           4,
           4,
           4,
           4,
           4,
           4,
           4,
           4,
           4,
           4,
           4,
           4,
           4,
           4
          ],
          "coloraxis": "coloraxis",
          "symbol": "diamond"
         },
         "mode": "markers",
         "name": "4",
         "scene": "scene",
         "showlegend": true,
         "type": "scatter3d",
         "x": [
          -0.7076459804104079,
          -0.03572603839152412,
          0.2982810357286511,
          -0.3065125579613463,
          -0.0817411110132631,
          -0.30662217876607584,
          0.26723092591909053,
          -0.3791964188422897,
          -0.4069602794039166,
          0.37588598128116674,
          -0.3069557998000848,
          -0.30652080349382393,
          -0.30686213181607147,
          -0.30690257281628086,
          -0.17364711037786715
         ],
         "y": [
          1.7622398311473295,
          -1.3360658270248227,
          -2.2575797815838476,
          1.6913213087860581,
          -1.1879120088051556,
          1.6912372478889144,
          -2.662502115833324,
          1.709469347681271,
          0.1931949220562667,
          -2.292626976130721,
          1.6913259731707575,
          1.6913113798249417,
          1.691762933231417,
          1.6918062534944498,
          0.7819413636727557
         ],
         "z": [
          2.285854860505646,
          2.5611602956279502,
          3.8475466054487497,
          3.7583315826429073,
          3.2481041530338435,
          3.763180306448496,
          8.022336130089494,
          3.9884698804204954,
          2.291479027746127,
          3.101447360702534,
          3.7754042723518815,
          3.758722803465575,
          3.7685772426682056,
          3.7698196399911,
          2.4809182952715796
         ]
        },
        {
         "customdata": [
          [
           "SHA-256"
          ],
          [
           "Ethash"
          ],
          [
           "Scrypt"
          ],
          [
           "CryptoNight-V7"
          ],
          [
           "Ethash"
          ],
          [
           "Equihash"
          ],
          [
           "Multiple"
          ],
          [
           "Scrypt"
          ],
          [
           "X11"
          ],
          [
           "Scrypt"
          ],
          [
           "Multiple"
          ],
          [
           "SHA-256"
          ],
          [
           "Scrypt"
          ],
          [
           "Scrypt"
          ],
          [
           "Quark"
          ],
          [
           "Groestl"
          ],
          [
           "Scrypt"
          ],
          [
           "Scrypt"
          ],
          [
           "Scrypt"
          ],
          [
           "X11"
          ],
          [
           "Multiple"
          ],
          [
           "SHA-256"
          ],
          [
           "Scrypt"
          ],
          [
           "Scrypt"
          ],
          [
           "Scrypt"
          ],
          [
           "Scrypt"
          ],
          [
           "Scrypt"
          ],
          [
           "NeoScrypt"
          ],
          [
           "Scrypt"
          ],
          [
           "Scrypt"
          ],
          [
           "Scrypt"
          ],
          [
           "Scrypt"
          ],
          [
           "SHA-256"
          ],
          [
           "Scrypt"
          ],
          [
           "Scrypt"
          ],
          [
           "Scrypt"
          ],
          [
           "Scrypt"
          ],
          [
           "HybridScryptHash256"
          ],
          [
           "Scrypt"
          ],
          [
           "Scrypt"
          ],
          [
           "SHA-256"
          ],
          [
           "Scrypt"
          ],
          [
           "Scrypt"
          ],
          [
           "Scrypt"
          ],
          [
           "Scrypt"
          ],
          [
           "SHA-256"
          ],
          [
           "SHA-256"
          ],
          [
           "SHA-256"
          ],
          [
           "SHA-256"
          ],
          [
           "SHA-256"
          ],
          [
           "X11"
          ],
          [
           "Scrypt"
          ],
          [
           "Lyra2REv2"
          ],
          [
           "Scrypt"
          ],
          [
           "SHA-256"
          ],
          [
           "CryptoNight"
          ],
          [
           "Scrypt"
          ],
          [
           "Scrypt"
          ],
          [
           "Scrypt"
          ],
          [
           "Scrypt"
          ],
          [
           "Scrypt"
          ],
          [
           "Scrypt"
          ],
          [
           "Stanford Folding"
          ],
          [
           "Multiple"
          ],
          [
           "QuBit"
          ],
          [
           "Scrypt"
          ],
          [
           "Scrypt"
          ],
          [
           "M7 POW"
          ],
          [
           "Scrypt"
          ],
          [
           "SHA-256"
          ],
          [
           "Scrypt"
          ],
          [
           "X11"
          ],
          [
           "Lyra2RE"
          ],
          [
           "SHA-256"
          ],
          [
           "X11"
          ],
          [
           "Scrypt"
          ],
          [
           "Scrypt"
          ],
          [
           "Ethash"
          ],
          [
           "Blake2b"
          ],
          [
           "X11"
          ],
          [
           "SHA-256"
          ],
          [
           "Scrypt"
          ],
          [
           "1GB AES Pattern Search"
          ],
          [
           "Scrypt"
          ],
          [
           "SHA-256"
          ],
          [
           "X11"
          ],
          [
           "Dagger"
          ],
          [
           "Scrypt"
          ],
          [
           "X11GOST"
          ],
          [
           "Scrypt"
          ],
          [
           "X11"
          ],
          [
           "Scrypt"
          ],
          [
           "X11"
          ],
          [
           "Equihash"
          ],
          [
           "CryptoNight"
          ],
          [
           "SHA-256"
          ],
          [
           "Multiple"
          ],
          [
           "Scrypt"
          ],
          [
           "SHA-256"
          ],
          [
           "Scrypt"
          ],
          [
           "Lyra2Z"
          ],
          [
           "Ethash"
          ],
          [
           "Equihash"
          ],
          [
           "Scrypt"
          ],
          [
           "X11"
          ],
          [
           "X11"
          ],
          [
           "CryptoNight"
          ],
          [
           "Scrypt"
          ],
          [
           "CryptoNight"
          ],
          [
           "Lyra2RE"
          ],
          [
           "X11"
          ],
          [
           "CryptoNight-V7"
          ],
          [
           "Scrypt"
          ],
          [
           "X11"
          ],
          [
           "Equihash"
          ],
          [
           "Scrypt"
          ],
          [
           "Lyra2RE"
          ],
          [
           "Dagger-Hashimoto"
          ],
          [
           "Scrypt"
          ],
          [
           "NIST5"
          ],
          [
           "Scrypt"
          ],
          [
           "SHA-256"
          ],
          [
           "Scrypt"
          ],
          [
           "CryptoNight-V7"
          ],
          [
           "Argon2d"
          ],
          [
           "Blake2b"
          ],
          [
           "Cloverhash"
          ],
          [
           "CryptoNight"
          ],
          [
           "X11"
          ],
          [
           "Scrypt"
          ],
          [
           "Scrypt"
          ],
          [
           "X11"
          ],
          [
           "X11"
          ],
          [
           "CryptoNight"
          ],
          [
           "Time Travel"
          ],
          [
           "Keccak"
          ],
          [
           "X11"
          ],
          [
           "SHA-256"
          ],
          [
           "Scrypt"
          ],
          [
           "Scrypt"
          ],
          [
           "Scrypt"
          ],
          [
           "Scrypt"
          ],
          [
           "Scrypt"
          ],
          [
           "Scrypt"
          ],
          [
           "CryptoNight"
          ],
          [
           "Equihash"
          ],
          [
           "X11"
          ],
          [
           "NeoScrypt"
          ],
          [
           "Equihash"
          ],
          [
           "Dagger"
          ],
          [
           "Scrypt"
          ],
          [
           "X11"
          ],
          [
           "NeoScrypt"
          ],
          [
           "Ethash"
          ],
          [
           "NeoScrypt"
          ],
          [
           "Multiple"
          ],
          [
           "CryptoNight"
          ],
          [
           "CryptoNight"
          ],
          [
           "Ethash"
          ],
          [
           "X11"
          ],
          [
           "CryptoNight-V7"
          ],
          [
           "Scrypt"
          ],
          [
           "BLAKE256"
          ],
          [
           "X11"
          ],
          [
           "NeoScrypt"
          ],
          [
           "NeoScrypt"
          ],
          [
           "Scrypt"
          ],
          [
           "X11"
          ],
          [
           "SHA-256"
          ],
          [
           "C11"
          ],
          [
           "SkunkHash"
          ],
          [
           "CryptoNight"
          ],
          [
           "Scrypt"
          ],
          [
           "Dagger"
          ],
          [
           "Lyra2REv2"
          ],
          [
           "Scrypt"
          ],
          [
           "Scrypt"
          ],
          [
           "X11"
          ],
          [
           "Ethash"
          ],
          [
           "CryptoNight"
          ],
          [
           "Scrypt"
          ],
          [
           "IMesh"
          ],
          [
           "Equihash"
          ],
          [
           "Lyra2Z"
          ],
          [
           "X11"
          ],
          [
           "CryptoNight"
          ],
          [
           "NIST5"
          ],
          [
           "Lyra2RE"
          ],
          [
           "Tribus"
          ],
          [
           "Lyra2Z"
          ],
          [
           "CryptoNight"
          ],
          [
           "CryptoNight Heavy"
          ],
          [
           "CryptoNight"
          ],
          [
           "Jump Consistent Hash"
          ],
          [
           "CryptoNight"
          ],
          [
           "X16R"
          ],
          [
           "HMQ1725"
          ],
          [
           "X11"
          ],
          [
           "Scrypt"
          ],
          [
           "CryptoNight-V7"
          ],
          [
           "Cryptonight-GPU"
          ],
          [
           "XEVAN"
          ],
          [
           "SHA-256"
          ],
          [
           "X11"
          ],
          [
           "X16R"
          ],
          [
           "Equihash"
          ],
          [
           "Lyra2Z"
          ],
          [
           "SHA-256"
          ],
          [
           "CryptoNight"
          ],
          [
           "Blake"
          ],
          [
           "Blake"
          ],
          [
           "Exosis"
          ],
          [
           "Scrypt"
          ],
          [
           "Equihash"
          ],
          [
           "Equihash"
          ],
          [
           "QuBit"
          ],
          [
           "SHA-256"
          ],
          [
           "X13"
          ],
          [
           "SHA-256"
          ],
          [
           "Scrypt"
          ],
          [
           "NeoScrypt"
          ],
          [
           "Blake"
          ],
          [
           "Scrypt"
          ],
          [
           "SHA-256"
          ],
          [
           "Scrypt"
          ],
          [
           "Groestl"
          ],
          [
           "Scrypt"
          ],
          [
           "Scrypt"
          ],
          [
           "Multiple"
          ],
          [
           "Equihash+Scrypt"
          ],
          [
           "Ethash"
          ],
          [
           "CryptoNight"
          ],
          [
           "Equihash"
          ]
         ],
         "hovertemplate": "<b>%{hovertext}</b><br><br>Class=%{marker.color}<br>PCA 3=%{x}<br>PCA 2=%{y}<br>PCA 1=%{z}<br>Algorithm=%{customdata[0]}<extra></extra>",
         "hovertext": [
          "Bitcoin",
          "Ethereum",
          "Litecoin",
          "Monero",
          "Ethereum Classic",
          "ZCash",
          "DigiByte",
          "ProsperCoin",
          "Spreadcoin",
          "Argentum",
          "MyriadCoin",
          "ZetaCoin",
          "SexCoin",
          "Quatloo",
          "QuarkCoin",
          "Riecoin",
          "Digitalcoin ",
          "Catcoin",
          "CannaCoin",
          "CryptCoin",
          "Verge",
          "DevCoin",
          "EarthCoin",
          "E-Gulden",
          "Einsteinium",
          "Emerald",
          "Franko",
          "FeatherCoin",
          "GrandCoin",
          "GlobalCoin",
          "GoldCoin",
          "Infinite Coin",
          "IXcoin",
          "KrugerCoin",
          "LuckyCoin",
          "Litebar ",
          "MegaCoin",
          "MediterraneanCoin",
          "MinCoin",
          "NobleCoin",
          "Namecoin",
          "NyanCoin",
          "RonPaulCoin",
          "StableCoin",
          "SmartCoin",
          "SysCoin",
          "TigerCoin",
          "TerraCoin",
          "UnbreakableCoin",
          "Unobtanium",
          "UroCoin",
          "ViaCoin",
          "Vertcoin",
          "WorldCoin",
          "JouleCoin",
          "DigitalNote ",
          "MonaCoin",
          "Gulden",
          "PesetaCoin",
          "Wild Beast Coin",
          "Flo",
          "ArtByte",
          "Folding Coin",
          "Unitus",
          "CypherPunkCoin",
          "OmniCron",
          "GreenCoin",
          "Cryptonite",
          "MasterCoin",
          "SoonCoin",
          "1Credit",
          "MarsCoin ",
          "Crypto",
          "Anarchists Prime",
          "BowsCoin",
          "Song Coin",
          "BitZeny",
          "Expanse",
          "Siacoin",
          "MindCoin",
          "I0coin",
          "Revolution VR",
          "HOdlcoin",
          "Gamecredits",
          "CarpeDiemCoin",
          "Adzcoin",
          "SoilCoin",
          "YoCoin",
          "SibCoin",
          "Francs",
          "BolivarCoin",
          "Omni",
          "PizzaCoin",
          "Komodo",
          "Karbo",
          "ZayedCoin",
          "Circuits of Value",
          "DopeCoin",
          "DollarCoin",
          "Shilling",
          "ZCoin",
          "Elementrem",
          "ZClassic",
          "KiloCoin",
          "ArtexCoin",
          "Kurrent",
          "Cannabis Industry Coin",
          "OsmiumCoin",
          "Bikercoins",
          "HexxCoin",
          "PacCoin",
          "Citadel",
          "BeaverCoin",
          "VaultCoin",
          "Zero",
          "Canada eCoin",
          "Zoin",
          "DubaiCoin",
          "EB3coin",
          "Coinonat",
          "BenjiRolls",
          "ILCoin",
          "EquiTrader",
          "Quantum Resistant Ledger",
          "Dynamic",
          "Nano",
          "ChanCoin",
          "Dinastycoin",
          "DigitalPrice",
          "Unify",
          "SocialCoin",
          "ArcticCoin",
          "DAS",
          "LeviarCoin",
          "Bitcore",
          "SmartCash",
          "Onix",
          "Bitcoin Cash",
          "Sojourn Coin",
          "NewYorkCoin",
          "FrazCoin",
          "Kronecoin",
          "AdCoin",
          "Linx",
          "Sumokoin",
          "BitcoinZ",
          "Elements",
          "VIVO Coin",
          "Bitcoin Gold",
          "Pirl",
          "eBoost",
          "Pura",
          "Innova",
          "Ellaism",
          "GoByte",
          "SHIELD",
          "UltraNote",
          "BitCoal",
          "DaxxCoin",
          "AC3",
          "Lethean",
          "PopularCoin",
          "Photon",
          "Sucre",
          "SparksPay",
          "GunCoin",
          "IrishCoin",
          "Pioneer Coin",
          "UnitedBitcoin",
          "Interzone",
          "MUNcoin",
          "Niobio Cash",
          "ShareChain",
          "Travelflex",
          "KREDS",
          "BitFlip",
          "LottoCoin",
          "Crypto Improvement Fund",
          "Callisto Network",
          "BitTube",
          "Poseidon",
          "Aidos Kuneen",
          "Bitrolium",
          "Alpenschillling",
          "FuturoCoin",
          "Monero Classic",
          "Jumpcoin",
          "Infinex",
          "KEYCO",
          "GINcoin",
          "PlatinCoin",
          "Loki",
          "Newton Coin",
          "MassGrid",
          "PluraCoin",
          "Motion",
          "PlusOneCoin",
          "Axe",
          "HexCoin",
          "Webchain",
          "Ryo",
          "Urals Coin",
          "Project Pai",
          "Azart",
          "Xchange",
          "CrypticCoin",
          "Actinium",
          "Bitcoin SV",
          "FREDEnergy",
          "Universal Molecule",
          "Lithium",
          "Exosis",
          "Block-Logic",
          "Beam",
          "Bithereum",
          "SLICE",
          "BLAST",
          "Bitcoin Rhodium",
          "GlobalToken",
          "SolarCoin",
          "UFO Coin",
          "BlakeCoin",
          "Crypto Escudo",
          "Crown Coin",
          "SmileyCoin",
          "Groestlcoin",
          "Bata",
          "Pakcoin",
          "JoinCoin",
          "Vollar",
          "Reality Clash",
          "Beldex",
          "Horizen"
         ],
         "legendgroup": "0",
         "marker": {
          "color": [
           0,
           0,
           0,
           0,
           0,
           0,
           0,
           0,
           0,
           0,
           0,
           0,
           0,
           0,
           0,
           0,
           0,
           0,
           0,
           0,
           0,
           0,
           0,
           0,
           0,
           0,
           0,
           0,
           0,
           0,
           0,
           0,
           0,
           0,
           0,
           0,
           0,
           0,
           0,
           0,
           0,
           0,
           0,
           0,
           0,
           0,
           0,
           0,
           0,
           0,
           0,
           0,
           0,
           0,
           0,
           0,
           0,
           0,
           0,
           0,
           0,
           0,
           0,
           0,
           0,
           0,
           0,
           0,
           0,
           0,
           0,
           0,
           0,
           0,
           0,
           0,
           0,
           0,
           0,
           0,
           0,
           0,
           0,
           0,
           0,
           0,
           0,
           0,
           0,
           0,
           0,
           0,
           0,
           0,
           0,
           0,
           0,
           0,
           0,
           0,
           0,
           0,
           0,
           0,
           0,
           0,
           0,
           0,
           0,
           0,
           0,
           0,
           0,
           0,
           0,
           0,
           0,
           0,
           0,
           0,
           0,
           0,
           0,
           0,
           0,
           0,
           0,
           0,
           0,
           0,
           0,
           0,
           0,
           0,
           0,
           0,
           0,
           0,
           0,
           0,
           0,
           0,
           0,
           0,
           0,
           0,
           0,
           0,
           0,
           0,
           0,
           0,
           0,
           0,
           0,
           0,
           0,
           0,
           0,
           0,
           0,
           0,
           0,
           0,
           0,
           0,
           0,
           0,
           0,
           0,
           0,
           0,
           0,
           0,
           0,
           0,
           0,
           0,
           0,
           0,
           0,
           0,
           0,
           0,
           0,
           0,
           0,
           0,
           0,
           0,
           0,
           0,
           0,
           0,
           0,
           0,
           0,
           0,
           0,
           0,
           0,
           0,
           0,
           0,
           0,
           0,
           0,
           0,
           0,
           0,
           0,
           0,
           0,
           0,
           0,
           0,
           0,
           0,
           0,
           0,
           0,
           0,
           0,
           0,
           0,
           0,
           0,
           0,
           0,
           0,
           0,
           0,
           0
          ],
          "coloraxis": "coloraxis",
          "symbol": "square"
         },
         "mode": "markers",
         "name": "0",
         "scene": "scene",
         "showlegend": true,
         "type": "scatter3d",
         "x": [
          0.1971566164701871,
          0.3334993016563343,
          0.0033417357464286548,
          0.37023976570666584,
          0.33347566429790987,
          0.41876514577935126,
          0.41152737740482365,
          0.0033708937903494975,
          0.08607023847076464,
          0.0033639588495664686,
          0.41732120098274056,
          0.19708099402738746,
          0.003298662192525127,
          0.0033622182963606606,
          -0.001511493412481659,
          0.2331989254322094,
          0.0033571376248707355,
          0.0033703173239959597,
          0.0033721168444903215,
          0.08607288545388246,
          0.4101837345807529,
          0.18757219348142792,
          -0.002978728252190492,
          0.0033648806528837503,
          0.003257879342039132,
          0.003364321956112262,
          0.003373724915592225,
          0.24979399803681418,
          0.0028795701651362767,
          0.003342115531407552,
          0.00335142313690573,
          -0.0418268184129555,
          0.19715536073283263,
          0.0032881542661454335,
          0.003365611568212203,
          0.003374746797252779,
          0.0033558954816335917,
          0.3754560429989572,
          0.003371999627132548,
          0.000908332485627854,
          0.19715788356533662,
          0.0032080902330789943,
          0.0033727459814702847,
          0.0033402500559286063,
          0.0033599457155057016,
          0.19685174430493177,
          0.19714379787323538,
          0.19715248928966284,
          0.19715682312512264,
          0.19716576868170899,
          0.08607622325621657,
          0.0033637873048521037,
          0.21682204145533998,
          0.0033007985948058224,
          0.19714572663224017,
          0.3863989017104996,
          0.0033375378876405503,
          0.0030394399874435485,
          0.0033037703981946766,
          0.0033749829690983015,
          0.003298562063979417,
          0.002958770269997495,
          0.47116582704326654,
          0.41816942271008695,
          0.21480649436666868,
          0.003370952786361414,
          0.0005262364446732878,
          0.35766875789757147,
          0.0033750137299379383,
          0.19715878651073906,
          -0.005992746665569509,
          0.08606054684518076,
          0.35328800822977313,
          0.19715454344165176,
          0.08606826461706933,
          0.0033409827435740406,
          0.003319838768061917,
          0.33353617503733285,
          0.4999241019791737,
          0.0860687722175165,
          0.19715539721636283,
          0.0032705457271668716,
          0.2738528830874207,
          0.0033390366328320095,
          0.18633054186890424,
          0.08605023541823843,
          0.28354653584795664,
          0.0033579274472704955,
          0.4576963819188405,
          0.003370676935333403,
          0.08606873483152874,
          0.00337501524172157,
          0.08607360984458941,
          0.5165252030441134,
          0.39015573073681153,
          0.19716240303637964,
          0.4176759761975046,
          0.0033085568728390647,
          0.19716117427684765,
          0.0033678524493812507,
          0.3205387568061,
          0.3335289894048966,
          0.418765848471583,
          0.002279105910924032,
          0.08569856914620017,
          0.08602911755459931,
          0.3901573285947613,
          0.0033746913967371162,
          0.3901535939098117,
          0.35329840140283014,
          0.07568081451201637,
          0.37022340254386665,
          0.0033737435680061033,
          0.08596280976855517,
          0.4187657363136269,
          0.0033254911461864335,
          0.35329066160848777,
          0.40820785960770145,
          0.002942563652228983,
          -0.03170640859064233,
          0.0033636540117315664,
          0.19638801437832487,
          0.003362561431889815,
          0.3702084896760573,
          0.5525028732600518,
          0.5129802696103377,
          0.4324055065168543,
          0.38923764128182575,
          0.0860525659375475,
          0.003366159013065436,
          0.0033656336411109506,
          0.08606025136955785,
          0.08607373659383077,
          0.3901487329322817,
          0.5314969862765235,
          0.1482985684112058,
          0.08591605703606281,
          0.1971565893019042,
          0.0023059522826049256,
          -0.05341434679703032,
          0.0033694326902679586,
          0.003359838294663716,
          0.003352175755420778,
          0.003351750926976537,
          0.3901472513191033,
          0.4145622898280027,
          0.08482007854869486,
          0.24990667306563874,
          0.4187612464152306,
          0.2835224421934167,
          0.0033254329322714507,
          0.08597148310577267,
          0.24990396285310484,
          0.33350848724107535,
          0.24990552257523402,
          0.4179367735159226,
          0.37384756283094195,
          0.39015679554867744,
          0.3323169473487116,
          0.08598880360740348,
          0.3699695970436121,
          0.0012919584803662474,
          0.06944340088440032,
          0.08607300712673237,
          0.2499058220764025,
          0.24974111013013006,
          0.003350744051560414,
          0.08607099392767029,
          0.19715581232910134,
          0.1512104262869099,
          0.22042756058073332,
          0.3900724554977783,
          -0.0016140621501998403,
          0.2834990521927684,
          0.21648324836775995,
          0.0033663072568075893,
          -0.00425355103311112,
          0.0859418806276904,
          0.3327818624731318,
          0.3900262404680315,
          0.0033715681254421204,
          0.27947188075440116,
          0.41873475206457417,
          0.32050253616728513,
          0.0860538913044488,
          0.3901516212872583,
          -0.03170798046232804,
          0.3532954643543354,
          0.41433450677779043,
          0.3205400977866934,
          0.3900987259774857,
          0.43418076679488077,
          0.3550252356213709,
          0.1549735644535657,
          0.38983561205001477,
          0.21501762522156817,
          0.4727203146401189,
          0.08607258154527841,
          0.003372509336697798,
          0.3700622130955639,
          0.5943886357944501,
          0.11872397302722106,
          0.1961181030808873,
          0.08607216516515465,
          0.2150090440116921,
          0.41631452118220763,
          0.3205299733621573,
          0.19715659052302367,
          0.388595667615915,
          0.5051079489315012,
          0.5051104178006232,
          0.21825299806880163,
          0.0033490916501610255,
          0.4187292840978019,
          0.41875708334304823,
          0.21479370646487372,
          0.19713859051741722,
          -0.10345307571019662,
          0.19711516619699362,
          -0.006635918610058599,
          0.24798494244294497,
          0.5043972191916852,
          0.002963665291349992,
          0.19715246882525445,
          -0.013464158454349858,
          0.2331873558170949,
          0.00337280724829065,
          0.003329117859497767,
          0.418193671328208,
          0.5261356078488131,
          0.3335298463791248,
          0.38962801748084874,
          0.41876518013699227
         ],
         "y": [
          -1.2692398111627703,
          -2.041144068629852,
          -1.1716382223960708,
          -2.194616881019619,
          -2.04123158071797,
          -2.056192862464798,
          -1.8586113102253832,
          -1.1716356066903637,
          -0.9024864831023767,
          -1.171651281771422,
          -1.8546089936064136,
          -1.269238752063653,
          -1.1716812734340167,
          -1.1716687599847107,
          -0.4235770854767082,
          -1.1745298210295811,
          -1.17163546733959,
          -1.1716349891815498,
          -1.1716326936682853,
          -0.9024882439479868,
          -1.8547837198911994,
          -1.2702449610208353,
          -1.1720761377430893,
          -1.1716291654377904,
          -1.1716643403149103,
          -1.1716344772294747,
          -1.171633393114875,
          -1.5911569939042618,
          -1.1718613083718132,
          -1.1716311070640153,
          -1.1716422839472582,
          -1.1718877847417604,
          -1.2692384660211529,
          -1.1716783029265867,
          -1.171629411094936,
          -1.1716291761344904,
          -1.1716308237873247,
          -2.213738825555249,
          -1.1716308809932148,
          -1.1770458894297522,
          -1.2692411684708231,
          -1.1716309978858839,
          -1.1716375907512462,
          -1.1717258222130345,
          -1.1716401055155694,
          -1.2693790695305258,
          -1.2692400560744386,
          -1.2692466733755872,
          -1.269271733047306,
          -1.2692384660704359,
          -0.902482148046584,
          -1.1716290688408448,
          -1.1775159240570987,
          -1.171691847488804,
          -1.2692410411304318,
          -2.258230529258043,
          -1.1716450733742003,
          -1.1721719300337847,
          -1.1716418197846055,
          -1.171630115786399,
          -1.1716328094566253,
          -1.1717201550198482,
          -2.3331637324489005,
          -1.8544430120815714,
          -1.5413984845878483,
          -1.1716261980609017,
          -1.1739501049932,
          -2.1875262379904763,
          -1.1716290695646843,
          -1.2692421357028925,
          -1.2110253371882165,
          -0.9024830863252971,
          -2.1593275627660544,
          -1.2692551923876878,
          -0.9024849060138446,
          -1.171705244141254,
          -1.171703957710311,
          -2.0411926510257405,
          -2.2514098610196043,
          -0.9024827632692856,
          -1.2692385051021877,
          -1.1716296632955816,
          -2.1922696927662257,
          -1.1716353311146945,
          -1.2692514062968903,
          -0.9024994429008836,
          -2.166352133536772,
          -1.1717008885825015,
          -2.159228604248373,
          -1.1716348370991123,
          -0.9024875588935444,
          -1.1716290695560923,
          -0.9024927809910936,
          -1.5106325141694423,
          -2.2568872359173247,
          -1.269239957600801,
          -1.854559190108569,
          -1.1716650077377362,
          -1.2692391261596436,
          -1.1716371844881786,
          -2.1506388484371954,
          -2.041189950200579,
          -2.0561936151863422,
          -1.175827772853706,
          -0.9023462546822276,
          -0.9025541922686249,
          -2.2568948578031534,
          -1.1716298498162687,
          -2.256893006408788,
          -2.159308720587561,
          -0.9450763101822818,
          -2.1946987527793205,
          -1.1716291814454525,
          -0.9028979567903291,
          -2.056191345855561,
          -1.1716294179853106,
          -2.159306340012283,
          -2.3252269305246624,
          -1.173314685213239,
          -0.6008546540698626,
          -1.1716356532296754,
          -1.2697484461825599,
          -1.1716540832374343,
          -2.194639794414481,
          -2.1968575298313007,
          -2.265578416410025,
          -2.135637317677662,
          -2.2569730023990644,
          -0.9025105360955356,
          -1.171629608942906,
          -1.171658986068258,
          -0.9024972768288159,
          -0.9024896392534296,
          -2.2569033809558396,
          -2.368759251057289,
          -1.2685983880657017,
          -0.9029016051098845,
          -1.2692397820601993,
          -1.176125179041123,
          -1.1107961652528238,
          -1.171633504267995,
          -1.1716576137846924,
          -1.1716580024487258,
          -1.1716575473739297,
          -2.256920539547791,
          -2.0629627287834174,
          -0.9021037044729812,
          -1.5911116662763582,
          -2.0561886854790985,
          -2.16639418870986,
          -1.171629355626761,
          -0.9025580046619059,
          -1.5911184344498386,
          -2.0413043513262377,
          -1.5911130128999846,
          -1.8545484149963076,
          -2.28508284407314,
          -2.2568897197824285,
          -2.0452505035754345,
          -0.9026840177026831,
          -2.1948644955683156,
          -1.172083859408674,
          -1.2560114437939895,
          -0.9024893414179339,
          -1.5911075309182225,
          -1.5911884572468251,
          -1.1716371261243665,
          -0.902488904235934,
          -1.2692385016639474,
          -1.3148041273527393,
          -2.078585709280727,
          -2.2569731905480155,
          -1.1716574243567588,
          -2.166338879987723,
          -1.1776989036837555,
          -1.1716409022519971,
          -1.1733470568831834,
          -0.9026068891206058,
          -2.043867979976438,
          -2.257280450298464,
          -1.171636329035841,
          -2.115941564137269,
          -2.0561866323676026,
          -2.1507497399243936,
          -0.9025119558240904,
          -2.256887347182693,
          -0.600838327871389,
          -2.1593143216250117,
          -2.1934852940839833,
          -2.1506344283549925,
          -2.257143178054355,
          -2.256037591144976,
          -2.3181128226801917,
          -1.9628809211963594,
          -2.25707624978,
          -1.22481654726802,
          -2.3009821472407004,
          -0.9024895302927827,
          -1.1716379311125351,
          -2.1953669568175704,
          -2.2200896855749184,
          -0.7234227319858854,
          -1.2692443993553586,
          -0.9024912334553554,
          -1.224849223588927,
          -2.0576399347847913,
          -2.150663074426933,
          -1.2692397833682585,
          -2.2595520874597756,
          -2.2310390563710594,
          -2.2309987757213245,
          -2.0824589001957072,
          -1.1716654447033577,
          -2.0562843659402796,
          -2.0561895377272634,
          -1.541438515919497,
          -1.269243605589196,
          -0.2732635024051841,
          -1.2692743924126395,
          -1.2136138845947404,
          -1.5911877954554767,
          -2.233982322645611,
          -1.171725398550212,
          -1.269246651454182,
          -1.1804555167306188,
          -1.174528710931564,
          -1.1716290596298293,
          -1.1716773612532947,
          -1.8544704915508112,
          -2.1421619972697714,
          -2.041189945330031,
          -2.257068913540996,
          -2.056192899268582
         ],
         "z": [
          -0.15481216483291932,
          -0.14778728553598805,
          -0.15530068815393533,
          -0.1378526317797038,
          -0.1462317356652807,
          -0.15434662230612659,
          0.144620412198777,
          -0.15644527350091966,
          -0.24130849492275705,
          -0.15606239792406826,
          -0.1084122259406585,
          -0.15190129193743251,
          -0.15332180951632238,
          -0.155866746366773,
          -0.22031921592240736,
          -0.23588739276308945,
          -0.15591537683821818,
          -0.1564275637447169,
          -0.15651388978039985,
          -0.24139771237121985,
          0.16834354064233972,
          0.22248828435370888,
          0.09185735340595753,
          -0.156260542513782,
          -0.15187225811150754,
          -0.15619993488836062,
          -0.15657081216537422,
          -0.1815389639010338,
          -0.13582354112437703,
          -0.15536764769049735,
          -0.15564471954852616,
          1.5898198701920967,
          -0.15477358703525962,
          -0.1529380896492081,
          -0.15628694656654987,
          -0.15664124899303908,
          -0.1559015688777756,
          -0.13983589895804083,
          -0.156522689941212,
          -0.021633787920836096,
          -0.15485109155623264,
          -0.15019572665023395,
          -0.15650217509282335,
          -0.15459943988871325,
          -0.15598966225784625,
          -0.1420219573440656,
          -0.15431562920300632,
          -0.15460243465393578,
          -0.15458549692830445,
          -0.15517528279339335,
          -0.24157134357867996,
          -0.15621905464821723,
          -0.20257416070875922,
          -0.15332653899507445,
          -0.154382829189167,
          0.4514096387351214,
          -0.15508831271956183,
          -0.13971049374103822,
          -0.1538089678486867,
          -0.15664345710644065,
          -0.15367418249312825,
          -0.1399178357266015,
          -0.12407717339212786,
          -0.1423695096067277,
          -0.19322915502633864,
          -0.15651670916992408,
          -0.029642496444078285,
          -0.12298417484300585,
          -0.15665233464214645,
          -0.15487883115082499,
          0.49448226975730947,
          -0.24095941361075995,
          -0.15105533760808262,
          -0.15461909538998084,
          -0.24124390627287992,
          -0.15477897844635435,
          -0.15397237999229846,
          -0.14885331050681355,
          0.3385218114836552,
          -0.24127924755303465,
          -0.15477470785422665,
          -0.15261601443482323,
          -0.09124102687072208,
          -0.15521776806080353,
          0.2631068022299358,
          -0.24044121275048055,
          -0.14161414931705796,
          -0.1554649772594252,
          -0.17847078863338464,
          -0.1564425608816842,
          -0.2412425541045527,
          -0.15665239305278622,
          -0.2413923205085517,
          -0.26544268860056186,
          0.29654038068662397,
          -0.15503442169486373,
          -0.12247090448812105,
          -0.15382325797314825,
          -0.15499310912273837,
          -0.15631629485656295,
          -0.14460604007590597,
          -0.14859583268399,
          -0.15436820987660546,
          -0.08349280481865835,
          -0.22799462736085976,
          -0.2392237274978692,
          0.29653473629556554,
          -0.15663415886363355,
          0.2966652681513798,
          -0.15159496404739445,
          0.47273180108446183,
          -0.13661929000255751,
          -0.15660249019317693,
          -0.23413770770960662,
          -0.1543805619816093,
          -0.15473844308995652,
          -0.15131374425829572,
          -0.14680923462465004,
          -0.12757164683897124,
          -0.1946174804109798,
          -0.15616551122749528,
          -0.12140911557999781,
          -0.15598787206133016,
          -0.13647710305094268,
          -0.17553001637681362,
          -0.06123581196723628,
          -0.17067891170170826,
          0.33260459263765274,
          -0.2404496182312548,
          -0.1563066209771135,
          -0.15607040580989168,
          -0.2408437015210858,
          -0.24142030594797903,
          0.29692913694906226,
          -0.14626891920804025,
          -0.11800916274422366,
          -0.23230646281132078,
          -0.15481133018991547,
          -0.08234284147460343,
          1.5879843009456778,
          -0.15640433614118884,
          -0.15585682072610907,
          -0.1555582271433583,
          -0.15554517589044545,
          0.29711244528649167,
          0.057625460973988823,
          -0.19587205044695438,
          -0.18622085459564883,
          -0.15422682903878657,
          -0.14037512249302445,
          -0.15473665468680528,
          -0.23697129532942146,
          -0.186066503719623,
          -0.14696363652403008,
          -0.18616655283116296,
          -0.13261561353318538,
          1.133209764880983,
          0.29651754193964863,
          -0.0719695665504401,
          -0.2367135156912772,
          -0.12560533162257928,
          -0.07291358963564551,
          1.0829004385842096,
          -0.24139434133000473,
          -0.18621840776172344,
          -0.17926647512891483,
          -0.1556564230574632,
          -0.2413198551874818,
          -0.1547907544565518,
          -0.19249114960103733,
          -0.13170090619323327,
          0.30038621401375165,
          0.0361101118172388,
          -0.13987893258987832,
          -0.18815339507011036,
          -0.15622933029926442,
          0.15040127138982734,
          -0.23546945567043867,
          -0.1000753502123829,
          0.30442842072879966,
          -0.15646598990530203,
          -0.15323804851706344,
          -0.1532193677031472,
          -0.14239298517332158,
          -0.24049033513444001,
          0.29669980328158896,
          -0.1946768205493311,
          -0.151440437513652,
          -0.15450746716785432,
          -0.14469028548020402,
          0.300621805118949,
          0.5826001168578675,
          2.1024487872907955,
          -0.11942762892277901,
          0.31028476045791453,
          -0.1947488534774992,
          -0.17066012104107728,
          -0.2413765276230531,
          -0.15649053991088757,
          -0.12548648765325657,
          -0.19100374058132658,
          -0.1108036575906585,
          -0.11469688172240156,
          -0.24134793817743233,
          -0.1941774712734118,
          -0.0491276577779919,
          -0.14408896730185278,
          -0.15481136770421017,
          0.3763393721179677,
          -0.15534188614748864,
          -0.15573325786444314,
          -0.12587979789219075,
          -0.1553844909546496,
          -0.15228993417931924,
          -0.15405989023188046,
          -0.19244135154918943,
          -0.15408855971116497,
          -0.12480541606528514,
          -0.15295819462123794,
          0.5383328505086036,
          -0.11149182277301972,
          -0.10627652074215291,
          -0.14006821680996132,
          -0.15460180596211068,
          0.5581370168513987,
          -0.23544902182925292,
          -0.15656724822703053,
          -0.15452600661058274,
          -0.14310339859874235,
          -0.154506618216908,
          -0.14862894351538683,
          0.3182429739760343,
          -0.15434767781503658
         ]
        },
        {
         "customdata": [
          [
           "VeChainThor Authority"
          ],
          [
           "Proof-of-BibleHash"
          ],
          [
           "SHA-256 + Hive"
          ],
          [
           "Proof-of-Authority"
          ],
          [
           "ECC 256K1"
          ],
          [
           "Leased POS"
          ]
         ],
         "hovertemplate": "<b>%{hovertext}</b><br><br>Class=%{marker.color}<br>PCA 3=%{x}<br>PCA 2=%{y}<br>PCA 1=%{z}<br>Algorithm=%{customdata[0]}<extra></extra>",
         "hovertext": [
          "Vechain",
          "BiblePay",
          "LitecoinCash",
          "Poa Network",
          "Acute Angle Cloud",
          "Waves"
         ],
         "legendgroup": "3",
         "marker": {
          "color": [
           3,
           3,
           3,
           3,
           3,
           3
          ],
          "coloraxis": "coloraxis",
          "symbol": "x"
         },
         "mode": "markers",
         "name": "3",
         "scene": "scene",
         "showlegend": true,
         "type": "scatter3d",
         "x": [
          9.761263136685747,
          17.7653533161981,
          8.469160997592903,
          7.437878651103368,
          14.426335463720278,
          15.729615986963772
         ],
         "y": [
          3.0977969547347923,
          3.126508587709509,
          3.0249823915583933,
          3.249104493317877,
          2.8354973370456302,
          3.4879786833547453
         ],
         "z": [
          4.360679674776852,
          -0.1480838466154589,
          -0.3467702887990663,
          -0.39513699603624164,
          -0.3061971130361249,
          -0.4623342324731474
         ]
        },
        {
         "customdata": [
          [
           "TRC10"
          ]
         ],
         "hovertemplate": "<b>%{hovertext}</b><br><br>Class=%{marker.color}<br>PCA 3=%{x}<br>PCA 2=%{y}<br>PCA 1=%{z}<br>Algorithm=%{customdata[0]}<extra></extra>",
         "hovertext": [
          "BitTorrent"
         ],
         "legendgroup": "2",
         "marker": {
          "color": [
           2
          ],
          "coloraxis": "coloraxis",
          "symbol": "cross"
         },
         "mode": "markers",
         "name": "2",
         "scene": "scene",
         "showlegend": true,
         "type": "scatter3d",
         "x": [
          -1.2971416176231287
         ],
         "y": [
          1.7322823664118934
         ],
         "z": [
          34.03108529813189
         ]
        }
       ],
       "layout": {
        "coloraxis": {
         "colorbar": {
          "title": {
           "text": "Class"
          }
         },
         "colorscale": [
          [
           0,
           "#0d0887"
          ],
          [
           0.1111111111111111,
           "#46039f"
          ],
          [
           0.2222222222222222,
           "#7201a8"
          ],
          [
           0.3333333333333333,
           "#9c179e"
          ],
          [
           0.4444444444444444,
           "#bd3786"
          ],
          [
           0.5555555555555556,
           "#d8576b"
          ],
          [
           0.6666666666666666,
           "#ed7953"
          ],
          [
           0.7777777777777778,
           "#fb9f3a"
          ],
          [
           0.8888888888888888,
           "#fdca26"
          ],
          [
           1,
           "#f0f921"
          ]
         ]
        },
        "legend": {
         "title": {
          "text": "Class"
         },
         "tracegroupgap": 0,
         "x": 0,
         "y": 1
        },
        "margin": {
         "t": 60
        },
        "scene": {
         "domain": {
          "x": [
           0,
           1
          ],
          "y": [
           0,
           1
          ]
         },
         "xaxis": {
          "title": {
           "text": "PCA 3"
          }
         },
         "yaxis": {
          "title": {
           "text": "PCA 2"
          }
         },
         "zaxis": {
          "title": {
           "text": "PCA 1"
          }
         }
        },
        "template": {
         "data": {
          "bar": [
           {
            "error_x": {
             "color": "#2a3f5f"
            },
            "error_y": {
             "color": "#2a3f5f"
            },
            "marker": {
             "line": {
              "color": "#E5ECF6",
              "width": 0.5
             }
            },
            "type": "bar"
           }
          ],
          "barpolar": [
           {
            "marker": {
             "line": {
              "color": "#E5ECF6",
              "width": 0.5
             }
            },
            "type": "barpolar"
           }
          ],
          "carpet": [
           {
            "aaxis": {
             "endlinecolor": "#2a3f5f",
             "gridcolor": "white",
             "linecolor": "white",
             "minorgridcolor": "white",
             "startlinecolor": "#2a3f5f"
            },
            "baxis": {
             "endlinecolor": "#2a3f5f",
             "gridcolor": "white",
             "linecolor": "white",
             "minorgridcolor": "white",
             "startlinecolor": "#2a3f5f"
            },
            "type": "carpet"
           }
          ],
          "choropleth": [
           {
            "colorbar": {
             "outlinewidth": 0,
             "ticks": ""
            },
            "type": "choropleth"
           }
          ],
          "contour": [
           {
            "colorbar": {
             "outlinewidth": 0,
             "ticks": ""
            },
            "colorscale": [
             [
              0,
              "#0d0887"
             ],
             [
              0.1111111111111111,
              "#46039f"
             ],
             [
              0.2222222222222222,
              "#7201a8"
             ],
             [
              0.3333333333333333,
              "#9c179e"
             ],
             [
              0.4444444444444444,
              "#bd3786"
             ],
             [
              0.5555555555555556,
              "#d8576b"
             ],
             [
              0.6666666666666666,
              "#ed7953"
             ],
             [
              0.7777777777777778,
              "#fb9f3a"
             ],
             [
              0.8888888888888888,
              "#fdca26"
             ],
             [
              1,
              "#f0f921"
             ]
            ],
            "type": "contour"
           }
          ],
          "contourcarpet": [
           {
            "colorbar": {
             "outlinewidth": 0,
             "ticks": ""
            },
            "type": "contourcarpet"
           }
          ],
          "heatmap": [
           {
            "colorbar": {
             "outlinewidth": 0,
             "ticks": ""
            },
            "colorscale": [
             [
              0,
              "#0d0887"
             ],
             [
              0.1111111111111111,
              "#46039f"
             ],
             [
              0.2222222222222222,
              "#7201a8"
             ],
             [
              0.3333333333333333,
              "#9c179e"
             ],
             [
              0.4444444444444444,
              "#bd3786"
             ],
             [
              0.5555555555555556,
              "#d8576b"
             ],
             [
              0.6666666666666666,
              "#ed7953"
             ],
             [
              0.7777777777777778,
              "#fb9f3a"
             ],
             [
              0.8888888888888888,
              "#fdca26"
             ],
             [
              1,
              "#f0f921"
             ]
            ],
            "type": "heatmap"
           }
          ],
          "heatmapgl": [
           {
            "colorbar": {
             "outlinewidth": 0,
             "ticks": ""
            },
            "colorscale": [
             [
              0,
              "#0d0887"
             ],
             [
              0.1111111111111111,
              "#46039f"
             ],
             [
              0.2222222222222222,
              "#7201a8"
             ],
             [
              0.3333333333333333,
              "#9c179e"
             ],
             [
              0.4444444444444444,
              "#bd3786"
             ],
             [
              0.5555555555555556,
              "#d8576b"
             ],
             [
              0.6666666666666666,
              "#ed7953"
             ],
             [
              0.7777777777777778,
              "#fb9f3a"
             ],
             [
              0.8888888888888888,
              "#fdca26"
             ],
             [
              1,
              "#f0f921"
             ]
            ],
            "type": "heatmapgl"
           }
          ],
          "histogram": [
           {
            "marker": {
             "colorbar": {
              "outlinewidth": 0,
              "ticks": ""
             }
            },
            "type": "histogram"
           }
          ],
          "histogram2d": [
           {
            "colorbar": {
             "outlinewidth": 0,
             "ticks": ""
            },
            "colorscale": [
             [
              0,
              "#0d0887"
             ],
             [
              0.1111111111111111,
              "#46039f"
             ],
             [
              0.2222222222222222,
              "#7201a8"
             ],
             [
              0.3333333333333333,
              "#9c179e"
             ],
             [
              0.4444444444444444,
              "#bd3786"
             ],
             [
              0.5555555555555556,
              "#d8576b"
             ],
             [
              0.6666666666666666,
              "#ed7953"
             ],
             [
              0.7777777777777778,
              "#fb9f3a"
             ],
             [
              0.8888888888888888,
              "#fdca26"
             ],
             [
              1,
              "#f0f921"
             ]
            ],
            "type": "histogram2d"
           }
          ],
          "histogram2dcontour": [
           {
            "colorbar": {
             "outlinewidth": 0,
             "ticks": ""
            },
            "colorscale": [
             [
              0,
              "#0d0887"
             ],
             [
              0.1111111111111111,
              "#46039f"
             ],
             [
              0.2222222222222222,
              "#7201a8"
             ],
             [
              0.3333333333333333,
              "#9c179e"
             ],
             [
              0.4444444444444444,
              "#bd3786"
             ],
             [
              0.5555555555555556,
              "#d8576b"
             ],
             [
              0.6666666666666666,
              "#ed7953"
             ],
             [
              0.7777777777777778,
              "#fb9f3a"
             ],
             [
              0.8888888888888888,
              "#fdca26"
             ],
             [
              1,
              "#f0f921"
             ]
            ],
            "type": "histogram2dcontour"
           }
          ],
          "mesh3d": [
           {
            "colorbar": {
             "outlinewidth": 0,
             "ticks": ""
            },
            "type": "mesh3d"
           }
          ],
          "parcoords": [
           {
            "line": {
             "colorbar": {
              "outlinewidth": 0,
              "ticks": ""
             }
            },
            "type": "parcoords"
           }
          ],
          "pie": [
           {
            "automargin": true,
            "type": "pie"
           }
          ],
          "scatter": [
           {
            "marker": {
             "colorbar": {
              "outlinewidth": 0,
              "ticks": ""
             }
            },
            "type": "scatter"
           }
          ],
          "scatter3d": [
           {
            "line": {
             "colorbar": {
              "outlinewidth": 0,
              "ticks": ""
             }
            },
            "marker": {
             "colorbar": {
              "outlinewidth": 0,
              "ticks": ""
             }
            },
            "type": "scatter3d"
           }
          ],
          "scattercarpet": [
           {
            "marker": {
             "colorbar": {
              "outlinewidth": 0,
              "ticks": ""
             }
            },
            "type": "scattercarpet"
           }
          ],
          "scattergeo": [
           {
            "marker": {
             "colorbar": {
              "outlinewidth": 0,
              "ticks": ""
             }
            },
            "type": "scattergeo"
           }
          ],
          "scattergl": [
           {
            "marker": {
             "colorbar": {
              "outlinewidth": 0,
              "ticks": ""
             }
            },
            "type": "scattergl"
           }
          ],
          "scattermapbox": [
           {
            "marker": {
             "colorbar": {
              "outlinewidth": 0,
              "ticks": ""
             }
            },
            "type": "scattermapbox"
           }
          ],
          "scatterpolar": [
           {
            "marker": {
             "colorbar": {
              "outlinewidth": 0,
              "ticks": ""
             }
            },
            "type": "scatterpolar"
           }
          ],
          "scatterpolargl": [
           {
            "marker": {
             "colorbar": {
              "outlinewidth": 0,
              "ticks": ""
             }
            },
            "type": "scatterpolargl"
           }
          ],
          "scatterternary": [
           {
            "marker": {
             "colorbar": {
              "outlinewidth": 0,
              "ticks": ""
             }
            },
            "type": "scatterternary"
           }
          ],
          "surface": [
           {
            "colorbar": {
             "outlinewidth": 0,
             "ticks": ""
            },
            "colorscale": [
             [
              0,
              "#0d0887"
             ],
             [
              0.1111111111111111,
              "#46039f"
             ],
             [
              0.2222222222222222,
              "#7201a8"
             ],
             [
              0.3333333333333333,
              "#9c179e"
             ],
             [
              0.4444444444444444,
              "#bd3786"
             ],
             [
              0.5555555555555556,
              "#d8576b"
             ],
             [
              0.6666666666666666,
              "#ed7953"
             ],
             [
              0.7777777777777778,
              "#fb9f3a"
             ],
             [
              0.8888888888888888,
              "#fdca26"
             ],
             [
              1,
              "#f0f921"
             ]
            ],
            "type": "surface"
           }
          ],
          "table": [
           {
            "cells": {
             "fill": {
              "color": "#EBF0F8"
             },
             "line": {
              "color": "white"
             }
            },
            "header": {
             "fill": {
              "color": "#C8D4E3"
             },
             "line": {
              "color": "white"
             }
            },
            "type": "table"
           }
          ]
         },
         "layout": {
          "annotationdefaults": {
           "arrowcolor": "#2a3f5f",
           "arrowhead": 0,
           "arrowwidth": 1
          },
          "coloraxis": {
           "colorbar": {
            "outlinewidth": 0,
            "ticks": ""
           }
          },
          "colorscale": {
           "diverging": [
            [
             0,
             "#8e0152"
            ],
            [
             0.1,
             "#c51b7d"
            ],
            [
             0.2,
             "#de77ae"
            ],
            [
             0.3,
             "#f1b6da"
            ],
            [
             0.4,
             "#fde0ef"
            ],
            [
             0.5,
             "#f7f7f7"
            ],
            [
             0.6,
             "#e6f5d0"
            ],
            [
             0.7,
             "#b8e186"
            ],
            [
             0.8,
             "#7fbc41"
            ],
            [
             0.9,
             "#4d9221"
            ],
            [
             1,
             "#276419"
            ]
           ],
           "sequential": [
            [
             0,
             "#0d0887"
            ],
            [
             0.1111111111111111,
             "#46039f"
            ],
            [
             0.2222222222222222,
             "#7201a8"
            ],
            [
             0.3333333333333333,
             "#9c179e"
            ],
            [
             0.4444444444444444,
             "#bd3786"
            ],
            [
             0.5555555555555556,
             "#d8576b"
            ],
            [
             0.6666666666666666,
             "#ed7953"
            ],
            [
             0.7777777777777778,
             "#fb9f3a"
            ],
            [
             0.8888888888888888,
             "#fdca26"
            ],
            [
             1,
             "#f0f921"
            ]
           ],
           "sequentialminus": [
            [
             0,
             "#0d0887"
            ],
            [
             0.1111111111111111,
             "#46039f"
            ],
            [
             0.2222222222222222,
             "#7201a8"
            ],
            [
             0.3333333333333333,
             "#9c179e"
            ],
            [
             0.4444444444444444,
             "#bd3786"
            ],
            [
             0.5555555555555556,
             "#d8576b"
            ],
            [
             0.6666666666666666,
             "#ed7953"
            ],
            [
             0.7777777777777778,
             "#fb9f3a"
            ],
            [
             0.8888888888888888,
             "#fdca26"
            ],
            [
             1,
             "#f0f921"
            ]
           ]
          },
          "colorway": [
           "#636efa",
           "#EF553B",
           "#00cc96",
           "#ab63fa",
           "#FFA15A",
           "#19d3f3",
           "#FF6692",
           "#B6E880",
           "#FF97FF",
           "#FECB52"
          ],
          "font": {
           "color": "#2a3f5f"
          },
          "geo": {
           "bgcolor": "white",
           "lakecolor": "white",
           "landcolor": "#E5ECF6",
           "showlakes": true,
           "showland": true,
           "subunitcolor": "white"
          },
          "hoverlabel": {
           "align": "left"
          },
          "hovermode": "closest",
          "mapbox": {
           "style": "light"
          },
          "paper_bgcolor": "white",
          "plot_bgcolor": "#E5ECF6",
          "polar": {
           "angularaxis": {
            "gridcolor": "white",
            "linecolor": "white",
            "ticks": ""
           },
           "bgcolor": "#E5ECF6",
           "radialaxis": {
            "gridcolor": "white",
            "linecolor": "white",
            "ticks": ""
           }
          },
          "scene": {
           "xaxis": {
            "backgroundcolor": "#E5ECF6",
            "gridcolor": "white",
            "gridwidth": 2,
            "linecolor": "white",
            "showbackground": true,
            "ticks": "",
            "zerolinecolor": "white"
           },
           "yaxis": {
            "backgroundcolor": "#E5ECF6",
            "gridcolor": "white",
            "gridwidth": 2,
            "linecolor": "white",
            "showbackground": true,
            "ticks": "",
            "zerolinecolor": "white"
           },
           "zaxis": {
            "backgroundcolor": "#E5ECF6",
            "gridcolor": "white",
            "gridwidth": 2,
            "linecolor": "white",
            "showbackground": true,
            "ticks": "",
            "zerolinecolor": "white"
           }
          },
          "shapedefaults": {
           "line": {
            "color": "#2a3f5f"
           }
          },
          "ternary": {
           "aaxis": {
            "gridcolor": "white",
            "linecolor": "white",
            "ticks": ""
           },
           "baxis": {
            "gridcolor": "white",
            "linecolor": "white",
            "ticks": ""
           },
           "bgcolor": "#E5ECF6",
           "caxis": {
            "gridcolor": "white",
            "linecolor": "white",
            "ticks": ""
           }
          },
          "title": {
           "x": 0.05
          },
          "xaxis": {
           "automargin": true,
           "gridcolor": "white",
           "linecolor": "white",
           "ticks": "",
           "title": {
            "standoff": 15
           },
           "zerolinecolor": "white",
           "zerolinewidth": 2
          },
          "yaxis": {
           "automargin": true,
           "gridcolor": "white",
           "linecolor": "white",
           "ticks": "",
           "title": {
            "standoff": 15
           },
           "zerolinecolor": "white",
           "zerolinewidth": 2
          }
         }
        },
        "width": 800
       }
      }
     },
     "metadata": {}
    }
   ],
   "source": [
    "# Create a 3D-Scatter with the PCA data and the clusters\n",
    "fig = px.scatter_3d(\n",
    "    clustered_df,\n",
    "    x=\"PCA 3\",\n",
    "    y=\"PCA 2\",\n",
    "    z=\"PCA 1\",\n",
    "    color=\"Class\",\n",
    "    symbol=\"Class\",\n",
    "    width=800,\n",
    "    hover_name=\"CoinName\",\n",
    "    hover_data=[\"Algorithm\"]\n",
    ")\n",
    "fig.update_layout(legend=dict(x=0, y=1))\n",
    "fig.show()"
   ]
  },
  {
   "cell_type": "markdown",
   "metadata": {},
   "source": [
    "#### Table of Tradable Cryptocurrencies"
   ]
  },
  {
   "cell_type": "code",
   "execution_count": 24,
   "metadata": {},
   "outputs": [
    {
     "output_type": "execute_result",
     "data": {
      "text/html": "<div id='1102'>\n\n\n\n\n\n  <div class=\"bk-root\" id=\"031a8a84-7bb7-404a-a25c-827c5cb5b87c\" data-root-id=\"1102\"></div>\n</div>\n<script type=\"application/javascript\">(function(root) {\n  function embed_document(root) {\n  var docs_json = {\"55a06d79-22c7-45d7-b9cd-f22aa7a59f3f\":{\"roots\":{\"references\":[{\"attributes\":{\"format\":\"0,0.0[00000]\"},\"id\":\"1126\",\"type\":\"NumberFormatter\"},{\"attributes\":{\"children\":[{\"id\":\"1103\"},{\"id\":\"1136\"},{\"id\":\"1142\"}],\"margin\":[0,0,0,0],\"name\":\"Row01689\",\"tags\":[\"embedded\"]},\"id\":\"1102\",\"type\":\"Row\"},{\"attributes\":{},\"id\":\"1112\",\"type\":\"StringEditor\"},{\"attributes\":{\"margin\":[5,5,5,5],\"name\":\"HSpacer01693\",\"sizing_mode\":\"stretch_width\"},\"id\":\"1103\",\"type\":\"Spacer\"},{\"attributes\":{\"editor\":{\"id\":\"1112\"},\"field\":\"Algorithm\",\"formatter\":{\"id\":\"1111\"},\"title\":\"Algorithm\"},\"id\":\"1113\",\"type\":\"TableColumn\"},{\"attributes\":{\"data\":{\"Algorithm\":[\"Scrypt\",\"Scrypt\",\"X13\",\"SHA-256\",\"Ethash\",\"Scrypt\",\"X11\",\"CryptoNight-V7\",\"Ethash\",\"Equihash\",\"SHA-512\",\"Multiple\",\"SHA-256\",\"SHA-256\",\"Scrypt\",\"X15\",\"X11\",\"Scrypt\",\"Scrypt\",\"Scrypt\",\"Multiple\",\"Scrypt\",\"SHA-256\",\"Scrypt\",\"Scrypt\",\"Scrypt\",\"Quark\",\"Groestl\",\"Scrypt\",\"Scrypt\",\"Scrypt\",\"Scrypt\",\"Scrypt\",\"X11\",\"Scrypt\",\"Groestl\",\"Multiple\",\"SHA-256\",\"Scrypt\",\"Scrypt\",\"Scrypt\",\"Scrypt\",\"PoS\",\"Scrypt\",\"Scrypt\",\"NeoScrypt\",\"Scrypt\",\"Scrypt\",\"Scrypt\",\"Scrypt\",\"X11\",\"Scrypt\",\"X11\",\"SHA-256\",\"Scrypt\",\"Scrypt\",\"Scrypt\",\"SHA3\",\"Scrypt\",\"HybridScryptHash256\",\"Scrypt\",\"Scrypt\",\"SHA-256\",\"Scrypt\",\"X13\",\"Scrypt\",\"SHA-256\",\"Scrypt\",\"X13\",\"NeoScrypt\",\"Scrypt\",\"Scrypt\",\"Scrypt\",\"Scrypt\",\"Scrypt\",\"Scrypt\",\"X11\",\"X11\",\"SHA-256\",\"Multiple\",\"SHA-256\",\"PHI1612\",\"X11\",\"SHA-256\",\"SHA-256\",\"SHA-256\",\"X11\",\"Scrypt\",\"Scrypt\",\"Scrypt\",\"Scrypt\",\"Lyra2REv2\",\"Scrypt\",\"X11\",\"Multiple\",\"SHA-256\",\"X13\",\"Scrypt\",\"CryptoNight\",\"CryptoNight\",\"Shabal256\",\"Counterparty\",\"Scrypt\",\"SHA-256\",\"Groestl\",\"Scrypt\",\"Scrypt\",\"Scrypt\",\"X13\",\"Scrypt\",\"Scrypt\",\"Scrypt\",\"Scrypt\",\"X13\",\"Scrypt\",\"Stanford Folding\",\"X11\",\"Multiple\",\"QuBit\",\"Scrypt\",\"Scrypt\",\"Scrypt\",\"M7 POW\",\"Scrypt\",\"SHA-256\",\"Scrypt\",\"X11\",\"SHA3\",\"X11\",\"Lyra2RE\",\"SHA-256\",\"QUAIT\",\"X11\",\"X11\",\"Scrypt\",\"Scrypt\",\"Scrypt\",\"Ethash\",\"X13\",\"Blake2b\",\"SHA-256\",\"X15\",\"X11\",\"SHA-256\",\"BLAKE256\",\"Scrypt\",\"1GB AES Pattern Search\",\"SHA-256\",\"X11\",\"Scrypt\",\"SHA-256\",\"SHA-256\",\"NIST5\",\"Scrypt\",\"Scrypt\",\"X11\",\"Dagger\",\"Scrypt\",\"X11GOST\",\"X11\",\"Scrypt\",\"SHA-256\",\"Scrypt\",\"PoS\",\"Scrypt\",\"X11\",\"X11\",\"SHA-256\",\"SHA-256\",\"NIST5\",\"X11\",\"Scrypt\",\"POS 3.0\",\"Scrypt\",\"Scrypt\",\"Scrypt\",\"X13\",\"X11\",\"X11\",\"Equihash\",\"X11\",\"Scrypt\",\"CryptoNight\",\"SHA-256\",\"SHA-256\",\"X11\",\"Scrypt\",\"Multiple\",\"Scrypt\",\"Scrypt\",\"Scrypt\",\"SHA-256\",\"Scrypt\",\"Scrypt\",\"SHA-256D\",\"PoS\",\"Scrypt\",\"X11\",\"Lyra2Z\",\"PoS\",\"X13\",\"X14\",\"PoS\",\"SHA-256D\",\"Ethash\",\"Equihash\",\"DPoS\",\"X11\",\"Scrypt\",\"X11\",\"X13\",\"X11\",\"PoS\",\"Scrypt\",\"Scrypt\",\"X11\",\"PoS\",\"X11\",\"SHA-256\",\"Scrypt\",\"X11\",\"Scrypt\",\"Scrypt\",\"X11\",\"CryptoNight\",\"Scrypt\",\"Scrypt\",\"Scrypt\",\"Scrypt\",\"Quark\",\"QuBit\",\"Scrypt\",\"CryptoNight\",\"Lyra2RE\",\"Scrypt\",\"SHA-256\",\"X11\",\"Scrypt\",\"X11\",\"Scrypt\",\"CryptoNight-V7\",\"Scrypt\",\"Scrypt\",\"Scrypt\",\"X13\",\"X11\",\"Equihash\",\"Scrypt\",\"Scrypt\",\"Lyra2RE\",\"Scrypt\",\"Dagger-Hashimoto\",\"X11\",\"Blake2S\",\"X11\",\"Scrypt\",\"PoS\",\"X11\",\"NIST5\",\"PoS\",\"X11\",\"Scrypt\",\"Scrypt\",\"Scrypt\",\"SHA-256\",\"X11\",\"Scrypt\",\"Scrypt\",\"SHA-256\",\"PoS\",\"Scrypt\",\"X15\",\"SHA-256\",\"Scrypt\",\"POS 3.0\",\"CryptoNight-V7\",\"536\",\"Argon2d\",\"Blake2b\",\"Cloverhash\",\"CryptoNight\",\"NIST5\",\"X11\",\"NIST5\",\"Skein\",\"Scrypt\",\"X13\",\"Scrypt\",\"X11\",\"X11\",\"Scrypt\",\"CryptoNight\",\"X13\",\"Time Travel\",\"Scrypt\",\"Keccak\",\"SkunkHash v2 Raptor\",\"X11\",\"Skein\",\"SHA-256\",\"X11\",\"Scrypt\",\"VeChainThor Authority\",\"Scrypt\",\"PoS\",\"Scrypt\",\"Scrypt\",\"Scrypt\",\"Scrypt\",\"Scrypt\",\"Scrypt\",\"Scrypt\",\"CryptoNight\",\"SHA-512\",\"Ouroboros\",\"X11\",\"Equihash\",\"NeoScrypt\",\"X11\",\"Scrypt\",\"NeoScrypt\",\"Lyra2REv2\",\"Equihash\",\"Scrypt\",\"SHA-256\",\"NIST5\",\"PHI1612\",\"Dagger\",\"Scrypt\",\"Quark\",\"Scrypt\",\"POS 2.0\",\"Scrypt\",\"SHA-256\",\"X11\",\"NeoScrypt\",\"Ethash\",\"NeoScrypt\",\"X11\",\"DPoS\",\"NIST5\",\"X13\",\"Multiple\",\"Scrypt\",\"CryptoNight\",\"CryptoNight\",\"Ethash\",\"NIST5\",\"Quark\",\"X11\",\"CryptoNight-V7\",\"Scrypt\",\"Scrypt\",\"Scrypt\",\"X11\",\"BLAKE256\",\"X11\",\"NeoScrypt\",\"Quark\",\"NeoScrypt\",\"Scrypt\",\"Scrypt\",\"Scrypt\",\"X11\",\"X11\",\"SHA-256\",\"C11\",\"POS 3.0\",\"Ethash\",\"Scrypt\",\"CryptoNight\",\"SkunkHash\",\"Scrypt\",\"CryptoNight\",\"Scrypt\",\"Dagger\",\"Lyra2REv2\",\"X13\",\"Proof-of-BibleHash\",\"SHA-256 + Hive\",\"Scrypt\",\"Scrypt\",\"X11\",\"C11\",\"Proof-of-Authority\",\"X11\",\"XEVAN\",\"Scrypt\",\"VBFT\",\"Ethash\",\"CryptoNight\",\"Scrypt\",\"IMesh\",\"NIST5\",\"Scrypt\",\"Scrypt\",\"Equihash\",\"Scrypt\",\"Lyra2Z\",\"Green Protocol\",\"PoS\",\"Scrypt\",\"Semux BFT consensus\",\"X11\",\"Quark\",\"PoS\",\"CryptoNight\",\"X16R\",\"Scrypt\",\"NIST5\",\"Lyra2RE\",\"XEVAN\",\"Tribus\",\"Scrypt\",\"Lyra2Z\",\"CryptoNight\",\"CryptoNight Heavy\",\"CryptoNight\",\"Scrypt\",\"Scrypt\",\"Jump Consistent Hash\",\"SHA-256D\",\"CryptoNight\",\"Scrypt\",\"X15\",\"Scrypt\",\"Quark\",\"SHA-256\",\"DPoS\",\"X16R\",\"HMQ1725\",\"X11\",\"X16R\",\"Quark\",\"Quark\",\"Scrypt\",\"Lyra2REv2\",\"Quark\",\"Scrypt\",\"Scrypt\",\"CryptoNight-V7\",\"Cryptonight-GPU\",\"XEVAN\",\"CryptoNight Heavy\",\"X11\",\"X11\",\"Scrypt\",\"PoS\",\"SHA-256\",\"Keccak\",\"X11\",\"X11\",\"Scrypt\",\"SHA-512\",\"X16R\",\"ECC 256K1\",\"Equihash\",\"XEVAN\",\"Lyra2Z\",\"SHA-256\",\"XEVAN\",\"X11\",\"CryptoNight\",\"Quark\",\"Blake\",\"Blake\",\"Equihash\",\"Exosis\",\"Scrypt\",\"Scrypt\",\"Equihash\",\"Quark\",\"Equihash\",\"Quark\",\"Scrypt\",\"QuBit\",\"X11\",\"Scrypt\",\"XEVAN\",\"SHA-256D\",\"X11\",\"SHA-256\",\"X13\",\"SHA-256\",\"X11\",\"DPoS\",\"Scrypt\",\"Scrypt\",\"X11\",\"NeoScrypt\",\"Scrypt\",\"Blake\",\"Scrypt\",\"SHA-256\",\"Scrypt\",\"X11\",\"Scrypt\",\"Scrypt\",\"SHA-256\",\"X11\",\"SHA-256\",\"Scrypt\",\"Scrypt\",\"Scrypt\",\"Groestl\",\"X11\",\"Scrypt\",\"PoS\",\"Scrypt\",\"Scrypt\",\"X11\",\"SHA-256\",\"DPoS\",\"Scrypt\",\"Scrypt\",\"NeoScrypt\",\"Multiple\",\"X13\",\"Equihash+Scrypt\",\"DPoS\",\"Ethash\",\"DPoS\",\"SHA-256\",\"Leased POS\",\"PoS\",\"TRC10\",\"PoS\",\"SHA-256\",\"Scrypt\",\"CryptoNight\",\"Equihash\",\"Scrypt\"],\"Class\":{\"__ndarray__\":\"AQAAAAEAAAAEAAAAAAAAAAAAAAAAAAAAAQAAAAAAAAAAAAAAAAAAAAEAAAAAAAAAAQAAAAEAAAAAAAAAAQAAAAAAAAAAAAAAAQAAAAEAAAAAAAAABAAAAAAAAAAAAAAAAAAAAAEAAAAAAAAAAAAAAAAAAAABAAAAAAAAAAEAAAAAAAAAAAAAAAEAAAABAAAAAAAAAAAAAAAAAAAAAAAAAAAAAAAAAAAAAQAAAAEAAAAAAAAAAAAAAAAAAAAAAAAAAAAAAAEAAAABAAAAAAAAAAEAAAAAAAAAAAAAAAAAAAAAAAAAAQAAAAAAAAAAAAAAAQAAAAAAAAABAAAAAQAAAAEAAAAAAAAAAAAAAAAAAAABAAAAAQAAAAEAAAABAAAAAQAAAAAAAAAAAAAAAAAAAAEAAAABAAAAAAAAAAEAAAAAAAAAAQAAAAEAAAAAAAAAAAAAAAAAAAAAAAAAAQAAAAEAAAAAAAAAAQAAAAAAAAAAAAAAAQAAAAEAAAAAAAAAAQAAAAEAAAAEAAAAAAAAAAEAAAABAAAAAAAAAAEAAAABAAAAAAAAAAEAAAAAAAAAAQAAAAAAAAABAAAAAAAAAAEAAAABAAAAAAAAAAAAAAABAAAAAAAAAAAAAAAAAAAAAQAAAAAAAAAAAAAAAAAAAAAAAAAAAAAAAQAAAAEAAAAAAAAAAAAAAAAAAAABAAAAAAAAAAEAAAAAAAAAAAAAAAEAAAAAAAAAAQAAAAAAAAABAAAAAQAAAAAAAAAAAAAAAQAAAAAAAAAAAAAAAQAAAAEAAAAAAAAAAQAAAAAAAAABAAAAAQAAAAEAAAAAAAAAAAAAAAAAAAAAAAAAAQAAAAEAAAABAAAAAQAAAAEAAAAAAAAAAAAAAAEAAAABAAAAAQAAAAEAAAABAAAAAAAAAAEAAAABAAAAAQAAAAEAAAABAAAAAAAAAAEAAAAAAAAAAQAAAAEAAAAAAAAAAQAAAAAAAAABAAAAAQAAAAAAAAABAAAAAAAAAAEAAAAAAAAAAQAAAAAAAAABAAAAAQAAAAEAAAABAAAAAAAAAAEAAAABAAAAAQAAAAEAAAABAAAAAAAAAAAAAAAEAAAAAQAAAAAAAAAAAAAAAQAAAAEAAAABAAAAAQAAAAEAAAAAAAAAAQAAAAEAAAABAAAAAQAAAAEAAAABAAAAAQAAAAEAAAAAAAAAAQAAAAEAAAABAAAAAQAAAAEAAAABAAAAAAAAAAAAAAAAAAAAAQAAAAEAAAABAAAAAQAAAAAAAAABAAAAAAAAAAEAAAABAAAAAAAAAAEAAAAAAAAAAAAAAAEAAAAAAAAAAAAAAAEAAAAAAAAAAQAAAAEAAAABAAAAAAAAAAEAAAABAAAAAAAAAAEAAAABAAAAAQAAAAEAAAABAAAAAQAAAAEAAAAAAAAAAQAAAAAAAAABAAAAAQAAAAEAAAABAAAAAAAAAAEAAAAAAAAAAQAAAAAAAAAAAAAAAAAAAAAAAAABAAAAAAAAAAEAAAABAAAAAAAAAAEAAAAAAAAAAAAAAAAAAAABAAAAAAAAAAEAAAAAAAAABAAAAAAAAAABAAAAAAAAAAEAAAAAAAAAAQAAAAEAAAADAAAAAAAAAAEAAAAAAAAAAAAAAAAAAAAAAAAAAAAAAAEAAAABAAAAAAAAAAEAAAABAAAAAQAAAAAAAAABAAAAAAAAAAEAAAAAAAAAAQAAAAAAAAABAAAAAQAAAAEAAAABAAAAAAAAAAEAAAABAAAAAAAAAAEAAAABAAAAAQAAAAAAAAAAAAAAAAAAAAAAAAABAAAABAAAAAEAAAABAAAAAAAAAAEAAAAAAAAAAAAAAAAAAAABAAAAAQAAAAAAAAAAAAAAAQAAAAEAAAAAAAAAAQAAAAAAAAAAAAAAAAAAAAEAAAAAAAAAAAAAAAEAAAABAAAAAQAAAAAAAAAAAAAAAAAAAAEAAAABAAAAAQAAAAQAAAAAAAAAAQAAAAAAAAAAAAAAAAAAAAAAAAABAAAAAwAAAAMAAAAAAAAAAAAAAAAAAAABAAAAAwAAAAEAAAABAAAAAQAAAAEAAAAAAAAAAAAAAAAAAAAAAAAAAQAAAAEAAAABAAAAAAAAAAEAAAAAAAAAAQAAAAEAAAABAAAABAAAAAAAAAABAAAAAQAAAAAAAAABAAAAAQAAAAAAAAAAAAAAAQAAAAAAAAABAAAAAAAAAAAAAAAAAAAAAAAAAAEAAAABAAAAAAAAAAEAAAAAAAAAAQAAAAEAAAAEAAAAAQAAAAEAAAABAAAAAAAAAAAAAAAAAAAAAQAAAAEAAAABAAAAAQAAAAEAAAABAAAAAAAAAAEAAAAAAAAAAAAAAAAAAAAEAAAAAQAAAAEAAAABAAAAAQAAAAAAAAABAAAAAQAAAAAAAAABAAAAAQAAAAAAAAADAAAAAAAAAAEAAAAAAAAAAAAAAAEAAAABAAAAAAAAAAEAAAAAAAAAAAAAAAEAAAAAAAAAAAAAAAEAAAAAAAAAAQAAAAAAAAABAAAAAQAAAAAAAAABAAAAAQAAAAEAAAABAAAAAQAAAAAAAAAAAAAAAAAAAAEAAAAEAAAAAQAAAAAAAAABAAAAAAAAAAEAAAAAAAAAAQAAAAEAAAABAAAAAQAAAAAAAAABAAAAAQAAAAEAAAAAAAAAAQAAAAAAAAABAAAAAAAAAAEAAAABAAAAAQAAAAAAAAAAAAAAAQAAAAEAAAAEAAAAAQAAAAEAAAABAAAAAAAAAAEAAAAAAAAABAAAAAAAAAAEAAAAAQAAAAMAAAABAAAAAgAAAAEAAAAEAAAAAQAAAAAAAAAAAAAAAQAAAA==\",\"dtype\":\"int32\",\"order\":\"little\",\"shape\":[532]},\"CoinName\":[\"42 Coin\",\"404Coin\",\"EliteCoin\",\"Bitcoin\",\"Ethereum\",\"Litecoin\",\"Dash\",\"Monero\",\"Ethereum Classic\",\"ZCash\",\"Bitshares\",\"DigiByte\",\"BitcoinDark\",\"PayCoin\",\"ProsperCoin\",\"KoboCoin\",\"Spreadcoin\",\"Argentum\",\"Aurora Coin\",\"BlueCoin\",\"MyriadCoin\",\"MoonCoin\",\"ZetaCoin\",\"SexCoin\",\"Quatloo\",\"EnergyCoin\",\"QuarkCoin\",\"Riecoin\",\"Digitalcoin \",\"BitBar\",\"Catcoin\",\"CryptoBullion\",\"CannaCoin\",\"CryptCoin\",\"CasinoCoin\",\"Diamond\",\"Verge\",\"DevCoin\",\"EarthCoin\",\"E-Gulden\",\"Einsteinium\",\"Emerald\",\"Exclusive Coin\",\"FlutterCoin\",\"Franko\",\"FeatherCoin\",\"GrandCoin\",\"GlobalCoin\",\"GoldCoin\",\"HoboNickels\",\"HyperStake\",\"Infinite Coin\",\"IOCoin\",\"IXcoin\",\"KrugerCoin\",\"LuckyCoin\",\"Litebar \",\"MaxCoin\",\"MegaCoin\",\"MediterraneanCoin\",\"MintCoin\",\"MinCoin\",\"MazaCoin\",\"Nautilus Coin\",\"NavCoin\",\"NobleCoin\",\"Namecoin\",\"NyanCoin\",\"OpalCoin\",\"Orbitcoin\",\"PotCoin\",\"PhoenixCoin\",\"Reddcoin\",\"RonPaulCoin\",\"StableCoin\",\"SmartCoin\",\"SuperCoin\",\"SyncCoin\",\"SysCoin\",\"TeslaCoin\",\"TigerCoin\",\"TittieCoin\",\"TorCoin\",\"TerraCoin\",\"UnbreakableCoin\",\"Unobtanium\",\"UroCoin\",\"UnitaryStatus Dollar\",\"UltraCoin\",\"ViaCoin\",\"VeriCoin\",\"Vertcoin\",\"WorldCoin\",\"X11 Coin\",\"Crypti\",\"JouleCoin\",\"StealthCoin\",\"ZCC Coin\",\"ByteCoin\",\"DigitalNote \",\"BurstCoin\",\"StorjCoin\",\"MonaCoin\",\"Neutron\",\"FairCoin\",\"Gulden\",\"RubyCoin\",\"PesetaCoin\",\"Kore\",\"Wild Beast Coin\",\"Dnotes\",\"Flo\",\"8BIT Coin\",\"Sativa Coin\",\"ArtByte\",\"Folding Coin\",\"Ucoin\",\"Unitus\",\"CypherPunkCoin\",\"OmniCron\",\"Vtorrent\",\"GreenCoin\",\"Cryptonite\",\"MasterCoin\",\"SoonCoin\",\"1Credit\",\"IslaCoin\",\"Nexus\",\"MarsCoin \",\"Crypto\",\"Anarchists Prime\",\"Droidz\",\"BowsCoin\",\"Squall Coin\",\"Song Coin\",\"BitZeny\",\"Diggits\",\"Expanse\",\"Paycon\",\"Siacoin\",\"Emercoin\",\"EverGreenCoin\",\"MindCoin\",\"I0coin\",\"Decred\",\"Revolution VR\",\"HOdlcoin\",\"EDRCoin\",\"Hitcoin\",\"Gamecredits\",\"DubaiCoin\",\"CarpeDiemCoin\",\"PWR Coin\",\"BillaryCoin\",\"GPU Coin\",\"Adzcoin\",\"SoilCoin\",\"YoCoin\",\"SibCoin\",\"EuropeCoin\",\"ZeitCoin\",\"SwingCoin\",\"SafeExchangeCoin\",\"Nebuchadnezzar\",\"Francs\",\"BolivarCoin\",\"Ratecoin\",\"Revenu\",\"Clockcoin\",\"VIP Tokens\",\"BitSend\",\"Omni\",\"Let it Ride\",\"PutinCoin\",\"iBankCoin\",\"Frankywillcoin\",\"MudraCoin\",\"PizzaCoin\",\"Lutetium Coin\",\"Komodo\",\"GoldBlocks\",\"CarterCoin\",\"Karbo\",\"BitTokens\",\"ZayedCoin\",\"MustangCoin\",\"ZoneCoin\",\"Circuits of Value\",\"RootCoin\",\"DopeCoin\",\"BitCurrency\",\"DollarCoin\",\"Swiscoin\",\"Shilling\",\"BuzzCoin\",\"Opair\",\"PesoBit\",\"Halloween Coin\",\"ZCoin\",\"CoffeeCoin\",\"RoyalCoin\",\"GanjaCoin V2\",\"TeamUP\",\"LanaCoin\",\"Elementrem\",\"ZClassic\",\"ARK\",\"InsaneCoin\",\"KiloCoin\",\"ArtexCoin\",\"EmberCoin\",\"XenixCoin\",\"FreeCoin\",\"PLNCoin\",\"AquariusCoin\",\"Kurrent\",\"Creatio\",\"Eternity\",\"Eurocoin\",\"BitcoinFast\",\"Stakenet\",\"BitConnect Coin\",\"MoneyCoin\",\"Enigma\",\"Cannabis Industry Coin\",\"Russiacoin\",\"PandaCoin\",\"GameUnits\",\"GAKHcoin\",\"Allsafe\",\"LiteCreed\",\"OsmiumCoin\",\"Bikercoins\",\"HexxCoin\",\"Klingon Empire Darsek\",\"Internet of People\",\"KushCoin\",\"Printerium\",\"PacCoin\",\"Impeach\",\"Citadel\",\"Zilbercoin\",\"FirstCoin\",\"BeaverCoin\",\"FindCoin\",\"VaultCoin\",\"Zero\",\"OpenChat\",\"Canada eCoin\",\"Zoin\",\"RenosCoin\",\"DubaiCoin\",\"VirtacoinPlus\",\"TajCoin\",\"Impact\",\"EB3coin\",\"Atmos\",\"HappyCoin\",\"Coinonat\",\"MacronCoin\",\"Condensate\",\"Independent Money System\",\"ArgusCoin\",\"LomoCoin\",\"ProCurrency\",\"GoldReserve\",\"BenjiRolls\",\"GrowthCoin\",\"ILCoin\",\"Phreak\",\"Degas Coin\",\"HTML5 Coin\",\"Ultimate Secure Cash\",\"EquiTrader\",\"QTUM\",\"Quantum Resistant Ledger\",\"Espers\",\"Dynamic\",\"Nano\",\"ChanCoin\",\"Dinastycoin\",\"Denarius\",\"DigitalPrice\",\"Virta Unique Coin\",\"Bitcoin Planet\",\"Unify\",\"BritCoin\",\"SocialCoin\",\"ArcticCoin\",\"DAS\",\"Linda\",\"LeviarCoin\",\"DeepOnion\",\"Bitcore\",\"gCn Coin\",\"SmartCash\",\"Signatum\",\"Onix\",\"Cream\",\"Bitcoin Cash\",\"Monoeci\",\"Draftcoin\",\"Vechain\",\"Sojourn Coin\",\"Stakecoin\",\"NewYorkCoin\",\"FrazCoin\",\"Kronecoin\",\"AdCoin\",\"Linx\",\"CoinonatX\",\"Ethereum Dark\",\"Sumokoin\",\"Obsidian\",\"Cardano\",\"Regalcoin\",\"BitcoinZ\",\"TrezarCoin\",\"Elements\",\"TerraNovaCoin\",\"VIVO Coin\",\"Rupee\",\"Bitcoin Gold\",\"WomenCoin\",\"Theresa May Coin\",\"NamoCoin\",\"LUXCoin\",\"Pirl\",\"Xios\",\"Bitcloud 2.0\",\"eBoost\",\"KekCoin\",\"BlackholeCoin\",\"Infinity Economics\",\"Pura\",\"Innova\",\"Ellaism\",\"GoByte\",\"Magnet\",\"Lamden Tau\",\"Electra\",\"Bitcoin Diamond\",\"SHIELD\",\"Cash & Back Coin\",\"UltraNote\",\"BitCoal\",\"DaxxCoin\",\"Bulwark\",\"Kalkulus\",\"AC3\",\"Lethean\",\"GermanCoin\",\"LiteCoin Ultra\",\"PopularCoin\",\"PhantomX\",\"Photon\",\"Sucre\",\"SparksPay\",\"Digiwage\",\"GunCoin\",\"IrishCoin\",\"Trollcoin\",\"Litecoin Plus\",\"Monkey Project\",\"Pioneer Coin\",\"UnitedBitcoin\",\"Interzone\",\"TokenPay\",\"1717 Masonic Commemorative Token\",\"My Big Coin\",\"TurtleCoin\",\"MUNcoin\",\"Unified Society USDEX\",\"Niobio Cash\",\"ShareChain\",\"Travelflex\",\"KREDS\",\"Tokyo Coin\",\"BiblePay\",\"LitecoinCash\",\"BitFlip\",\"LottoCoin\",\"Crypto Improvement Fund\",\"Stipend\",\"Poa Network\",\"Pushi\",\"Ellerium\",\"Velox\",\"Ontology\",\"Callisto Network\",\"BitTube\",\"Poseidon\",\"Aidos Kuneen\",\"Bitspace\",\"Briacoin\",\"Ignition\",\"Bitrolium\",\"MedicCoin\",\"Alpenschillling\",\"Bitcoin Green\",\"Deviant Coin\",\"Abjcoin\",\"Semux\",\"FuturoCoin\",\"Carebit\",\"Zealium\",\"Monero Classic\",\"Proton\",\"iDealCash\",\"Jumpcoin\",\"Infinex\",\"Bitcoin Incognito\",\"KEYCO\",\"HollyWoodCoin\",\"GINcoin\",\"PlatinCoin\",\"Loki\",\"Newton Coin\",\"Swisscoin\",\"Xt3ch\",\"MassGrid\",\"TheVig\",\"PluraCoin\",\"EmaratCoin\",\"Dekado\",\"Lynx\",\"Poseidon Quark\",\"BitcoinWSpectrum\",\"Muse\",\"Motion\",\"PlusOneCoin\",\"Axe\",\"Trivechain\",\"Dystem\",\"Giant\",\"Peony Coin\",\"Absolute Coin\",\"Vitae\",\"HexCoin\",\"TPCash\",\"Webchain\",\"Ryo\",\"Urals Coin\",\"Qwertycoin\",\"ARENON\",\"EUNO\",\"MMOCoin\",\"Ketan\",\"Project Pai\",\"XDNA\",\"PAXEX\",\"Azart\",\"ThunderStake\",\"Kcash\",\"Xchange\",\"Acute Angle Cloud\",\"CrypticCoin\",\"Bettex coin\",\"Actinium\",\"Bitcoin SV\",\"BitMoney\",\"Junson Ming Chan Coin\",\"FREDEnergy\",\"HerbCoin\",\"Universal Molecule\",\"Lithium\",\"PirateCash\",\"Exosis\",\"Block-Logic\",\"Oduwa\",\"Beam\",\"Galilel\",\"Bithereum\",\"Crypto Sports\",\"Credit\",\"SLICE\",\"Dash Platinum\",\"Nasdacoin\",\"Beetle Coin\",\"Titan Coin\",\"Award\",\"BLAST\",\"Bitcoin Rhodium\",\"GlobalToken\",\"Insane Coin\",\"ALAX\",\"LiteDoge\",\"SolarCoin\",\"TruckCoin\",\"UFO Coin\",\"OrangeCoin\",\"BlakeCoin\",\"BitstarCoin\",\"NeosCoin\",\"HyperCoin\",\"PinkCoin\",\"Crypto Escudo\",\"AudioCoin\",\"IncaKoin\",\"Piggy Coin\",\"Crown Coin\",\"Genstake\",\"SmileyCoin\",\"XiaoMiCoin\",\"Groestlcoin\",\"CapriCoin\",\" ClubCoin\",\"Radium\",\"Bata\",\"Pakcoin\",\"Creditbit \",\"OKCash\",\"Lisk\",\"HiCoin\",\"WhiteCoin\",\"FriendshipCoin\",\"JoinCoin\",\"Triangles Coin\",\"Vollar\",\"EOS\",\"Reality Clash\",\"Oxycoin\",\"TigerCash\",\"Waves\",\"Particl\",\"BitTorrent\",\"Nxt\",\"ZEPHYR\",\"Gapcoin\",\"Beldex\",\"Horizen\",\"BitcoinPlus\"],\"ProofType\":[\"PoW/PoS\",\"PoW/PoS\",\"PoW/PoS\",\"PoW\",\"PoW\",\"PoW\",\"PoW/PoS\",\"PoW\",\"PoW\",\"PoW\",\"PoS\",\"PoW\",\"PoW/PoS\",\"PoS\",\"PoW\",\"PoW/PoS\",\"PoW\",\"PoW\",\"PoW/PoS\",\"PoW/PoS\",\"PoW\",\"PoW\",\"PoW\",\"PoW\",\"PoW\",\"PoW/PoS\",\"PoW\",\"PoW\",\"PoW\",\"PoW/PoS\",\"PoW\",\"PoW/PoS\",\"PoW\",\"PoW\",\"PoC\",\"PoW/PoS\",\"PoW\",\"PoW\",\"PoW\",\"PoW\",\"PoW\",\"PoW\",\"PoS\",\"PoS/PoW/PoT\",\"PoW\",\"PoW\",\"PoW\",\"PoW\",\"PoW\",\"PoW/PoS\",\"PoS\",\"PoW\",\"PoW/PoS\",\"PoW\",\"PoW\",\"PoW\",\"PoW\",\"PoW/PoS\",\"PoW\",\"PoW\",\"PoS\",\"PoW\",\"PoW/PoS\",\"PoS\",\"PoW/PoS\",\"PoW\",\"PoW\",\"PoW\",\"PoW/PoS\",\"PoW/PoS\",\"PoW/PoS\",\"PoW/PoS\",\"PoW/PoS\",\"PoW\",\"PoW\",\"PoW\",\"PoS\",\"PoW/PoS\",\"PoW\",\"PoS\",\"PoW\",\"PoS\",\"PoW/PoS\",\"PoW\",\"PoW\",\"PoW\",\"PoW\",\"PoW/PoS\",\"PoW/PoS\",\"PoW\",\"PoST\",\"PoW\",\"PoW\",\"PoW/PoS\",\"PoS\",\"PoW\",\"PoW/PoS\",\"PoW/PoS\",\"PoW\",\"PoW\",\"PoC\",\"PoS\",\"PoW\",\"PoW/PoS\",\"PoW/PoS\",\"PoW\",\"PoS\",\"PoW\",\"PoW/PoS\",\"PoW\",\"PoS\",\"PoW\",\"PoW/PoS\",\"PoW/PoS\",\"PoW\",\"PoW\",\"PoS\",\"PoW\",\"PoW\",\"PoW\",\"PoW/PoS\",\"PoW\",\"PoW\",\"PoW\",\"PoW\",\"PoW\",\"PoW/PoS\",\"PoW/nPoS\",\"PoW\",\"PoW\",\"PoW\",\"PoW/PoS\",\"PoW\",\"PoS/PoW\",\"PoW\",\"PoW\",\"PoS\",\"PoW\",\"PoW/PoS\",\"PoW\",\"PoW/PoS\",\"PoW/PoS\",\"PoW\",\"PoW\",\"PoW/PoS\",\"PoW\",\"PoW\",\"PoW/PoS\",\"PoW/PoS\",\"PoW\",\"PoW/PoS\",\"PoW\",\"PoW/PoS\",\"PoW/PoS\",\"PoS\",\"PoW\",\"PoW\",\"PoW\",\"PoW\",\"PoW/PoS\",\"PoS\",\"PoW/PoS\",\"PoC\",\"PoS\",\"PoW\",\"PoW\",\"PoW/PoS\",\"PoW/PoS\",\"PoW/PoS\",\"PoW/PoS\",\"PoW/PoS\",\"PoW\",\"PoS\",\"PoW/PoS\",\"PoW/PoS\",\"PoW/PoS\",\"PoS\",\"PoW\",\"PoS\",\"dPoW/PoW\",\"PoW/PoS\",\"PoW/PoS\",\"PoW\",\"PoW/PoS\",\"PoW\",\"PoW/PoS\",\"PoW/PoS\",\"PoW\",\"PoW/PoS\",\"PoW\",\"PoS\",\"PoW\",\"PoW/PoW\",\"PoW\",\"PoW/PoS\",\"PoS\",\"PoW/PoS\",\"PoW/PoS\",\"PoW\",\"PoS\",\"PoS\",\"PoW/PoS\",\"PoS\",\"PoW/PoS\",\"PoW\",\"PoW\",\"DPoS\",\"PoW/PoS\",\"PoW\",\"PoW\",\"PoW/PoS\",\"PoW/PoS\",\"PoS\",\"PoW/PoS\",\"PoW/PoS\",\"PoW\",\"PoS\",\"PoW/PoS\",\"PoW/PoS\",\"PoW/PoS\",\"TPoS\",\"PoW/PoS\",\"PoW/PoS\",\"PoW/PoS\",\"PoW\",\"PoW/PoS\",\"PoS\",\"PoW/PoS\",\"PoW/PoS\",\"PoS\",\"PoW/PoS\",\"PoW\",\"PoW\",\"PoW\",\"PoW/PoS\",\"PoW/PoS\",\"PoW/PoS\",\"PoW/PoS\",\"PoW\",\"PoW/PoS\",\"PoW\",\"PoS\",\"PoW/PoS \",\"PoW\",\"PoS\",\"PoW\",\"PoW\",\"PoW/PoS\",\"PoW\",\"PoW\",\"PoS\",\"PoW\",\"PoW/PoS\",\"PoW/PoS\",\"PoW/PoS\",\"PoW\",\"PoS\",\"PoW/PoS\",\"PoW\",\"PoS\",\"PoW/PoS\",\"PoW/PoS\",\"PoW/PoS\",\"PoW/PoS\",\"PoS\",\"PoW/PoS\",\"PoW\",\"PoS\",\"PoW\",\"PoS\",\"PoW/PoS\",\"PoW/PoS\",\"PoS\",\"PoW\",\"PoS\",\"PoW\",\"PoW/PoS\",\"PoW\",\"PoW\",\"PoW\",\"PoW\",\"PoW/PoS\",\"PoW\",\"PoW/PoS\",\"PoW/PoS\",\"PoW\",\"PoW/PoS\",\"PoW\",\"PoW\",\"PoW\",\"PoW/PoS\",\"PoW\",\"PoW/PoS\",\"PoW\",\"PoW\",\"PoW\",\"PoS\",\"PoW\",\"PoW/PoS\",\"PoW\",\"PoW/PoS\",\"PoS\",\"Proof of Authority\",\"PoW\",\"PoS\",\"PoW\",\"PoW\",\"PoW\",\"PoW\",\"PoW\",\"PoW/PoS\",\"PoW/PoS\",\"PoW\",\"PoS\",\"PoS\",\"PoW/PoS\",\"PoW\",\"PoW/PoS\",\"PoW\",\"PoW/PoS\",\"PoW\",\"PoS\",\"PoW\",\"PoW/PoS\",\"PoW/PoS\",\"PoW/PoS\",\"PoW/PoS\",\"PoW\",\"PoW/PoS\",\"PoW/PoS\",\"PoW\",\"PoS\",\"PoW/PoS\",\"PoS\",\"PoW\",\"PoW\",\"PoW\",\"PoW\",\"PoW/PoS\",\"DPoS\",\"PoW/PoS\",\"PoW/PoS\",\"PoW\",\"PoW/PoS\",\"PoW\",\"PoW\",\"PoW\",\"PoS\",\"PoS\",\"PoW\",\"PoW\",\"PoW/PoS\",\"PoW/PoS\",\"PoW\",\"PoW/PoS\",\"PoW\",\"PoW\",\"PoW\",\"PoS\",\"PoW\",\"PoW\",\"PoW/PoS\",\"PoW/PoS\",\"PoS\",\"PoW\",\"PoW\",\"PoW\",\"PoS\",\"PoS\",\"PoW and PoS\",\"PoW\",\"PoW\",\"PoW/PoS\",\"PoW\",\"PoW\",\"PoW\",\"PoW\",\"PoS\",\"POBh\",\"PoW + Hive\",\"PoW\",\"PoW\",\"PoW\",\"PoW/PoS\",\"PoA\",\"PoW/PoS\",\"PoW/PoS\",\"PoS\",\"PoS\",\"PoW\",\"PoW\",\"PoW\",\"PoW\",\"PoW/PoS\",\"PoW/PoS\",\"PoW/PoS\",\"PoW\",\"PoS\",\"PoW\",\"PoS\",\"PoS\",\"PoW/PoS\",\"DPoS\",\"PoW\",\"PoW/PoS\",\"PoS\",\"PoW\",\"PoS\",\"PoW/PoS\",\"PoW\",\"PoW\",\"PoS/PoW\",\"PoW\",\"PoS\",\"PoW\",\"PoW\",\"PoW\",\"PoW\",\"PoW/PoS\",\"PoS\",\"PoW\",\"PoW/PoS\",\"PoW\",\"PoW/PoS\",\"PoS\",\"HPoW\",\"PoS\",\"PoS\",\"PoS\",\"PoW\",\"PoW\",\"PoW\",\"PoW/PoS\",\"PoS\",\"PoW/PoS\",\"PoS\",\"PoW/PoS\",\"PoS\",\"PoW\",\"PoW/PoS\",\"PoW\",\"PoW\",\"PoW\",\"PoW\",\"PoS\",\"PoW/PoS\",\"PoS\",\"PoS\",\"PoW\",\"PoW/PoS\",\"PoS\",\"PoW\",\"PoW/PoS\",\"Zero-Knowledge Proof\",\"PoW\",\"DPOS\",\"PoW\",\"PoS\",\"PoW\",\"PoW\",\"Pos\",\"PoS\",\"PoW\",\"PoW/PoS\",\"PoW\",\"PoW\",\"PoS\",\"PoW\",\"PoW\",\"PoW/PoS\",\"PoW\",\"PoW/PoS\",\"PoW\",\"PoS\",\"PoW/PoS\",\"PoW\",\"PoS\",\"PoW/PoS\",\"PoW/PoS\",\"PoW/PoS\",\"PoW/PoS\",\"PoW\",\"PoW\",\"PoW\",\"PoW/PoS\",\"DPoS\",\"PoW/PoS\",\"PoW\",\"PoW/PoS\",\"PoW\",\"PoW/PoS\",\"PoW\",\"PoW/PoS\",\"PoS\",\"PoW/PoS\",\"PoW/PoS\",\"PoW\",\"PoW/PoS\",\"PoW/PoS\",\"PoW/PoS\",\"PoW\",\"PoW/PoS\",\"PoW\",\"PoW/PoS\",\"PoW\",\"PoW/PoS\",\"PoW/PoS\",\"PoS\",\"PoW\",\"PoW\",\"Proof of Trust\",\"PoW/PoS\",\"DPoS\",\"PoS\",\"PoW/PoS\",\"PoW/PoS\",\"PoW\",\"PoW/PoS\",\"PoW\",\"DPoS\",\"PoW\",\"DPoS\",\"PoS\",\"LPoS\",\"PoS\",\"DPoS\",\"PoS/LPoS\",\"DPoS\",\"PoW/PoS\",\"PoW\",\"PoW\",\"PoS\"],\"TotalCoinSupply\":[\"42\",\"532000000\",\"314159265359\",\"21000000\",\"0\",\"84000000\",\"22000000\",\"0\",\"210000000\",\"21000000\",\"3600570502\",\"21000000000\",\"22000000\",\"12500000\",\"21000000\",\"350000000\",\"20000000\",\"64000000\",\"16768584\",\"0\",\"2000000000\",\"384000000000\",\"169795588\",\"250000000\",\"100000000\",\"0\",\"247000000\",\"84000000\",\"48166000\",\"500000\",\"21000000 \",\"1000000\",\"13140000\",\"18000000\",\"40000000000\",\"4380000\",\"16555000000\",\"21000000000\",\"13500000000\",\"21000000 \",\"299792458\",\"32000000\",\"0\",\"0\",\"11235813\",\"336000000\",\"1420609614\",\"70000000\",\"72245700\",\"120000000\",\"0\",\"90600000000\",\"22000000\",\"21000000\",\"265420800\",\"20000000\",\"1350000\",\"100000000\",\"42000000\",\"200000000\",\"0\",\"10000000\",\"2419200000\",\"16180000\",\"0\",\"15000000000\",\"21000000\",\"337000000\",\"0\",\"3770000\",\"420000000\",\"98000000\",\"0\",\"21000000\",\"250000000\",\"51200000\",\"0\",\"1000\",\"888000000\",\"100000000\",\"47011968\",\"2300000000\",\"10000000\",\"42000000\",\"80000000\",\"250000\",\"0\",\"1600000000\",\"100000000\",\"23000000\",\"0\",\"84000000\",\"265420800\",\"5500000\",\"0\",\"45000000\",\"0\",\"1000000000\",\"184467440735\",\"10000000000\",\"2158812800\",\"500000000\",\"105120000\",\"68000000\",\"0\",\"1680000000\",\"0\",\"166386000\",\"12000000\",\"2628000\",\"500000000\",\"160000000\",\"0\",\"10000000\",\"1000000000\",\"1000000000\",\"20000000\",\"0\",\"0\",\"3371337\",\"20000000\",\"10000000000\",\"1840000000\",\"619478\",\"21000000\",\"92000000000\",\"0\",\"78000000\",\"33000000\",\"65789100\",\"53760000\",\"5060000\",\"21000000\",\"0\",\"210240000\",\"250000000\",\"100000000\",\"16906397\",\"50000000\",\"0\",\"1000000000\",\"26298000\",\"16000000\",\"21000000\",\"21000000\",\"210000000\",\"81962100\",\"22000000\",\"26550000000\",\"84000000\",\"10500000\",\"21626280000 \",\"0\",\"42000000\",\"221052632\",\"84000000\",\"30000000\",\"168351300\",\"24000000\",\"384000000\",\" 99000000000\",\"40000000\",\"2147483647\",\"20000000\",\"20000000\",\"25000000\",\"75000000\",\"222725000\",\"525000000\",\"90000000\",\"139000000\",\"616448\",\"33500000\",\"2000000000\",\"44333333\",\"100000000\",\"200000000\",\"25000000\",\"657000000\",\"200000000\",\"50000000\",\"90000000\",\"10000000\",\"21000000\",\"9736000\",\"3000000\",\"21000000\",\"1200000000\",\"0\",\"200000000\",\"0\",\"10638298\",\"3100000000\",\"30000000\",\"20000000000\",\"74000000\",\"0\",\"1500000000\",\"21400000\",\"39999898\",\"2500124\",\"100000000\",\"301000000\",\"7506000000\",\"26205539\",\"21000000\",\"125000000\",\"30000000\",\"10000000000\",\"500000000\",\"850000000\",\"3853326.77707314\",\"50000000\",\"38540000 \",\"42000000\",\"228000000\",\"20000000\",\"60000000\",\"20000000\",\"33000000\",\"76500000\",\"28000000\",\"650659833\",\"5000000\",\"21000000\",\"144000000\",\"32514916898\",\"13000000\",\"3315789\",\"15000000\",\"78835200\",\"2714286\",\"25000000\",\"9999999\",\"500000000\",\"21000000\",\"9354000\",\"20000000\",\"100000000000\",\"21933333\",\"185000000\",\"55000000\",\"110000000\",\"3360000\",\"14524851.4827\",\"1000000000\",\"17000000\",\"1000000000\",\"100000000 \",\"21000000\",\"34426423\",\"2232901\",\"100000000\",\"36900000\",\"110000000\",\"4000000000\",\"110290030\",\"100000000\",\"48252000\",\"400000000\",\"500000000\",\"21212121\",\"28600000\",\"1000000000\",\"75000000000\",\"40000000\",\"35520400\",\"2000000000\",\"2500000000\",\"30000000\",\"105000000\",\"90000000000\",\"200084200\",\"72000000\",\"100000000\",\"105000000\",\"50000000000\",\"0\",\"340282367\",\"30000000\",\"2000000000\",\"10000000\",\"100000000\",\"120000000\",\"100000000\",\"19276800\",\"30000000\",\" 75000000\",\"60000000\",\"18900000\",\"50000000000\",\"54000000\",\"18898187.6216583\",\"21000000\",\"200000000000\",\"5000000000\",\"137500000\",\"1100000000\",\"100000000\",\"21000000\",\"9507271\",\"17405891.19707116\",\"86712634466\",\"10500000000\",\"61599965\",\"0\",\"20000000\",\"84000000\",\"100000000\",\"100000000\",\"48252000\",\"4200000\",\"88888888\",\"91388946\",\"45000000000\",\"27000000\",\"21000000000\",\"400000000\",\"1800000000\",\"15733333\",\"27000000\",\"24000000\",\"21000000\",\"25000000000\",\"100000000\",\"1200000000\",\"60000000\",\"156306732.71\",\"21000000\",\"200000000\",\"100000000\",\"21000000\",\"14788275.991\",\"9000000000\",\"350000000\",\"45000000\",\"280000000\",\"31800000\",\"144000000\",\"500000000\",\"30000000000\",\"210000000\",\"660000000\",\"210000000\",\"85000000000\",\"12500000\",\"10000000000\",\"27716121\",\"20000000\",\"550000000\",\"999481516\",\"50000000000\",\"150000000\",\"4999999999\",\"50000000\",\" 90000000000\",\"19800000\",\"21000000\",\"120000000\",\"500000000\",\"64000000\",\"900000000\",\"4000000\",\"21000000\",\"23000000\",\"20166000\",\"23000000\",\"25000000\",\"1618033\",\"30000000\",\"1000000000000\",\"16600000\",\"232000000\",\"336000000\",\"10000000000\",\"100000000\",\"1100000000\",\"800000000\",\"5200000000\",\"840000000\",\"40000000\",\"18406979840\",\"500000000\",\"19340594\",\"252460800\",\"25000000\",\"60000000\",\"124000000\",\"1000000000\",\"6500000000\",\"1000000000\",\"21000000\",\"25000000\",\"50000000\",\"3000000\",\"5000000\",\"70000000\",\"500000000\",\"300000000\",\"21000000\",\"88000000\",\"30000000\",\"100000000\",\"100000000\",\"200000000\",\"80000000\",\"18400000\",\"45000000\",\"5121951220\",\"21000000\",\"26280000\",\"21000000\",\"18000000\",\"26000000\",\"10500000\",\"600000518\",\"150000000\",\"184000000000\",\"10200000000\",\"44000000\",\"168000000\",\"100000000\",\"1000000000\",\"84000000\",\"90000000\",\"92000000000\",\"650000000 \",\"100262205\",\"18081806 \",\"22075700\",\"21000000\",\"21000000\",\"82546564\",\"21000000\",\"5151000\",\"16880000000\",\"52500000\",\"100000000\",\"22105263\",\"1000000000\",\"1750000000\",\"88188888\",\"210000000\",\"184470000000\",\"55000000\",\"50000000\",\"260000000\",\"210000000\",\"2100000000\",\"366000000\",\"100000000\",\"25000000\",\"18000000000\",\"1000000000\",\"100000000\",\"1000000000\",\"7600000000\",\"50000000\",\"84000000\",\"21000000\",\"70000000000\",\"0\",\"8080000000\",\"54000000\",\"105120001.44\",\"25228800\",\"105000000\",\"21000000\",\"120000000\",\"21000000\",\"262800000\",\"19035999\",\"30886000\",\"13370000\",\"74800000000\",\"100000000\",\"19700000\",\"84000000\",\"500000000\",\"5000000000\",\"420000000\",\"64000000\",\"2100000\",\"168000000\",\"30000000\",\"1000000000\",\"35000000000\",\"98100000000\",\"0\",\"4000000000\",\"200000000\",\"7000000000\",\"54256119\",\"21000000\",\"0\",\"500000000\",\"1000000000\",\"10500000000\",\"190000000\",\"1000000000\",\"42000000\",\"15000000\",\"50000000000\",\"400000000\",\"105000000\",\"208000000\",\"160000000\",\"9000000\",\"5000000\",\"182000000\",\"16504333\",\"105000000\",\"159918400\",\"10008835635\",\"300000000\",\"60168145\",\"2800000\",\"120000\",\"2100000000\",\"0\",\"24487944\",\"0\",\"1000000000\",\"100000000\",\"8634140\",\"990000000000\",\"1000000000\",\"2000000000\",\"250000000\",\"1400222610\",\"21000000\",\"1000000\"],\"TotalCoinsMined\":{\"__ndarray__\":\"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\",\"dtype\":\"float64\",\"order\":\"little\",\"shape\":[532]}},\"selected\":{\"id\":\"1105\"},\"selection_policy\":{\"id\":\"1138\"}},\"id\":\"1104\",\"type\":\"ColumnDataSource\"},{\"attributes\":{\"editor\":{\"id\":\"1122\"},\"field\":\"TotalCoinSupply\",\"formatter\":{\"id\":\"1121\"},\"title\":\"TotalCoinSupply\"},\"id\":\"1123\",\"type\":\"TableColumn\"},{\"attributes\":{\"source\":{\"id\":\"1104\"}},\"id\":\"1137\",\"type\":\"CDSView\"},{\"attributes\":{},\"id\":\"1127\",\"type\":\"NumberEditor\"},{\"attributes\":{},\"id\":\"1138\",\"type\":\"UnionRenderers\"},{\"attributes\":{\"editor\":{\"id\":\"1132\"},\"field\":\"Class\",\"formatter\":{\"id\":\"1131\"},\"title\":\"Class\"},\"id\":\"1133\",\"type\":\"TableColumn\"},{\"attributes\":{},\"id\":\"1105\",\"type\":\"Selection\"},{\"attributes\":{},\"id\":\"1116\",\"type\":\"StringFormatter\"},{\"attributes\":{\"columns\":[{\"id\":\"1108\"},{\"id\":\"1113\"},{\"id\":\"1118\"},{\"id\":\"1123\"},{\"id\":\"1128\"},{\"id\":\"1133\"}],\"height\":300,\"reorderable\":false,\"source\":{\"id\":\"1104\"},\"view\":{\"id\":\"1137\"},\"width\":700},\"id\":\"1136\",\"type\":\"DataTable\"},{\"attributes\":{\"margin\":[5,5,5,5],\"name\":\"HSpacer01694\",\"sizing_mode\":\"stretch_width\"},\"id\":\"1142\",\"type\":\"Spacer\"},{\"attributes\":{},\"id\":\"1117\",\"type\":\"StringEditor\"},{\"attributes\":{\"editor\":{\"id\":\"1127\"},\"field\":\"TotalCoinsMined\",\"formatter\":{\"id\":\"1126\"},\"title\":\"TotalCoinsMined\"},\"id\":\"1128\",\"type\":\"TableColumn\"},{\"attributes\":{},\"id\":\"1106\",\"type\":\"StringFormatter\"},{\"attributes\":{\"editor\":{\"id\":\"1117\"},\"field\":\"ProofType\",\"formatter\":{\"id\":\"1116\"},\"title\":\"ProofType\"},\"id\":\"1118\",\"type\":\"TableColumn\"},{\"attributes\":{},\"id\":\"1121\",\"type\":\"StringFormatter\"},{\"attributes\":{},\"id\":\"1107\",\"type\":\"StringEditor\"},{\"attributes\":{},\"id\":\"1131\",\"type\":\"NumberFormatter\"},{\"attributes\":{\"editor\":{\"id\":\"1107\"},\"field\":\"CoinName\",\"formatter\":{\"id\":\"1106\"},\"title\":\"CoinName\"},\"id\":\"1108\",\"type\":\"TableColumn\"},{\"attributes\":{},\"id\":\"1132\",\"type\":\"IntEditor\"},{\"attributes\":{},\"id\":\"1122\",\"type\":\"StringEditor\"},{\"attributes\":{},\"id\":\"1111\",\"type\":\"StringFormatter\"}],\"root_ids\":[\"1102\"]},\"title\":\"Bokeh Application\",\"version\":\"2.1.1\"}};\n  var render_items = [{\"docid\":\"55a06d79-22c7-45d7-b9cd-f22aa7a59f3f\",\"root_ids\":[\"1102\"],\"roots\":{\"1102\":\"031a8a84-7bb7-404a-a25c-827c5cb5b87c\"}}];\n  root.Bokeh.embed.embed_items_notebook(docs_json, render_items);\n  }\nif (root.Bokeh !== undefined) {\n    embed_document(root);\n  } else {\n    var attempts = 0;\n    var timer = setInterval(function(root) {\n      if (root.Bokeh !== undefined) {\n        clearInterval(timer);\n        embed_document(root);\n      } else if (document.readyState == \"complete\") {\n        attempts++;\n        if (attempts > 100) {\n          clearInterval(timer);\n          console.log(\"Bokeh: ERROR: Unable to run BokehJS code because BokehJS library is missing\");\n        }\n      }\n    }, 10, root)\n  }\n})(window);</script>",
      "application/vnd.holoviews_exec.v0+json": "",
      "text/plain": [
       ":Table   [CoinName,Algorithm,ProofType,TotalCoinSupply,TotalCoinsMined,Class]"
      ]
     },
     "metadata": {
      "application/vnd.holoviews_exec.v0+json": {
       "id": "1102"
      }
     },
     "execution_count": 24
    }
   ],
   "source": [
    "# Table with tradable cryptos\n",
    "clustered_df.hvplot.table(columns=['CoinName', 'Algorithm', 'ProofType', 'TotalCoinSupply', 'TotalCoinsMined', 'Class'], sortable=True, selectable=True)"
   ]
  },
  {
   "cell_type": "code",
   "execution_count": 25,
   "metadata": {},
   "outputs": [
    {
     "output_type": "stream",
     "name": "stdout",
     "text": [
      "Total number of tradable cryptos = 532\n"
     ]
    }
   ],
   "source": [
    "# Print the total number of tradable cryptocurrencies\n",
    "total_tradable_cryptos = len(clustered_df)\n",
    "print(f\"Total number of tradable cryptos = {total_tradable_cryptos}\")"
   ]
  },
  {
   "cell_type": "markdown",
   "metadata": {},
   "source": [
    "#### Scatter Plot with Tradable Cryptocurrencies"
   ]
  },
  {
   "cell_type": "code",
   "execution_count": 28,
   "metadata": {},
   "outputs": [],
   "source": [
    "# Scale data to create the scatter plot\n",
    "clustered_df[\"TotalCoinsMined\"] = clustered_df[\"TotalCoinsMined\"]/10000\n",
    "clustered_df[\"TotalCoinSupply\"] = clustered_df[\"TotalCoinSupply\"].astype(\"float64\")\n",
    "clustered_df[\"TotalCoinSupply\"] = clustered_df[\"TotalCoinSupply\"]/10000"
   ]
  },
  {
   "cell_type": "code",
   "execution_count": 29,
   "metadata": {},
   "outputs": [
    {
     "output_type": "execute_result",
     "data": {
      "text/html": "<div id='1529'>\n\n\n\n\n\n  <div class=\"bk-root\" id=\"a4e3ab08-5565-4ef8-a872-bc0c1ff874fc\" data-root-id=\"1529\"></div>\n</div>\n<script type=\"application/javascript\">(function(root) {\n  function embed_document(root) {\n  var docs_json = {\"61894900-823d-4701-a14e-7715923b4cef\":{\"roots\":{\"references\":[{\"attributes\":{\"axis\":{\"id\":\"1547\"},\"grid_line_color\":null,\"ticker\":null},\"id\":\"1550\",\"type\":\"Grid\"},{\"attributes\":{},\"id\":\"1631\",\"type\":\"Selection\"},{\"attributes\":{\"end\":10324.168011566911,\"reset_end\":10324.168011566911,\"reset_start\":-424.28087675042156,\"start\":-424.28087675042156,\"tags\":[[[\"TotalCoinsMined\",\"TotalCoinsMined\",null]]]},\"id\":\"1531\",\"type\":\"Range1d\"},{\"attributes\":{\"fill_alpha\":{\"value\":0.2},\"fill_color\":{\"value\":\"#ff7e0e\"},\"line_alpha\":{\"value\":0.2},\"line_color\":{\"value\":\"#ff7e0e\"},\"size\":{\"units\":\"screen\",\"value\":5.477225575051661},\"x\":{\"field\":\"TotalCoinsMined\"},\"y\":{\"field\":\"TotalCoinSupply\"}},\"id\":\"1595\",\"type\":\"Scatter\"},{\"attributes\":{},\"id\":\"1559\",\"type\":\"ResetTool\"},{\"attributes\":{\"data\":{\"Class\":[0,0,0,0,0,0,0,0,0,0,0,0,0,0,0,0,0,0,0,0,0,0,0,0,0,0,0,0,0,0,0,0,0,0,0,0,0,0,0,0,0,0,0,0,0,0,0,0,0,0,0,0,0,0,0,0,0,0,0,0,0,0,0,0,0,0,0,0,0,0,0,0,0,0,0,0,0,0,0,0,0,0,0,0,0,0,0,0,0,0,0,0,0,0,0,0,0,0,0,0,0,0,0,0,0,0,0,0,0,0,0,0,0,0,0,0,0,0,0,0,0,0,0,0,0,0,0,0,0,0,0,0,0,0,0,0,0,0,0,0,0,0,0,0,0,0,0,0,0,0,0,0,0,0,0,0,0,0,0,0,0,0,0,0,0,0,0,0,0,0,0,0,0,0,0,0,0,0,0,0,0,0,0,0,0,0,0,0,0,0,0,0,0,0,0,0,0,0,0,0,0,0,0,0,0,0,0,0,0,0,0,0,0,0,0,0,0,0,0,0,0,0,0,0,0,0,0,0,0,0,0,0,0],\"CoinName\":[\"Bitcoin\",\"Ethereum\",\"Litecoin\",\"Monero\",\"Ethereum Classic\",\"ZCash\",\"DigiByte\",\"ProsperCoin\",\"Spreadcoin\",\"Argentum\",\"MyriadCoin\",\"ZetaCoin\",\"SexCoin\",\"Quatloo\",\"QuarkCoin\",\"Riecoin\",\"Digitalcoin \",\"Catcoin\",\"CannaCoin\",\"CryptCoin\",\"Verge\",\"DevCoin\",\"EarthCoin\",\"E-Gulden\",\"Einsteinium\",\"Emerald\",\"Franko\",\"FeatherCoin\",\"GrandCoin\",\"GlobalCoin\",\"GoldCoin\",\"Infinite Coin\",\"IXcoin\",\"KrugerCoin\",\"LuckyCoin\",\"Litebar \",\"MegaCoin\",\"MediterraneanCoin\",\"MinCoin\",\"NobleCoin\",\"Namecoin\",\"NyanCoin\",\"RonPaulCoin\",\"StableCoin\",\"SmartCoin\",\"SysCoin\",\"TigerCoin\",\"TerraCoin\",\"UnbreakableCoin\",\"Unobtanium\",\"UroCoin\",\"ViaCoin\",\"Vertcoin\",\"WorldCoin\",\"JouleCoin\",\"DigitalNote \",\"MonaCoin\",\"Gulden\",\"PesetaCoin\",\"Wild Beast Coin\",\"Flo\",\"ArtByte\",\"Folding Coin\",\"Unitus\",\"CypherPunkCoin\",\"OmniCron\",\"GreenCoin\",\"Cryptonite\",\"MasterCoin\",\"SoonCoin\",\"1Credit\",\"MarsCoin \",\"Crypto\",\"Anarchists Prime\",\"BowsCoin\",\"Song Coin\",\"BitZeny\",\"Expanse\",\"Siacoin\",\"MindCoin\",\"I0coin\",\"Revolution VR\",\"HOdlcoin\",\"Gamecredits\",\"CarpeDiemCoin\",\"Adzcoin\",\"SoilCoin\",\"YoCoin\",\"SibCoin\",\"Francs\",\"BolivarCoin\",\"Omni\",\"PizzaCoin\",\"Komodo\",\"Karbo\",\"ZayedCoin\",\"Circuits of Value\",\"DopeCoin\",\"DollarCoin\",\"Shilling\",\"ZCoin\",\"Elementrem\",\"ZClassic\",\"KiloCoin\",\"ArtexCoin\",\"Kurrent\",\"Cannabis Industry Coin\",\"OsmiumCoin\",\"Bikercoins\",\"HexxCoin\",\"PacCoin\",\"Citadel\",\"BeaverCoin\",\"VaultCoin\",\"Zero\",\"Canada eCoin\",\"Zoin\",\"DubaiCoin\",\"EB3coin\",\"Coinonat\",\"BenjiRolls\",\"ILCoin\",\"EquiTrader\",\"Quantum Resistant Ledger\",\"Dynamic\",\"Nano\",\"ChanCoin\",\"Dinastycoin\",\"DigitalPrice\",\"Unify\",\"SocialCoin\",\"ArcticCoin\",\"DAS\",\"LeviarCoin\",\"Bitcore\",\"SmartCash\",\"Onix\",\"Bitcoin Cash\",\"Sojourn Coin\",\"NewYorkCoin\",\"FrazCoin\",\"Kronecoin\",\"AdCoin\",\"Linx\",\"Sumokoin\",\"BitcoinZ\",\"Elements\",\"VIVO Coin\",\"Bitcoin Gold\",\"Pirl\",\"eBoost\",\"Pura\",\"Innova\",\"Ellaism\",\"GoByte\",\"SHIELD\",\"UltraNote\",\"BitCoal\",\"DaxxCoin\",\"AC3\",\"Lethean\",\"PopularCoin\",\"Photon\",\"Sucre\",\"SparksPay\",\"GunCoin\",\"IrishCoin\",\"Pioneer Coin\",\"UnitedBitcoin\",\"Interzone\",\"MUNcoin\",\"Niobio Cash\",\"ShareChain\",\"Travelflex\",\"KREDS\",\"BitFlip\",\"LottoCoin\",\"Crypto Improvement Fund\",\"Callisto Network\",\"BitTube\",\"Poseidon\",\"Aidos Kuneen\",\"Bitrolium\",\"Alpenschillling\",\"FuturoCoin\",\"Monero Classic\",\"Jumpcoin\",\"Infinex\",\"KEYCO\",\"GINcoin\",\"PlatinCoin\",\"Loki\",\"Newton Coin\",\"MassGrid\",\"PluraCoin\",\"Motion\",\"PlusOneCoin\",\"Axe\",\"HexCoin\",\"Webchain\",\"Ryo\",\"Urals Coin\",\"Project Pai\",\"Azart\",\"Xchange\",\"CrypticCoin\",\"Actinium\",\"Bitcoin SV\",\"FREDEnergy\",\"Universal Molecule\",\"Lithium\",\"Exosis\",\"Block-Logic\",\"Beam\",\"Bithereum\",\"SLICE\",\"BLAST\",\"Bitcoin Rhodium\",\"GlobalToken\",\"SolarCoin\",\"UFO Coin\",\"BlakeCoin\",\"Crypto Escudo\",\"Crown Coin\",\"SmileyCoin\",\"Groestlcoin\",\"Bata\",\"Pakcoin\",\"JoinCoin\",\"Vollar\",\"Reality Clash\",\"Beldex\",\"Horizen\"],\"TotalCoinSupply\":{\"__ndarray__\":\"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\",\"dtype\":\"float64\",\"order\":\"little\",\"shape\":[233]},\"TotalCoinsMined\":{\"__ndarray__\":\"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\",\"dtype\":\"float64\",\"order\":\"little\",\"shape\":[233]}},\"selected\":{\"id\":\"1573\"},\"selection_policy\":{\"id\":\"1585\"}},\"id\":\"1572\",\"type\":\"ColumnDataSource\"},{\"attributes\":{\"fill_alpha\":{\"value\":0.1},\"fill_color\":{\"value\":\"#d62628\"},\"line_alpha\":{\"value\":0.1},\"line_color\":{\"value\":\"#d62628\"},\"size\":{\"units\":\"screen\",\"value\":5.477225575051661},\"x\":{\"field\":\"TotalCoinsMined\"},\"y\":{\"field\":\"TotalCoinSupply\"}},\"id\":\"1634\",\"type\":\"Scatter\"},{\"attributes\":{},\"id\":\"1605\",\"type\":\"UnionRenderers\"},{\"attributes\":{},\"id\":\"1626\",\"type\":\"UnionRenderers\"},{\"attributes\":{\"data\":{\"Class\":[4,4,4,4,4,4,4,4,4,4,4,4,4,4,4],\"CoinName\":[\"EliteCoin\",\"MoonCoin\",\"ByteCoin\",\"ARK\",\"gCn Coin\",\"Lamden Tau\",\"TurtleCoin\",\"Semux\",\"Lynx\",\"Qwertycoin\",\"ALAX\",\"Lisk\",\"EOS\",\"Oxycoin\",\"ZEPHYR\"],\"TotalCoinSupply\":{\"__ndarray__\":\"0JVKcC+LqEAAAAAAAACuQLoh15ey0pxAAAAAAAAA9D8AAAAAAECfQAAAAAAAABRAAAAAAACIw0AAAAAAAADwPwAAAAAAwIxAzczMzMzSnEAAAAAAAAAkQFuVRPZBlvk/AAAAAAAAAAAAAAAAAAAAAAAAAAAAADRA\",\"dtype\":\"float64\",\"order\":\"little\",\"shape\":[15]},\"TotalCoinsMined\":{\"__ndarray__\":\"ZpeHO7VMckDQwAJ3JIetPmvmuVOswpxARz+WFfVP8T+oV8oyNHqZQDnJRUYYDAdAtd0+0y+bgECFHyCIwTaJP+ge0sjDVYhATBYhtD8cj0AAAAAAAAAkQP6sQ3+yM/M/7CMGHjBpJEDZrQ3omHImQIZgNv///zNA\",\"dtype\":\"float64\",\"order\":\"little\",\"shape\":[15]}},\"selected\":{\"id\":\"1654\"},\"selection_policy\":{\"id\":\"1674\"}},\"id\":\"1653\",\"type\":\"ColumnDataSource\"},{\"attributes\":{\"label\":{\"value\":\"1\"},\"renderers\":[{\"id\":\"1596\"}]},\"id\":\"1608\",\"type\":\"LegendItem\"},{\"attributes\":{\"label\":{\"value\":\"3\"},\"renderers\":[{\"id\":\"1636\"}]},\"id\":\"1652\",\"type\":\"LegendItem\"},{\"attributes\":{\"children\":[{\"id\":\"1530\"},{\"id\":\"1538\"},{\"id\":\"1822\"}],\"margin\":[0,0,0,0],\"name\":\"Row02858\",\"tags\":[\"embedded\"]},\"id\":\"1529\",\"type\":\"Row\"},{\"attributes\":{\"fill_alpha\":{\"value\":0.1},\"fill_color\":{\"value\":\"#1f77b3\"},\"line_alpha\":{\"value\":0.1},\"line_color\":{\"value\":\"#1f77b3\"},\"size\":{\"units\":\"screen\",\"value\":5.477225575051661},\"x\":{\"field\":\"TotalCoinsMined\"},\"y\":{\"field\":\"TotalCoinSupply\"}},\"id\":\"1576\",\"type\":\"Scatter\"},{\"attributes\":{\"axis_label\":\"TotalCoinSupply\",\"bounds\":\"auto\",\"formatter\":{\"id\":\"1570\"},\"major_label_orientation\":\"horizontal\",\"ticker\":{\"id\":\"1552\"}},\"id\":\"1551\",\"type\":\"LinearAxis\"},{\"attributes\":{\"fill_color\":{\"value\":\"#2ba02b\"},\"line_color\":{\"value\":\"#2ba02b\"},\"size\":{\"units\":\"screen\",\"value\":5.477225575051661},\"x\":{\"field\":\"TotalCoinsMined\"},\"y\":{\"field\":\"TotalCoinSupply\"}},\"id\":\"1612\",\"type\":\"Scatter\"},{\"attributes\":{},\"id\":\"1573\",\"type\":\"Selection\"},{\"attributes\":{\"margin\":[5,5,5,5],\"name\":\"HSpacer02862\",\"sizing_mode\":\"stretch_width\"},\"id\":\"1530\",\"type\":\"Spacer\"},{\"attributes\":{\"fill_alpha\":{\"value\":0.1},\"fill_color\":{\"value\":\"#9367bc\"},\"line_alpha\":{\"value\":0.1},\"line_color\":{\"value\":\"#9367bc\"},\"size\":{\"units\":\"screen\",\"value\":5.477225575051661},\"x\":{\"field\":\"TotalCoinsMined\"},\"y\":{\"field\":\"TotalCoinSupply\"}},\"id\":\"1657\",\"type\":\"Scatter\"},{\"attributes\":{\"data_source\":{\"id\":\"1572\"},\"glyph\":{\"id\":\"1575\"},\"hover_glyph\":null,\"muted_glyph\":{\"id\":\"1577\"},\"nonselection_glyph\":{\"id\":\"1576\"},\"selection_glyph\":null,\"view\":{\"id\":\"1579\"}},\"id\":\"1578\",\"type\":\"GlyphRenderer\"},{\"attributes\":{},\"id\":\"1556\",\"type\":\"PanTool\"},{\"attributes\":{\"fill_color\":{\"value\":\"#d62628\"},\"line_color\":{\"value\":\"#d62628\"},\"size\":{\"units\":\"screen\",\"value\":5.477225575051661},\"x\":{\"field\":\"TotalCoinsMined\"},\"y\":{\"field\":\"TotalCoinSupply\"}},\"id\":\"1633\",\"type\":\"Scatter\"},{\"attributes\":{\"source\":{\"id\":\"1653\"}},\"id\":\"1660\",\"type\":\"CDSView\"},{\"attributes\":{\"source\":{\"id\":\"1590\"}},\"id\":\"1597\",\"type\":\"CDSView\"},{\"attributes\":{\"source\":{\"id\":\"1572\"}},\"id\":\"1579\",\"type\":\"CDSView\"},{\"attributes\":{},\"id\":\"1555\",\"type\":\"SaveTool\"},{\"attributes\":{\"bottom_units\":\"screen\",\"fill_alpha\":0.5,\"fill_color\":\"lightgrey\",\"left_units\":\"screen\",\"level\":\"overlay\",\"line_alpha\":1.0,\"line_color\":\"black\",\"line_dash\":[4,4],\"line_width\":2,\"right_units\":\"screen\",\"top_units\":\"screen\"},\"id\":\"1560\",\"type\":\"BoxAnnotation\"},{\"attributes\":{\"fill_color\":{\"value\":\"#9367bc\"},\"line_color\":{\"value\":\"#9367bc\"},\"size\":{\"units\":\"screen\",\"value\":5.477225575051661},\"x\":{\"field\":\"TotalCoinsMined\"},\"y\":{\"field\":\"TotalCoinSupply\"}},\"id\":\"1656\",\"type\":\"Scatter\"},{\"attributes\":{\"fill_color\":{\"value\":\"#1f77b3\"},\"line_color\":{\"value\":\"#1f77b3\"},\"size\":{\"units\":\"screen\",\"value\":5.477225575051661},\"x\":{\"field\":\"TotalCoinsMined\"},\"y\":{\"field\":\"TotalCoinSupply\"}},\"id\":\"1575\",\"type\":\"Scatter\"},{\"attributes\":{\"fill_alpha\":{\"value\":0.2},\"fill_color\":{\"value\":\"#d62628\"},\"line_alpha\":{\"value\":0.2},\"line_color\":{\"value\":\"#d62628\"},\"size\":{\"units\":\"screen\",\"value\":5.477225575051661},\"x\":{\"field\":\"TotalCoinsMined\"},\"y\":{\"field\":\"TotalCoinSupply\"}},\"id\":\"1635\",\"type\":\"Scatter\"},{\"attributes\":{},\"id\":\"1610\",\"type\":\"Selection\"},{\"attributes\":{\"source\":{\"id\":\"1630\"}},\"id\":\"1637\",\"type\":\"CDSView\"},{\"attributes\":{},\"id\":\"1548\",\"type\":\"BasicTicker\"},{\"attributes\":{},\"id\":\"1552\",\"type\":\"BasicTicker\"},{\"attributes\":{\"data_source\":{\"id\":\"1590\"},\"glyph\":{\"id\":\"1593\"},\"hover_glyph\":null,\"muted_glyph\":{\"id\":\"1595\"},\"nonselection_glyph\":{\"id\":\"1594\"},\"selection_glyph\":null,\"view\":{\"id\":\"1597\"}},\"id\":\"1596\",\"type\":\"GlyphRenderer\"},{\"attributes\":{\"callback\":null,\"renderers\":[{\"id\":\"1578\"},{\"id\":\"1596\"},{\"id\":\"1615\"},{\"id\":\"1636\"},{\"id\":\"1659\"}],\"tags\":[\"hv_created\"],\"tooltips\":[[\"Class\",\"@{Class}\"],[\"TotalCoinsMined\",\"@{TotalCoinsMined}\"],[\"TotalCoinSupply\",\"@{TotalCoinSupply}\"],[\"CoinName\",\"@{CoinName}\"]]},\"id\":\"1533\",\"type\":\"HoverTool\"},{\"attributes\":{\"fill_alpha\":{\"value\":0.2},\"fill_color\":{\"value\":\"#2ba02b\"},\"line_alpha\":{\"value\":0.2},\"line_color\":{\"value\":\"#2ba02b\"},\"size\":{\"units\":\"screen\",\"value\":5.477225575051661},\"x\":{\"field\":\"TotalCoinsMined\"},\"y\":{\"field\":\"TotalCoinSupply\"}},\"id\":\"1614\",\"type\":\"Scatter\"},{\"attributes\":{\"data\":{\"Class\":[1,1,1,1,1,1,1,1,1,1,1,1,1,1,1,1,1,1,1,1,1,1,1,1,1,1,1,1,1,1,1,1,1,1,1,1,1,1,1,1,1,1,1,1,1,1,1,1,1,1,1,1,1,1,1,1,1,1,1,1,1,1,1,1,1,1,1,1,1,1,1,1,1,1,1,1,1,1,1,1,1,1,1,1,1,1,1,1,1,1,1,1,1,1,1,1,1,1,1,1,1,1,1,1,1,1,1,1,1,1,1,1,1,1,1,1,1,1,1,1,1,1,1,1,1,1,1,1,1,1,1,1,1,1,1,1,1,1,1,1,1,1,1,1,1,1,1,1,1,1,1,1,1,1,1,1,1,1,1,1,1,1,1,1,1,1,1,1,1,1,1,1,1,1,1,1,1,1,1,1,1,1,1,1,1,1,1,1,1,1,1,1,1,1,1,1,1,1,1,1,1,1,1,1,1,1,1,1,1,1,1,1,1,1,1,1,1,1,1,1,1,1,1,1,1,1,1,1,1,1,1,1,1,1,1,1,1,1,1,1,1,1,1,1,1,1,1,1,1,1,1,1,1,1,1,1,1,1,1,1,1,1,1,1,1,1,1,1,1,1,1,1,1,1,1,1,1],\"CoinName\":[\"42 Coin\",\"404Coin\",\"Dash\",\"Bitshares\",\"BitcoinDark\",\"PayCoin\",\"KoboCoin\",\"Aurora Coin\",\"BlueCoin\",\"EnergyCoin\",\"BitBar\",\"CryptoBullion\",\"CasinoCoin\",\"Diamond\",\"Exclusive Coin\",\"FlutterCoin\",\"HoboNickels\",\"HyperStake\",\"IOCoin\",\"MaxCoin\",\"MintCoin\",\"MazaCoin\",\"Nautilus Coin\",\"NavCoin\",\"OpalCoin\",\"Orbitcoin\",\"PotCoin\",\"PhoenixCoin\",\"Reddcoin\",\"SuperCoin\",\"SyncCoin\",\"TeslaCoin\",\"TittieCoin\",\"TorCoin\",\"UnitaryStatus Dollar\",\"UltraCoin\",\"VeriCoin\",\"X11 Coin\",\"Crypti\",\"StealthCoin\",\"ZCC Coin\",\"BurstCoin\",\"StorjCoin\",\"Neutron\",\"FairCoin\",\"RubyCoin\",\"Kore\",\"Dnotes\",\"8BIT Coin\",\"Sativa Coin\",\"Ucoin\",\"Vtorrent\",\"IslaCoin\",\"Nexus\",\"Droidz\",\"Squall Coin\",\"Diggits\",\"Paycon\",\"Emercoin\",\"EverGreenCoin\",\"Decred\",\"EDRCoin\",\"Hitcoin\",\"DubaiCoin\",\"PWR Coin\",\"BillaryCoin\",\"GPU Coin\",\"EuropeCoin\",\"ZeitCoin\",\"SwingCoin\",\"SafeExchangeCoin\",\"Nebuchadnezzar\",\"Ratecoin\",\"Revenu\",\"Clockcoin\",\"VIP Tokens\",\"BitSend\",\"Let it Ride\",\"PutinCoin\",\"iBankCoin\",\"Frankywillcoin\",\"MudraCoin\",\"Lutetium Coin\",\"GoldBlocks\",\"CarterCoin\",\"BitTokens\",\"MustangCoin\",\"ZoneCoin\",\"RootCoin\",\"BitCurrency\",\"Swiscoin\",\"BuzzCoin\",\"Opair\",\"PesoBit\",\"Halloween Coin\",\"CoffeeCoin\",\"RoyalCoin\",\"GanjaCoin V2\",\"TeamUP\",\"LanaCoin\",\"InsaneCoin\",\"EmberCoin\",\"XenixCoin\",\"FreeCoin\",\"PLNCoin\",\"AquariusCoin\",\"Creatio\",\"Eternity\",\"Eurocoin\",\"BitcoinFast\",\"Stakenet\",\"BitConnect Coin\",\"MoneyCoin\",\"Enigma\",\"Russiacoin\",\"PandaCoin\",\"GameUnits\",\"GAKHcoin\",\"Allsafe\",\"LiteCreed\",\"Klingon Empire Darsek\",\"Internet of People\",\"KushCoin\",\"Printerium\",\"Impeach\",\"Zilbercoin\",\"FirstCoin\",\"FindCoin\",\"OpenChat\",\"RenosCoin\",\"VirtacoinPlus\",\"TajCoin\",\"Impact\",\"Atmos\",\"HappyCoin\",\"MacronCoin\",\"Condensate\",\"Independent Money System\",\"ArgusCoin\",\"LomoCoin\",\"ProCurrency\",\"GoldReserve\",\"GrowthCoin\",\"Phreak\",\"Degas Coin\",\"HTML5 Coin\",\"Ultimate Secure Cash\",\"QTUM\",\"Espers\",\"Denarius\",\"Virta Unique Coin\",\"Bitcoin Planet\",\"BritCoin\",\"Linda\",\"DeepOnion\",\"Signatum\",\"Cream\",\"Monoeci\",\"Draftcoin\",\"Stakecoin\",\"CoinonatX\",\"Ethereum Dark\",\"Obsidian\",\"Cardano\",\"Regalcoin\",\"TrezarCoin\",\"TerraNovaCoin\",\"Rupee\",\"WomenCoin\",\"Theresa May Coin\",\"NamoCoin\",\"LUXCoin\",\"Xios\",\"Bitcloud 2.0\",\"KekCoin\",\"BlackholeCoin\",\"Infinity Economics\",\"Magnet\",\"Electra\",\"Bitcoin Diamond\",\"Cash & Back Coin\",\"Bulwark\",\"Kalkulus\",\"GermanCoin\",\"LiteCoin Ultra\",\"PhantomX\",\"Digiwage\",\"Trollcoin\",\"Litecoin Plus\",\"Monkey Project\",\"TokenPay\",\"1717 Masonic Commemorative Token\",\"My Big Coin\",\"Unified Society USDEX\",\"Tokyo Coin\",\"Stipend\",\"Pushi\",\"Ellerium\",\"Velox\",\"Ontology\",\"Bitspace\",\"Briacoin\",\"Ignition\",\"MedicCoin\",\"Bitcoin Green\",\"Deviant Coin\",\"Abjcoin\",\"Carebit\",\"Zealium\",\"Proton\",\"iDealCash\",\"Bitcoin Incognito\",\"HollyWoodCoin\",\"Swisscoin\",\"Xt3ch\",\"TheVig\",\"EmaratCoin\",\"Dekado\",\"Poseidon Quark\",\"BitcoinWSpectrum\",\"Muse\",\"Trivechain\",\"Dystem\",\"Giant\",\"Peony Coin\",\"Absolute Coin\",\"Vitae\",\"TPCash\",\"ARENON\",\"EUNO\",\"MMOCoin\",\"Ketan\",\"XDNA\",\"PAXEX\",\"ThunderStake\",\"Kcash\",\"Bettex coin\",\"BitMoney\",\"Junson Ming Chan Coin\",\"HerbCoin\",\"PirateCash\",\"Oduwa\",\"Galilel\",\"Crypto Sports\",\"Credit\",\"Dash Platinum\",\"Nasdacoin\",\"Beetle Coin\",\"Titan Coin\",\"Award\",\"Insane Coin\",\"LiteDoge\",\"TruckCoin\",\"OrangeCoin\",\"BitstarCoin\",\"NeosCoin\",\"HyperCoin\",\"PinkCoin\",\"AudioCoin\",\"IncaKoin\",\"Piggy Coin\",\"Genstake\",\"XiaoMiCoin\",\"CapriCoin\",\" ClubCoin\",\"Radium\",\"Creditbit \",\"OKCash\",\"HiCoin\",\"WhiteCoin\",\"FriendshipCoin\",\"Triangles Coin\",\"TigerCash\",\"Particl\",\"Nxt\",\"Gapcoin\",\"BitcoinPlus\"],\"TotalCoinSupply\":{\"__ndarray__\":\"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\",\"dtype\":\"float64\",\"order\":\"little\",\"shape\":[277]},\"TotalCoinsMined\":{\"__ndarray__\":\"GMELgYkvnD4x5W30ixolQGTG1sO/Hrc/fPKwUGtqO0D24x9LWWWKP9dOWD5Dtb4/DjqFl+NY0D/DseVygjbHP/je36C9ahlAbFtg/6aw8z/hm5Kbpuc7P9xoxsL2R4U/uNuv4///eECmOxkYQuugP+6/hMCAFK0/6RkUYyN5EkAqzfxIv5DsP7dqO+0CyTBAmlVS+9mXxj8jcrDto6njP9vWW18OnmpAmwpioGsjMEASFD/G3LXEP1jpH9zaJeU/Y9Kh/W9mwz9UQNh/U32gP+mZh/lt0AFAGxUwaL6q5z9vVJmhfVJyQEZuFr74OeA/LU18e/iu6D7nmZ7r767pP/K+h+MnOTBAlZht4QVTjT+gbWUko/olQDXuM7xEE+A/m8OLoVZ+1D9cQGvyS8uxPwAAAAAAAPA/S0PfchMu1T/5EScerq33PwVj6ehdITJAz1HknBpg4D+HPLzGsgnZP3cQnn2jBeE/LXf6Kuhl0T/J0d81xbWUPz+nUzyB8fs/rhtC17YPjj/r9Vkr+yqyP7lB5UYui5s/XxSxRkW1vT8l4hAeKwCPP2FekanMXuQ/EF5xTSbvtT9NJ1sh0/dqPwAAAAAAAPA/WDD5uJl+zT9JwSWy6o7bP9DDj1axUcE/F6DHT9aIuj8/eTVB8MmiP3ML4cGkfVtAkoTQg7NCqj/cJIaHcixZQGGaQpdqCbc/nXESMcLn2T/wIc8hgqS6P2MVF9RlG3dA2UVM3yBppj8cmQXijnk1QJqZmZmZmck/zofZ0V6H9T+PwB9+/nuIP0Sxy6YSVMU/012ny0G06j/gsMebXjfPP5JFcuONstg/ojbYYwhDIECroQVPviynPwAAAAAAAPA/mpmZmZmZqT9I4XoUrkcaQAqlq0v468M/jukJSzyg2z/fZyKNhmN4P+yvcx/R73o/gMBevHpwmj9PyoN4Td2TP66yOmLCIvs/UX6UCaabGkAn0A5V5HhoQKJ8unXZsOc/T1bzuWZ01T/tbDhlnSwFQNKjLddwy/c/Fkaj0OyZmT8AAAAAAADwP7uCymXTzsY/VK2rNaykJUCYGsKtknrHP9rgZQJtz4xAL0DE6aG6oz8AAAAAAADgPyI0go3r38U/V8mDk2sVmT+amZmZmZnJP2R8gTxkE68/BxaXFVDJvz9rw2HJj+nJPx45b+9cMOg/QjtAutxdvD+mE6Z73/C7P7/zKOg4r4A/Vk5z2YVytT87E/ZeGiJ1QBVeF7gbyKE//AhPKhL6oD/qMGpz7ey6P9VDNLqDWNM/CuPhHPmszj/DrYiR9t2ZPwz+INd9+aw/Gg1s13xDvj8+pGto+z5pP+qxzwd17Z0/mpmZmZmZ8T+ZvXzagJfCPwAAAAAAACRAH6y15n0S1z+dsD5sK9nAP5O5S94IMb8/2tkZsmuz8T+WS4i2H8jxP6QP/1YbjMs/TGEQHo4OEECnKeq5anfzP/w8404rfas//VYEYoaEhz97FK5H4Xp0PxlQFI1aFvA/5OqV7Lf6xT8wHnnVX5wHQNUjidCyKL0//p1Q/NZWyz+WIY51cWl5QNYCvWh2ero/AAAAAAAA8D+gtao+moBsQP7oYYmDW6U/tY8V/DYk5D+6+JmCTmuxP3MM8d0gOcs//YJZfMGcVkCl0by6xA3MP/GVxIKQRvE/ls9Ar9dK3j8TIKIpshbAP9M4v9qW48c/exSuR+F6pD8Swy9xuwLJPxsv3SQGgaU/AAAAAAAA0D84HyrPVDRwQMDBouB8l7I/rADfbd44/T9p3eJ8vFyHP7gehetRuM4/3Bbh/YNJfkCRmnYxzXTtPz2e8dgqbBZAiuST3UVDtT8Rn0MyRwOWP3RG1crHp9M/W+EjAh6Rvz9OjxnCrfHEPzWglP//f1ZA9kvqMHVy2D9C+Egx3b9xQJ7LoLyNXf0/tnAN853B8T/i8kjo1fTAPx5HqqYQtMU/Qg6FaLiOSEAuozRQvY21P/YXit5X6dw/52j6kcd40T/8FCqsEqQXQE87p0FcpZk/18caYKyQpj8E/iQtsyvKP+oCwZCTkZA/YDyi//MPuD9dxDnKpskCQAlRvqCFbAJAp9lU+63NvD8pUeoj1DKWPzsIOMdrLHE/C0BuFWRd0D/c3JiesAgaQMGiihMBpsE/pStA3JNRgT+jSbWR4zWIP/C3JKRBYgVACHrKefIYuT+xzWgdhQDMP7uAjDlJS7k/QmcY37tb9j+aRD5NR1q8P73/jxMmjKY/ikdlW0kVLEAgBXU2req7P9hp+kG5xdg/AAAAAACAWUAzoliVZYizP6vWKni+RdU/paKM76ulyz/MRXpCw2HTP5cAn42G0Js/LU9PkOB/4j9iM13bHUrHP6xL1Ox7odc/81zNPoQhsj+cUEMry06uP3ROXXAlV4U/GikkDtUQwT+UUDg3IiPlPwIa4Tvfqqs/RuACpzuqyD8qK1KRirHTPx2APw4CPvE/pfC/A6Hgtz/nkAd7W+ynP0KqtAdSEKc/l4wmA/cyJUAAAAAAAAAkQJDiu6AxYLE/jmSsp2euAEB7xarzLINlQJyGTGuMmdY/UuVqGso/wT8fG9CwTurCP5963jEUYcc/H3roULTPkz8q0eMUHURzQODQA7A7UH0/Ypl0ta9Myj8J1vqigdT/P4hJl4Je7SFA8PM0B+e8wz/pCAsc6G7OP+AXzDoLJmNAr22/7OpnA0DwwWuXNhyiP1iGBpyEVso/PvN7TgV9pj9Lfeo556e4PwUUa9hCdBFAvtOJvVmdI0BULZVGtmxmQL3WZUAGxRNAMzMzMzMz4z/7EbRhMywQQKmSRgHxGwBAJwbOH1qU8D/8astNlZCjP3HkIwkgosU/Ccnvlnbl5z8RzYYWKABZQI5ese4SKQRA0W1wTAvyhj/KeuSdpRBXPwAAAAAAACRAfTQRCszDtz8AAAAAAAAkQPmLpe6aHMM/6SCVoWwGVT8=\",\"dtype\":\"float64\",\"order\":\"little\",\"shape\":[277]}},\"selected\":{\"id\":\"1591\"},\"selection_policy\":{\"id\":\"1605\"}},\"id\":\"1590\",\"type\":\"ColumnDataSource\"},{\"attributes\":{\"fill_alpha\":{\"value\":0.2},\"fill_color\":{\"value\":\"#9367bc\"},\"line_alpha\":{\"value\":0.2},\"line_color\":{\"value\":\"#9367bc\"},\"size\":{\"units\":\"screen\",\"value\":5.477225575051661},\"x\":{\"field\":\"TotalCoinsMined\"},\"y\":{\"field\":\"TotalCoinSupply\"}},\"id\":\"1658\",\"type\":\"Scatter\"},{\"attributes\":{\"label\":{\"value\":\"2\"},\"renderers\":[{\"id\":\"1615\"}]},\"id\":\"1629\",\"type\":\"LegendItem\"},{\"attributes\":{\"fill_alpha\":{\"value\":0.2},\"fill_color\":{\"value\":\"#1f77b3\"},\"line_alpha\":{\"value\":0.2},\"line_color\":{\"value\":\"#1f77b3\"},\"size\":{\"units\":\"screen\",\"value\":5.477225575051661},\"x\":{\"field\":\"TotalCoinsMined\"},\"y\":{\"field\":\"TotalCoinSupply\"}},\"id\":\"1577\",\"type\":\"Scatter\"},{\"attributes\":{},\"id\":\"1591\",\"type\":\"Selection\"},{\"attributes\":{\"label\":{\"value\":\"4\"},\"renderers\":[{\"id\":\"1659\"}]},\"id\":\"1677\",\"type\":\"LegendItem\"},{\"attributes\":{},\"id\":\"1585\",\"type\":\"UnionRenderers\"},{\"attributes\":{},\"id\":\"1543\",\"type\":\"LinearScale\"},{\"attributes\":{\"data\":{\"Class\":[2],\"CoinName\":[\"BitTorrent\"],\"TotalCoinSupply\":{\"__ndarray__\":\"AAAAAABWw0A=\",\"dtype\":\"float64\",\"order\":\"little\",\"shape\":[1]},\"TotalCoinsMined\":{\"__ndarray__\":\"C7KejfFVw0A=\",\"dtype\":\"float64\",\"order\":\"little\",\"shape\":[1]}},\"selected\":{\"id\":\"1610\"},\"selection_policy\":{\"id\":\"1626\"}},\"id\":\"1609\",\"type\":\"ColumnDataSource\"},{\"attributes\":{},\"id\":\"1654\",\"type\":\"Selection\"},{\"attributes\":{\"source\":{\"id\":\"1609\"}},\"id\":\"1616\",\"type\":\"CDSView\"},{\"attributes\":{\"data_source\":{\"id\":\"1609\"},\"glyph\":{\"id\":\"1612\"},\"hover_glyph\":null,\"muted_glyph\":{\"id\":\"1614\"},\"nonselection_glyph\":{\"id\":\"1613\"},\"selection_glyph\":null,\"view\":{\"id\":\"1616\"}},\"id\":\"1615\",\"type\":\"GlyphRenderer\"},{\"attributes\":{\"axis\":{\"id\":\"1551\"},\"dimension\":1,\"grid_line_color\":null,\"ticker\":null},\"id\":\"1554\",\"type\":\"Grid\"},{\"attributes\":{\"active_drag\":\"auto\",\"active_inspect\":\"auto\",\"active_multi\":null,\"active_scroll\":\"auto\",\"active_tap\":\"auto\",\"tools\":[{\"id\":\"1533\"},{\"id\":\"1555\"},{\"id\":\"1556\"},{\"id\":\"1557\"},{\"id\":\"1558\"},{\"id\":\"1559\"}]},\"id\":\"1561\",\"type\":\"Toolbar\"},{\"attributes\":{\"click_policy\":\"mute\",\"items\":[{\"id\":\"1589\"},{\"id\":\"1608\"},{\"id\":\"1629\"},{\"id\":\"1652\"},{\"id\":\"1677\"}],\"location\":[0,0],\"title\":\"Class\"},\"id\":\"1588\",\"type\":\"Legend\"},{\"attributes\":{\"axis_label\":\"TotalCoinsMined\",\"bounds\":\"auto\",\"formatter\":{\"id\":\"1568\"},\"major_label_orientation\":\"horizontal\",\"ticker\":{\"id\":\"1548\"}},\"id\":\"1547\",\"type\":\"LinearAxis\"},{\"attributes\":{\"end\":11000.0,\"reset_end\":11000.0,\"reset_start\":-1000.0,\"start\":-1000.0,\"tags\":[[[\"TotalCoinSupply\",\"TotalCoinSupply\",null]]]},\"id\":\"1532\",\"type\":\"Range1d\"},{\"attributes\":{\"text\":\"\",\"text_color\":{\"value\":\"black\"},\"text_font_size\":{\"value\":\"12pt\"}},\"id\":\"1539\",\"type\":\"Title\"},{\"attributes\":{},\"id\":\"1545\",\"type\":\"LinearScale\"},{\"attributes\":{\"fill_color\":{\"value\":\"#ff7e0e\"},\"line_color\":{\"value\":\"#ff7e0e\"},\"size\":{\"units\":\"screen\",\"value\":5.477225575051661},\"x\":{\"field\":\"TotalCoinsMined\"},\"y\":{\"field\":\"TotalCoinSupply\"}},\"id\":\"1593\",\"type\":\"Scatter\"},{\"attributes\":{\"margin\":[5,5,5,5],\"name\":\"HSpacer02863\",\"sizing_mode\":\"stretch_width\"},\"id\":\"1822\",\"type\":\"Spacer\"},{\"attributes\":{\"align\":null,\"below\":[{\"id\":\"1547\"}],\"center\":[{\"id\":\"1550\"},{\"id\":\"1554\"}],\"left\":[{\"id\":\"1551\"}],\"margin\":null,\"min_border_bottom\":10,\"min_border_left\":10,\"min_border_right\":10,\"min_border_top\":10,\"plot_height\":300,\"plot_width\":700,\"renderers\":[{\"id\":\"1578\"},{\"id\":\"1596\"},{\"id\":\"1615\"},{\"id\":\"1636\"},{\"id\":\"1659\"}],\"right\":[{\"id\":\"1588\"}],\"sizing_mode\":\"fixed\",\"title\":{\"id\":\"1539\"},\"toolbar\":{\"id\":\"1561\"},\"x_range\":{\"id\":\"1531\"},\"x_scale\":{\"id\":\"1543\"},\"y_range\":{\"id\":\"1532\"},\"y_scale\":{\"id\":\"1545\"}},\"id\":\"1538\",\"subtype\":\"Figure\",\"type\":\"Plot\"},{\"attributes\":{\"fill_alpha\":{\"value\":0.1},\"fill_color\":{\"value\":\"#ff7e0e\"},\"line_alpha\":{\"value\":0.1},\"line_color\":{\"value\":\"#ff7e0e\"},\"size\":{\"units\":\"screen\",\"value\":5.477225575051661},\"x\":{\"field\":\"TotalCoinsMined\"},\"y\":{\"field\":\"TotalCoinSupply\"}},\"id\":\"1594\",\"type\":\"Scatter\"},{\"attributes\":{\"data_source\":{\"id\":\"1630\"},\"glyph\":{\"id\":\"1633\"},\"hover_glyph\":null,\"muted_glyph\":{\"id\":\"1635\"},\"nonselection_glyph\":{\"id\":\"1634\"},\"selection_glyph\":null,\"view\":{\"id\":\"1637\"}},\"id\":\"1636\",\"type\":\"GlyphRenderer\"},{\"attributes\":{\"data_source\":{\"id\":\"1653\"},\"glyph\":{\"id\":\"1656\"},\"hover_glyph\":null,\"muted_glyph\":{\"id\":\"1658\"},\"nonselection_glyph\":{\"id\":\"1657\"},\"selection_glyph\":null,\"view\":{\"id\":\"1660\"}},\"id\":\"1659\",\"type\":\"GlyphRenderer\"},{\"attributes\":{\"data\":{\"Class\":[3,3,3,3,3,3],\"CoinName\":[\"Vechain\",\"BiblePay\",\"LitecoinCash\",\"Poa Network\",\"Acute Angle Cloud\",\"Waves\"],\"TotalCoinSupply\":{\"__ndarray__\":\"yzX9wAIZi0AAAAAAAABKQM3MzMzMzCBAf8LZrWUyBEAAAAAAAAAkQAAAAAAAAPA/\",\"dtype\":\"float64\",\"order\":\"little\",\"shape\":[6]},\"TotalCoinsMined\":{\"__ndarray__\":\"QPz892BUgUB64ArrjbgxQOUwH/sIiRlA+sxhELtbAEAAAAAAAAAkQAAAAAAAAPA/\",\"dtype\":\"float64\",\"order\":\"little\",\"shape\":[6]}},\"selected\":{\"id\":\"1631\"},\"selection_policy\":{\"id\":\"1649\"}},\"id\":\"1630\",\"type\":\"ColumnDataSource\"},{\"attributes\":{},\"id\":\"1568\",\"type\":\"BasicTickFormatter\"},{\"attributes\":{},\"id\":\"1649\",\"type\":\"UnionRenderers\"},{\"attributes\":{},\"id\":\"1570\",\"type\":\"BasicTickFormatter\"},{\"attributes\":{},\"id\":\"1674\",\"type\":\"UnionRenderers\"},{\"attributes\":{\"fill_alpha\":{\"value\":0.1},\"fill_color\":{\"value\":\"#2ba02b\"},\"line_alpha\":{\"value\":0.1},\"line_color\":{\"value\":\"#2ba02b\"},\"size\":{\"units\":\"screen\",\"value\":5.477225575051661},\"x\":{\"field\":\"TotalCoinsMined\"},\"y\":{\"field\":\"TotalCoinSupply\"}},\"id\":\"1613\",\"type\":\"Scatter\"},{\"attributes\":{},\"id\":\"1557\",\"type\":\"WheelZoomTool\"},{\"attributes\":{\"label\":{\"value\":\"0\"},\"renderers\":[{\"id\":\"1578\"}]},\"id\":\"1589\",\"type\":\"LegendItem\"},{\"attributes\":{\"overlay\":{\"id\":\"1560\"}},\"id\":\"1558\",\"type\":\"BoxZoomTool\"}],\"root_ids\":[\"1529\"]},\"title\":\"Bokeh Application\",\"version\":\"2.1.1\"}};\n  var render_items = [{\"docid\":\"61894900-823d-4701-a14e-7715923b4cef\",\"root_ids\":[\"1529\"],\"roots\":{\"1529\":\"a4e3ab08-5565-4ef8-a872-bc0c1ff874fc\"}}];\n  root.Bokeh.embed.embed_items_notebook(docs_json, render_items);\n  }\nif (root.Bokeh !== undefined) {\n    embed_document(root);\n  } else {\n    var attempts = 0;\n    var timer = setInterval(function(root) {\n      if (root.Bokeh !== undefined) {\n        clearInterval(timer);\n        embed_document(root);\n      } else if (document.readyState == \"complete\") {\n        attempts++;\n        if (attempts > 100) {\n          clearInterval(timer);\n          console.log(\"Bokeh: ERROR: Unable to run BokehJS code because BokehJS library is missing\");\n        }\n      }\n    }, 10, root)\n  }\n})(window);</script>",
      "application/vnd.holoviews_exec.v0+json": "",
      "text/plain": [
       ":NdOverlay   [Class]\n",
       "   :Scatter   [TotalCoinsMined]   (TotalCoinSupply,CoinName)"
      ]
     },
     "metadata": {
      "application/vnd.holoviews_exec.v0+json": {
       "id": "1529"
      }
     },
     "execution_count": 29
    }
   ],
   "source": [
    "# Plot the scatter with x=\"TotalCoinsMined\" and y=\"TotalCoinSupply\"\n",
    "fig_2 = clustered_df.hvplot.scatter(\n",
    "    x=\"TotalCoinsMined\",\n",
    "    y=\"TotalCoinSupply\",\n",
    "    hover_cols=[\"CoinName\"],\n",
    "    by=\"Class\",\n",
    ")\n",
    "    \n",
    "fig_2"
   ]
  },
  {
   "cell_type": "code",
   "execution_count": null,
   "metadata": {},
   "outputs": [],
   "source": []
  }
 ],
 "metadata": {
  "file_extension": ".py",
  "kernelspec": {
   "name": "python3",
   "display_name": "Python 3.7.7 64-bit ('pyvizenv': conda)",
   "metadata": {
    "interpreter": {
     "hash": "6d180c226e1fb546a2a1623a132f2a8812479d52f4604fddc733d95b32da65e3"
    }
   }
  },
  "language_info": {
   "codemirror_mode": {
    "name": "ipython",
    "version": 3
   },
   "file_extension": ".py",
   "mimetype": "text/x-python",
   "name": "python",
   "nbconvert_exporter": "python",
   "pygments_lexer": "ipython3",
   "version": "3.7.7-final"
  },
  "mimetype": "text/x-python",
  "name": "python",
  "npconvert_exporter": "python",
  "pygments_lexer": "ipython3",
  "version": 3
 },
 "nbformat": 4,
 "nbformat_minor": 4
}