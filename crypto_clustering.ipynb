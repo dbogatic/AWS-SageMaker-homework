{
 "cells": [
  {
   "cell_type": "markdown",
   "metadata": {},
   "source": [
    "# Clustering Crypto"
   ]
  },
  {
   "cell_type": "code",
   "execution_count": 61,
   "metadata": {},
   "outputs": [],
   "source": [
    "# Initial imports\n",
    "import requests\n",
    "import pandas as pd\n",
    "import matplotlib.pyplot as plt\n",
    "import hvplot.pandas\n",
    "import plotly.express as px\n",
    "from sklearn.preprocessing import StandardScaler, MinMaxScaler\n",
    "from sklearn.decomposition import PCA\n",
    "from sklearn.cluster import KMeans"
   ]
  },
  {
   "cell_type": "markdown",
   "metadata": {},
   "source": [
    "### Fetching Cryptocurrency Data"
   ]
  },
  {
   "cell_type": "code",
   "execution_count": 62,
   "metadata": {
    "tags": []
   },
   "outputs": [],
   "source": [
    "# Use the following endpoint to fetch json data\n",
    "import json\n",
    "from pprint import pprint\n",
    "\n",
    "url = \"https://min-api.cryptocompare.com/data/all/coinlist\"\n",
    "res = requests.get(url)\n",
    "res\n",
    "data = res.json()\n",
    "json_data = json.dumps(data)"
   ]
  },
  {
   "cell_type": "code",
   "execution_count": 63,
   "metadata": {},
   "outputs": [
    {
     "output_type": "execute_result",
     "data": {
      "text/plain": [
       "      CoinName Algorithm IsTrading ProofType TotalCoinsMined MaxSupply\n",
       "42     42 Coin    Scrypt      True   PoW/PoS               0         0\n",
       "300  300 token       N/A      True       N/A             300       300\n",
       "365    365Coin       X11      True   PoW/PoS               0         0\n",
       "404    404Coin    Scrypt      True   PoW/PoS               0         0\n",
       "433  433 Token       N/A     False       N/A             NaN       NaN"
      ],
      "text/html": "<div>\n<style scoped>\n    .dataframe tbody tr th:only-of-type {\n        vertical-align: middle;\n    }\n\n    .dataframe tbody tr th {\n        vertical-align: top;\n    }\n\n    .dataframe thead th {\n        text-align: right;\n    }\n</style>\n<table border=\"1\" class=\"dataframe\">\n  <thead>\n    <tr style=\"text-align: right;\">\n      <th></th>\n      <th>CoinName</th>\n      <th>Algorithm</th>\n      <th>IsTrading</th>\n      <th>ProofType</th>\n      <th>TotalCoinsMined</th>\n      <th>MaxSupply</th>\n    </tr>\n  </thead>\n  <tbody>\n    <tr>\n      <th>42</th>\n      <td>42 Coin</td>\n      <td>Scrypt</td>\n      <td>True</td>\n      <td>PoW/PoS</td>\n      <td>0</td>\n      <td>0</td>\n    </tr>\n    <tr>\n      <th>300</th>\n      <td>300 token</td>\n      <td>N/A</td>\n      <td>True</td>\n      <td>N/A</td>\n      <td>300</td>\n      <td>300</td>\n    </tr>\n    <tr>\n      <th>365</th>\n      <td>365Coin</td>\n      <td>X11</td>\n      <td>True</td>\n      <td>PoW/PoS</td>\n      <td>0</td>\n      <td>0</td>\n    </tr>\n    <tr>\n      <th>404</th>\n      <td>404Coin</td>\n      <td>Scrypt</td>\n      <td>True</td>\n      <td>PoW/PoS</td>\n      <td>0</td>\n      <td>0</td>\n    </tr>\n    <tr>\n      <th>433</th>\n      <td>433 Token</td>\n      <td>N/A</td>\n      <td>False</td>\n      <td>N/A</td>\n      <td>NaN</td>\n      <td>NaN</td>\n    </tr>\n  </tbody>\n</table>\n</div>"
     },
     "metadata": {},
     "execution_count": 63
    }
   ],
   "source": [
    "# Create a DataFrame \n",
    "# HINT: You will need to use the 'Data' key from the json response, then transpose the DataFrame.\n",
    "df = pd.DataFrame(data[\"Data\"])\n",
    "df = df.T\n",
    "url_request_df = df[['CoinName','Algorithm','IsTrading','ProofType','TotalCoinsMined','MaxSupply']]\n",
    "url_request_df.head()"
   ]
  },
  {
   "cell_type": "code",
   "execution_count": 64,
   "metadata": {},
   "outputs": [
    {
     "output_type": "execute_result",
     "data": {
      "text/plain": [
       "Index(['Algorithm', 'AssetLaunchDate', 'AssetTokenStatus', 'BlockNumber',\n",
       "       'BlockReward', 'BlockTime', 'BuiltOn', 'CoinName', 'ContentCreatedOn',\n",
       "       'DecimalPoints', 'Description', 'Difficulty', 'FullName', 'Id',\n",
       "       'ImageUrl', 'IsTrading', 'IsUsedInDefi', 'MaxSupply', 'MktCapPenalty',\n",
       "       'Name', 'NetHashesPerSecond', 'PlatformType', 'ProofType', 'Rating',\n",
       "       'SmartContractAddress', 'SortOrder', 'Sponsored', 'Symbol', 'Taxonomy',\n",
       "       'TotalCoinsMined', 'Url'],\n",
       "      dtype='object')"
      ]
     },
     "metadata": {},
     "execution_count": 64
    }
   ],
   "source": [
    "df.keys()\n",
    "# json file keys do not contain \"TotalCoinSupply\" column as in .csv file below. Further analysis will be using data from .csv file."
   ]
  },
  {
   "cell_type": "code",
   "execution_count": 65,
   "metadata": {},
   "outputs": [
    {
     "output_type": "execute_result",
     "data": {
      "text/plain": [
       "  Unnamed: 0   CoinName Algorithm  IsTrading ProofType  TotalCoinsMined  \\\n",
       "0         42    42 Coin    Scrypt       True   PoW/PoS     4.199995e+01   \n",
       "1        365    365Coin       X11       True   PoW/PoS              NaN   \n",
       "2        404    404Coin    Scrypt       True   PoW/PoS     1.055185e+09   \n",
       "3        611  SixEleven   SHA-256       True       PoW              NaN   \n",
       "4        808        808   SHA-256       True   PoW/PoS     0.000000e+00   \n",
       "\n",
       "  TotalCoinSupply  \n",
       "0              42  \n",
       "1      2300000000  \n",
       "2       532000000  \n",
       "3          611000  \n",
       "4               0  "
      ],
      "text/html": "<div>\n<style scoped>\n    .dataframe tbody tr th:only-of-type {\n        vertical-align: middle;\n    }\n\n    .dataframe tbody tr th {\n        vertical-align: top;\n    }\n\n    .dataframe thead th {\n        text-align: right;\n    }\n</style>\n<table border=\"1\" class=\"dataframe\">\n  <thead>\n    <tr style=\"text-align: right;\">\n      <th></th>\n      <th>Unnamed: 0</th>\n      <th>CoinName</th>\n      <th>Algorithm</th>\n      <th>IsTrading</th>\n      <th>ProofType</th>\n      <th>TotalCoinsMined</th>\n      <th>TotalCoinSupply</th>\n    </tr>\n  </thead>\n  <tbody>\n    <tr>\n      <th>0</th>\n      <td>42</td>\n      <td>42 Coin</td>\n      <td>Scrypt</td>\n      <td>True</td>\n      <td>PoW/PoS</td>\n      <td>4.199995e+01</td>\n      <td>42</td>\n    </tr>\n    <tr>\n      <th>1</th>\n      <td>365</td>\n      <td>365Coin</td>\n      <td>X11</td>\n      <td>True</td>\n      <td>PoW/PoS</td>\n      <td>NaN</td>\n      <td>2300000000</td>\n    </tr>\n    <tr>\n      <th>2</th>\n      <td>404</td>\n      <td>404Coin</td>\n      <td>Scrypt</td>\n      <td>True</td>\n      <td>PoW/PoS</td>\n      <td>1.055185e+09</td>\n      <td>532000000</td>\n    </tr>\n    <tr>\n      <th>3</th>\n      <td>611</td>\n      <td>SixEleven</td>\n      <td>SHA-256</td>\n      <td>True</td>\n      <td>PoW</td>\n      <td>NaN</td>\n      <td>611000</td>\n    </tr>\n    <tr>\n      <th>4</th>\n      <td>808</td>\n      <td>808</td>\n      <td>SHA-256</td>\n      <td>True</td>\n      <td>PoW/PoS</td>\n      <td>0.000000e+00</td>\n      <td>0</td>\n    </tr>\n  </tbody>\n</table>\n</div>"
     },
     "metadata": {},
     "execution_count": 65
    }
   ],
   "source": [
    "# Alternatively, use the provided csv file:\n",
    "# file_path = Path(\"Resources/crypto_data.csv\")\n",
    "crypto_df = pd.read_csv(\"Resources/crypto_data.csv\")\n",
    "\n",
    "# Create a DataFrame\n",
    "crypto_df.head()"
   ]
  },
  {
   "cell_type": "markdown",
   "metadata": {},
   "source": [
    "### Data Preprocessing"
   ]
  },
  {
   "cell_type": "code",
   "execution_count": 66,
   "metadata": {},
   "outputs": [
    {
     "output_type": "execute_result",
     "data": {
      "text/plain": [
       "             CoinName Algorithm  IsTrading ProofType  TotalCoinsMined  \\\n",
       "Unnamed: 0                                                              \n",
       "42            42 Coin    Scrypt       True   PoW/PoS     4.199995e+01   \n",
       "365           365Coin       X11       True   PoW/PoS              NaN   \n",
       "404           404Coin    Scrypt       True   PoW/PoS     1.055185e+09   \n",
       "611         SixEleven   SHA-256       True       PoW              NaN   \n",
       "808               808   SHA-256       True   PoW/PoS     0.000000e+00   \n",
       "\n",
       "           TotalCoinSupply  \n",
       "Unnamed: 0                  \n",
       "42                      42  \n",
       "365             2300000000  \n",
       "404              532000000  \n",
       "611                 611000  \n",
       "808                      0  "
      ],
      "text/html": "<div>\n<style scoped>\n    .dataframe tbody tr th:only-of-type {\n        vertical-align: middle;\n    }\n\n    .dataframe tbody tr th {\n        vertical-align: top;\n    }\n\n    .dataframe thead th {\n        text-align: right;\n    }\n</style>\n<table border=\"1\" class=\"dataframe\">\n  <thead>\n    <tr style=\"text-align: right;\">\n      <th></th>\n      <th>CoinName</th>\n      <th>Algorithm</th>\n      <th>IsTrading</th>\n      <th>ProofType</th>\n      <th>TotalCoinsMined</th>\n      <th>TotalCoinSupply</th>\n    </tr>\n    <tr>\n      <th>Unnamed: 0</th>\n      <th></th>\n      <th></th>\n      <th></th>\n      <th></th>\n      <th></th>\n      <th></th>\n    </tr>\n  </thead>\n  <tbody>\n    <tr>\n      <th>42</th>\n      <td>42 Coin</td>\n      <td>Scrypt</td>\n      <td>True</td>\n      <td>PoW/PoS</td>\n      <td>4.199995e+01</td>\n      <td>42</td>\n    </tr>\n    <tr>\n      <th>365</th>\n      <td>365Coin</td>\n      <td>X11</td>\n      <td>True</td>\n      <td>PoW/PoS</td>\n      <td>NaN</td>\n      <td>2300000000</td>\n    </tr>\n    <tr>\n      <th>404</th>\n      <td>404Coin</td>\n      <td>Scrypt</td>\n      <td>True</td>\n      <td>PoW/PoS</td>\n      <td>1.055185e+09</td>\n      <td>532000000</td>\n    </tr>\n    <tr>\n      <th>611</th>\n      <td>SixEleven</td>\n      <td>SHA-256</td>\n      <td>True</td>\n      <td>PoW</td>\n      <td>NaN</td>\n      <td>611000</td>\n    </tr>\n    <tr>\n      <th>808</th>\n      <td>808</td>\n      <td>SHA-256</td>\n      <td>True</td>\n      <td>PoW/PoS</td>\n      <td>0.000000e+00</td>\n      <td>0</td>\n    </tr>\n  </tbody>\n</table>\n</div>"
     },
     "metadata": {},
     "execution_count": 66
    }
   ],
   "source": [
    "# Keep only necessary columns:\n",
    "# 'CoinName','Algorithm','IsTrading','ProofType','TotalCoinsMined','TotalCoinSupply'\n",
    "crypto_df = crypto_df.set_index(crypto_df.columns[0])\n",
    "crypto_df.head()"
   ]
  },
  {
   "cell_type": "code",
   "execution_count": 67,
   "metadata": {},
   "outputs": [
    {
     "output_type": "stream",
     "name": "stdout",
     "text": [
      "(1144, 6)\n"
     ]
    },
    {
     "output_type": "execute_result",
     "data": {
      "text/plain": [
       "             CoinName Algorithm  IsTrading ProofType  TotalCoinsMined  \\\n",
       "Unnamed: 0                                                              \n",
       "42            42 Coin    Scrypt       True   PoW/PoS     4.199995e+01   \n",
       "365           365Coin       X11       True   PoW/PoS              NaN   \n",
       "404           404Coin    Scrypt       True   PoW/PoS     1.055185e+09   \n",
       "611         SixEleven   SHA-256       True       PoW              NaN   \n",
       "808               808   SHA-256       True   PoW/PoS     0.000000e+00   \n",
       "\n",
       "           TotalCoinSupply  \n",
       "Unnamed: 0                  \n",
       "42                      42  \n",
       "365             2300000000  \n",
       "404              532000000  \n",
       "611                 611000  \n",
       "808                      0  "
      ],
      "text/html": "<div>\n<style scoped>\n    .dataframe tbody tr th:only-of-type {\n        vertical-align: middle;\n    }\n\n    .dataframe tbody tr th {\n        vertical-align: top;\n    }\n\n    .dataframe thead th {\n        text-align: right;\n    }\n</style>\n<table border=\"1\" class=\"dataframe\">\n  <thead>\n    <tr style=\"text-align: right;\">\n      <th></th>\n      <th>CoinName</th>\n      <th>Algorithm</th>\n      <th>IsTrading</th>\n      <th>ProofType</th>\n      <th>TotalCoinsMined</th>\n      <th>TotalCoinSupply</th>\n    </tr>\n    <tr>\n      <th>Unnamed: 0</th>\n      <th></th>\n      <th></th>\n      <th></th>\n      <th></th>\n      <th></th>\n      <th></th>\n    </tr>\n  </thead>\n  <tbody>\n    <tr>\n      <th>42</th>\n      <td>42 Coin</td>\n      <td>Scrypt</td>\n      <td>True</td>\n      <td>PoW/PoS</td>\n      <td>4.199995e+01</td>\n      <td>42</td>\n    </tr>\n    <tr>\n      <th>365</th>\n      <td>365Coin</td>\n      <td>X11</td>\n      <td>True</td>\n      <td>PoW/PoS</td>\n      <td>NaN</td>\n      <td>2300000000</td>\n    </tr>\n    <tr>\n      <th>404</th>\n      <td>404Coin</td>\n      <td>Scrypt</td>\n      <td>True</td>\n      <td>PoW/PoS</td>\n      <td>1.055185e+09</td>\n      <td>532000000</td>\n    </tr>\n    <tr>\n      <th>611</th>\n      <td>SixEleven</td>\n      <td>SHA-256</td>\n      <td>True</td>\n      <td>PoW</td>\n      <td>NaN</td>\n      <td>611000</td>\n    </tr>\n    <tr>\n      <th>808</th>\n      <td>808</td>\n      <td>SHA-256</td>\n      <td>True</td>\n      <td>PoW/PoS</td>\n      <td>0.000000e+00</td>\n      <td>0</td>\n    </tr>\n  </tbody>\n</table>\n</div>"
     },
     "metadata": {},
     "execution_count": 67
    }
   ],
   "source": [
    "# Keep only cryptocurrencies that are trading\n",
    "crypto_df = crypto_df[crypto_df['IsTrading']==True]\n",
    "print(crypto_df.shape)\n",
    "crypto_df.head()"
   ]
  },
  {
   "cell_type": "code",
   "execution_count": 68,
   "metadata": {},
   "outputs": [
    {
     "output_type": "stream",
     "name": "stdout",
     "text": [
      "Unnamed: 0\n42       False\n365      False\n404      False\n611      False\n808      False\n1337     False\n2015     False\nBTC      False\nETH      False\nLTC      False\nDASH     False\nXMR      False\nETC      False\nZEC      False\nBTS      False\nDGB      False\nBTCD     False\nCRAIG    False\nXBS      False\nXPY      False\nPRC      False\nYBC      False\nDANK     False\nGIVE     False\nKOBO     False\nDT       False\nCETI     False\nSPR      False\nWOLF     False\nACOIN    False\n         ...  \nAHT      False\nRCC      False\nOXY      False\nKAPU     False\nGRFT     False\nMNZ      False\nSCRM     False\nLWF      False\nILT      False\nADM      False\nUPX      False\nTCH      False\nTIP      False\nDTEP     False\nWAVES    False\nPART     False\nSLX      False\nBTT      False\nCHI      False\nNXT      False\nZEPH     False\nXQN      False\nNETC     False\nVPRC     False\nGAP      False\nSERO     False\nUOS      False\nBDX      False\nZEN      False\nXBC      False\nName: Algorithm, Length: 1144, dtype: bool\n"
     ]
    }
   ],
   "source": [
    "# Keep only cryptocurrencies with a working algorithm\n",
    "print(crypto_df['Algorithm'].isna())"
   ]
  },
  {
   "cell_type": "code",
   "execution_count": 69,
   "metadata": {},
   "outputs": [
    {
     "output_type": "execute_result",
     "data": {
      "text/plain": [
       "             CoinName Algorithm ProofType  TotalCoinsMined TotalCoinSupply\n",
       "Unnamed: 0                                                                \n",
       "42            42 Coin    Scrypt   PoW/PoS     4.199995e+01              42\n",
       "365           365Coin       X11   PoW/PoS              NaN      2300000000\n",
       "404           404Coin    Scrypt   PoW/PoS     1.055185e+09       532000000\n",
       "611         SixEleven   SHA-256       PoW              NaN          611000\n",
       "808               808   SHA-256   PoW/PoS     0.000000e+00               0"
      ],
      "text/html": "<div>\n<style scoped>\n    .dataframe tbody tr th:only-of-type {\n        vertical-align: middle;\n    }\n\n    .dataframe tbody tr th {\n        vertical-align: top;\n    }\n\n    .dataframe thead th {\n        text-align: right;\n    }\n</style>\n<table border=\"1\" class=\"dataframe\">\n  <thead>\n    <tr style=\"text-align: right;\">\n      <th></th>\n      <th>CoinName</th>\n      <th>Algorithm</th>\n      <th>ProofType</th>\n      <th>TotalCoinsMined</th>\n      <th>TotalCoinSupply</th>\n    </tr>\n    <tr>\n      <th>Unnamed: 0</th>\n      <th></th>\n      <th></th>\n      <th></th>\n      <th></th>\n      <th></th>\n    </tr>\n  </thead>\n  <tbody>\n    <tr>\n      <th>42</th>\n      <td>42 Coin</td>\n      <td>Scrypt</td>\n      <td>PoW/PoS</td>\n      <td>4.199995e+01</td>\n      <td>42</td>\n    </tr>\n    <tr>\n      <th>365</th>\n      <td>365Coin</td>\n      <td>X11</td>\n      <td>PoW/PoS</td>\n      <td>NaN</td>\n      <td>2300000000</td>\n    </tr>\n    <tr>\n      <th>404</th>\n      <td>404Coin</td>\n      <td>Scrypt</td>\n      <td>PoW/PoS</td>\n      <td>1.055185e+09</td>\n      <td>532000000</td>\n    </tr>\n    <tr>\n      <th>611</th>\n      <td>SixEleven</td>\n      <td>SHA-256</td>\n      <td>PoW</td>\n      <td>NaN</td>\n      <td>611000</td>\n    </tr>\n    <tr>\n      <th>808</th>\n      <td>808</td>\n      <td>SHA-256</td>\n      <td>PoW/PoS</td>\n      <td>0.000000e+00</td>\n      <td>0</td>\n    </tr>\n  </tbody>\n</table>\n</div>"
     },
     "metadata": {},
     "execution_count": 69
    }
   ],
   "source": [
    "# Remove the \"IsTrading\" column\n",
    "crypto_df = crypto_df.drop(columns=\"IsTrading\")\n",
    "crypto_df.head()"
   ]
  },
  {
   "cell_type": "code",
   "execution_count": 70,
   "metadata": {},
   "outputs": [
    {
     "output_type": "execute_result",
     "data": {
      "text/plain": [
       "CoinName             0\n",
       "Algorithm            0\n",
       "ProofType            0\n",
       "TotalCoinsMined    459\n",
       "TotalCoinSupply      0\n",
       "dtype: int64"
      ]
     },
     "metadata": {},
     "execution_count": 70
    }
   ],
   "source": [
    "# Remove rows with at least 1 null value\n",
    "crypto_df.isnull().sum()"
   ]
  },
  {
   "cell_type": "code",
   "execution_count": 71,
   "metadata": {},
   "outputs": [
    {
     "output_type": "execute_result",
     "data": {
      "text/plain": [
       "(532, 5)"
      ]
     },
     "metadata": {},
     "execution_count": 71
    }
   ],
   "source": [
    "# Remove rows with cryptocurrencies having no coins mined\n",
    "crypto_df = crypto_df[crypto_df['TotalCoinsMined'] > 0]\n",
    "crypto_df.shape"
   ]
  },
  {
   "cell_type": "code",
   "execution_count": 72,
   "metadata": {},
   "outputs": [
    {
     "output_type": "execute_result",
     "data": {
      "text/plain": [
       "CoinName           0\n",
       "Algorithm          0\n",
       "ProofType          0\n",
       "TotalCoinsMined    0\n",
       "TotalCoinSupply    0\n",
       "dtype: int64"
      ]
     },
     "metadata": {},
     "execution_count": 72
    }
   ],
   "source": [
    "# Drop rows where there are 'N/A' text values\n",
    "crypto_df.dropna()\n",
    "crypto_df.isna().sum()"
   ]
  },
  {
   "cell_type": "code",
   "execution_count": 73,
   "metadata": {},
   "outputs": [
    {
     "output_type": "execute_result",
     "data": {
      "text/plain": [
       "Unnamed: 0\n",
       "42        42 Coin\n",
       "404       404Coin\n",
       "1337    EliteCoin\n",
       "BTC       Bitcoin\n",
       "ETH      Ethereum\n",
       "Name: CoinName, dtype: object"
      ]
     },
     "metadata": {},
     "execution_count": 73
    }
   ],
   "source": [
    "# Store the 'CoinName'column in its own DataFrame prior to dropping it from crypto_df\n",
    "coin_name_df = crypto_df[\"CoinName\"]\n",
    "coin_name_df.head()"
   ]
  },
  {
   "cell_type": "code",
   "execution_count": 74,
   "metadata": {},
   "outputs": [
    {
     "output_type": "execute_result",
     "data": {
      "text/plain": [
       "           Algorithm ProofType  TotalCoinsMined TotalCoinSupply\n",
       "Unnamed: 0                                                     \n",
       "42            Scrypt   PoW/PoS     4.199995e+01              42\n",
       "404           Scrypt   PoW/PoS     1.055185e+09       532000000\n",
       "1337             X13   PoW/PoS     2.927942e+10    314159265359\n",
       "BTC          SHA-256       PoW     1.792718e+07        21000000\n",
       "ETH           Ethash       PoW     1.076842e+08               0"
      ],
      "text/html": "<div>\n<style scoped>\n    .dataframe tbody tr th:only-of-type {\n        vertical-align: middle;\n    }\n\n    .dataframe tbody tr th {\n        vertical-align: top;\n    }\n\n    .dataframe thead th {\n        text-align: right;\n    }\n</style>\n<table border=\"1\" class=\"dataframe\">\n  <thead>\n    <tr style=\"text-align: right;\">\n      <th></th>\n      <th>Algorithm</th>\n      <th>ProofType</th>\n      <th>TotalCoinsMined</th>\n      <th>TotalCoinSupply</th>\n    </tr>\n    <tr>\n      <th>Unnamed: 0</th>\n      <th></th>\n      <th></th>\n      <th></th>\n      <th></th>\n    </tr>\n  </thead>\n  <tbody>\n    <tr>\n      <th>42</th>\n      <td>Scrypt</td>\n      <td>PoW/PoS</td>\n      <td>4.199995e+01</td>\n      <td>42</td>\n    </tr>\n    <tr>\n      <th>404</th>\n      <td>Scrypt</td>\n      <td>PoW/PoS</td>\n      <td>1.055185e+09</td>\n      <td>532000000</td>\n    </tr>\n    <tr>\n      <th>1337</th>\n      <td>X13</td>\n      <td>PoW/PoS</td>\n      <td>2.927942e+10</td>\n      <td>314159265359</td>\n    </tr>\n    <tr>\n      <th>BTC</th>\n      <td>SHA-256</td>\n      <td>PoW</td>\n      <td>1.792718e+07</td>\n      <td>21000000</td>\n    </tr>\n    <tr>\n      <th>ETH</th>\n      <td>Ethash</td>\n      <td>PoW</td>\n      <td>1.076842e+08</td>\n      <td>0</td>\n    </tr>\n  </tbody>\n</table>\n</div>"
     },
     "metadata": {},
     "execution_count": 74
    }
   ],
   "source": [
    "# Drop the 'CoinName' column since it's not going to be used on the clustering algorithm\n",
    "crypto_df = crypto_df.drop(columns='CoinName')\n",
    "crypto_df.head()"
   ]
  },
  {
   "cell_type": "code",
   "execution_count": 75,
   "metadata": {},
   "outputs": [
    {
     "output_type": "execute_result",
     "data": {
      "text/plain": [
       "            TotalCoinsMined TotalCoinSupply  Algorithm_1GB AES Pattern Search  \\\n",
       "Unnamed: 0                                                                      \n",
       "42             4.199995e+01              42                                 0   \n",
       "404            1.055185e+09       532000000                                 0   \n",
       "1337           2.927942e+10    314159265359                                 0   \n",
       "BTC            1.792718e+07        21000000                                 0   \n",
       "ETH            1.076842e+08               0                                 0   \n",
       "\n",
       "            Algorithm_536  Algorithm_Argon2d  Algorithm_BLAKE256  \\\n",
       "Unnamed: 0                                                         \n",
       "42                      0                  0                   0   \n",
       "404                     0                  0                   0   \n",
       "1337                    0                  0                   0   \n",
       "BTC                     0                  0                   0   \n",
       "ETH                     0                  0                   0   \n",
       "\n",
       "            Algorithm_Blake  Algorithm_Blake2S  Algorithm_Blake2b  \\\n",
       "Unnamed: 0                                                          \n",
       "42                        0                  0                  0   \n",
       "404                       0                  0                  0   \n",
       "1337                      0                  0                  0   \n",
       "BTC                       0                  0                  0   \n",
       "ETH                       0                  0                  0   \n",
       "\n",
       "            Algorithm_C11  ...  ProofType_PoW/PoS  ProofType_PoW/PoS   \\\n",
       "Unnamed: 0                 ...                                          \n",
       "42                      0  ...                  1                   0   \n",
       "404                     0  ...                  1                   0   \n",
       "1337                    0  ...                  1                   0   \n",
       "BTC                     0  ...                  0                   0   \n",
       "ETH                     0  ...                  0                   0   \n",
       "\n",
       "            ProofType_PoW/PoW  ProofType_PoW/nPoS  ProofType_Pos  \\\n",
       "Unnamed: 0                                                         \n",
       "42                          0                   0              0   \n",
       "404                         0                   0              0   \n",
       "1337                        0                   0              0   \n",
       "BTC                         0                   0              0   \n",
       "ETH                         0                   0              0   \n",
       "\n",
       "            ProofType_Proof of Authority  ProofType_Proof of Trust  \\\n",
       "Unnamed: 0                                                           \n",
       "42                                     0                         0   \n",
       "404                                    0                         0   \n",
       "1337                                   0                         0   \n",
       "BTC                                    0                         0   \n",
       "ETH                                    0                         0   \n",
       "\n",
       "            ProofType_TPoS  ProofType_Zero-Knowledge Proof  ProofType_dPoW/PoW  \n",
       "Unnamed: 0                                                                      \n",
       "42                       0                               0                   0  \n",
       "404                      0                               0                   0  \n",
       "1337                     0                               0                   0  \n",
       "BTC                      0                               0                   0  \n",
       "ETH                      0                               0                   0  \n",
       "\n",
       "[5 rows x 98 columns]"
      ],
      "text/html": "<div>\n<style scoped>\n    .dataframe tbody tr th:only-of-type {\n        vertical-align: middle;\n    }\n\n    .dataframe tbody tr th {\n        vertical-align: top;\n    }\n\n    .dataframe thead th {\n        text-align: right;\n    }\n</style>\n<table border=\"1\" class=\"dataframe\">\n  <thead>\n    <tr style=\"text-align: right;\">\n      <th></th>\n      <th>TotalCoinsMined</th>\n      <th>TotalCoinSupply</th>\n      <th>Algorithm_1GB AES Pattern Search</th>\n      <th>Algorithm_536</th>\n      <th>Algorithm_Argon2d</th>\n      <th>Algorithm_BLAKE256</th>\n      <th>Algorithm_Blake</th>\n      <th>Algorithm_Blake2S</th>\n      <th>Algorithm_Blake2b</th>\n      <th>Algorithm_C11</th>\n      <th>...</th>\n      <th>ProofType_PoW/PoS</th>\n      <th>ProofType_PoW/PoS</th>\n      <th>ProofType_PoW/PoW</th>\n      <th>ProofType_PoW/nPoS</th>\n      <th>ProofType_Pos</th>\n      <th>ProofType_Proof of Authority</th>\n      <th>ProofType_Proof of Trust</th>\n      <th>ProofType_TPoS</th>\n      <th>ProofType_Zero-Knowledge Proof</th>\n      <th>ProofType_dPoW/PoW</th>\n    </tr>\n    <tr>\n      <th>Unnamed: 0</th>\n      <th></th>\n      <th></th>\n      <th></th>\n      <th></th>\n      <th></th>\n      <th></th>\n      <th></th>\n      <th></th>\n      <th></th>\n      <th></th>\n      <th></th>\n      <th></th>\n      <th></th>\n      <th></th>\n      <th></th>\n      <th></th>\n      <th></th>\n      <th></th>\n      <th></th>\n      <th></th>\n      <th></th>\n    </tr>\n  </thead>\n  <tbody>\n    <tr>\n      <th>42</th>\n      <td>4.199995e+01</td>\n      <td>42</td>\n      <td>0</td>\n      <td>0</td>\n      <td>0</td>\n      <td>0</td>\n      <td>0</td>\n      <td>0</td>\n      <td>0</td>\n      <td>0</td>\n      <td>...</td>\n      <td>1</td>\n      <td>0</td>\n      <td>0</td>\n      <td>0</td>\n      <td>0</td>\n      <td>0</td>\n      <td>0</td>\n      <td>0</td>\n      <td>0</td>\n      <td>0</td>\n    </tr>\n    <tr>\n      <th>404</th>\n      <td>1.055185e+09</td>\n      <td>532000000</td>\n      <td>0</td>\n      <td>0</td>\n      <td>0</td>\n      <td>0</td>\n      <td>0</td>\n      <td>0</td>\n      <td>0</td>\n      <td>0</td>\n      <td>...</td>\n      <td>1</td>\n      <td>0</td>\n      <td>0</td>\n      <td>0</td>\n      <td>0</td>\n      <td>0</td>\n      <td>0</td>\n      <td>0</td>\n      <td>0</td>\n      <td>0</td>\n    </tr>\n    <tr>\n      <th>1337</th>\n      <td>2.927942e+10</td>\n      <td>314159265359</td>\n      <td>0</td>\n      <td>0</td>\n      <td>0</td>\n      <td>0</td>\n      <td>0</td>\n      <td>0</td>\n      <td>0</td>\n      <td>0</td>\n      <td>...</td>\n      <td>1</td>\n      <td>0</td>\n      <td>0</td>\n      <td>0</td>\n      <td>0</td>\n      <td>0</td>\n      <td>0</td>\n      <td>0</td>\n      <td>0</td>\n      <td>0</td>\n    </tr>\n    <tr>\n      <th>BTC</th>\n      <td>1.792718e+07</td>\n      <td>21000000</td>\n      <td>0</td>\n      <td>0</td>\n      <td>0</td>\n      <td>0</td>\n      <td>0</td>\n      <td>0</td>\n      <td>0</td>\n      <td>0</td>\n      <td>...</td>\n      <td>0</td>\n      <td>0</td>\n      <td>0</td>\n      <td>0</td>\n      <td>0</td>\n      <td>0</td>\n      <td>0</td>\n      <td>0</td>\n      <td>0</td>\n      <td>0</td>\n    </tr>\n    <tr>\n      <th>ETH</th>\n      <td>1.076842e+08</td>\n      <td>0</td>\n      <td>0</td>\n      <td>0</td>\n      <td>0</td>\n      <td>0</td>\n      <td>0</td>\n      <td>0</td>\n      <td>0</td>\n      <td>0</td>\n      <td>...</td>\n      <td>0</td>\n      <td>0</td>\n      <td>0</td>\n      <td>0</td>\n      <td>0</td>\n      <td>0</td>\n      <td>0</td>\n      <td>0</td>\n      <td>0</td>\n      <td>0</td>\n    </tr>\n  </tbody>\n</table>\n<p>5 rows × 98 columns</p>\n</div>"
     },
     "metadata": {},
     "execution_count": 75
    }
   ],
   "source": [
    "# Create dummy variables for text features\n",
    "crypto_df = pd.get_dummies(crypto_df, columns=['Algorithm', 'ProofType'])\n",
    "crypto_df.head()"
   ]
  },
  {
   "cell_type": "code",
   "execution_count": 76,
   "metadata": {},
   "outputs": [
    {
     "output_type": "stream",
     "name": "stdout",
     "text": [
      "[[-0.11710817 -0.1528703  -0.0433963  -0.0433963  -0.0433963  -0.06142951\n  -0.07530656 -0.0433963  -0.06142951 -0.06142951 -0.0433963  -0.0433963\n  -0.19245009 -0.06142951 -0.09740465 -0.0433963  -0.11547005 -0.07530656\n  -0.0433963  -0.0433963  -0.15191091 -0.0433963  -0.13118084 -0.0433963\n  -0.0433963  -0.08703883 -0.0433963  -0.0433963  -0.0433963  -0.0433963\n  -0.06142951 -0.0433963  -0.08703883 -0.08703883 -0.08703883 -0.0433963\n  -0.13118084 -0.13840913 -0.13840913 -0.0433963  -0.06142951 -0.0433963\n  -0.07530656 -0.18168574 -0.0433963  -0.0433963  -0.0433963  -0.07530656\n  -0.15826614 -0.31491833 -0.0433963  -0.08703883 -0.07530656 -0.06142951\n   1.38675049 -0.0433963  -0.0433963  -0.06142951 -0.0433963  -0.0433963\n  -0.0433963  -0.0433963  -0.0433963  -0.0433963  -0.0433963  -0.0433963\n  -0.39879994 -0.0433963  -0.18168574 -0.0433963  -0.08703883 -0.08703883\n  -0.10680283 -0.0433963  -0.13118084 -0.0433963  -0.0433963  -0.0433963\n  -0.0433963  -0.07530656 -0.43911856 -0.0433963  -0.06142951 -0.0433963\n  -0.0433963  -0.89632016 -0.0433963  -0.0433963   1.42222617 -0.0433963\n  -0.0433963  -0.0433963  -0.0433963  -0.0433963  -0.0433963  -0.0433963\n  -0.0433963  -0.0433963 ]\n [-0.09396955 -0.145009   -0.0433963  -0.0433963  -0.0433963  -0.06142951\n  -0.07530656 -0.0433963  -0.06142951 -0.06142951 -0.0433963  -0.0433963\n  -0.19245009 -0.06142951 -0.09740465 -0.0433963  -0.11547005 -0.07530656\n  -0.0433963  -0.0433963  -0.15191091 -0.0433963  -0.13118084 -0.0433963\n  -0.0433963  -0.08703883 -0.0433963  -0.0433963  -0.0433963  -0.0433963\n  -0.06142951 -0.0433963  -0.08703883 -0.08703883 -0.08703883 -0.0433963\n  -0.13118084 -0.13840913 -0.13840913 -0.0433963  -0.06142951 -0.0433963\n  -0.07530656 -0.18168574 -0.0433963  -0.0433963  -0.0433963  -0.07530656\n  -0.15826614 -0.31491833 -0.0433963  -0.08703883 -0.07530656 -0.06142951\n   1.38675049 -0.0433963  -0.0433963  -0.06142951 -0.0433963  -0.0433963\n  -0.0433963  -0.0433963  -0.0433963  -0.0433963  -0.0433963  -0.0433963\n  -0.39879994 -0.0433963  -0.18168574 -0.0433963  -0.08703883 -0.08703883\n  -0.10680283 -0.0433963  -0.13118084 -0.0433963  -0.0433963  -0.0433963\n  -0.0433963  -0.07530656 -0.43911856 -0.0433963  -0.06142951 -0.0433963\n  -0.0433963  -0.89632016 -0.0433963  -0.0433963   1.42222617 -0.0433963\n  -0.0433963  -0.0433963  -0.0433963  -0.0433963  -0.0433963  -0.0433963\n  -0.0433963  -0.0433963 ]\n [ 0.52494561  4.48942416 -0.0433963  -0.0433963  -0.0433963  -0.06142951\n  -0.07530656 -0.0433963  -0.06142951 -0.06142951 -0.0433963  -0.0433963\n  -0.19245009 -0.06142951 -0.09740465 -0.0433963  -0.11547005 -0.07530656\n  -0.0433963  -0.0433963  -0.15191091 -0.0433963  -0.13118084 -0.0433963\n  -0.0433963  -0.08703883 -0.0433963  -0.0433963  -0.0433963  -0.0433963\n  -0.06142951 -0.0433963  -0.08703883 -0.08703883 -0.08703883 -0.0433963\n  -0.13118084 -0.13840913 -0.13840913 -0.0433963  -0.06142951 -0.0433963\n  -0.07530656 -0.18168574 -0.0433963  -0.0433963  -0.0433963  -0.07530656\n  -0.15826614 -0.31491833 -0.0433963  -0.08703883 -0.07530656 -0.06142951\n  -0.72111026 -0.0433963  -0.0433963  -0.06142951 -0.0433963  -0.0433963\n  -0.0433963  -0.0433963  -0.0433963  -0.0433963  -0.0433963  -0.0433963\n  -0.39879994 -0.0433963   5.50400923 -0.0433963  -0.08703883 -0.08703883\n  -0.10680283 -0.0433963  -0.13118084 -0.0433963  -0.0433963  -0.0433963\n  -0.0433963  -0.07530656 -0.43911856 -0.0433963  -0.06142951 -0.0433963\n  -0.0433963  -0.89632016 -0.0433963  -0.0433963   1.42222617 -0.0433963\n  -0.0433963  -0.0433963  -0.0433963  -0.0433963  -0.0433963  -0.0433963\n  -0.0433963  -0.0433963 ]\n [-0.11671506 -0.15255998 -0.0433963  -0.0433963  -0.0433963  -0.06142951\n  -0.07530656 -0.0433963  -0.06142951 -0.06142951 -0.0433963  -0.0433963\n  -0.19245009 -0.06142951 -0.09740465 -0.0433963  -0.11547005 -0.07530656\n  -0.0433963  -0.0433963  -0.15191091 -0.0433963  -0.13118084 -0.0433963\n  -0.0433963  -0.08703883 -0.0433963  -0.0433963  -0.0433963  -0.0433963\n  -0.06142951 -0.0433963  -0.08703883 -0.08703883 -0.08703883 -0.0433963\n  -0.13118084 -0.13840913 -0.13840913 -0.0433963  -0.06142951 -0.0433963\n  -0.07530656 -0.18168574 -0.0433963  -0.0433963  -0.0433963  -0.07530656\n  -0.15826614  3.17542648 -0.0433963  -0.08703883 -0.07530656 -0.06142951\n  -0.72111026 -0.0433963  -0.0433963  -0.06142951 -0.0433963  -0.0433963\n  -0.0433963  -0.0433963  -0.0433963  -0.0433963  -0.0433963  -0.0433963\n  -0.39879994 -0.0433963  -0.18168574 -0.0433963  -0.08703883 -0.08703883\n  -0.10680283 -0.0433963  -0.13118084 -0.0433963  -0.0433963  -0.0433963\n  -0.0433963  -0.07530656 -0.43911856 -0.0433963  -0.06142951 -0.0433963\n  -0.0433963   1.11567277 -0.0433963  -0.0433963  -0.70312305 -0.0433963\n  -0.0433963  -0.0433963  -0.0433963  -0.0433963  -0.0433963  -0.0433963\n  -0.0433963  -0.0433963 ]\n [-0.11474682 -0.1528703  -0.0433963  -0.0433963  -0.0433963  -0.06142951\n  -0.07530656 -0.0433963  -0.06142951 -0.06142951 -0.0433963  -0.0433963\n  -0.19245009 -0.06142951 -0.09740465 -0.0433963  -0.11547005 -0.07530656\n  -0.0433963  -0.0433963  -0.15191091 -0.0433963   7.62306442 -0.0433963\n  -0.0433963  -0.08703883 -0.0433963  -0.0433963  -0.0433963  -0.0433963\n  -0.06142951 -0.0433963  -0.08703883 -0.08703883 -0.08703883 -0.0433963\n  -0.13118084 -0.13840913 -0.13840913 -0.0433963  -0.06142951 -0.0433963\n  -0.07530656 -0.18168574 -0.0433963  -0.0433963  -0.0433963  -0.07530656\n  -0.15826614 -0.31491833 -0.0433963  -0.08703883 -0.07530656 -0.06142951\n  -0.72111026 -0.0433963  -0.0433963  -0.06142951 -0.0433963  -0.0433963\n  -0.0433963  -0.0433963  -0.0433963  -0.0433963  -0.0433963  -0.0433963\n  -0.39879994 -0.0433963  -0.18168574 -0.0433963  -0.08703883 -0.08703883\n  -0.10680283 -0.0433963  -0.13118084 -0.0433963  -0.0433963  -0.0433963\n  -0.0433963  -0.07530656 -0.43911856 -0.0433963  -0.06142951 -0.0433963\n  -0.0433963   1.11567277 -0.0433963  -0.0433963  -0.70312305 -0.0433963\n  -0.0433963  -0.0433963  -0.0433963  -0.0433963  -0.0433963  -0.0433963\n  -0.0433963  -0.0433963 ]]\n"
     ]
    }
   ],
   "source": [
    "# Standardize data\n",
    "scaler = StandardScaler()\n",
    "crypto_data_scaled = scaler.fit_transform(crypto_df)\n",
    "print(crypto_data_scaled[0:5])"
   ]
  },
  {
   "cell_type": "markdown",
   "metadata": {},
   "source": [
    "### Reducing Dimensions Using PCA"
   ]
  },
  {
   "cell_type": "code",
   "execution_count": 92,
   "metadata": {},
   "outputs": [],
   "source": [
    "# Use PCA to reduce dimensions to 3 principal components\n",
    "pca = PCA(n_components=3)\n",
    "crypto_pca = pca.fit_transform(crypto_data_scaled)"
   ]
  },
  {
   "cell_type": "code",
   "execution_count": 94,
   "metadata": {},
   "outputs": [
    {
     "output_type": "execute_result",
     "data": {
      "text/plain": [
       "array([[-0.34161854,  1.04860319, -0.48008433],\n",
       "       [-0.32493197,  1.0486666 , -0.48047973],\n",
       "       [ 2.32568642,  1.55101999, -0.58278662],\n",
       "       ...,\n",
       "       [ 0.32166049, -2.31048861,  0.33270762],\n",
       "       [-0.12042305, -2.09441739,  0.41567769],\n",
       "       [-0.30146767,  0.87044626, -0.2514913 ]])"
      ]
     },
     "metadata": {},
     "execution_count": 94
    }
   ],
   "source": [
    "# Create a DataFrame with the principal components data\n",
    "crypto_pca_df = pd.DataFrame(crypto_pca, columns=[\"principal component 1\", \"principal component 2\", \"principal component 3\"])\n",
    "crypto_pca"
   ]
  },
  {
   "cell_type": "markdown",
   "metadata": {},
   "source": [
    "### Clustering Crytocurrencies Using K-Means\n",
    "\n",
    "#### Find the Best Value for `k` Using the Elbow Curve"
   ]
  },
  {
   "cell_type": "code",
   "execution_count": 95,
   "metadata": {},
   "outputs": [
    {
     "output_type": "execute_result",
     "data": {
      "text/html": "<div id='1001'>\n\n\n\n\n\n  <div class=\"bk-root\" id=\"adcde9d5-964c-41b0-b302-49499d5bafe7\" data-root-id=\"1001\"></div>\n</div>\n<script type=\"application/javascript\">(function(root) {\n  function embed_document(root) {\n  var docs_json = {\"d8e91c55-887c-404b-8f22-fbb258fbc903\":{\"roots\":{\"references\":[{\"attributes\":{\"margin\":[5,5,5,5],\"name\":\"HSpacer01525\",\"sizing_mode\":\"stretch_width\"},\"id\":\"1002\",\"type\":\"Spacer\"},{\"attributes\":{\"align\":null,\"below\":[{\"id\":\"1015\"}],\"center\":[{\"id\":\"1018\"},{\"id\":\"1022\"}],\"left\":[{\"id\":\"1019\"}],\"margin\":null,\"min_border_bottom\":10,\"min_border_left\":10,\"min_border_right\":10,\"min_border_top\":10,\"plot_height\":300,\"plot_width\":700,\"renderers\":[{\"id\":\"1042\"}],\"sizing_mode\":\"fixed\",\"title\":{\"id\":\"1007\"},\"toolbar\":{\"id\":\"1029\"},\"x_range\":{\"id\":\"1003\"},\"x_scale\":{\"id\":\"1011\"},\"y_range\":{\"id\":\"1004\"},\"y_scale\":{\"id\":\"1013\"}},\"id\":\"1006\",\"subtype\":\"Figure\",\"type\":\"Plot\"},{\"attributes\":{\"line_alpha\":0.2,\"line_color\":\"#1f77b3\",\"line_width\":2,\"x\":{\"field\":\"k\"},\"y\":{\"field\":\"inertia\"}},\"id\":\"1041\",\"type\":\"Line\"},{\"attributes\":{},\"id\":\"1050\",\"type\":\"BasicTickFormatter\"},{\"attributes\":{\"children\":[{\"id\":\"1002\"},{\"id\":\"1006\"},{\"id\":\"1065\"}],\"margin\":[0,0,0,0],\"name\":\"Row01521\",\"tags\":[\"embedded\"]},\"id\":\"1001\",\"type\":\"Row\"},{\"attributes\":{},\"id\":\"1011\",\"type\":\"LinearScale\"},{\"attributes\":{},\"id\":\"1046\",\"type\":\"BasicTickFormatter\"},{\"attributes\":{},\"id\":\"1056\",\"type\":\"UnionRenderers\"},{\"attributes\":{\"end\":3992.8342678301938,\"reset_end\":3992.8342678301938,\"reset_start\":-242.22643209283217,\"start\":-242.22643209283217,\"tags\":[[[\"inertia\",\"inertia\",null]]]},\"id\":\"1004\",\"type\":\"Range1d\"},{\"attributes\":{\"line_color\":\"#1f77b3\",\"line_width\":2,\"x\":{\"field\":\"k\"},\"y\":{\"field\":\"inertia\"}},\"id\":\"1039\",\"type\":\"Line\"},{\"attributes\":{\"end\":10.0,\"reset_end\":10.0,\"reset_start\":1.0,\"start\":1.0,\"tags\":[[[\"k\",\"k\",null]]]},\"id\":\"1003\",\"type\":\"Range1d\"},{\"attributes\":{},\"id\":\"1025\",\"type\":\"WheelZoomTool\"},{\"attributes\":{\"overlay\":{\"id\":\"1028\"}},\"id\":\"1026\",\"type\":\"BoxZoomTool\"},{\"attributes\":{\"axis\":{\"id\":\"1019\"},\"dimension\":1,\"grid_line_color\":null,\"ticker\":null},\"id\":\"1022\",\"type\":\"Grid\"},{\"attributes\":{\"axis\":{\"id\":\"1015\"},\"grid_line_color\":null,\"ticker\":null},\"id\":\"1018\",\"type\":\"Grid\"},{\"attributes\":{\"margin\":[5,5,5,5],\"name\":\"HSpacer01526\",\"sizing_mode\":\"stretch_width\"},\"id\":\"1065\",\"type\":\"Spacer\"},{\"attributes\":{},\"id\":\"1027\",\"type\":\"ResetTool\"},{\"attributes\":{\"text\":\"Elbow Curve\",\"text_color\":{\"value\":\"black\"},\"text_font_size\":{\"value\":\"12pt\"}},\"id\":\"1007\",\"type\":\"Title\"},{\"attributes\":{},\"id\":\"1013\",\"type\":\"LinearScale\"},{\"attributes\":{\"data\":{\"inertia\":{\"__ndarray__\":\"3Y7QONNvrEAEuRJfmE+jQMXzdsBXQ5dAGSG7sjm4g0DPLdQxd/F7QPbT5BXkk3FAikZtGRYra0BR6sBAMtRkQIFG1BGZT2FAGXjLrX+sW0A=\",\"dtype\":\"float64\",\"order\":\"little\",\"shape\":[10]},\"k\":[1,2,3,4,5,6,7,8,9,10]},\"selected\":{\"id\":\"1037\"},\"selection_policy\":{\"id\":\"1056\"}},\"id\":\"1036\",\"type\":\"ColumnDataSource\"},{\"attributes\":{},\"id\":\"1037\",\"type\":\"Selection\"},{\"attributes\":{\"active_drag\":\"auto\",\"active_inspect\":\"auto\",\"active_multi\":null,\"active_scroll\":\"auto\",\"active_tap\":\"auto\",\"tools\":[{\"id\":\"1005\"},{\"id\":\"1023\"},{\"id\":\"1024\"},{\"id\":\"1025\"},{\"id\":\"1026\"},{\"id\":\"1027\"}]},\"id\":\"1029\",\"type\":\"Toolbar\"},{\"attributes\":{},\"id\":\"1023\",\"type\":\"SaveTool\"},{\"attributes\":{\"ticks\":[1,2,3,4,5,6,7,8,9,10]},\"id\":\"1044\",\"type\":\"FixedTicker\"},{\"attributes\":{\"axis_label\":\"inertia\",\"bounds\":\"auto\",\"formatter\":{\"id\":\"1050\"},\"major_label_orientation\":\"horizontal\",\"ticker\":{\"id\":\"1020\"}},\"id\":\"1019\",\"type\":\"LinearAxis\"},{\"attributes\":{\"axis_label\":\"k\",\"bounds\":\"auto\",\"formatter\":{\"id\":\"1046\"},\"major_label_orientation\":\"horizontal\",\"ticker\":{\"id\":\"1044\"}},\"id\":\"1015\",\"type\":\"LinearAxis\"},{\"attributes\":{\"callback\":null,\"renderers\":[{\"id\":\"1042\"}],\"tags\":[\"hv_created\"],\"tooltips\":[[\"k\",\"@{k}\"],[\"inertia\",\"@{inertia}\"]]},\"id\":\"1005\",\"type\":\"HoverTool\"},{\"attributes\":{\"bottom_units\":\"screen\",\"fill_alpha\":0.5,\"fill_color\":\"lightgrey\",\"left_units\":\"screen\",\"level\":\"overlay\",\"line_alpha\":1.0,\"line_color\":\"black\",\"line_dash\":[4,4],\"line_width\":2,\"right_units\":\"screen\",\"top_units\":\"screen\"},\"id\":\"1028\",\"type\":\"BoxAnnotation\"},{\"attributes\":{\"data_source\":{\"id\":\"1036\"},\"glyph\":{\"id\":\"1039\"},\"hover_glyph\":null,\"muted_glyph\":{\"id\":\"1041\"},\"nonselection_glyph\":{\"id\":\"1040\"},\"selection_glyph\":null,\"view\":{\"id\":\"1043\"}},\"id\":\"1042\",\"type\":\"GlyphRenderer\"},{\"attributes\":{\"line_alpha\":0.1,\"line_color\":\"#1f77b3\",\"line_width\":2,\"x\":{\"field\":\"k\"},\"y\":{\"field\":\"inertia\"}},\"id\":\"1040\",\"type\":\"Line\"},{\"attributes\":{\"source\":{\"id\":\"1036\"}},\"id\":\"1043\",\"type\":\"CDSView\"},{\"attributes\":{},\"id\":\"1024\",\"type\":\"PanTool\"},{\"attributes\":{},\"id\":\"1020\",\"type\":\"BasicTicker\"}],\"root_ids\":[\"1001\"]},\"title\":\"Bokeh Application\",\"version\":\"2.1.1\"}};\n  var render_items = [{\"docid\":\"d8e91c55-887c-404b-8f22-fbb258fbc903\",\"root_ids\":[\"1001\"],\"roots\":{\"1001\":\"adcde9d5-964c-41b0-b302-49499d5bafe7\"}}];\n  root.Bokeh.embed.embed_items_notebook(docs_json, render_items);\n  }\nif (root.Bokeh !== undefined) {\n    embed_document(root);\n  } else {\n    var attempts = 0;\n    var timer = setInterval(function(root) {\n      if (root.Bokeh !== undefined) {\n        clearInterval(timer);\n        embed_document(root);\n      } else if (document.readyState == \"complete\") {\n        attempts++;\n        if (attempts > 100) {\n          clearInterval(timer);\n          console.log(\"Bokeh: ERROR: Unable to run BokehJS code because BokehJS library is missing\");\n        }\n      }\n    }, 10, root)\n  }\n})(window);</script>",
      "application/vnd.holoviews_exec.v0+json": "",
      "text/plain": [
       ":Curve   [k]   (inertia)"
      ]
     },
     "metadata": {
      "application/vnd.holoviews_exec.v0+json": {
       "id": "1001"
      }
     },
     "execution_count": 95
    }
   ],
   "source": [
    "inertia = []\n",
    "k = list(range(1, 11))\n",
    "\n",
    "# Calculate the inertia for the range of k values\n",
    "for i in k:\n",
    "    km = KMeans(n_clusters=i, random_state=0)\n",
    "    km.fit(crypto_pca)\n",
    "    inertia.append(km.inertia_)\n",
    "\n",
    "# Create the Elbow Curve using hvPlot\n",
    "elbow_data = {\"k\": k, \"inertia\": inertia}\n",
    "df_elbow = pd.DataFrame(elbow_data)\n",
    "df_elbow.hvplot.line(x=\"k\", y=\"inertia\", xticks=k, title=\"Elbow Curve\")"
   ]
  },
  {
   "cell_type": "markdown",
   "metadata": {},
   "source": [
    "Running K-Means with `k=<your best value for k here>`"
   ]
  },
  {
   "cell_type": "code",
   "execution_count": 105,
   "metadata": {},
   "outputs": [
    {
     "output_type": "execute_result",
     "data": {
      "text/plain": [
       "   principal component 1  principal component 2  principal component 3  class\n",
       "0              -0.341619               1.048603              -0.480084      0\n",
       "1              -0.324932               1.048667              -0.480480      0\n",
       "2               2.325686               1.551020              -0.582787      0\n",
       "3              -0.150464              -1.318699               0.167734      1\n",
       "4              -0.171700              -2.012957               0.299785      1"
      ],
      "text/html": "<div>\n<style scoped>\n    .dataframe tbody tr th:only-of-type {\n        vertical-align: middle;\n    }\n\n    .dataframe tbody tr th {\n        vertical-align: top;\n    }\n\n    .dataframe thead th {\n        text-align: right;\n    }\n</style>\n<table border=\"1\" class=\"dataframe\">\n  <thead>\n    <tr style=\"text-align: right;\">\n      <th></th>\n      <th>principal component 1</th>\n      <th>principal component 2</th>\n      <th>principal component 3</th>\n      <th>class</th>\n    </tr>\n  </thead>\n  <tbody>\n    <tr>\n      <th>0</th>\n      <td>-0.341619</td>\n      <td>1.048603</td>\n      <td>-0.480084</td>\n      <td>0</td>\n    </tr>\n    <tr>\n      <th>1</th>\n      <td>-0.324932</td>\n      <td>1.048667</td>\n      <td>-0.480480</td>\n      <td>0</td>\n    </tr>\n    <tr>\n      <th>2</th>\n      <td>2.325686</td>\n      <td>1.551020</td>\n      <td>-0.582787</td>\n      <td>0</td>\n    </tr>\n    <tr>\n      <th>3</th>\n      <td>-0.150464</td>\n      <td>-1.318699</td>\n      <td>0.167734</td>\n      <td>1</td>\n    </tr>\n    <tr>\n      <th>4</th>\n      <td>-0.171700</td>\n      <td>-2.012957</td>\n      <td>0.299785</td>\n      <td>1</td>\n    </tr>\n  </tbody>\n</table>\n</div>"
     },
     "metadata": {},
     "execution_count": 105
    }
   ],
   "source": [
    "# Initialize the K-Means model\n",
    "model = KMeans(n_clusters=5, random_state=0)\n",
    "# Fit the model\n",
    "model.fit(crypto_pca)\n",
    "# Predict clusters\n",
    "predictions = model.predict(crypto_pca)\n",
    "# Create a new DataFrame including predicted clusters and cryptocurrencies features\n",
    "crypto_pca_df[\"class\"] = model.labels_\n",
    "crypto_pca_df.head()"
   ]
  },
  {
   "cell_type": "markdown",
   "metadata": {},
   "source": [
    "### Visualizing Results\n",
    "\n",
    "#### 3D-Scatter with Clusters"
   ]
  },
  {
   "cell_type": "code",
   "execution_count": 108,
   "metadata": {},
   "outputs": [
    {
     "output_type": "stream",
     "name": "stderr",
     "text": [
      "WARNING:param.main: z option not found for scatter plot; similar options include: []\n"
     ]
    },
    {
     "output_type": "execute_result",
     "data": {
      "text/html": "<div id='1102'>\n\n\n\n\n\n  <div class=\"bk-root\" id=\"3958264c-2a65-4f93-96e6-7abb09991572\" data-root-id=\"1102\"></div>\n</div>\n<script type=\"application/javascript\">(function(root) {\n  function embed_document(root) {\n  var docs_json = {\"ff69b9d9-b7d2-434b-8f54-feaa837fad3a\":{\"roots\":{\"references\":[{\"attributes\":{\"fill_alpha\":{\"value\":0.2},\"fill_color\":{\"value\":\"#9367bc\"},\"line_alpha\":{\"value\":0.2},\"line_color\":{\"value\":\"#9367bc\"},\"size\":{\"units\":\"screen\",\"value\":5.477225575051661},\"x\":{\"field\":\"principal component 1\"},\"y\":{\"field\":\"principal component 2\"}},\"id\":\"1231\",\"type\":\"Scatter\"},{\"attributes\":{\"fill_alpha\":{\"value\":0.1},\"fill_color\":{\"value\":\"#2ba02b\"},\"line_alpha\":{\"value\":0.1},\"line_color\":{\"value\":\"#2ba02b\"},\"size\":{\"units\":\"screen\",\"value\":5.477225575051661},\"x\":{\"field\":\"principal component 1\"},\"y\":{\"field\":\"principal component 2\"}},\"id\":\"1186\",\"type\":\"Scatter\"},{\"attributes\":{\"source\":{\"id\":\"1226\"}},\"id\":\"1233\",\"type\":\"CDSView\"},{\"attributes\":{\"axis_label\":\"principal component 1\",\"bounds\":\"auto\",\"formatter\":{\"id\":\"1142\"},\"major_label_orientation\":\"horizontal\",\"ticker\":{\"id\":\"1121\"}},\"id\":\"1120\",\"type\":\"LinearAxis\"},{\"attributes\":{\"data\":{\"class\":{\"__ndarray__\":\"AwAAAA==\",\"dtype\":\"int32\",\"order\":\"little\",\"shape\":[1]},\"principal component 1\":{\"__ndarray__\":\"wC8upPMuw78=\",\"dtype\":\"float64\",\"order\":\"little\",\"shape\":[1]},\"principal component 2\":{\"__ndarray__\":\"/Aurao7JA0A=\",\"dtype\":\"float64\",\"order\":\"little\",\"shape\":[1]},\"principal_component_1\":{\"__ndarray__\":\"wC8upPMuw78=\",\"dtype\":\"float64\",\"order\":\"little\",\"shape\":[1]},\"principal_component_2\":{\"__ndarray__\":\"/Aurao7JA0A=\",\"dtype\":\"float64\",\"order\":\"little\",\"shape\":[1]}},\"selected\":{\"id\":\"1204\"},\"selection_policy\":{\"id\":\"1223\"}},\"id\":\"1203\",\"type\":\"ColumnDataSource\"},{\"attributes\":{\"fill_color\":{\"value\":\"#d62628\"},\"line_color\":{\"value\":\"#d62628\"},\"size\":{\"units\":\"screen\",\"value\":5.477225575051661},\"x\":{\"field\":\"principal component 1\"},\"y\":{\"field\":\"principal component 2\"}},\"id\":\"1206\",\"type\":\"Scatter\"},{\"attributes\":{},\"id\":\"1118\",\"type\":\"LinearScale\"},{\"attributes\":{\"data\":{\"class\":{\"__ndarray__\":\"AQAAAAEAAAABAAAAAQAAAAEAAAABAAAAAQAAAAEAAAABAAAAAQAAAAEAAAABAAAAAQAAAAEAAAABAAAAAQAAAAEAAAABAAAAAQAAAAEAAAABAAAAAQAAAAEAAAABAAAAAQAAAAEAAAABAAAAAQAAAAEAAAABAAAAAQAAAAEAAAABAAAAAQAAAAEAAAABAAAAAQAAAAEAAAABAAAAAQAAAAEAAAABAAAAAQAAAAEAAAABAAAAAQAAAAEAAAABAAAAAQAAAAEAAAABAAAAAQAAAAEAAAABAAAAAQAAAAEAAAABAAAAAQAAAAEAAAABAAAAAQAAAAEAAAABAAAAAQAAAAEAAAABAAAAAQAAAAEAAAABAAAAAQAAAAEAAAABAAAAAQAAAAEAAAABAAAAAQAAAAEAAAABAAAAAQAAAAEAAAABAAAAAQAAAAEAAAABAAAAAQAAAAEAAAABAAAAAQAAAAEAAAABAAAAAQAAAAEAAAABAAAAAQAAAAEAAAABAAAAAQAAAAEAAAABAAAAAQAAAAEAAAABAAAAAQAAAAEAAAABAAAAAQAAAAEAAAABAAAAAQAAAAEAAAABAAAAAQAAAAEAAAABAAAAAQAAAAEAAAABAAAAAQAAAAEAAAABAAAAAQAAAAEAAAABAAAAAQAAAAEAAAABAAAAAQAAAAEAAAABAAAAAQAAAAEAAAABAAAAAQAAAAEAAAABAAAAAQAAAAEAAAABAAAAAQAAAAEAAAABAAAAAQAAAAEAAAABAAAAAQAAAAEAAAABAAAAAQAAAAEAAAABAAAAAQAAAAEAAAABAAAAAQAAAAEAAAABAAAAAQAAAAEAAAABAAAAAQAAAAEAAAABAAAAAQAAAAEAAAABAAAAAQAAAAEAAAABAAAAAQAAAAEAAAABAAAAAQAAAAEAAAABAAAAAQAAAAEAAAABAAAAAQAAAAEAAAABAAAAAQAAAAEAAAABAAAAAQAAAAEAAAABAAAAAQAAAAEAAAABAAAAAQAAAAEAAAABAAAAAQAAAAEAAAABAAAAAQAAAAEAAAABAAAAAQAAAAEAAAABAAAAAQAAAAEAAAABAAAAAQAAAAEAAAABAAAAAQAAAAEAAAABAAAAAQAAAAEAAAABAAAAAQAAAAEAAAABAAAAAQAAAAEAAAABAAAAAQAAAAEAAAABAAAAAQAAAAEAAAABAAAAAQAAAAEAAAABAAAAAQAAAAEAAAABAAAAAQAAAAEAAAABAAAAAQAAAAEAAAABAAAAAQAAAAEAAAA=\",\"dtype\":\"int32\",\"order\":\"little\",\"shape\":[239]},\"principal component 1\":{\"__ndarray__\":\"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\",\"dtype\":\"float64\",\"order\":\"little\",\"shape\":[239]},\"principal component 2\":{\"__ndarray__\":\"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\",\"dtype\":\"float64\",\"order\":\"little\",\"shape\":[239]},\"principal_component_1\":{\"__ndarray__\":\"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\",\"dtype\":\"float64\",\"order\":\"little\",\"shape\":[239]},\"principal_component_2\":{\"__ndarray__\":\"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\",\"dtype\":\"float64\",\"order\":\"little\",\"shape\":[239]}},\"selected\":{\"id\":\"1164\"},\"selection_policy\":{\"id\":\"1179\"}},\"id\":\"1163\",\"type\":\"ColumnDataSource\"},{\"attributes\":{\"label\":{\"value\":\"0\"},\"renderers\":[{\"id\":\"1151\"}]},\"id\":\"1162\",\"type\":\"LegendItem\"},{\"attributes\":{\"axis\":{\"id\":\"1124\"},\"dimension\":1,\"grid_line_color\":null,\"ticker\":null},\"id\":\"1127\",\"type\":\"Grid\"},{\"attributes\":{\"data\":{\"class\":{\"__ndarray__\":\"AgAAAA==\",\"dtype\":\"int32\",\"order\":\"little\",\"shape\":[1]},\"principal component 1\":{\"__ndarray__\":\"+N/ZY48LQUA=\",\"dtype\":\"float64\",\"order\":\"little\",\"shape\":[1]},\"principal component 2\":{\"__ndarray__\":\"9QPGTQco+j8=\",\"dtype\":\"float64\",\"order\":\"little\",\"shape\":[1]},\"principal_component_1\":{\"__ndarray__\":\"+N/ZY48LQUA=\",\"dtype\":\"float64\",\"order\":\"little\",\"shape\":[1]},\"principal_component_2\":{\"__ndarray__\":\"9QPGTQco+j8=\",\"dtype\":\"float64\",\"order\":\"little\",\"shape\":[1]}},\"selected\":{\"id\":\"1183\"},\"selection_policy\":{\"id\":\"1200\"}},\"id\":\"1182\",\"type\":\"ColumnDataSource\"},{\"attributes\":{\"axis_label\":\"principal component 2\",\"bounds\":\"auto\",\"formatter\":{\"id\":\"1144\"},\"major_label_orientation\":\"horizontal\",\"ticker\":{\"id\":\"1125\"}},\"id\":\"1124\",\"type\":\"LinearAxis\"},{\"attributes\":{\"fill_alpha\":{\"value\":0.2},\"fill_color\":{\"value\":\"#ff7e0e\"},\"line_alpha\":{\"value\":0.2},\"line_color\":{\"value\":\"#ff7e0e\"},\"size\":{\"units\":\"screen\",\"value\":5.477225575051661},\"x\":{\"field\":\"principal component 1\"},\"y\":{\"field\":\"principal component 2\"}},\"id\":\"1168\",\"type\":\"Scatter\"},{\"attributes\":{},\"id\":\"1129\",\"type\":\"PanTool\"},{\"attributes\":{\"fill_alpha\":{\"value\":0.1},\"fill_color\":{\"value\":\"#ff7e0e\"},\"line_alpha\":{\"value\":0.1},\"line_color\":{\"value\":\"#ff7e0e\"},\"size\":{\"units\":\"screen\",\"value\":5.477225575051661},\"x\":{\"field\":\"principal component 1\"},\"y\":{\"field\":\"principal component 2\"}},\"id\":\"1167\",\"type\":\"Scatter\"},{\"attributes\":{},\"id\":\"1128\",\"type\":\"SaveTool\"},{\"attributes\":{\"data\":{\"class\":{\"__ndarray__\":\"AAAAAAAAAAAAAAAAAAAAAAAAAAAAAAAAAAAAAAAAAAAAAAAAAAAAAAAAAAAAAAAAAAAAAAAAAAAAAAAAAAAAAAAAAAAAAAAAAAAAAAAAAAAAAAAAAAAAAAAAAAAAAAAAAAAAAAAAAAAAAAAAAAAAAAAAAAAAAAAAAAAAAAAAAAAAAAAAAAAAAAAAAAAAAAAAAAAAAAAAAAAAAAAAAAAAAAAAAAAAAAAAAAAAAAAAAAAAAAAAAAAAAAAAAAAAAAAAAAAAAAAAAAAAAAAAAAAAAAAAAAAAAAAAAAAAAAAAAAAAAAAAAAAAAAAAAAAAAAAAAAAAAAAAAAAAAAAAAAAAAAAAAAAAAAAAAAAAAAAAAAAAAAAAAAAAAAAAAAAAAAAAAAAAAAAAAAAAAAAAAAAAAAAAAAAAAAAAAAAAAAAAAAAAAAAAAAAAAAAAAAAAAAAAAAAAAAAAAAAAAAAAAAAAAAAAAAAAAAAAAAAAAAAAAAAAAAAAAAAAAAAAAAAAAAAAAAAAAAAAAAAAAAAAAAAAAAAAAAAAAAAAAAAAAAAAAAAAAAAAAAAAAAAAAAAAAAAAAAAAAAAAAAAAAAAAAAAAAAAAAAAAAAAAAAAAAAAAAAAAAAAAAAAAAAAAAAAAAAAAAAAAAAAAAAAAAAAAAAAAAAAAAAAAAAAAAAAAAAAAAAAAAAAAAAAAAAAAAAAAAAAAAAAAAAAAAAAAAAAAAAAAAAAAAAAAAAAAAAAAAAAAAAAAAAAAAAAAAAAAAAAAAAAAAAAAAAAAAAAAAAAAAAAAAAAAAAAAAAAAAAAAAAAAAAAAAAAAAAAAAAAAAAAAAAAAAAAAAAAAAAAAAAAAAAAAAAAAAAAAAAAAAAAAAAAAAAAAAAAAAAAAAAAAAAAAAAAAAAAAAAAAAAAAAAAAAAAAAAAAAAAAAAAAAAAAAAAAAAAAAAAAAAAAAAAAAAAAAAAAAAAAAAAAAAAAAAAAAAAAAAAAAAAAAAAAAAAAAAAAAAAAAAAAAAAAAAAAAAAAAAAAAAAAAAAAAAAAAAAAAAAAAAAAAAAAAAAAAAAAAAAAAAAAAAAAAAAAAAAAAAAAAAAAAAAAAAAAAAAAAAAAAAAAAAAAAAAAAAAAAAAAAAAAAAAAAAAAAAAAAAAAAAAAAAAAAAAAAAAAAAAAAAAAAAAAAAAAAAAAAAAAAAAAAAAAAAAAAAAAAAAAAAAAAAAAAAAAAAAAAAAAAAAAAAAAAAAAAAAAAAAAAAAAAAAAAAAAAAAAAAAAAAAAAAAAAAAAAAAAAAAAAAAAAAAAAAAAAAAAAAAAAAAAAAAAAAAAAAAAAAAAAAAAAAAAAAAAAAAAAAAAAAAAAAAAAAAAAAAAAAAAAAAAAAAAAAAAAAAAAAAAAAAAAAAAAAAAAAAAAAAAAAAAAAAAAAAAAAAAAAAAAAAAAAAAAAAAAAAAAAAAAAAAAAAAAAAAAAAAAAAAAAAAAAAAAAAAAAAAAAAAAAAAAAAAAAAAAAAAAAAAAAAAAAAAAAAAAAAAAAAAAAAAAAA=\",\"dtype\":\"int32\",\"order\":\"little\",\"shape\":[287]},\"principal component 1\":{\"__ndarray__\":\"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\",\"dtype\":\"float64\",\"order\":\"little\",\"shape\":[287]},\"principal component 2\":{\"__ndarray__\":\"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\",\"dtype\":\"float64\",\"order\":\"little\",\"shape\":[287]},\"principal_component_1\":{\"__ndarray__\":\"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\",\"dtype\":\"float64\",\"order\":\"little\",\"shape\":[287]},\"principal_component_2\":{\"__ndarray__\":\"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\",\"dtype\":\"float64\",\"order\":\"little\",\"shape\":[287]}},\"selected\":{\"id\":\"1146\"},\"selection_policy\":{\"id\":\"1159\"}},\"id\":\"1145\",\"type\":\"ColumnDataSource\"},{\"attributes\":{\"fill_alpha\":{\"value\":0.2},\"fill_color\":{\"value\":\"#d62628\"},\"line_alpha\":{\"value\":0.2},\"line_color\":{\"value\":\"#d62628\"},\"size\":{\"units\":\"screen\",\"value\":5.477225575051661},\"x\":{\"field\":\"principal component 1\"},\"y\":{\"field\":\"principal component 2\"}},\"id\":\"1208\",\"type\":\"Scatter\"},{\"attributes\":{},\"id\":\"1223\",\"type\":\"UnionRenderers\"},{\"attributes\":{\"data_source\":{\"id\":\"1203\"},\"glyph\":{\"id\":\"1206\"},\"hover_glyph\":null,\"muted_glyph\":{\"id\":\"1208\"},\"nonselection_glyph\":{\"id\":\"1207\"},\"selection_glyph\":null,\"view\":{\"id\":\"1210\"}},\"id\":\"1209\",\"type\":\"GlyphRenderer\"},{\"attributes\":{\"end\":5.590284618407615,\"reset_end\":5.590284618407615,\"reset_start\":-3.598995079673508,\"start\":-3.598995079673508,\"tags\":[[[\"principal component 2\",\"principal component 2\",null]]]},\"id\":\"1105\",\"type\":\"Range1d\"},{\"attributes\":{\"label\":{\"value\":\"4\"},\"renderers\":[{\"id\":\"1232\"}]},\"id\":\"1250\",\"type\":\"LegendItem\"},{\"attributes\":{\"fill_color\":{\"value\":\"#ff7e0e\"},\"line_color\":{\"value\":\"#ff7e0e\"},\"size\":{\"units\":\"screen\",\"value\":5.477225575051661},\"x\":{\"field\":\"principal component 1\"},\"y\":{\"field\":\"principal component 2\"}},\"id\":\"1166\",\"type\":\"Scatter\"},{\"attributes\":{},\"id\":\"1144\",\"type\":\"BasicTickFormatter\"},{\"attributes\":{\"label\":{\"value\":\"2\"},\"renderers\":[{\"id\":\"1188\"}]},\"id\":\"1202\",\"type\":\"LegendItem\"},{\"attributes\":{\"fill_color\":{\"value\":\"#2ba02b\"},\"line_color\":{\"value\":\"#2ba02b\"},\"size\":{\"units\":\"screen\",\"value\":5.477225575051661},\"x\":{\"field\":\"principal component 1\"},\"y\":{\"field\":\"principal component 2\"}},\"id\":\"1185\",\"type\":\"Scatter\"},{\"attributes\":{\"data_source\":{\"id\":\"1182\"},\"glyph\":{\"id\":\"1185\"},\"hover_glyph\":null,\"muted_glyph\":{\"id\":\"1187\"},\"nonselection_glyph\":{\"id\":\"1186\"},\"selection_glyph\":null,\"view\":{\"id\":\"1189\"}},\"id\":\"1188\",\"type\":\"GlyphRenderer\"},{\"attributes\":{\"children\":[{\"id\":\"1103\"},{\"id\":\"1111\"},{\"id\":\"1395\"}],\"margin\":[0,0,0,0],\"name\":\"Row01791\",\"tags\":[\"embedded\"]},\"id\":\"1102\",\"type\":\"Row\"},{\"attributes\":{\"source\":{\"id\":\"1182\"}},\"id\":\"1189\",\"type\":\"CDSView\"},{\"attributes\":{\"fill_alpha\":{\"value\":0.2},\"fill_color\":{\"value\":\"#2ba02b\"},\"line_alpha\":{\"value\":0.2},\"line_color\":{\"value\":\"#2ba02b\"},\"size\":{\"units\":\"screen\",\"value\":5.477225575051661},\"x\":{\"field\":\"principal component 1\"},\"y\":{\"field\":\"principal component 2\"}},\"id\":\"1187\",\"type\":\"Scatter\"},{\"attributes\":{},\"id\":\"1204\",\"type\":\"Selection\"},{\"attributes\":{\"active_drag\":\"auto\",\"active_inspect\":\"auto\",\"active_multi\":null,\"active_scroll\":\"auto\",\"active_tap\":\"auto\",\"tools\":[{\"id\":\"1106\"},{\"id\":\"1128\"},{\"id\":\"1129\"},{\"id\":\"1130\"},{\"id\":\"1131\"},{\"id\":\"1132\"}]},\"id\":\"1134\",\"type\":\"Toolbar\"},{\"attributes\":{},\"id\":\"1159\",\"type\":\"UnionRenderers\"},{\"attributes\":{},\"id\":\"1183\",\"type\":\"Selection\"},{\"attributes\":{\"data_source\":{\"id\":\"1145\"},\"glyph\":{\"id\":\"1148\"},\"hover_glyph\":null,\"muted_glyph\":{\"id\":\"1150\"},\"nonselection_glyph\":{\"id\":\"1149\"},\"selection_glyph\":null,\"view\":{\"id\":\"1152\"}},\"id\":\"1151\",\"type\":\"GlyphRenderer\"},{\"attributes\":{\"click_policy\":\"mute\",\"items\":[{\"id\":\"1162\"},{\"id\":\"1181\"},{\"id\":\"1202\"},{\"id\":\"1225\"},{\"id\":\"1250\"}],\"location\":[0,0],\"title\":\"class\"},\"id\":\"1161\",\"type\":\"Legend\"},{\"attributes\":{\"fill_alpha\":{\"value\":0.1},\"fill_color\":{\"value\":\"#d62628\"},\"line_alpha\":{\"value\":0.1},\"line_color\":{\"value\":\"#d62628\"},\"size\":{\"units\":\"screen\",\"value\":5.477225575051661},\"x\":{\"field\":\"principal component 1\"},\"y\":{\"field\":\"principal component 2\"}},\"id\":\"1207\",\"type\":\"Scatter\"},{\"attributes\":{\"fill_alpha\":{\"value\":0.1},\"fill_color\":{\"value\":\"#9367bc\"},\"line_alpha\":{\"value\":0.1},\"line_color\":{\"value\":\"#9367bc\"},\"size\":{\"units\":\"screen\",\"value\":5.477225575051661},\"x\":{\"field\":\"principal component 1\"},\"y\":{\"field\":\"principal component 2\"}},\"id\":\"1230\",\"type\":\"Scatter\"},{\"attributes\":{},\"id\":\"1142\",\"type\":\"BasicTickFormatter\"},{\"attributes\":{},\"id\":\"1248\",\"type\":\"UnionRenderers\"},{\"attributes\":{\"axis\":{\"id\":\"1120\"},\"grid_line_color\":null,\"ticker\":null},\"id\":\"1123\",\"type\":\"Grid\"},{\"attributes\":{},\"id\":\"1179\",\"type\":\"UnionRenderers\"},{\"attributes\":{},\"id\":\"1116\",\"type\":\"LinearScale\"},{\"attributes\":{\"end\":35.57210935995996,\"reset_end\":35.57210935995996,\"reset_start\":-1.9667211988905922,\"start\":-1.9667211988905922,\"tags\":[[[\"principal component 1\",\"principal component 1\",null]]]},\"id\":\"1104\",\"type\":\"Range1d\"},{\"attributes\":{\"fill_color\":{\"value\":\"#9367bc\"},\"line_color\":{\"value\":\"#9367bc\"},\"size\":{\"units\":\"screen\",\"value\":5.477225575051661},\"x\":{\"field\":\"principal component 1\"},\"y\":{\"field\":\"principal component 2\"}},\"id\":\"1229\",\"type\":\"Scatter\"},{\"attributes\":{\"margin\":[5,5,5,5],\"name\":\"HSpacer01795\",\"sizing_mode\":\"stretch_width\"},\"id\":\"1103\",\"type\":\"Spacer\"},{\"attributes\":{\"align\":null,\"below\":[{\"id\":\"1120\"}],\"center\":[{\"id\":\"1123\"},{\"id\":\"1127\"}],\"left\":[{\"id\":\"1124\"}],\"margin\":null,\"min_border_bottom\":10,\"min_border_left\":10,\"min_border_right\":10,\"min_border_top\":10,\"plot_height\":300,\"plot_width\":700,\"renderers\":[{\"id\":\"1151\"},{\"id\":\"1169\"},{\"id\":\"1188\"},{\"id\":\"1209\"},{\"id\":\"1232\"}],\"right\":[{\"id\":\"1161\"}],\"sizing_mode\":\"fixed\",\"title\":{\"id\":\"1112\"},\"toolbar\":{\"id\":\"1134\"},\"x_range\":{\"id\":\"1104\"},\"x_scale\":{\"id\":\"1116\"},\"y_range\":{\"id\":\"1105\"},\"y_scale\":{\"id\":\"1118\"}},\"id\":\"1111\",\"subtype\":\"Figure\",\"type\":\"Plot\"},{\"attributes\":{\"source\":{\"id\":\"1145\"}},\"id\":\"1152\",\"type\":\"CDSView\"},{\"attributes\":{},\"id\":\"1164\",\"type\":\"Selection\"},{\"attributes\":{},\"id\":\"1200\",\"type\":\"UnionRenderers\"},{\"attributes\":{\"margin\":[5,5,5,5],\"name\":\"HSpacer01796\",\"sizing_mode\":\"stretch_width\"},\"id\":\"1395\",\"type\":\"Spacer\"},{\"attributes\":{\"label\":{\"value\":\"1\"},\"renderers\":[{\"id\":\"1169\"}]},\"id\":\"1181\",\"type\":\"LegendItem\"},{\"attributes\":{\"data_source\":{\"id\":\"1226\"},\"glyph\":{\"id\":\"1229\"},\"hover_glyph\":null,\"muted_glyph\":{\"id\":\"1231\"},\"nonselection_glyph\":{\"id\":\"1230\"},\"selection_glyph\":null,\"view\":{\"id\":\"1233\"}},\"id\":\"1232\",\"type\":\"GlyphRenderer\"},{\"attributes\":{\"overlay\":{\"id\":\"1133\"}},\"id\":\"1131\",\"type\":\"BoxZoomTool\"},{\"attributes\":{\"data_source\":{\"id\":\"1163\"},\"glyph\":{\"id\":\"1166\"},\"hover_glyph\":null,\"muted_glyph\":{\"id\":\"1168\"},\"nonselection_glyph\":{\"id\":\"1167\"},\"selection_glyph\":null,\"view\":{\"id\":\"1170\"}},\"id\":\"1169\",\"type\":\"GlyphRenderer\"},{\"attributes\":{},\"id\":\"1130\",\"type\":\"WheelZoomTool\"},{\"attributes\":{\"text\":\"\",\"text_color\":{\"value\":\"black\"},\"text_font_size\":{\"value\":\"12pt\"}},\"id\":\"1112\",\"type\":\"Title\"},{\"attributes\":{},\"id\":\"1121\",\"type\":\"BasicTicker\"},{\"attributes\":{\"source\":{\"id\":\"1163\"}},\"id\":\"1170\",\"type\":\"CDSView\"},{\"attributes\":{},\"id\":\"1125\",\"type\":\"BasicTicker\"},{\"attributes\":{\"bottom_units\":\"screen\",\"fill_alpha\":0.5,\"fill_color\":\"lightgrey\",\"left_units\":\"screen\",\"level\":\"overlay\",\"line_alpha\":1.0,\"line_color\":\"black\",\"line_dash\":[4,4],\"line_width\":2,\"right_units\":\"screen\",\"top_units\":\"screen\"},\"id\":\"1133\",\"type\":\"BoxAnnotation\"},{\"attributes\":{\"fill_color\":{\"value\":\"#1f77b3\"},\"line_color\":{\"value\":\"#1f77b3\"},\"size\":{\"units\":\"screen\",\"value\":5.477225575051661},\"x\":{\"field\":\"principal component 1\"},\"y\":{\"field\":\"principal component 2\"}},\"id\":\"1148\",\"type\":\"Scatter\"},{\"attributes\":{\"label\":{\"value\":\"3\"},\"renderers\":[{\"id\":\"1209\"}]},\"id\":\"1225\",\"type\":\"LegendItem\"},{\"attributes\":{},\"id\":\"1132\",\"type\":\"ResetTool\"},{\"attributes\":{\"fill_alpha\":{\"value\":0.1},\"fill_color\":{\"value\":\"#1f77b3\"},\"line_alpha\":{\"value\":0.1},\"line_color\":{\"value\":\"#1f77b3\"},\"size\":{\"units\":\"screen\",\"value\":5.477225575051661},\"x\":{\"field\":\"principal component 1\"},\"y\":{\"field\":\"principal component 2\"}},\"id\":\"1149\",\"type\":\"Scatter\"},{\"attributes\":{\"data\":{\"class\":{\"__ndarray__\":\"BAAAAAQAAAAEAAAABAAAAA==\",\"dtype\":\"int32\",\"order\":\"little\",\"shape\":[4]},\"principal component 1\":{\"__ndarray__\":\"Xfv0rtzdEUBOj6TwAwnfv5AfuCWU6N6/uMfHBzol1b8=\",\"dtype\":\"float64\",\"order\":\"little\",\"shape\":[4]},\"principal component 2\":{\"__ndarray__\":\"ARsGCMmS/D9DjWKxTEwTQC8qZeaIfhFAegfZU5O0B0A=\",\"dtype\":\"float64\",\"order\":\"little\",\"shape\":[4]},\"principal_component_1\":{\"__ndarray__\":\"Xfv0rtzdEUBOj6TwAwnfv5AfuCWU6N6/uMfHBzol1b8=\",\"dtype\":\"float64\",\"order\":\"little\",\"shape\":[4]},\"principal_component_2\":{\"__ndarray__\":\"ARsGCMmS/D9DjWKxTEwTQC8qZeaIfhFAegfZU5O0B0A=\",\"dtype\":\"float64\",\"order\":\"little\",\"shape\":[4]}},\"selected\":{\"id\":\"1227\"},\"selection_policy\":{\"id\":\"1248\"}},\"id\":\"1226\",\"type\":\"ColumnDataSource\"},{\"attributes\":{\"callback\":null,\"renderers\":[{\"id\":\"1151\"},{\"id\":\"1169\"},{\"id\":\"1188\"},{\"id\":\"1209\"},{\"id\":\"1232\"}],\"tags\":[\"hv_created\"],\"tooltips\":[[\"class\",\"@{class}\"],[\"principal component 1\",\"@{principal_component_1}\"],[\"principal component 2\",\"@{principal_component_2}\"]]},\"id\":\"1106\",\"type\":\"HoverTool\"},{\"attributes\":{\"source\":{\"id\":\"1203\"}},\"id\":\"1210\",\"type\":\"CDSView\"},{\"attributes\":{},\"id\":\"1227\",\"type\":\"Selection\"},{\"attributes\":{\"fill_alpha\":{\"value\":0.2},\"fill_color\":{\"value\":\"#1f77b3\"},\"line_alpha\":{\"value\":0.2},\"line_color\":{\"value\":\"#1f77b3\"},\"size\":{\"units\":\"screen\",\"value\":5.477225575051661},\"x\":{\"field\":\"principal component 1\"},\"y\":{\"field\":\"principal component 2\"}},\"id\":\"1150\",\"type\":\"Scatter\"},{\"attributes\":{},\"id\":\"1146\",\"type\":\"Selection\"}],\"root_ids\":[\"1102\"]},\"title\":\"Bokeh Application\",\"version\":\"2.1.1\"}};\n  var render_items = [{\"docid\":\"ff69b9d9-b7d2-434b-8f54-feaa837fad3a\",\"root_ids\":[\"1102\"],\"roots\":{\"1102\":\"3958264c-2a65-4f93-96e6-7abb09991572\"}}];\n  root.Bokeh.embed.embed_items_notebook(docs_json, render_items);\n  }\nif (root.Bokeh !== undefined) {\n    embed_document(root);\n  } else {\n    var attempts = 0;\n    var timer = setInterval(function(root) {\n      if (root.Bokeh !== undefined) {\n        clearInterval(timer);\n        embed_document(root);\n      } else if (document.readyState == \"complete\") {\n        attempts++;\n        if (attempts > 100) {\n          clearInterval(timer);\n          console.log(\"Bokeh: ERROR: Unable to run BokehJS code because BokehJS library is missing\");\n        }\n      }\n    }, 10, root)\n  }\n})(window);</script>",
      "application/vnd.holoviews_exec.v0+json": "",
      "text/plain": [
       ":NdOverlay   [class]\n",
       "   :Scatter   [principal component 1]   (principal component 2,class)"
      ]
     },
     "metadata": {
      "application/vnd.holoviews_exec.v0+json": {
       "id": "1102"
      }
     },
     "execution_count": 108
    }
   ],
   "source": [
    "# Create a 3D-Scatter with the PCA data and the clusters\n",
    "fig = px.scatter_3d(\n",
    "    crypto_pca_df,\n",
    "    x=\"principal component 3\",\n",
    "    y=\"principal component 2\",\n",
    "    z=\"principal component 1\",\n",
    "    color=\"class\",\n",
    "    symbol=\"class\",\n",
    "    width=800,\n",
    ")\n",
    "fig.update_layout(legend=dict(x=0, y=1))\n",
    "fig.show()"
   ]
  },
  {
   "cell_type": "markdown",
   "metadata": {},
   "source": [
    "#### Table of Tradable Cryptocurrencies"
   ]
  },
  {
   "cell_type": "code",
   "execution_count": 41,
   "metadata": {},
   "outputs": [],
   "source": [
    "# Table with tradable cryptos\n"
   ]
  },
  {
   "cell_type": "code",
   "execution_count": 42,
   "metadata": {},
   "outputs": [],
   "source": [
    "# Print the total number of tradable cryptocurrencies\n"
   ]
  },
  {
   "cell_type": "markdown",
   "metadata": {},
   "source": [
    "#### Scatter Plot with Tradable Cryptocurrencies"
   ]
  },
  {
   "cell_type": "code",
   "execution_count": 43,
   "metadata": {},
   "outputs": [],
   "source": [
    "# Scale data to create the scatter plot\n"
   ]
  },
  {
   "cell_type": "code",
   "execution_count": 44,
   "metadata": {},
   "outputs": [],
   "source": [
    "# Plot the scatter with x=\"TotalCoinsMined\" and y=\"TotalCoinSupply\"\n"
   ]
  }
 ],
 "metadata": {
  "file_extension": ".py",
  "kernelspec": {
   "name": "python3",
   "display_name": "Python 3.7.7 64-bit ('pyvizenv': conda)",
   "metadata": {
    "interpreter": {
     "hash": "6d180c226e1fb546a2a1623a132f2a8812479d52f4604fddc733d95b32da65e3"
    }
   }
  },
  "language_info": {
   "codemirror_mode": {
    "name": "ipython",
    "version": 3
   },
   "file_extension": ".py",
   "mimetype": "text/x-python",
   "name": "python",
   "nbconvert_exporter": "python",
   "pygments_lexer": "ipython3",
   "version": "3.7.7-final"
  },
  "mimetype": "text/x-python",
  "name": "python",
  "npconvert_exporter": "python",
  "pygments_lexer": "ipython3",
  "version": 3
 },
 "nbformat": 4,
 "nbformat_minor": 4
}